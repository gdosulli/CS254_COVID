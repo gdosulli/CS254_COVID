{
 "cells": [
  {
   "cell_type": "code",
   "execution_count": 63,
   "metadata": {},
   "outputs": [],
   "source": [
    "import os\n",
    "import csv\n",
    "import pandas as pd\n",
    "import numpy as np\n",
    "import matplotlib.pyplot as plt\n",
    "import tensorflow as tf\n",
    "from tensorflow import keras\n",
    "from tensorflow.keras import datasets, layers, models\n",
    "\n",
    "from sklearn.model_selection import train_test_split, KFold, RandomizedSearchCV, GridSearchCV\n",
    "from sklearn.metrics import confusion_matrix, roc_curve, auc, classification_report, plot_confusion_matrix, precision_recall_curve\n",
    "from sklearn.utils import shuffle\n",
    "import seaborn as sns\n",
    "from PIL import Image\n",
    "from tensorflow.keras import backend as K    \n",
    "from tensorflow.keras.wrappers.scikit_learn import KerasClassifier"
   ]
  },
  {
   "cell_type": "markdown",
   "metadata": {},
   "source": [
    "# Methods for Experiments"
   ]
  },
  {
   "cell_type": "code",
   "execution_count": 64,
   "metadata": {},
   "outputs": [],
   "source": [
    "# data distribution\n",
    "def get_distr(targets, labels):\n",
    "    vals = {}\n",
    "    for label in labels.keys():\n",
    "        vals[label] = 0\n",
    "    \n",
    "    for target in targets:\n",
    "        vals[target] += 1\n",
    "    \n",
    "    fig = plt.figure()\n",
    "    ax = fig.add_axes([0,0,1,1])\n",
    "    langs = labels.values()\n",
    "    students = vals.values()\n",
    "    ax.bar(langs,students)\n",
    "    plt.show()"
   ]
  },
  {
   "cell_type": "code",
   "execution_count": 65,
   "metadata": {},
   "outputs": [],
   "source": [
    "# Image normalization\n",
    "img_dim = 224\n",
    "def normalize_images(d, curr_dir):\n",
    "    \"\"\"normalize all images inside dictionary\"\"\"\n",
    "    images = np.empty((len(d['target']), img_dim, img_dim, 3))\n",
    "\n",
    "    for i in range(len(d['filename'])):\n",
    "        image = Image.open(curr_dir + d['filename'][i])\n",
    "\n",
    "        # resize image shape\n",
    "        image = image.resize((img_dim, img_dim))\n",
    "\n",
    "        # convert to grayscale\n",
    "        image = image.convert('RGB')\n",
    "\n",
    "        images[i] = np.array(image)\n",
    "\n",
    "    # normalize values\n",
    "    images = images / 255.0\n",
    "    return images"
   ]
  },
  {
   "cell_type": "code",
   "execution_count": 66,
   "metadata": {},
   "outputs": [],
   "source": [
    "# Data Augmentation\n",
    "aug_count = 15\n",
    "def augment_images(images, targets):\n",
    "    data_augmentation = tf.keras.Sequential([\n",
    "      layers.experimental.preprocessing.RandomFlip(\"horizontal\", dtype='float64'),\n",
    "      layers.experimental.preprocessing.RandomRotation(0.05, dtype='float64')\n",
    "    ])\n",
    "    \n",
    "    aug_images = np.empty((len(targets) * (aug_count + 1), img_dim, img_dim, 3))\n",
    "    new_targets = []\n",
    "    \n",
    "    \n",
    "    for i in range(len(targets)):\n",
    "        image = tf.expand_dims(images[i], 0)\n",
    "        for j in range(0, aug_count):\n",
    "            new_image = data_augmentation(image)\n",
    "            new_targets.append(targets[i])\n",
    "            aug_images[len(new_targets) - 1] = new_image[0]\n",
    "        \n",
    "        # add base image\n",
    "        new_targets.append(targets[i])\n",
    "        aug_images[len(new_targets) - 1] = images[i]\n",
    "    \n",
    "    return np.asarray(aug_images), new_targets"
   ]
  },
  {
   "cell_type": "code",
   "execution_count": 67,
   "metadata": {},
   "outputs": [],
   "source": [
    "# Get data to test on\n",
    "def split_data(images, targets, split_size):\n",
    "    x_train, x_test, y_train, y_test = train_test_split(images, targets, test_size=split_size, random_state=0)\n",
    "    x_train, x_val, y_train, y_val = train_test_split(x_train, y_train, test_size=split_size, random_state=0)\n",
    "    y_train = np.asarray(y_train)\n",
    "    y_val = np.asarray(y_val)\n",
    "    y_test = np.asarray(y_test)\n",
    "    \n",
    "    return x_train, y_train, x_val, y_val, x_test, y_test"
   ]
  },
  {
   "cell_type": "code",
   "execution_count": 68,
   "metadata": {},
   "outputs": [],
   "source": [
    "def graph_correlation(images, targets, classes):\n",
    "    reshaped_images = np.empty((len(targets), img_dim * img_dim * 2))\n",
    "    for i in range(len(targets)):\n",
    "        reshaped_images[i] = images[i].ravel()\n",
    "\n",
    "    pca = PCA(n_components=2)\n",
    "    redData = pca.fit_transform(reshaped_images)\n",
    "    # append target values to reduced data\n",
    "    redData = np.append(redData, np.asarray(targets).reshape(-1, 1), axis=1)\n",
    "     # create scatter plot of reduced data\n",
    "    # add scatter plot for each of the target values\n",
    "    for curr in classes:\n",
    "        currClass = np.where(np.asarray(d['target']) == curr)\n",
    "        plt.scatter(redData[:, 0][currClass], redData[:, 1][currClass])\n",
    "        plt.legend(classes)"
   ]
  },
  {
   "cell_type": "code",
   "execution_count": 69,
   "metadata": {},
   "outputs": [],
   "source": [
    "def convert_pred(y_pred, threshold):\n",
    "    new_pred = np.empty((y_pred.size), dtype='int32')\n",
    "    for i in range(y_pred.size):\n",
    "        if y_pred[i] >= threshold:\n",
    "            new_pred[i] = 1\n",
    "        else:\n",
    "            new_pred[i] = 0\n",
    "    \n",
    "    return new_pred"
   ]
  },
  {
   "cell_type": "markdown",
   "metadata": {},
   "source": [
    "Results functions"
   ]
  },
  {
   "cell_type": "code",
   "execution_count": 70,
   "metadata": {},
   "outputs": [],
   "source": [
    "# accuracy and loss plots\n",
    "def plot_results(history, title):\n",
    "    # plot accuracy and loss curves\n",
    "    fig, axs = plt.subplots(1, 2, figsize=(20, 8))\n",
    "\n",
    "    axs[0].plot(history.history['accuracy'], label='training accuracy')\n",
    "    axs[0].plot(history.history['val_accuracy'], label = 'val accuracy')\n",
    "    axs[0].set_xlabel('Epoch')\n",
    "    axs[0].set_ylabel('Accuracy')\n",
    "    axs[0].set_title((title + ' Accuracy'))\n",
    "    axs[0].set_ylim([0.5, 1])\n",
    "    axs[0].legend(loc='lower right')\n",
    "\n",
    "    axs[1].plot(history.history['loss'], label='training loss')\n",
    "    axs[1].plot(history.history['val_loss'], label = 'val loss')\n",
    "    axs[1].set_xlabel('Epoch')\n",
    "    axs[1].set_ylabel('Loss')\n",
    "    axs[1].set_title((title + ' CNN Loss'))\n",
    "    axs[1].set_ylim([0, 1])\n",
    "    axs[1].legend(loc='lower right')"
   ]
  },
  {
   "cell_type": "code",
   "execution_count": 88,
   "metadata": {},
   "outputs": [],
   "source": [
    "# ROC Plots\n",
    "def plot_ROC(y_test, y_pred, title):\n",
    "    fpr, tpr, thresholds = roc_curve(y_test, y_pred)\n",
    "    auc_val = auc(fpr, tpr)\n",
    "\n",
    "    plt.plot(fpr,tpr) \n",
    "    plt.plot([0, 1], [0, 1], linestyle='dashed')\n",
    "    plt.axis([-0.05, 1.05, -0.05, 1.05]) \n",
    "    plt.xlabel('False Positive Rate') \n",
    "    plt.ylabel('True Positive Rate') \n",
    "    title += \"\\nAUC: \" + str(round(auc_val, 4))\n",
    "    plt.title(title)\n",
    "    plt.show()"
   ]
  },
  {
   "cell_type": "code",
   "execution_count": 72,
   "metadata": {},
   "outputs": [],
   "source": [
    "# Confusion Matrix\n",
    "def plot_cm(y_test, y_pred, title):\n",
    "    cm = confusion_matrix(y_test, y_pred)\n",
    "    cm_df = pd.DataFrame(cm)\n",
    "    sns.heatmap(cm, annot=True, cmap=plt.cm.Blues, fmt=\"d\")\n",
    "    plt.imshow(cm)\n",
    "    plt.xlabel(\"Predicted Label\")\n",
    "    plt.ylabel(\"True Label\")\n",
    "    plt.title(title)"
   ]
  },
  {
   "cell_type": "code",
   "execution_count": 73,
   "metadata": {},
   "outputs": [],
   "source": [
    "def plot_pr(y_test, y_pred, title):\n",
    "    prec, recall, _ = precision_recall_curve(y_test, y_pred)\n",
    "    plt.plot(recall, prec)\n",
    "    plt.ylim([0, 1])\n",
    "    plt.xlabel(\"Recall\")\n",
    "    plt.ylabel(\"Precision\")\n",
    "    plt.title(title + \" Precision vs Recall\")"
   ]
  },
  {
   "cell_type": "markdown",
   "metadata": {},
   "source": [
    "# Part 0: Load in data"
   ]
  },
  {
   "cell_type": "code",
   "execution_count": 74,
   "metadata": {},
   "outputs": [],
   "source": [
    "# covid/pneumonia\n",
    "data = []\n",
    "with open(\"metadata.csv\") as file:\n",
    "    for row in csv.reader(file):\n",
    "        data.append(row)\n",
    "\n",
    "data = data[1:]\n",
    "\n",
    "# pneumonia/healthy\n",
    "# format: (file location, healthy/pneumonia(0/1))\n",
    "ph_files = [('train/Normal', 0), \n",
    "         ('train/Pneumonia', 1),\n",
    "         ('test/Normal', 0), \n",
    "         ('test/Pneumonia', 1),\n",
    "         ('val/Normal', 0), \n",
    "         ('val/Pneumonia', 1),]"
   ]
  },
  {
   "cell_type": "markdown",
   "metadata": {},
   "source": [
    "COVID/Pneumonia"
   ]
  },
  {
   "cell_type": "code",
   "execution_count": 75,
   "metadata": {},
   "outputs": [
    {
     "data": {
      "image/png": "[encoded data removed]",
      "text/plain": [
       "<Figure size 432x288 with 1 Axes>"
      ]
     },
     "metadata": {
      "needs_background": "light"
     },
     "output_type": "display_data"
    }
   ],
   "source": [
    "ch = {'filename': [], 'target': []}\n",
    "\n",
    "# covid/pneumonia data\n",
    "for image in data:\n",
    "    # skip volume data\n",
    "    if image[22] == \"volumes\":\n",
    "        continue\n",
    "    \n",
    "    # ignore CT scan data\n",
    "    if image[19] == \"CT\":\n",
    "        continue\n",
    "    \n",
    "    diagnosis1 = image[4].split(\"/\")\n",
    "    diagnosis = diagnosis1[len(diagnosis1) - 1].lower()\n",
    "    # set target based on meta data\n",
    "    if diagnosis == \"covid-19\":\n",
    "        # if it is COVID-19\n",
    "        ch['filename'].append(image[23])\n",
    "        ch['target'].append(1)\n",
    "        \n",
    "# healthy from pneumonia/healthy\n",
    "for file in ph_files:\n",
    "    if \"normal\" in file[0].lower():\n",
    "        dir_path = os.path.abspath(os.getcwd())\n",
    "        dir_path = dir_path + \"/chest_xray/\" + file[0]\n",
    "        list = os.listdir(dir_path)\n",
    "        for pic in list:\n",
    "            if '.DS_Store' not in pic:\n",
    "                ch['filename'].append(pic)\n",
    "                ch['target'].append(0)\n",
    "\n",
    "# get distribution\n",
    "labels = {0: \"Healthy\", 1: \"COVID\"}\n",
    "get_distr(ch['target'], labels)\n"
   ]
  },
  {
   "cell_type": "code",
   "execution_count": 76,
   "metadata": {},
   "outputs": [
    {
     "data": {
      "image/png": "[encoded data removed]",
      "text/plain": [
       "<Figure size 432x288 with 1 Axes>"
      ]
     },
     "metadata": {
      "needs_background": "light"
     },
     "output_type": "display_data"
    }
   ],
   "source": [
    "cp = {'filename': [], 'target': []}\n",
    "\n",
    "# covid/pneumonia data\n",
    "for image in data:\n",
    "    # skip volume data\n",
    "    if image[22] == \"volumes\":\n",
    "        continue\n",
    "    \n",
    "    # ignore CT scan data\n",
    "    if image[19] == \"CT\":\n",
    "        continue\n",
    "    \n",
    "    diagnosis1 = image[4].split(\"/\")\n",
    "    diagnosis = diagnosis1[len(diagnosis1) - 1].lower()\n",
    "    # set target based on meta data\n",
    "    if diagnosis == \"covid-19\":\n",
    "        # if it is COVID-19\n",
    "        cp['filename'].append(image[23])\n",
    "        cp['target'].append(1)\n",
    "        \n",
    "# pneumonia from pneumonia/healthy\n",
    "for file in ph_files:\n",
    "    if \"pneumonia\" in file[0].lower():\n",
    "        dir_path = os.path.abspath(os.getcwd())\n",
    "        dir_path = dir_path + \"/chest_xray/\" + file[0]\n",
    "        list = os.listdir(dir_path)\n",
    "        for pic in list:\n",
    "            if '.DS_Store' not in pic:\n",
    "                cp['filename'].append(pic)\n",
    "                cp['target'].append(0)\n",
    "\n",
    "# get distribution\n",
    "labels = {0: \"Pneumonia\", 1: \"COVID\"}\n",
    "get_distr(cp['target'], labels)\n"
   ]
  },
  {
   "cell_type": "code",
   "execution_count": 77,
   "metadata": {},
   "outputs": [
    {
     "data": {
      "image/png": "[encoded data removed]",
      "text/plain": [
       "<Figure size 432x288 with 1 Axes>"
      ]
     },
     "metadata": {
      "needs_background": "light"
     },
     "output_type": "display_data"
    }
   ],
   "source": [
    "cph = {'filename': [], 'target': []}\n",
    "\n",
    "# covid/pneumonia data\n",
    "for image in data:\n",
    "    # skip volume data\n",
    "    if image[22] == \"volumes\":\n",
    "        continue\n",
    "    \n",
    "    # ignore CT scan data\n",
    "    if image[19] == \"CT\":\n",
    "        continue\n",
    "    \n",
    "    diagnosis1 = image[4].split(\"/\")\n",
    "    diagnosis = diagnosis1[len(diagnosis1) - 1].lower()\n",
    "    # set target based on meta data\n",
    "    if diagnosis == \"covid-19\":\n",
    "        # if it is COVID-19\n",
    "        cph['filename'].append(image[23])\n",
    "        cph['target'].append(1)\n",
    "        \n",
    "# pneumonia from pneumonia/healthy\n",
    "for file in ph_files:\n",
    "    dir_path = os.path.abspath(os.getcwd())\n",
    "    dir_path = dir_path + \"/chest_xray/\" + file[0]\n",
    "    list = os.listdir(dir_path)\n",
    "    for pic in list:\n",
    "        if '.DS_Store' not in pic:\n",
    "            cph['filename'].append(pic)\n",
    "            if 'pneumonia' in file[0].lower():\n",
    "                cph['target'].append(2)\n",
    "            else:\n",
    "                cph['target'].append(0)\n",
    "\n",
    "# get distribution\n",
    "labels = {0: \"Healthy\", 1: \"COVID\", 2: \"Pneumonia\"}\n",
    "get_distr(cph['target'], labels)\n"
   ]
  },
  {
   "cell_type": "code",
   "execution_count": 78,
   "metadata": {},
   "outputs": [
    {
     "data": {
      "image/png": "[encoded data removed]",
      "text/plain": [
       "<Figure size 432x288 with 1 Axes>"
      ]
     },
     "metadata": {
      "needs_background": "light"
     },
     "output_type": "display_data"
    }
   ],
   "source": [
    "cc = {'filename': [], 'target': []}\n",
    "\n",
    "# covid/pneumonia data\n",
    "for image in data:\n",
    "    # skip volume data\n",
    "    if image[22] == \"volumes\":\n",
    "        continue\n",
    "    \n",
    "    # ignore CT scan data\n",
    "    if image[19] == \"CT\":\n",
    "        continue\n",
    "    \n",
    "    diagnosis1 = image[4].split(\"/\")\n",
    "    diagnosis = diagnosis1[len(diagnosis1) - 1].lower()\n",
    "    # set target based on meta data\n",
    "    if diagnosis == \"covid-19\":\n",
    "        # if it is COVID-19\n",
    "        if image[7] == \"Y\":\n",
    "            # patient intubated\n",
    "            cc['filename'].append(image[23])\n",
    "            cc['target'].append(1)\n",
    "        elif image[7] == \"N\":\n",
    "            # patient not intubated\n",
    "            cc['filename'].append(image[23])\n",
    "            cc['target'].append(0)\n",
    "\n",
    "\n",
    "# get distribution\n",
    "labels = {0: \"COVID Not Intubated\", 1: \"COVID Intubated\"}\n",
    "get_distr(cc['target'], labels)"
   ]
  },
  {
   "cell_type": "code",
   "execution_count": 79,
   "metadata": {},
   "outputs": [
    {
     "data": {
      "image/png": "[encoded data removed]",
      "text/plain": [
       "<Figure size 432x288 with 1 Axes>"
      ]
     },
     "metadata": {
      "needs_background": "light"
     },
     "output_type": "display_data"
    }
   ],
   "source": [
    "ccph = {'filename': [], 'target': []}\n",
    "\n",
    "# covid/pneumonia data\n",
    "for image in data:\n",
    "    # skip volume data\n",
    "    if image[22] == \"volumes\":\n",
    "        continue\n",
    "    \n",
    "    # ignore CT scan data\n",
    "    if image[19] == \"CT\":\n",
    "        continue\n",
    "    \n",
    "    diagnosis1 = image[4].split(\"/\")\n",
    "    diagnosis = diagnosis1[len(diagnosis1) - 1].lower()\n",
    "    # set target based on meta data\n",
    "    if diagnosis == \"covid-19\":\n",
    "        # if it is COVID-19\n",
    "        if image[7] == \"Y\":\n",
    "            # patient intubated\n",
    "            ccph['filename'].append(image[23])\n",
    "            ccph['target'].append(3)\n",
    "        elif image[7] == \"N\":\n",
    "            # patient not intubated\n",
    "            ccph['filename'].append(image[23])\n",
    "            ccph['target'].append(2)\n",
    "            \n",
    "# pneumonia from pneumonia/healthy\n",
    "for file in ph_files:\n",
    "    dir_path = os.path.abspath(os.getcwd())\n",
    "    dir_path = dir_path + \"/chest_xray/\" + file[0]\n",
    "    list = os.listdir(dir_path)\n",
    "    for pic in list:\n",
    "        if '.DS_Store' not in pic:\n",
    "            cph['filename'].append(pic)\n",
    "            if 'pneumonia' in file[0].lower():\n",
    "                ccph['target'].append(1)\n",
    "            else:\n",
    "                ccph['target'].append(0)\n",
    "\n",
    "# get distribution\n",
    "labels = {0: \"Healthy\", 1: \"Pneumonia\", 2: \"COVID Not Intubated\", 3: \"COVID Intubated\"}\n",
    "get_distr(ccph['target'], labels)"
   ]
  },
  {
   "cell_type": "markdown",
   "metadata": {},
   "source": [
    "Plan:\n",
    "1. COVID/Healthy\n",
    "2. COVID/Pneumonia\n",
    "3. COVID/Pneumonia/Healthy\n",
    "4. COVID Not Intubated/COVID Intubated\n",
    "\n",
    "Test on (use Random Search CV for Hyper Params)\n",
    "1. Deep CNN\n",
    "\n",
    "Test Each with\n",
    "1. Not augmented\n",
    "2. Augmented"
   ]
  },
  {
   "cell_type": "markdown",
   "metadata": {},
   "source": [
    "## Create Model"
   ]
  },
  {
   "cell_type": "code",
   "execution_count": 80,
   "metadata": {},
   "outputs": [],
   "source": [
    "def create_model(num_classes=2, lr=0.001, do=0.2, layer_size=1024):\n",
    "    act = 'softmax'\n",
    "    loss = tf.keras.losses.SparseCategoricalCrossentropy()\n",
    "    metrics = ['accuracy']\n",
    "    \n",
    "    if num_classes == 2:\n",
    "        num_classes = 1\n",
    "        act = 'sigmoid'\n",
    "        loss = tf.keras.losses.BinaryCrossentropy()\n",
    "        metrics = [tf.keras.metrics.Recall(), tf.keras.metrics.Precision()]\n",
    "        \n",
    "    base_model = tf.keras.applications.VGG19(weights='imagenet', \n",
    "                                             include_top=False,\n",
    "                                             input_shape=(224, 224, 3),\n",
    "                                             classifier_activation=act)\n",
    "    \n",
    "    base_model.trainable = False\n",
    "\n",
    "    flatten = layers.Flatten()(base_model.layers[-1].output)\n",
    "    dense = layers.Dense(layer_size, activation='relu')(flatten)\n",
    "    output = layers.Dense(num_classes, activation=act)(dense)\n",
    "    \n",
    "    # define new model\n",
    "    model = tf.keras.Model(inputs=base_model.inputs, outputs=output)\n",
    "\n",
    "    opt = tf.keras.optimizers.Adam(lr=lr)\n",
    "    # compile \n",
    "    model.compile(optimizer=opt,\n",
    "                  loss=loss,\n",
    "                  metrics=metrics)\n",
    "    \n",
    "    return model "
   ]
  },
  {
   "cell_type": "markdown",
   "metadata": {},
   "source": [
    "# Hyper Parameter Selection for models"
   ]
  },
  {
   "cell_type": "code",
   "execution_count": 59,
   "metadata": {},
   "outputs": [
    {
     "name": "stdout",
     "output_type": "stream",
     "text": [
      "Fitting 2 folds for each of 10 candidates, totalling 20 fits\n",
      "[CV] lr=0.005, layer_size=1024, do=0.6 ...............................\n"
     ]
    },
    {
     "name": "stderr",
     "output_type": "stream",
     "text": [
      "[Parallel(n_jobs=1)]: Using backend SequentialBackend with 1 concurrent workers.\n"
     ]
    },
    {
     "name": "stdout",
     "output_type": "stream",
     "text": [
      "75/75 [==============================] - 326s 4s/step - loss: 0.0119 - recall_4: 0.0000e+00 - precision_4: 0.0000e+00\n"
     ]
    },
    {
     "ename": "AttributeError",
     "evalue": "'Functional' object has no attribute 'predict_proba'",
     "output_type": "error",
     "traceback": [
      "\u001b[0;31m---------------------------------------------------------------------------\u001b[0m",
      "\u001b[0;31mAttributeError\u001b[0m                            Traceback (most recent call last)",
      "\u001b[0;32m~/opt/anaconda3/lib/python3.8/site-packages/sklearn/metrics/_scorer.py\u001b[0m in \u001b[0;36m_score\u001b[0;34m(self, method_caller, clf, X, y, sample_weight)\u001b[0m\n\u001b[1;32m    306\u001b[0m             \u001b[0;32mtry\u001b[0m\u001b[0;34m:\u001b[0m\u001b[0;34m\u001b[0m\u001b[0;34m\u001b[0m\u001b[0m\n\u001b[0;32m--> 307\u001b[0;31m                 \u001b[0my_pred\u001b[0m \u001b[0;34m=\u001b[0m \u001b[0mmethod_caller\u001b[0m\u001b[0;34m(\u001b[0m\u001b[0mclf\u001b[0m\u001b[0;34m,\u001b[0m \u001b[0;34m\"decision_function\"\u001b[0m\u001b[0;34m,\u001b[0m \u001b[0mX\u001b[0m\u001b[0;34m)\u001b[0m\u001b[0;34m\u001b[0m\u001b[0;34m\u001b[0m\u001b[0m\n\u001b[0m\u001b[1;32m    308\u001b[0m \u001b[0;34m\u001b[0m\u001b[0m\n",
      "\u001b[0;32m~/opt/anaconda3/lib/python3.8/site-packages/sklearn/metrics/_scorer.py\u001b[0m in \u001b[0;36m_cached_call\u001b[0;34m(cache, estimator, method, *args, **kwargs)\u001b[0m\n\u001b[1;32m     52\u001b[0m     \u001b[0;32mif\u001b[0m \u001b[0mcache\u001b[0m \u001b[0;32mis\u001b[0m \u001b[0;32mNone\u001b[0m\u001b[0;34m:\u001b[0m\u001b[0;34m\u001b[0m\u001b[0;34m\u001b[0m\u001b[0m\n\u001b[0;32m---> 53\u001b[0;31m         \u001b[0;32mreturn\u001b[0m \u001b[0mgetattr\u001b[0m\u001b[0;34m(\u001b[0m\u001b[0mestimator\u001b[0m\u001b[0;34m,\u001b[0m \u001b[0mmethod\u001b[0m\u001b[0;34m)\u001b[0m\u001b[0;34m(\u001b[0m\u001b[0;34m*\u001b[0m\u001b[0margs\u001b[0m\u001b[0;34m,\u001b[0m \u001b[0;34m**\u001b[0m\u001b[0mkwargs\u001b[0m\u001b[0;34m)\u001b[0m\u001b[0;34m\u001b[0m\u001b[0;34m\u001b[0m\u001b[0m\n\u001b[0m\u001b[1;32m     54\u001b[0m \u001b[0;34m\u001b[0m\u001b[0m\n",
      "\u001b[0;31mAttributeError\u001b[0m: 'KerasClassifier' object has no attribute 'decision_function'",
      "\nDuring handling of the above exception, another exception occurred:\n",
      "\u001b[0;31mAttributeError\u001b[0m                            Traceback (most recent call last)",
      "\u001b[0;32m<ipython-input-59-af3100e65b87>\u001b[0m in \u001b[0;36m<module>\u001b[0;34m\u001b[0m\n\u001b[1;32m     18\u001b[0m clf = RandomizedSearchCV(covid_test_model, distributions, random_state=0, n_jobs=None, \n\u001b[1;32m     19\u001b[0m                          scoring=\"roc_auc\", verbose=10, cv=2)\n\u001b[0;32m---> 20\u001b[0;31m \u001b[0msearch\u001b[0m \u001b[0;34m=\u001b[0m \u001b[0mclf\u001b[0m\u001b[0;34m.\u001b[0m\u001b[0mfit\u001b[0m\u001b[0;34m(\u001b[0m\u001b[0mcp_images\u001b[0m\u001b[0;34m,\u001b[0m \u001b[0mcp\u001b[0m\u001b[0;34m[\u001b[0m\u001b[0;34m'target'\u001b[0m\u001b[0;34m]\u001b[0m\u001b[0;34m)\u001b[0m\u001b[0;34m\u001b[0m\u001b[0;34m\u001b[0m\u001b[0m\n\u001b[0m\u001b[1;32m     21\u001b[0m \u001b[0msearch\u001b[0m\u001b[0;34m.\u001b[0m\u001b[0mbest_params_\u001b[0m\u001b[0;34m\u001b[0m\u001b[0;34m\u001b[0m\u001b[0m\n",
      "\u001b[0;32m~/opt/anaconda3/lib/python3.8/site-packages/sklearn/utils/validation.py\u001b[0m in \u001b[0;36minner_f\u001b[0;34m(*args, **kwargs)\u001b[0m\n\u001b[1;32m     71\u001b[0m                           FutureWarning)\n\u001b[1;32m     72\u001b[0m         \u001b[0mkwargs\u001b[0m\u001b[0;34m.\u001b[0m\u001b[0mupdate\u001b[0m\u001b[0;34m(\u001b[0m\u001b[0;34m{\u001b[0m\u001b[0mk\u001b[0m\u001b[0;34m:\u001b[0m \u001b[0marg\u001b[0m \u001b[0;32mfor\u001b[0m \u001b[0mk\u001b[0m\u001b[0;34m,\u001b[0m \u001b[0marg\u001b[0m \u001b[0;32min\u001b[0m \u001b[0mzip\u001b[0m\u001b[0;34m(\u001b[0m\u001b[0msig\u001b[0m\u001b[0;34m.\u001b[0m\u001b[0mparameters\u001b[0m\u001b[0;34m,\u001b[0m \u001b[0margs\u001b[0m\u001b[0;34m)\u001b[0m\u001b[0;34m}\u001b[0m\u001b[0;34m)\u001b[0m\u001b[0;34m\u001b[0m\u001b[0;34m\u001b[0m\u001b[0m\n\u001b[0;32m---> 73\u001b[0;31m         \u001b[0;32mreturn\u001b[0m \u001b[0mf\u001b[0m\u001b[0;34m(\u001b[0m\u001b[0;34m**\u001b[0m\u001b[0mkwargs\u001b[0m\u001b[0;34m)\u001b[0m\u001b[0;34m\u001b[0m\u001b[0;34m\u001b[0m\u001b[0m\n\u001b[0m\u001b[1;32m     74\u001b[0m     \u001b[0;32mreturn\u001b[0m \u001b[0minner_f\u001b[0m\u001b[0;34m\u001b[0m\u001b[0;34m\u001b[0m\u001b[0m\n\u001b[1;32m     75\u001b[0m \u001b[0;34m\u001b[0m\u001b[0m\n",
      "\u001b[0;32m~/opt/anaconda3/lib/python3.8/site-packages/sklearn/model_selection/_search.py\u001b[0m in \u001b[0;36mfit\u001b[0;34m(self, X, y, groups, **fit_params)\u001b[0m\n\u001b[1;32m    734\u001b[0m                 \u001b[0;32mreturn\u001b[0m \u001b[0mresults\u001b[0m\u001b[0;34m\u001b[0m\u001b[0;34m\u001b[0m\u001b[0m\n\u001b[1;32m    735\u001b[0m \u001b[0;34m\u001b[0m\u001b[0m\n\u001b[0;32m--> 736\u001b[0;31m             \u001b[0mself\u001b[0m\u001b[0;34m.\u001b[0m\u001b[0m_run_search\u001b[0m\u001b[0;34m(\u001b[0m\u001b[0mevaluate_candidates\u001b[0m\u001b[0;34m)\u001b[0m\u001b[0;34m\u001b[0m\u001b[0;34m\u001b[0m\u001b[0m\n\u001b[0m\u001b[1;32m    737\u001b[0m \u001b[0;34m\u001b[0m\u001b[0m\n\u001b[1;32m    738\u001b[0m         \u001b[0;31m# For multi-metric evaluation, store the best_index_, best_params_ and\u001b[0m\u001b[0;34m\u001b[0m\u001b[0;34m\u001b[0m\u001b[0;34m\u001b[0m\u001b[0m\n",
      "\u001b[0;32m~/opt/anaconda3/lib/python3.8/site-packages/sklearn/model_selection/_search.py\u001b[0m in \u001b[0;36m_run_search\u001b[0;34m(self, evaluate_candidates)\u001b[0m\n\u001b[1;32m   1527\u001b[0m     \u001b[0;32mdef\u001b[0m \u001b[0m_run_search\u001b[0m\u001b[0;34m(\u001b[0m\u001b[0mself\u001b[0m\u001b[0;34m,\u001b[0m \u001b[0mevaluate_candidates\u001b[0m\u001b[0;34m)\u001b[0m\u001b[0;34m:\u001b[0m\u001b[0;34m\u001b[0m\u001b[0;34m\u001b[0m\u001b[0m\n\u001b[1;32m   1528\u001b[0m         \u001b[0;34m\"\"\"Search n_iter candidates from param_distributions\"\"\"\u001b[0m\u001b[0;34m\u001b[0m\u001b[0;34m\u001b[0m\u001b[0m\n\u001b[0;32m-> 1529\u001b[0;31m         evaluate_candidates(ParameterSampler(\n\u001b[0m\u001b[1;32m   1530\u001b[0m             \u001b[0mself\u001b[0m\u001b[0;34m.\u001b[0m\u001b[0mparam_distributions\u001b[0m\u001b[0;34m,\u001b[0m \u001b[0mself\u001b[0m\u001b[0;34m.\u001b[0m\u001b[0mn_iter\u001b[0m\u001b[0;34m,\u001b[0m\u001b[0;34m\u001b[0m\u001b[0;34m\u001b[0m\u001b[0m\n\u001b[1;32m   1531\u001b[0m             random_state=self.random_state))\n",
      "\u001b[0;32m~/opt/anaconda3/lib/python3.8/site-packages/sklearn/model_selection/_search.py\u001b[0m in \u001b[0;36mevaluate_candidates\u001b[0;34m(candidate_params)\u001b[0m\n\u001b[1;32m    706\u001b[0m                               n_splits, n_candidates, n_candidates * n_splits))\n\u001b[1;32m    707\u001b[0m \u001b[0;34m\u001b[0m\u001b[0m\n\u001b[0;32m--> 708\u001b[0;31m                 out = parallel(delayed(_fit_and_score)(clone(base_estimator),\n\u001b[0m\u001b[1;32m    709\u001b[0m                                                        \u001b[0mX\u001b[0m\u001b[0;34m,\u001b[0m \u001b[0my\u001b[0m\u001b[0;34m,\u001b[0m\u001b[0;34m\u001b[0m\u001b[0;34m\u001b[0m\u001b[0m\n\u001b[1;32m    710\u001b[0m                                                        \u001b[0mtrain\u001b[0m\u001b[0;34m=\u001b[0m\u001b[0mtrain\u001b[0m\u001b[0;34m,\u001b[0m \u001b[0mtest\u001b[0m\u001b[0;34m=\u001b[0m\u001b[0mtest\u001b[0m\u001b[0;34m,\u001b[0m\u001b[0;34m\u001b[0m\u001b[0;34m\u001b[0m\u001b[0m\n",
      "\u001b[0;32m~/opt/anaconda3/lib/python3.8/site-packages/joblib/parallel.py\u001b[0m in \u001b[0;36m__call__\u001b[0;34m(self, iterable)\u001b[0m\n\u001b[1;32m   1027\u001b[0m             \u001b[0;31m# remaining jobs.\u001b[0m\u001b[0;34m\u001b[0m\u001b[0;34m\u001b[0m\u001b[0;34m\u001b[0m\u001b[0m\n\u001b[1;32m   1028\u001b[0m             \u001b[0mself\u001b[0m\u001b[0;34m.\u001b[0m\u001b[0m_iterating\u001b[0m \u001b[0;34m=\u001b[0m \u001b[0;32mFalse\u001b[0m\u001b[0;34m\u001b[0m\u001b[0;34m\u001b[0m\u001b[0m\n\u001b[0;32m-> 1029\u001b[0;31m             \u001b[0;32mif\u001b[0m \u001b[0mself\u001b[0m\u001b[0;34m.\u001b[0m\u001b[0mdispatch_one_batch\u001b[0m\u001b[0;34m(\u001b[0m\u001b[0miterator\u001b[0m\u001b[0;34m)\u001b[0m\u001b[0;34m:\u001b[0m\u001b[0;34m\u001b[0m\u001b[0;34m\u001b[0m\u001b[0m\n\u001b[0m\u001b[1;32m   1030\u001b[0m                 \u001b[0mself\u001b[0m\u001b[0;34m.\u001b[0m\u001b[0m_iterating\u001b[0m \u001b[0;34m=\u001b[0m \u001b[0mself\u001b[0m\u001b[0;34m.\u001b[0m\u001b[0m_original_iterator\u001b[0m \u001b[0;32mis\u001b[0m \u001b[0;32mnot\u001b[0m \u001b[0;32mNone\u001b[0m\u001b[0;34m\u001b[0m\u001b[0;34m\u001b[0m\u001b[0m\n\u001b[1;32m   1031\u001b[0m \u001b[0;34m\u001b[0m\u001b[0m\n",
      "\u001b[0;32m~/opt/anaconda3/lib/python3.8/site-packages/joblib/parallel.py\u001b[0m in \u001b[0;36mdispatch_one_batch\u001b[0;34m(self, iterator)\u001b[0m\n\u001b[1;32m    845\u001b[0m                 \u001b[0;32mreturn\u001b[0m \u001b[0;32mFalse\u001b[0m\u001b[0;34m\u001b[0m\u001b[0;34m\u001b[0m\u001b[0m\n\u001b[1;32m    846\u001b[0m             \u001b[0;32melse\u001b[0m\u001b[0;34m:\u001b[0m\u001b[0;34m\u001b[0m\u001b[0;34m\u001b[0m\u001b[0m\n\u001b[0;32m--> 847\u001b[0;31m                 \u001b[0mself\u001b[0m\u001b[0;34m.\u001b[0m\u001b[0m_dispatch\u001b[0m\u001b[0;34m(\u001b[0m\u001b[0mtasks\u001b[0m\u001b[0;34m)\u001b[0m\u001b[0;34m\u001b[0m\u001b[0;34m\u001b[0m\u001b[0m\n\u001b[0m\u001b[1;32m    848\u001b[0m                 \u001b[0;32mreturn\u001b[0m \u001b[0;32mTrue\u001b[0m\u001b[0;34m\u001b[0m\u001b[0;34m\u001b[0m\u001b[0m\n\u001b[1;32m    849\u001b[0m \u001b[0;34m\u001b[0m\u001b[0m\n",
      "\u001b[0;32m~/opt/anaconda3/lib/python3.8/site-packages/joblib/parallel.py\u001b[0m in \u001b[0;36m_dispatch\u001b[0;34m(self, batch)\u001b[0m\n\u001b[1;32m    763\u001b[0m         \u001b[0;32mwith\u001b[0m \u001b[0mself\u001b[0m\u001b[0;34m.\u001b[0m\u001b[0m_lock\u001b[0m\u001b[0;34m:\u001b[0m\u001b[0;34m\u001b[0m\u001b[0;34m\u001b[0m\u001b[0m\n\u001b[1;32m    764\u001b[0m             \u001b[0mjob_idx\u001b[0m \u001b[0;34m=\u001b[0m \u001b[0mlen\u001b[0m\u001b[0;34m(\u001b[0m\u001b[0mself\u001b[0m\u001b[0;34m.\u001b[0m\u001b[0m_jobs\u001b[0m\u001b[0;34m)\u001b[0m\u001b[0;34m\u001b[0m\u001b[0;34m\u001b[0m\u001b[0m\n\u001b[0;32m--> 765\u001b[0;31m             \u001b[0mjob\u001b[0m \u001b[0;34m=\u001b[0m \u001b[0mself\u001b[0m\u001b[0;34m.\u001b[0m\u001b[0m_backend\u001b[0m\u001b[0;34m.\u001b[0m\u001b[0mapply_async\u001b[0m\u001b[0;34m(\u001b[0m\u001b[0mbatch\u001b[0m\u001b[0;34m,\u001b[0m \u001b[0mcallback\u001b[0m\u001b[0;34m=\u001b[0m\u001b[0mcb\u001b[0m\u001b[0;34m)\u001b[0m\u001b[0;34m\u001b[0m\u001b[0;34m\u001b[0m\u001b[0m\n\u001b[0m\u001b[1;32m    766\u001b[0m             \u001b[0;31m# A job can complete so quickly than its callback is\u001b[0m\u001b[0;34m\u001b[0m\u001b[0;34m\u001b[0m\u001b[0;34m\u001b[0m\u001b[0m\n\u001b[1;32m    767\u001b[0m             \u001b[0;31m# called before we get here, causing self._jobs to\u001b[0m\u001b[0;34m\u001b[0m\u001b[0;34m\u001b[0m\u001b[0;34m\u001b[0m\u001b[0m\n",
      "\u001b[0;32m~/opt/anaconda3/lib/python3.8/site-packages/joblib/_parallel_backends.py\u001b[0m in \u001b[0;36mapply_async\u001b[0;34m(self, func, callback)\u001b[0m\n\u001b[1;32m    206\u001b[0m     \u001b[0;32mdef\u001b[0m \u001b[0mapply_async\u001b[0m\u001b[0;34m(\u001b[0m\u001b[0mself\u001b[0m\u001b[0;34m,\u001b[0m \u001b[0mfunc\u001b[0m\u001b[0;34m,\u001b[0m \u001b[0mcallback\u001b[0m\u001b[0;34m=\u001b[0m\u001b[0;32mNone\u001b[0m\u001b[0;34m)\u001b[0m\u001b[0;34m:\u001b[0m\u001b[0;34m\u001b[0m\u001b[0;34m\u001b[0m\u001b[0m\n\u001b[1;32m    207\u001b[0m         \u001b[0;34m\"\"\"Schedule a func to be run\"\"\"\u001b[0m\u001b[0;34m\u001b[0m\u001b[0;34m\u001b[0m\u001b[0m\n\u001b[0;32m--> 208\u001b[0;31m         \u001b[0mresult\u001b[0m \u001b[0;34m=\u001b[0m \u001b[0mImmediateResult\u001b[0m\u001b[0;34m(\u001b[0m\u001b[0mfunc\u001b[0m\u001b[0;34m)\u001b[0m\u001b[0;34m\u001b[0m\u001b[0;34m\u001b[0m\u001b[0m\n\u001b[0m\u001b[1;32m    209\u001b[0m         \u001b[0;32mif\u001b[0m \u001b[0mcallback\u001b[0m\u001b[0;34m:\u001b[0m\u001b[0;34m\u001b[0m\u001b[0;34m\u001b[0m\u001b[0m\n\u001b[1;32m    210\u001b[0m             \u001b[0mcallback\u001b[0m\u001b[0;34m(\u001b[0m\u001b[0mresult\u001b[0m\u001b[0;34m)\u001b[0m\u001b[0;34m\u001b[0m\u001b[0;34m\u001b[0m\u001b[0m\n",
      "\u001b[0;32m~/opt/anaconda3/lib/python3.8/site-packages/joblib/_parallel_backends.py\u001b[0m in \u001b[0;36m__init__\u001b[0;34m(self, batch)\u001b[0m\n\u001b[1;32m    570\u001b[0m         \u001b[0;31m# Don't delay the application, to avoid keeping the input\u001b[0m\u001b[0;34m\u001b[0m\u001b[0;34m\u001b[0m\u001b[0;34m\u001b[0m\u001b[0m\n\u001b[1;32m    571\u001b[0m         \u001b[0;31m# arguments in memory\u001b[0m\u001b[0;34m\u001b[0m\u001b[0;34m\u001b[0m\u001b[0;34m\u001b[0m\u001b[0m\n\u001b[0;32m--> 572\u001b[0;31m         \u001b[0mself\u001b[0m\u001b[0;34m.\u001b[0m\u001b[0mresults\u001b[0m \u001b[0;34m=\u001b[0m \u001b[0mbatch\u001b[0m\u001b[0;34m(\u001b[0m\u001b[0;34m)\u001b[0m\u001b[0;34m\u001b[0m\u001b[0;34m\u001b[0m\u001b[0m\n\u001b[0m\u001b[1;32m    573\u001b[0m \u001b[0;34m\u001b[0m\u001b[0m\n\u001b[1;32m    574\u001b[0m     \u001b[0;32mdef\u001b[0m \u001b[0mget\u001b[0m\u001b[0;34m(\u001b[0m\u001b[0mself\u001b[0m\u001b[0;34m)\u001b[0m\u001b[0;34m:\u001b[0m\u001b[0;34m\u001b[0m\u001b[0;34m\u001b[0m\u001b[0m\n",
      "\u001b[0;32m~/opt/anaconda3/lib/python3.8/site-packages/joblib/parallel.py\u001b[0m in \u001b[0;36m__call__\u001b[0;34m(self)\u001b[0m\n\u001b[1;32m    250\u001b[0m         \u001b[0;31m# change the default number of processes to -1\u001b[0m\u001b[0;34m\u001b[0m\u001b[0;34m\u001b[0m\u001b[0;34m\u001b[0m\u001b[0m\n\u001b[1;32m    251\u001b[0m         \u001b[0;32mwith\u001b[0m \u001b[0mparallel_backend\u001b[0m\u001b[0;34m(\u001b[0m\u001b[0mself\u001b[0m\u001b[0;34m.\u001b[0m\u001b[0m_backend\u001b[0m\u001b[0;34m,\u001b[0m \u001b[0mn_jobs\u001b[0m\u001b[0;34m=\u001b[0m\u001b[0mself\u001b[0m\u001b[0;34m.\u001b[0m\u001b[0m_n_jobs\u001b[0m\u001b[0;34m)\u001b[0m\u001b[0;34m:\u001b[0m\u001b[0;34m\u001b[0m\u001b[0;34m\u001b[0m\u001b[0m\n\u001b[0;32m--> 252\u001b[0;31m             return [func(*args, **kwargs)\n\u001b[0m\u001b[1;32m    253\u001b[0m                     for func, args, kwargs in self.items]\n\u001b[1;32m    254\u001b[0m \u001b[0;34m\u001b[0m\u001b[0m\n",
      "\u001b[0;32m~/opt/anaconda3/lib/python3.8/site-packages/joblib/parallel.py\u001b[0m in \u001b[0;36m<listcomp>\u001b[0;34m(.0)\u001b[0m\n\u001b[1;32m    250\u001b[0m         \u001b[0;31m# change the default number of processes to -1\u001b[0m\u001b[0;34m\u001b[0m\u001b[0;34m\u001b[0m\u001b[0;34m\u001b[0m\u001b[0m\n\u001b[1;32m    251\u001b[0m         \u001b[0;32mwith\u001b[0m \u001b[0mparallel_backend\u001b[0m\u001b[0;34m(\u001b[0m\u001b[0mself\u001b[0m\u001b[0;34m.\u001b[0m\u001b[0m_backend\u001b[0m\u001b[0;34m,\u001b[0m \u001b[0mn_jobs\u001b[0m\u001b[0;34m=\u001b[0m\u001b[0mself\u001b[0m\u001b[0;34m.\u001b[0m\u001b[0m_n_jobs\u001b[0m\u001b[0;34m)\u001b[0m\u001b[0;34m:\u001b[0m\u001b[0;34m\u001b[0m\u001b[0;34m\u001b[0m\u001b[0m\n\u001b[0;32m--> 252\u001b[0;31m             return [func(*args, **kwargs)\n\u001b[0m\u001b[1;32m    253\u001b[0m                     for func, args, kwargs in self.items]\n\u001b[1;32m    254\u001b[0m \u001b[0;34m\u001b[0m\u001b[0m\n",
      "\u001b[0;32m~/opt/anaconda3/lib/python3.8/site-packages/sklearn/model_selection/_validation.py\u001b[0m in \u001b[0;36m_fit_and_score\u001b[0;34m(estimator, X, y, scorer, train, test, verbose, parameters, fit_params, return_train_score, return_parameters, return_n_test_samples, return_times, return_estimator, error_score)\u001b[0m\n\u001b[1;32m    558\u001b[0m     \u001b[0;32melse\u001b[0m\u001b[0;34m:\u001b[0m\u001b[0;34m\u001b[0m\u001b[0;34m\u001b[0m\u001b[0m\n\u001b[1;32m    559\u001b[0m         \u001b[0mfit_time\u001b[0m \u001b[0;34m=\u001b[0m \u001b[0mtime\u001b[0m\u001b[0;34m.\u001b[0m\u001b[0mtime\u001b[0m\u001b[0;34m(\u001b[0m\u001b[0;34m)\u001b[0m \u001b[0;34m-\u001b[0m \u001b[0mstart_time\u001b[0m\u001b[0;34m\u001b[0m\u001b[0;34m\u001b[0m\u001b[0m\n\u001b[0;32m--> 560\u001b[0;31m         \u001b[0mtest_scores\u001b[0m \u001b[0;34m=\u001b[0m \u001b[0m_score\u001b[0m\u001b[0;34m(\u001b[0m\u001b[0mestimator\u001b[0m\u001b[0;34m,\u001b[0m \u001b[0mX_test\u001b[0m\u001b[0;34m,\u001b[0m \u001b[0my_test\u001b[0m\u001b[0;34m,\u001b[0m \u001b[0mscorer\u001b[0m\u001b[0;34m)\u001b[0m\u001b[0;34m\u001b[0m\u001b[0;34m\u001b[0m\u001b[0m\n\u001b[0m\u001b[1;32m    561\u001b[0m         \u001b[0mscore_time\u001b[0m \u001b[0;34m=\u001b[0m \u001b[0mtime\u001b[0m\u001b[0;34m.\u001b[0m\u001b[0mtime\u001b[0m\u001b[0;34m(\u001b[0m\u001b[0;34m)\u001b[0m \u001b[0;34m-\u001b[0m \u001b[0mstart_time\u001b[0m \u001b[0;34m-\u001b[0m \u001b[0mfit_time\u001b[0m\u001b[0;34m\u001b[0m\u001b[0;34m\u001b[0m\u001b[0m\n\u001b[1;32m    562\u001b[0m         \u001b[0;32mif\u001b[0m \u001b[0mreturn_train_score\u001b[0m\u001b[0;34m:\u001b[0m\u001b[0;34m\u001b[0m\u001b[0;34m\u001b[0m\u001b[0m\n",
      "\u001b[0;32m~/opt/anaconda3/lib/python3.8/site-packages/sklearn/model_selection/_validation.py\u001b[0m in \u001b[0;36m_score\u001b[0;34m(estimator, X_test, y_test, scorer)\u001b[0m\n\u001b[1;32m    605\u001b[0m         \u001b[0mscores\u001b[0m \u001b[0;34m=\u001b[0m \u001b[0mscorer\u001b[0m\u001b[0;34m(\u001b[0m\u001b[0mestimator\u001b[0m\u001b[0;34m,\u001b[0m \u001b[0mX_test\u001b[0m\u001b[0;34m)\u001b[0m\u001b[0;34m\u001b[0m\u001b[0;34m\u001b[0m\u001b[0m\n\u001b[1;32m    606\u001b[0m     \u001b[0;32melse\u001b[0m\u001b[0;34m:\u001b[0m\u001b[0;34m\u001b[0m\u001b[0;34m\u001b[0m\u001b[0m\n\u001b[0;32m--> 607\u001b[0;31m         \u001b[0mscores\u001b[0m \u001b[0;34m=\u001b[0m \u001b[0mscorer\u001b[0m\u001b[0;34m(\u001b[0m\u001b[0mestimator\u001b[0m\u001b[0;34m,\u001b[0m \u001b[0mX_test\u001b[0m\u001b[0;34m,\u001b[0m \u001b[0my_test\u001b[0m\u001b[0;34m)\u001b[0m\u001b[0;34m\u001b[0m\u001b[0;34m\u001b[0m\u001b[0m\n\u001b[0m\u001b[1;32m    608\u001b[0m \u001b[0;34m\u001b[0m\u001b[0m\n\u001b[1;32m    609\u001b[0m     error_msg = (\"scoring must return a number, got %s (%s) \"\n",
      "\u001b[0;32m~/opt/anaconda3/lib/python3.8/site-packages/sklearn/metrics/_scorer.py\u001b[0m in \u001b[0;36m__call__\u001b[0;34m(self, estimator, *args, **kwargs)\u001b[0m\n\u001b[1;32m     85\u001b[0m         \u001b[0;32mfor\u001b[0m \u001b[0mname\u001b[0m\u001b[0;34m,\u001b[0m \u001b[0mscorer\u001b[0m \u001b[0;32min\u001b[0m \u001b[0mself\u001b[0m\u001b[0;34m.\u001b[0m\u001b[0m_scorers\u001b[0m\u001b[0;34m.\u001b[0m\u001b[0mitems\u001b[0m\u001b[0;34m(\u001b[0m\u001b[0;34m)\u001b[0m\u001b[0;34m:\u001b[0m\u001b[0;34m\u001b[0m\u001b[0;34m\u001b[0m\u001b[0m\n\u001b[1;32m     86\u001b[0m             \u001b[0;32mif\u001b[0m \u001b[0misinstance\u001b[0m\u001b[0;34m(\u001b[0m\u001b[0mscorer\u001b[0m\u001b[0;34m,\u001b[0m \u001b[0m_BaseScorer\u001b[0m\u001b[0;34m)\u001b[0m\u001b[0;34m:\u001b[0m\u001b[0;34m\u001b[0m\u001b[0;34m\u001b[0m\u001b[0m\n\u001b[0;32m---> 87\u001b[0;31m                 score = scorer._score(cached_call, estimator,\n\u001b[0m\u001b[1;32m     88\u001b[0m                                       *args, **kwargs)\n\u001b[1;32m     89\u001b[0m             \u001b[0;32melse\u001b[0m\u001b[0;34m:\u001b[0m\u001b[0;34m\u001b[0m\u001b[0;34m\u001b[0m\u001b[0m\n",
      "\u001b[0;32m~/opt/anaconda3/lib/python3.8/site-packages/sklearn/metrics/_scorer.py\u001b[0m in \u001b[0;36m_score\u001b[0;34m(self, method_caller, clf, X, y, sample_weight)\u001b[0m\n\u001b[1;32m    312\u001b[0m \u001b[0;34m\u001b[0m\u001b[0m\n\u001b[1;32m    313\u001b[0m             \u001b[0;32mexcept\u001b[0m \u001b[0;34m(\u001b[0m\u001b[0mNotImplementedError\u001b[0m\u001b[0;34m,\u001b[0m \u001b[0mAttributeError\u001b[0m\u001b[0;34m)\u001b[0m\u001b[0;34m:\u001b[0m\u001b[0;34m\u001b[0m\u001b[0;34m\u001b[0m\u001b[0m\n\u001b[0;32m--> 314\u001b[0;31m                 \u001b[0my_pred\u001b[0m \u001b[0;34m=\u001b[0m \u001b[0mmethod_caller\u001b[0m\u001b[0;34m(\u001b[0m\u001b[0mclf\u001b[0m\u001b[0;34m,\u001b[0m \u001b[0;34m\"predict_proba\"\u001b[0m\u001b[0;34m,\u001b[0m \u001b[0mX\u001b[0m\u001b[0;34m)\u001b[0m\u001b[0;34m\u001b[0m\u001b[0;34m\u001b[0m\u001b[0m\n\u001b[0m\u001b[1;32m    315\u001b[0m \u001b[0;34m\u001b[0m\u001b[0m\n\u001b[1;32m    316\u001b[0m                 \u001b[0;32mif\u001b[0m \u001b[0my_type\u001b[0m \u001b[0;34m==\u001b[0m \u001b[0;34m\"binary\"\u001b[0m\u001b[0;34m:\u001b[0m\u001b[0;34m\u001b[0m\u001b[0;34m\u001b[0m\u001b[0m\n",
      "\u001b[0;32m~/opt/anaconda3/lib/python3.8/site-packages/sklearn/metrics/_scorer.py\u001b[0m in \u001b[0;36m_cached_call\u001b[0;34m(cache, estimator, method, *args, **kwargs)\u001b[0m\n\u001b[1;32m     51\u001b[0m     \u001b[0;34m\"\"\"Call estimator with method and args and kwargs.\"\"\"\u001b[0m\u001b[0;34m\u001b[0m\u001b[0;34m\u001b[0m\u001b[0m\n\u001b[1;32m     52\u001b[0m     \u001b[0;32mif\u001b[0m \u001b[0mcache\u001b[0m \u001b[0;32mis\u001b[0m \u001b[0;32mNone\u001b[0m\u001b[0;34m:\u001b[0m\u001b[0;34m\u001b[0m\u001b[0;34m\u001b[0m\u001b[0m\n\u001b[0;32m---> 53\u001b[0;31m         \u001b[0;32mreturn\u001b[0m \u001b[0mgetattr\u001b[0m\u001b[0;34m(\u001b[0m\u001b[0mestimator\u001b[0m\u001b[0;34m,\u001b[0m \u001b[0mmethod\u001b[0m\u001b[0;34m)\u001b[0m\u001b[0;34m(\u001b[0m\u001b[0;34m*\u001b[0m\u001b[0margs\u001b[0m\u001b[0;34m,\u001b[0m \u001b[0;34m**\u001b[0m\u001b[0mkwargs\u001b[0m\u001b[0;34m)\u001b[0m\u001b[0;34m\u001b[0m\u001b[0;34m\u001b[0m\u001b[0m\n\u001b[0m\u001b[1;32m     54\u001b[0m \u001b[0;34m\u001b[0m\u001b[0m\n\u001b[1;32m     55\u001b[0m     \u001b[0;32mtry\u001b[0m\u001b[0;34m:\u001b[0m\u001b[0;34m\u001b[0m\u001b[0;34m\u001b[0m\u001b[0m\n",
      "\u001b[0;32m~/opt/anaconda3/lib/python3.8/site-packages/tensorflow/python/keras/wrappers/scikit_learn.py\u001b[0m in \u001b[0;36mpredict_proba\u001b[0;34m(self, x, **kwargs)\u001b[0m\n\u001b[1;32m    262\u001b[0m     \"\"\"\n\u001b[1;32m    263\u001b[0m     \u001b[0mkwargs\u001b[0m \u001b[0;34m=\u001b[0m \u001b[0mself\u001b[0m\u001b[0;34m.\u001b[0m\u001b[0mfilter_sk_params\u001b[0m\u001b[0;34m(\u001b[0m\u001b[0mSequential\u001b[0m\u001b[0;34m.\u001b[0m\u001b[0mpredict_proba\u001b[0m\u001b[0;34m,\u001b[0m \u001b[0mkwargs\u001b[0m\u001b[0;34m)\u001b[0m\u001b[0;34m\u001b[0m\u001b[0;34m\u001b[0m\u001b[0m\n\u001b[0;32m--> 264\u001b[0;31m     \u001b[0mprobs\u001b[0m \u001b[0;34m=\u001b[0m \u001b[0mself\u001b[0m\u001b[0;34m.\u001b[0m\u001b[0mmodel\u001b[0m\u001b[0;34m.\u001b[0m\u001b[0mpredict_proba\u001b[0m\u001b[0;34m(\u001b[0m\u001b[0mx\u001b[0m\u001b[0;34m,\u001b[0m \u001b[0;34m**\u001b[0m\u001b[0mkwargs\u001b[0m\u001b[0;34m)\u001b[0m\u001b[0;34m\u001b[0m\u001b[0;34m\u001b[0m\u001b[0m\n\u001b[0m\u001b[1;32m    265\u001b[0m \u001b[0;34m\u001b[0m\u001b[0m\n\u001b[1;32m    266\u001b[0m     \u001b[0;31m# check if binary classification\u001b[0m\u001b[0;34m\u001b[0m\u001b[0;34m\u001b[0m\u001b[0;34m\u001b[0m\u001b[0m\n",
      "\u001b[0;31mAttributeError\u001b[0m: 'Functional' object has no attribute 'predict_proba'"
     ]
    }
   ],
   "source": [
    "# make classifier\n",
    "covid_test_model = KerasClassifier(\n",
    "    build_fn=create_model,\n",
    "    lr=0.001,\n",
    "    do=0.2,\n",
    "    layer_size=1024,\n",
    "    num_classes=2\n",
    ")\n",
    "\n",
    "# random search http://ethen8181.github.io/machine-learning/keras/nn_keras_hyperparameter_tuning.html\n",
    "learning_rates = [0.0001, 0.0005, 0.001, 0.005, 0.01]\n",
    "dropout_rates = [0, .1, .2, .3, .4, .5, .6, .7, .8, .9]\n",
    "dif_layers = [32, 64, 128, 256, 512, 1024]\n",
    "distributions = dict(layer_size=dif_layers, \n",
    "                     do=dropout_rates, \n",
    "                     lr=learning_rates)\n",
    "\n",
    "clf = RandomizedSearchCV(covid_test_model, distributions, random_state=0, n_jobs=None, \n",
    "                         scoring=\"roc_auc\", verbose=10, cv=2)\n",
    "search = clf.fit(cp_images, cp['target'])\n",
    "search.best_params_"
   ]
  },
  {
   "cell_type": "code",
   "execution_count": 45,
   "metadata": {},
   "outputs": [],
   "source": [
    "lr = 0.001\n",
    "do = 0.2\n",
    "bs = 16\n",
    "threshold = 0.5\n",
    "\n",
    "\n",
    "# early stopping\n",
    "callbacks = [\n",
    "    tf.keras.callbacks.EarlyStopping(\n",
    "        monitor=\"val_loss\",\n",
    "        min_delta=0.01,\n",
    "        patience=2,\n",
    "        verbose=1\n",
    "    )\n",
    "]  "
   ]
  },
  {
   "cell_type": "markdown",
   "metadata": {},
   "source": [
    "# Part 1: VGG19 No Augmentation"
   ]
  },
  {
   "cell_type": "markdown",
   "metadata": {},
   "source": [
    "## 1. COVID/Healthy"
   ]
  },
  {
   "cell_type": "code",
   "execution_count": 30,
   "metadata": {},
   "outputs": [
    {
     "ename": "KeyboardInterrupt",
     "evalue": "",
     "output_type": "error",
     "traceback": [
      "\u001b[0;31m---------------------------------------------------------------------------\u001b[0m",
      "\u001b[0;31mKeyboardInterrupt\u001b[0m                         Traceback (most recent call last)",
      "\u001b[0;32m<ipython-input-30-db097667f4d8>\u001b[0m in \u001b[0;36m<module>\u001b[0;34m\u001b[0m\n\u001b[0;32m----> 1\u001b[0;31m \u001b[0mch_images\u001b[0m \u001b[0;34m=\u001b[0m \u001b[0mnormalize_images\u001b[0m\u001b[0;34m(\u001b[0m\u001b[0mch\u001b[0m\u001b[0;34m,\u001b[0m \u001b[0;34m\"all_images/\"\u001b[0m\u001b[0;34m)\u001b[0m\u001b[0;34m\u001b[0m\u001b[0;34m\u001b[0m\u001b[0m\n\u001b[0m",
      "\u001b[0;32m<ipython-input-3-647296464cd2>\u001b[0m in \u001b[0;36mnormalize_images\u001b[0;34m(d, curr_dir)\u001b[0m\n\u001b[1;32m      9\u001b[0m \u001b[0;34m\u001b[0m\u001b[0m\n\u001b[1;32m     10\u001b[0m         \u001b[0;31m# resize image shape\u001b[0m\u001b[0;34m\u001b[0m\u001b[0;34m\u001b[0m\u001b[0;34m\u001b[0m\u001b[0m\n\u001b[0;32m---> 11\u001b[0;31m         \u001b[0mimage\u001b[0m \u001b[0;34m=\u001b[0m \u001b[0mimage\u001b[0m\u001b[0;34m.\u001b[0m\u001b[0mresize\u001b[0m\u001b[0;34m(\u001b[0m\u001b[0;34m(\u001b[0m\u001b[0mimg_dim\u001b[0m\u001b[0;34m,\u001b[0m \u001b[0mimg_dim\u001b[0m\u001b[0;34m)\u001b[0m\u001b[0;34m)\u001b[0m\u001b[0;34m\u001b[0m\u001b[0;34m\u001b[0m\u001b[0m\n\u001b[0m\u001b[1;32m     12\u001b[0m \u001b[0;34m\u001b[0m\u001b[0m\n\u001b[1;32m     13\u001b[0m         \u001b[0;31m# convert to grayscale\u001b[0m\u001b[0;34m\u001b[0m\u001b[0;34m\u001b[0m\u001b[0;34m\u001b[0m\u001b[0m\n",
      "\u001b[0;32m~/opt/anaconda3/lib/python3.8/site-packages/PIL/Image.py\u001b[0m in \u001b[0;36mresize\u001b[0;34m(self, size, resample, box, reducing_gap)\u001b[0m\n\u001b[1;32m   1927\u001b[0m                 )\n\u001b[1;32m   1928\u001b[0m \u001b[0;34m\u001b[0m\u001b[0m\n\u001b[0;32m-> 1929\u001b[0;31m         \u001b[0;32mreturn\u001b[0m \u001b[0mself\u001b[0m\u001b[0;34m.\u001b[0m\u001b[0m_new\u001b[0m\u001b[0;34m(\u001b[0m\u001b[0mself\u001b[0m\u001b[0;34m.\u001b[0m\u001b[0mim\u001b[0m\u001b[0;34m.\u001b[0m\u001b[0mresize\u001b[0m\u001b[0;34m(\u001b[0m\u001b[0msize\u001b[0m\u001b[0;34m,\u001b[0m \u001b[0mresample\u001b[0m\u001b[0;34m,\u001b[0m \u001b[0mbox\u001b[0m\u001b[0;34m)\u001b[0m\u001b[0;34m)\u001b[0m\u001b[0;34m\u001b[0m\u001b[0;34m\u001b[0m\u001b[0m\n\u001b[0m\u001b[1;32m   1930\u001b[0m \u001b[0;34m\u001b[0m\u001b[0m\n\u001b[1;32m   1931\u001b[0m     \u001b[0;32mdef\u001b[0m \u001b[0mreduce\u001b[0m\u001b[0;34m(\u001b[0m\u001b[0mself\u001b[0m\u001b[0;34m,\u001b[0m \u001b[0mfactor\u001b[0m\u001b[0;34m,\u001b[0m \u001b[0mbox\u001b[0m\u001b[0;34m=\u001b[0m\u001b[0;32mNone\u001b[0m\u001b[0;34m)\u001b[0m\u001b[0;34m:\u001b[0m\u001b[0;34m\u001b[0m\u001b[0;34m\u001b[0m\u001b[0m\n",
      "\u001b[0;31mKeyboardInterrupt\u001b[0m: "
     ]
    }
   ],
   "source": [
    "ch_images = normalize_images(ch, \"all_images/\")"
   ]
  },
  {
   "cell_type": "code",
   "execution_count": null,
   "metadata": {},
   "outputs": [],
   "source": [
    "chx_train, chy_train, chx_val, chy_val, chx_test, chy_test = split_data(ch_images, ch['target'], .2)"
   ]
  },
  {
   "cell_type": "code",
   "execution_count": null,
   "metadata": {},
   "outputs": [],
   "source": [
    "ch_model = create_model(num_classes=2)\n",
    "\n",
    "ch_history = ch_model.fit(chx_train, np.asarray(chy_train), epochs=10,\n",
    "                               validation_data=(chx_val, chy_val),\n",
    "                               batch_size=bs,\n",
    "                               callbacks=callbacks\n",
    "                               )"
   ]
  },
  {
   "cell_type": "code",
   "execution_count": null,
   "metadata": {},
   "outputs": [],
   "source": [
    "# save model\n",
    "cp_model.save('models/ch_model')"
   ]
  },
  {
   "cell_type": "code",
   "execution_count": null,
   "metadata": {},
   "outputs": [],
   "source": [
    "chy_pred = ch_model.predict(chx_test)"
   ]
  },
  {
   "cell_type": "code",
   "execution_count": 147,
   "metadata": {},
   "outputs": [],
   "source": [
    "chy_pred_norm = convert_pred(chy_pred, threshold)"
   ]
  },
  {
   "cell_type": "code",
   "execution_count": 107,
   "metadata": {},
   "outputs": [
    {
     "name": "stdout",
     "output_type": "stream",
     "text": [
      "              precision    recall  f1-score   support\n",
      "\n",
      "           0       1.00      0.99      0.99       315\n",
      "           1       0.96      0.99      0.98       103\n",
      "\n",
      "    accuracy                           0.99       418\n",
      "   macro avg       0.98      0.99      0.98       418\n",
      "weighted avg       0.99      0.99      0.99       418\n",
      "\n"
     ]
    }
   ],
   "source": [
    "print(classification_report(chy_test, chy_pred_norm))"
   ]
  },
  {
   "cell_type": "code",
   "execution_count": 191,
   "metadata": {},
   "outputs": [
    {
     "data": {
      "image/png": "[encoded data removed]",
      "text/plain": [
       "<Figure size 432x288 with 2 Axes>"
      ]
     },
     "metadata": {
      "needs_background": "light"
     },
     "output_type": "display_data"
    }
   ],
   "source": [
    "plot_cm(chy_test, chy_pred_norm, \"Healthy(0)/COVID(1)\")"
   ]
  },
  {
   "cell_type": "code",
   "execution_count": 192,
   "metadata": {},
   "outputs": [
    {
     "data": {
      "image/png": "[encoded data removed]",
      "text/plain": [
       "<Figure size 432x288 with 1 Axes>"
      ]
     },
     "metadata": {
      "needs_background": "light"
     },
     "output_type": "display_data"
    }
   ],
   "source": [
    "plot_ROC(chy_test, chy_pred, \"COVID/Healthy - VGG19\")"
   ]
  },
  {
   "cell_type": "code",
   "execution_count": 193,
   "metadata": {},
   "outputs": [
    {
     "data": {
      "image/png": "[encoded data removed]",
      "text/plain": [
       "<Figure size 432x288 with 1 Axes>"
      ]
     },
     "metadata": {
      "needs_background": "light"
     },
     "output_type": "display_data"
    }
   ],
   "source": [
    "plot_pr(chy_test, chy_pred, \"COVID/Healthy\")"
   ]
  },
  {
   "cell_type": "markdown",
   "metadata": {},
   "source": [
    "## 2. COVID/Pneumonia"
   ]
  },
  {
   "cell_type": "code",
   "execution_count": 48,
   "metadata": {},
   "outputs": [],
   "source": [
    "cp_images = normalize_images(cp, \"all_images/\")"
   ]
  },
  {
   "cell_type": "code",
   "execution_count": 56,
   "metadata": {},
   "outputs": [],
   "source": [
    "cpx_train, cpy_train, cpx_val, cpy_val, cpx_test, cpy_test = split_data(cp_images, cp['target'], .2)"
   ]
  },
  {
   "cell_type": "code",
   "execution_count": 57,
   "metadata": {},
   "outputs": [],
   "source": [
    "cp_model = create_model(2)"
   ]
  },
  {
   "cell_type": "code",
   "execution_count": 58,
   "metadata": {},
   "outputs": [
    {
     "name": "stdout",
     "output_type": "stream",
     "text": [
      "Epoch 1/10\n",
      " 66/191 [=========>....................] - ETA: 4:02 - loss: 1.0716 - recall_3: 0.6870 - precision_3: 0.6583"
     ]
    },
    {
     "ename": "KeyboardInterrupt",
     "evalue": "",
     "output_type": "error",
     "traceback": [
      "\u001b[0;31m---------------------------------------------------------------------------\u001b[0m",
      "\u001b[0;31mKeyboardInterrupt\u001b[0m                         Traceback (most recent call last)",
      "\u001b[0;32m<ipython-input-58-f7e5de8d8d71>\u001b[0m in \u001b[0;36m<module>\u001b[0;34m\u001b[0m\n\u001b[0;32m----> 1\u001b[0;31m cp_history = cp_model.fit(cpx_train, np.asarray(cpy_train), epochs=10,\n\u001b[0m\u001b[1;32m      2\u001b[0m                                \u001b[0mvalidation_data\u001b[0m\u001b[0;34m=\u001b[0m\u001b[0;34m(\u001b[0m\u001b[0mcpx_val\u001b[0m\u001b[0;34m,\u001b[0m \u001b[0mcpy_val\u001b[0m\u001b[0;34m)\u001b[0m\u001b[0;34m,\u001b[0m\u001b[0;34m\u001b[0m\u001b[0;34m\u001b[0m\u001b[0m\n\u001b[1;32m      3\u001b[0m                                \u001b[0mbatch_size\u001b[0m\u001b[0;34m=\u001b[0m\u001b[0mbs\u001b[0m\u001b[0;34m,\u001b[0m\u001b[0;34m\u001b[0m\u001b[0;34m\u001b[0m\u001b[0m\n\u001b[1;32m      4\u001b[0m                                \u001b[0mcallbacks\u001b[0m\u001b[0;34m=\u001b[0m\u001b[0mcallbacks\u001b[0m\u001b[0;34m\u001b[0m\u001b[0;34m\u001b[0m\u001b[0m\n\u001b[1;32m      5\u001b[0m                                )\n",
      "\u001b[0;32m~/opt/anaconda3/lib/python3.8/site-packages/tensorflow/python/keras/engine/training.py\u001b[0m in \u001b[0;36m_method_wrapper\u001b[0;34m(self, *args, **kwargs)\u001b[0m\n\u001b[1;32m    106\u001b[0m   \u001b[0;32mdef\u001b[0m \u001b[0m_method_wrapper\u001b[0m\u001b[0;34m(\u001b[0m\u001b[0mself\u001b[0m\u001b[0;34m,\u001b[0m \u001b[0;34m*\u001b[0m\u001b[0margs\u001b[0m\u001b[0;34m,\u001b[0m \u001b[0;34m**\u001b[0m\u001b[0mkwargs\u001b[0m\u001b[0;34m)\u001b[0m\u001b[0;34m:\u001b[0m\u001b[0;34m\u001b[0m\u001b[0;34m\u001b[0m\u001b[0m\n\u001b[1;32m    107\u001b[0m     \u001b[0;32mif\u001b[0m \u001b[0;32mnot\u001b[0m \u001b[0mself\u001b[0m\u001b[0;34m.\u001b[0m\u001b[0m_in_multi_worker_mode\u001b[0m\u001b[0;34m(\u001b[0m\u001b[0;34m)\u001b[0m\u001b[0;34m:\u001b[0m  \u001b[0;31m# pylint: disable=protected-access\u001b[0m\u001b[0;34m\u001b[0m\u001b[0;34m\u001b[0m\u001b[0m\n\u001b[0;32m--> 108\u001b[0;31m       \u001b[0;32mreturn\u001b[0m \u001b[0mmethod\u001b[0m\u001b[0;34m(\u001b[0m\u001b[0mself\u001b[0m\u001b[0;34m,\u001b[0m \u001b[0;34m*\u001b[0m\u001b[0margs\u001b[0m\u001b[0;34m,\u001b[0m \u001b[0;34m**\u001b[0m\u001b[0mkwargs\u001b[0m\u001b[0;34m)\u001b[0m\u001b[0;34m\u001b[0m\u001b[0;34m\u001b[0m\u001b[0m\n\u001b[0m\u001b[1;32m    109\u001b[0m \u001b[0;34m\u001b[0m\u001b[0m\n\u001b[1;32m    110\u001b[0m     \u001b[0;31m# Running inside `run_distribute_coordinator` already.\u001b[0m\u001b[0;34m\u001b[0m\u001b[0;34m\u001b[0m\u001b[0;34m\u001b[0m\u001b[0m\n",
      "\u001b[0;32m~/opt/anaconda3/lib/python3.8/site-packages/tensorflow/python/keras/engine/training.py\u001b[0m in \u001b[0;36mfit\u001b[0;34m(self, x, y, batch_size, epochs, verbose, callbacks, validation_split, validation_data, shuffle, class_weight, sample_weight, initial_epoch, steps_per_epoch, validation_steps, validation_batch_size, validation_freq, max_queue_size, workers, use_multiprocessing)\u001b[0m\n\u001b[1;32m   1096\u001b[0m                 batch_size=batch_size):\n\u001b[1;32m   1097\u001b[0m               \u001b[0mcallbacks\u001b[0m\u001b[0;34m.\u001b[0m\u001b[0mon_train_batch_begin\u001b[0m\u001b[0;34m(\u001b[0m\u001b[0mstep\u001b[0m\u001b[0;34m)\u001b[0m\u001b[0;34m\u001b[0m\u001b[0;34m\u001b[0m\u001b[0m\n\u001b[0;32m-> 1098\u001b[0;31m               \u001b[0mtmp_logs\u001b[0m \u001b[0;34m=\u001b[0m \u001b[0mtrain_function\u001b[0m\u001b[0;34m(\u001b[0m\u001b[0miterator\u001b[0m\u001b[0;34m)\u001b[0m\u001b[0;34m\u001b[0m\u001b[0;34m\u001b[0m\u001b[0m\n\u001b[0m\u001b[1;32m   1099\u001b[0m               \u001b[0;32mif\u001b[0m \u001b[0mdata_handler\u001b[0m\u001b[0;34m.\u001b[0m\u001b[0mshould_sync\u001b[0m\u001b[0;34m:\u001b[0m\u001b[0;34m\u001b[0m\u001b[0;34m\u001b[0m\u001b[0m\n\u001b[1;32m   1100\u001b[0m                 \u001b[0mcontext\u001b[0m\u001b[0;34m.\u001b[0m\u001b[0masync_wait\u001b[0m\u001b[0;34m(\u001b[0m\u001b[0;34m)\u001b[0m\u001b[0;34m\u001b[0m\u001b[0;34m\u001b[0m\u001b[0m\n",
      "\u001b[0;32m~/opt/anaconda3/lib/python3.8/site-packages/tensorflow/python/eager/def_function.py\u001b[0m in \u001b[0;36m__call__\u001b[0;34m(self, *args, **kwds)\u001b[0m\n\u001b[1;32m    778\u001b[0m       \u001b[0;32melse\u001b[0m\u001b[0;34m:\u001b[0m\u001b[0;34m\u001b[0m\u001b[0;34m\u001b[0m\u001b[0m\n\u001b[1;32m    779\u001b[0m         \u001b[0mcompiler\u001b[0m \u001b[0;34m=\u001b[0m \u001b[0;34m\"nonXla\"\u001b[0m\u001b[0;34m\u001b[0m\u001b[0;34m\u001b[0m\u001b[0m\n\u001b[0;32m--> 780\u001b[0;31m         \u001b[0mresult\u001b[0m \u001b[0;34m=\u001b[0m \u001b[0mself\u001b[0m\u001b[0;34m.\u001b[0m\u001b[0m_call\u001b[0m\u001b[0;34m(\u001b[0m\u001b[0;34m*\u001b[0m\u001b[0margs\u001b[0m\u001b[0;34m,\u001b[0m \u001b[0;34m**\u001b[0m\u001b[0mkwds\u001b[0m\u001b[0;34m)\u001b[0m\u001b[0;34m\u001b[0m\u001b[0;34m\u001b[0m\u001b[0m\n\u001b[0m\u001b[1;32m    781\u001b[0m \u001b[0;34m\u001b[0m\u001b[0m\n\u001b[1;32m    782\u001b[0m       \u001b[0mnew_tracing_count\u001b[0m \u001b[0;34m=\u001b[0m \u001b[0mself\u001b[0m\u001b[0;34m.\u001b[0m\u001b[0m_get_tracing_count\u001b[0m\u001b[0;34m(\u001b[0m\u001b[0;34m)\u001b[0m\u001b[0;34m\u001b[0m\u001b[0;34m\u001b[0m\u001b[0m\n",
      "\u001b[0;32m~/opt/anaconda3/lib/python3.8/site-packages/tensorflow/python/eager/def_function.py\u001b[0m in \u001b[0;36m_call\u001b[0;34m(self, *args, **kwds)\u001b[0m\n\u001b[1;32m    805\u001b[0m       \u001b[0;31m# In this case we have created variables on the first call, so we run the\u001b[0m\u001b[0;34m\u001b[0m\u001b[0;34m\u001b[0m\u001b[0;34m\u001b[0m\u001b[0m\n\u001b[1;32m    806\u001b[0m       \u001b[0;31m# defunned version which is guaranteed to never create variables.\u001b[0m\u001b[0;34m\u001b[0m\u001b[0;34m\u001b[0m\u001b[0;34m\u001b[0m\u001b[0m\n\u001b[0;32m--> 807\u001b[0;31m       \u001b[0;32mreturn\u001b[0m \u001b[0mself\u001b[0m\u001b[0;34m.\u001b[0m\u001b[0m_stateless_fn\u001b[0m\u001b[0;34m(\u001b[0m\u001b[0;34m*\u001b[0m\u001b[0margs\u001b[0m\u001b[0;34m,\u001b[0m \u001b[0;34m**\u001b[0m\u001b[0mkwds\u001b[0m\u001b[0;34m)\u001b[0m  \u001b[0;31m# pylint: disable=not-callable\u001b[0m\u001b[0;34m\u001b[0m\u001b[0;34m\u001b[0m\u001b[0m\n\u001b[0m\u001b[1;32m    808\u001b[0m     \u001b[0;32melif\u001b[0m \u001b[0mself\u001b[0m\u001b[0;34m.\u001b[0m\u001b[0m_stateful_fn\u001b[0m \u001b[0;32mis\u001b[0m \u001b[0;32mnot\u001b[0m \u001b[0;32mNone\u001b[0m\u001b[0;34m:\u001b[0m\u001b[0;34m\u001b[0m\u001b[0;34m\u001b[0m\u001b[0m\n\u001b[1;32m    809\u001b[0m       \u001b[0;31m# Release the lock early so that multiple threads can perform the call\u001b[0m\u001b[0;34m\u001b[0m\u001b[0;34m\u001b[0m\u001b[0;34m\u001b[0m\u001b[0m\n",
      "\u001b[0;32m~/opt/anaconda3/lib/python3.8/site-packages/tensorflow/python/eager/function.py\u001b[0m in \u001b[0;36m__call__\u001b[0;34m(self, *args, **kwargs)\u001b[0m\n\u001b[1;32m   2827\u001b[0m     \u001b[0;32mwith\u001b[0m \u001b[0mself\u001b[0m\u001b[0;34m.\u001b[0m\u001b[0m_lock\u001b[0m\u001b[0;34m:\u001b[0m\u001b[0;34m\u001b[0m\u001b[0;34m\u001b[0m\u001b[0m\n\u001b[1;32m   2828\u001b[0m       \u001b[0mgraph_function\u001b[0m\u001b[0;34m,\u001b[0m \u001b[0margs\u001b[0m\u001b[0;34m,\u001b[0m \u001b[0mkwargs\u001b[0m \u001b[0;34m=\u001b[0m \u001b[0mself\u001b[0m\u001b[0;34m.\u001b[0m\u001b[0m_maybe_define_function\u001b[0m\u001b[0;34m(\u001b[0m\u001b[0margs\u001b[0m\u001b[0;34m,\u001b[0m \u001b[0mkwargs\u001b[0m\u001b[0;34m)\u001b[0m\u001b[0;34m\u001b[0m\u001b[0;34m\u001b[0m\u001b[0m\n\u001b[0;32m-> 2829\u001b[0;31m     \u001b[0;32mreturn\u001b[0m \u001b[0mgraph_function\u001b[0m\u001b[0;34m.\u001b[0m\u001b[0m_filtered_call\u001b[0m\u001b[0;34m(\u001b[0m\u001b[0margs\u001b[0m\u001b[0;34m,\u001b[0m \u001b[0mkwargs\u001b[0m\u001b[0;34m)\u001b[0m  \u001b[0;31m# pylint: disable=protected-access\u001b[0m\u001b[0;34m\u001b[0m\u001b[0;34m\u001b[0m\u001b[0m\n\u001b[0m\u001b[1;32m   2830\u001b[0m \u001b[0;34m\u001b[0m\u001b[0m\n\u001b[1;32m   2831\u001b[0m   \u001b[0;34m@\u001b[0m\u001b[0mproperty\u001b[0m\u001b[0;34m\u001b[0m\u001b[0;34m\u001b[0m\u001b[0m\n",
      "\u001b[0;32m~/opt/anaconda3/lib/python3.8/site-packages/tensorflow/python/eager/function.py\u001b[0m in \u001b[0;36m_filtered_call\u001b[0;34m(self, args, kwargs, cancellation_manager)\u001b[0m\n\u001b[1;32m   1841\u001b[0m       \u001b[0;31m`\u001b[0m\u001b[0margs\u001b[0m\u001b[0;31m`\u001b[0m \u001b[0;32mand\u001b[0m\u001b[0;31m \u001b[0m\u001b[0;31m`\u001b[0m\u001b[0mkwargs\u001b[0m\u001b[0;31m`\u001b[0m\u001b[0;34m.\u001b[0m\u001b[0;34m\u001b[0m\u001b[0;34m\u001b[0m\u001b[0m\n\u001b[1;32m   1842\u001b[0m     \"\"\"\n\u001b[0;32m-> 1843\u001b[0;31m     return self._call_flat(\n\u001b[0m\u001b[1;32m   1844\u001b[0m         [t for t in nest.flatten((args, kwargs), expand_composites=True)\n\u001b[1;32m   1845\u001b[0m          if isinstance(t, (ops.Tensor,\n",
      "\u001b[0;32m~/opt/anaconda3/lib/python3.8/site-packages/tensorflow/python/eager/function.py\u001b[0m in \u001b[0;36m_call_flat\u001b[0;34m(self, args, captured_inputs, cancellation_manager)\u001b[0m\n\u001b[1;32m   1921\u001b[0m         and executing_eagerly):\n\u001b[1;32m   1922\u001b[0m       \u001b[0;31m# No tape is watching; skip to running the function.\u001b[0m\u001b[0;34m\u001b[0m\u001b[0;34m\u001b[0m\u001b[0;34m\u001b[0m\u001b[0m\n\u001b[0;32m-> 1923\u001b[0;31m       return self._build_call_outputs(self._inference_function.call(\n\u001b[0m\u001b[1;32m   1924\u001b[0m           ctx, args, cancellation_manager=cancellation_manager))\n\u001b[1;32m   1925\u001b[0m     forward_backward = self._select_forward_and_backward_functions(\n",
      "\u001b[0;32m~/opt/anaconda3/lib/python3.8/site-packages/tensorflow/python/eager/function.py\u001b[0m in \u001b[0;36mcall\u001b[0;34m(self, ctx, args, cancellation_manager)\u001b[0m\n\u001b[1;32m    543\u001b[0m       \u001b[0;32mwith\u001b[0m \u001b[0m_InterpolateFunctionError\u001b[0m\u001b[0;34m(\u001b[0m\u001b[0mself\u001b[0m\u001b[0;34m)\u001b[0m\u001b[0;34m:\u001b[0m\u001b[0;34m\u001b[0m\u001b[0;34m\u001b[0m\u001b[0m\n\u001b[1;32m    544\u001b[0m         \u001b[0;32mif\u001b[0m \u001b[0mcancellation_manager\u001b[0m \u001b[0;32mis\u001b[0m \u001b[0;32mNone\u001b[0m\u001b[0;34m:\u001b[0m\u001b[0;34m\u001b[0m\u001b[0;34m\u001b[0m\u001b[0m\n\u001b[0;32m--> 545\u001b[0;31m           outputs = execute.execute(\n\u001b[0m\u001b[1;32m    546\u001b[0m               \u001b[0mstr\u001b[0m\u001b[0;34m(\u001b[0m\u001b[0mself\u001b[0m\u001b[0;34m.\u001b[0m\u001b[0msignature\u001b[0m\u001b[0;34m.\u001b[0m\u001b[0mname\u001b[0m\u001b[0;34m)\u001b[0m\u001b[0;34m,\u001b[0m\u001b[0;34m\u001b[0m\u001b[0;34m\u001b[0m\u001b[0m\n\u001b[1;32m    547\u001b[0m               \u001b[0mnum_outputs\u001b[0m\u001b[0;34m=\u001b[0m\u001b[0mself\u001b[0m\u001b[0;34m.\u001b[0m\u001b[0m_num_outputs\u001b[0m\u001b[0;34m,\u001b[0m\u001b[0;34m\u001b[0m\u001b[0;34m\u001b[0m\u001b[0m\n",
      "\u001b[0;32m~/opt/anaconda3/lib/python3.8/site-packages/tensorflow/python/eager/execute.py\u001b[0m in \u001b[0;36mquick_execute\u001b[0;34m(op_name, num_outputs, inputs, attrs, ctx, name)\u001b[0m\n\u001b[1;32m     57\u001b[0m   \u001b[0;32mtry\u001b[0m\u001b[0;34m:\u001b[0m\u001b[0;34m\u001b[0m\u001b[0;34m\u001b[0m\u001b[0m\n\u001b[1;32m     58\u001b[0m     \u001b[0mctx\u001b[0m\u001b[0;34m.\u001b[0m\u001b[0mensure_initialized\u001b[0m\u001b[0;34m(\u001b[0m\u001b[0;34m)\u001b[0m\u001b[0;34m\u001b[0m\u001b[0;34m\u001b[0m\u001b[0m\n\u001b[0;32m---> 59\u001b[0;31m     tensors = pywrap_tfe.TFE_Py_Execute(ctx._handle, device_name, op_name,\n\u001b[0m\u001b[1;32m     60\u001b[0m                                         inputs, attrs, num_outputs)\n\u001b[1;32m     61\u001b[0m   \u001b[0;32mexcept\u001b[0m \u001b[0mcore\u001b[0m\u001b[0;34m.\u001b[0m\u001b[0m_NotOkStatusException\u001b[0m \u001b[0;32mas\u001b[0m \u001b[0me\u001b[0m\u001b[0;34m:\u001b[0m\u001b[0;34m\u001b[0m\u001b[0;34m\u001b[0m\u001b[0m\n",
      "\u001b[0;31mKeyboardInterrupt\u001b[0m: "
     ]
    }
   ],
   "source": [
    "cp_history = cp_model.fit(cpx_train, np.asarray(cpy_train), epochs=10,\n",
    "                               validation_data=(cpx_val, cpy_val),\n",
    "                               batch_size=bs,\n",
    "                               callbacks=callbacks\n",
    "                               )"
   ]
  },
  {
   "cell_type": "code",
   "execution_count": 51,
   "metadata": {},
   "outputs": [
    {
     "name": "stdout",
     "output_type": "stream",
     "text": [
      "Epoch 1/10\n",
      "96/96 [==============================] - 349s 4s/step - loss: 1.0067 - recall_9: 0.7382 - precision_9: 0.7267 - val_loss: 0.0266 - val_recall_9: 0.9756 - val_precision_9: 0.9524\n",
      "Epoch 2/10\n",
      "96/96 [==============================] - 355s 4s/step - loss: 0.0260 - recall_9: 0.9527 - precision_9: 0.9618 - val_loss: 0.0255 - val_recall_9: 0.9390 - val_precision_9: 0.9872\n",
      "Epoch 00002: early stopping\n"
     ]
    }
   ],
   "source": [
    "cp_history = cp_model.fit(cpx_train, np.asarray(cpy_train), epochs=10,\n",
    "                               validation_data=(cpx_val, cpy_val),\n",
    "                               batch_size=bs,\n",
    "                               callbacks=callbacks\n",
    "                               )"
   ]
  },
  {
   "cell_type": "code",
   "execution_count": null,
   "metadata": {},
   "outputs": [],
   "source": [
    "# save model\n",
    "ch_model.save('models/cp_model')"
   ]
  },
  {
   "cell_type": "code",
   "execution_count": 54,
   "metadata": {},
   "outputs": [],
   "source": [
    "cpy_pred = cp_model.predict(cpx_test)"
   ]
  },
  {
   "cell_type": "code",
   "execution_count": 55,
   "metadata": {},
   "outputs": [],
   "source": [
    "cpy_pred_norm = convert_pred(cpy_pred, threshold)"
   ]
  },
  {
   "cell_type": "code",
   "execution_count": 56,
   "metadata": {},
   "outputs": [
    {
     "name": "stdout",
     "output_type": "stream",
     "text": [
      "              precision    recall  f1-score   support\n",
      "\n",
      "           0       1.00      1.00      1.00       851\n",
      "           1       0.99      0.97      0.98       105\n",
      "\n",
      "    accuracy                           1.00       956\n",
      "   macro avg       0.99      0.99      0.99       956\n",
      "weighted avg       1.00      1.00      1.00       956\n",
      "\n"
     ]
    }
   ],
   "source": [
    "print(classification_report(cpy_test, cpy_pred_norm))"
   ]
  },
  {
   "cell_type": "code",
   "execution_count": 64,
   "metadata": {},
   "outputs": [
    {
     "data": {
      "image/png": "[encoded data removed]",
      "text/plain": [
       "<Figure size 432x288 with 2 Axes>"
      ]
     },
     "metadata": {
      "needs_background": "light"
     },
     "output_type": "display_data"
    }
   ],
   "source": [
    "plot_cm(cpy_test, cpy_pred_norm, \"Pneumonia(0)/COVID(1) - VGG19\")"
   ]
  },
  {
   "cell_type": "code",
   "execution_count": 194,
   "metadata": {},
   "outputs": [
    {
     "data": {
      "image/png": "[encoded data removed]",
      "text/plain": [
       "<Figure size 432x288 with 2 Axes>"
      ]
     },
     "metadata": {
      "needs_background": "light"
     },
     "output_type": "display_data"
    }
   ],
   "source": []
  },
  {
   "cell_type": "code",
   "execution_count": 195,
   "metadata": {},
   "outputs": [
    {
     "data": {
      "image/png": "[encoded data removed]",
      "text/plain": [
       "<Figure size 432x288 with 1 Axes>"
      ]
     },
     "metadata": {
      "needs_background": "light"
     },
     "output_type": "display_data"
    }
   ],
   "source": [
    "plot_ROC(cpy_test, cpy_pred_norm.ravel(), \"COVID/Healthy - VGG19\")"
   ]
  },
  {
   "cell_type": "code",
   "execution_count": 196,
   "metadata": {},
   "outputs": [
    {
     "data": {
      "image/png": "[encoded data removed]",
      "text/plain": [
       "<Figure size 432x288 with 1 Axes>"
      ]
     },
     "metadata": {
      "needs_background": "light"
     },
     "output_type": "display_data"
    }
   ],
   "source": [
    "plot_pr(cpy_test, cpy_pred, \"COVID/Pneumonia\")"
   ]
  },
  {
   "cell_type": "markdown",
   "metadata": {},
   "source": [
    "## 3. COVID/Pnuemonia/Healthy"
   ]
  },
  {
   "cell_type": "code",
   "execution_count": 19,
   "metadata": {},
   "outputs": [],
   "source": [
    "cph_images = normalize_images(cph, \"all_images/\")"
   ]
  },
  {
   "cell_type": "code",
   "execution_count": 33,
   "metadata": {},
   "outputs": [],
   "source": [
    "cphx_train, cphy_train, cphx_val, cphy_val, cphx_test, cphy_test = split_data(cph_images, cph['target'], .2)"
   ]
  },
  {
   "cell_type": "code",
   "execution_count": 65,
   "metadata": {},
   "outputs": [
    {
     "name": "stdout",
     "output_type": "stream",
     "text": [
      "Epoch 1/10\n",
      "128/128 [==============================] - 455s 4s/step - loss: 1.0449 - accuracy: 0.8889 - val_loss: 0.1683 - val_accuracy: 0.9479\n",
      "Epoch 2/10\n",
      "128/128 [==============================] - 453s 4s/step - loss: 0.1548 - accuracy: 0.9563 - val_loss: 0.1634 - val_accuracy: 0.9499\n",
      "Epoch 3/10\n",
      "128/128 [==============================] - 449s 4s/step - loss: 0.1360 - accuracy: 0.9553 - val_loss: 0.1423 - val_accuracy: 0.9568\n",
      "Epoch 4/10\n",
      "128/128 [==============================] - 444s 3s/step - loss: 0.0711 - accuracy: 0.9749 - val_loss: 0.2388 - val_accuracy: 0.9411\n",
      "Epoch 5/10\n",
      "128/128 [==============================] - 415s 3s/step - loss: 0.0531 - accuracy: 0.9806 - val_loss: 0.1326 - val_accuracy: 0.9558\n",
      "Epoch 00005: early stopping\n"
     ]
    }
   ],
   "source": [
    "cph_model = create_model(3)\n",
    "\n",
    "cph_history = cph_model.fit(cphx_train, np.asarray(cphy_train), epochs=10,\n",
    "                               validation_data=(cphx_val, cphy_val),\n",
    "                               batch_size=bs,\n",
    "                               callbacks=callbacks\n",
    "                               )"
   ]
  },
  {
   "cell_type": "code",
   "execution_count": 75,
   "metadata": {},
   "outputs": [
    {
     "name": "stdout",
     "output_type": "stream",
     "text": [
      "Epoch 1/10\n",
      "128/128 [==============================] - 703s 5s/step - loss: 0.8853 - accuracy: 0.6649 - val_loss: 0.8658 - val_accuracy: 0.6857\n",
      "Epoch 2/10\n",
      "128/128 [==============================] - 666s 5s/step - loss: 0.8822 - accuracy: 0.6693 - val_loss: 0.8658 - val_accuracy: 0.6857\n",
      "Epoch 3/10\n",
      "128/128 [==============================] - 707s 6s/step - loss: 0.8822 - accuracy: 0.6693 - val_loss: 0.8658 - val_accuracy: 0.6857\n",
      "Epoch 00003: early stopping\n"
     ]
    }
   ],
   "source": [
    "# save model\n",
    "cph_model.save('models/cph_model')"
   ]
  },
  {
   "cell_type": "code",
   "execution_count": 66,
   "metadata": {},
   "outputs": [],
   "source": [
    "cphy_pred = cph_model.predict(cphx_test)"
   ]
  },
  {
   "cell_type": "code",
   "execution_count": 67,
   "metadata": {},
   "outputs": [
    {
     "name": "stdout",
     "output_type": "stream",
     "text": [
      "[2.3427291e-01 1.9874730e-07 7.6572686e-01]\n",
      "[1.0680363e-05 2.6940006e-10 9.9998927e-01]\n",
      "[0.00485693 0.00847831 0.9866648 ]\n",
      "[9.9839526e-01 2.0207784e-09 1.6047033e-03]\n",
      "[8.2819068e-05 3.2691787e-08 9.9991715e-01]\n",
      "[1.987981e-04 5.173966e-06 9.997961e-01]\n",
      "[1.9840003e-05 2.0799769e-06 9.9997807e-01]\n",
      "[2.7497260e-06 5.1115192e-09 9.9999726e-01]\n",
      "[9.9999261e-01 6.1773350e-11 7.4085524e-06]\n",
      "[8.364618e-05 6.283942e-08 9.999163e-01]\n",
      "[1.27632255e-02 3.96948309e-07 9.87236381e-01]\n",
      "[2.2756094e-06 3.1267945e-08 9.9999774e-01]\n",
      "[1.0052743e-02 1.3274823e-05 9.8993403e-01]\n",
      "[2.5393825e-02 2.3425009e-09 9.7460622e-01]\n",
      "[7.2520093e-06 5.0140489e-08 9.9999273e-01]\n",
      "[6.5584545e-06 3.8667491e-07 9.9999309e-01]\n",
      "[3.6147363e-02 9.6299982e-07 9.6385163e-01]\n",
      "[1.6879503e-04 6.4452493e-06 9.9982482e-01]\n",
      "[1.3800696e-06 3.6555849e-04 9.9963307e-01]\n",
      "[9.0105283e-01 5.2832142e-08 9.8947234e-02]\n",
      "[2.1558185e-06 2.4233241e-05 9.9997365e-01]\n",
      "[2.9882510e-06 2.5919452e-04 9.9973780e-01]\n",
      "[1.0000000e+00 1.2341283e-12 5.8388828e-08]\n",
      "[5.6770086e-01 1.1462551e-07 4.3229899e-01]\n",
      "[9.9999189e-01 5.9496616e-11 8.0705049e-06]\n",
      "[1.6840788e-05 6.5240840e-04 9.9933076e-01]\n",
      "[3.5508206e-01 1.6985132e-08 6.4491791e-01]\n",
      "[4.8654055e-04 2.3178013e-09 9.9951351e-01]\n",
      "[5.38620407e-06 1.10504494e-08 9.99994636e-01]\n",
      "[1.4347374e-03 5.8415750e-10 9.9856526e-01]\n",
      "[5.3857716e-06 1.6201173e-07 9.9999440e-01]\n",
      "[1.6205299e-04 3.4449744e-07 9.9983752e-01]\n",
      "[1.6790101e-03 1.0033374e-06 9.9831992e-01]\n",
      "[1.5311751e-03 1.2516795e-08 9.9846882e-01]\n",
      "[9.8739167e-07 4.3417011e-05 9.9995553e-01]\n",
      "[9.9999785e-01 1.4540416e-12 2.1046089e-06]\n",
      "[8.2616436e-01 5.6469089e-05 1.7377917e-01]\n",
      "[1.6752743e-04 2.4219998e-03 9.9741048e-01]\n",
      "[9.97610211e-01 1.17737955e-11 2.38979538e-03]\n",
      "[1.4946397e-04 9.1935181e-07 9.9984956e-01]\n",
      "[8.0599290e-05 6.2847215e-07 9.9991882e-01]\n",
      "[9.5802234e-06 1.3781536e-01 8.6217505e-01]\n",
      "[9.9763703e-01 1.6690733e-09 2.3629237e-03]\n",
      "[4.176686e-06 1.014165e-09 9.999958e-01]\n",
      "[1.9445829e-01 1.1533872e-05 8.0553019e-01]\n",
      "[0.07321037 0.07557172 0.8512179 ]\n",
      "[1.4106846e-05 3.0524423e-03 9.9693346e-01]\n",
      "[9.999436e-01 1.559859e-09 5.638442e-05]\n",
      "[1.5249171e-05 4.5301922e-04 9.9953175e-01]\n",
      "[3.3260888e-01 4.2853404e-05 6.6734821e-01]\n",
      "[9.7784388e-01 1.0123192e-07 2.2155948e-02]\n",
      "[4.4913972e-06 3.1051335e-03 9.9689037e-01]\n",
      "[1.2344968e-10 1.0000000e+00 1.0949967e-08]\n",
      "[7.1855304e-03 1.9151894e-06 9.9281257e-01]\n",
      "[9.8829019e-01 4.3647979e-09 1.1709773e-02]\n",
      "[8.7971275e-05 9.3724502e-06 9.9990261e-01]\n",
      "[3.7613485e-05 4.8803553e-04 9.9947435e-01]\n",
      "[9.9973971e-01 4.9425575e-10 2.6028420e-04]\n",
      "[1.6474187e-05 2.1649626e-05 9.9996185e-01]\n",
      "[1.5963380e-03 3.6405577e-06 9.9840003e-01]\n",
      "[1.0672641e-04 3.4348236e-04 9.9954981e-01]\n",
      "[5.7756028e-04 9.1131813e-09 9.9942243e-01]\n",
      "[3.3001925e-05 6.9058331e-08 9.9996698e-01]\n",
      "[9.9999475e-01 5.2110990e-13 5.1916331e-06]\n",
      "[9.9479854e-01 2.2269199e-10 5.2014394e-03]\n",
      "[3.3698793e-04 2.2851638e-04 9.9943453e-01]\n",
      "[9.9970192e-01 7.2247244e-09 2.9807750e-04]\n",
      "[9.999846e-01 5.888275e-10 1.539751e-05]\n",
      "[4.76043078e-06 1.39788535e-05 9.99981284e-01]\n",
      "[4.7855856e-06 9.9999487e-01 4.1169727e-07]\n",
      "[9.9986243e-01 5.9430067e-07 1.3693215e-04]\n",
      "[4.3996673e-07 2.0137730e-05 9.9997938e-01]\n",
      "[3.2108042e-01 1.2824553e-04 6.7879134e-01]\n",
      "[8.8824494e-09 9.9999988e-01 1.1317381e-07]\n",
      "[9.9999154e-01 2.5170808e-09 8.4817066e-06]\n",
      "[4.2166459e-04 9.2552806e-04 9.9865282e-01]\n",
      "[9.9972492e-01 1.9510200e-10 2.7508917e-04]\n",
      "[5.5541800e-06 3.5508685e-05 9.9995899e-01]\n",
      "[5.3580876e-05 8.0257468e-04 9.9914384e-01]\n",
      "[4.4820436e-06 4.0158006e-06 9.9999154e-01]\n",
      "[2.2457978e-05 1.4298708e-08 9.9997747e-01]\n",
      "[7.6232136e-05 2.3736787e-04 9.9968648e-01]\n",
      "[9.9991453e-01 2.4833474e-11 8.5429550e-05]\n",
      "[9.9998105e-01 4.9659743e-06 1.3988239e-05]\n",
      "[9.0545410e-07 3.1942577e-08 9.9999905e-01]\n",
      "[2.2502412e-04 5.0037966e-07 9.9977452e-01]\n",
      "[2.5803702e-06 4.5143682e-07 9.9999702e-01]\n",
      "[6.8702438e-04 1.7210597e-10 9.9931300e-01]\n",
      "[4.381595e-04 3.986799e-03 9.955751e-01]\n",
      "[0.00102746 0.9979278  0.00104476]\n",
      "[9.5674579e-07 1.1701218e-06 9.9999785e-01]\n",
      "[2.9032992e-04 1.6590281e-09 9.9970967e-01]\n",
      "[1.0513812e-05 2.2499888e-05 9.9996698e-01]\n",
      "[2.4088470e-07 1.9320038e-07 9.9999952e-01]\n",
      "[7.8408286e-02 1.6716015e-06 9.2159009e-01]\n",
      "[3.229904e-06 9.782627e-07 9.999958e-01]\n",
      "[9.9393189e-01 7.1480276e-06 6.0610748e-03]\n",
      "[9.9977130e-01 3.9524484e-06 2.2481663e-04]\n",
      "[2.0770804e-05 9.9404623e-08 9.9997914e-01]\n",
      "[3.8882989e-01 1.9519869e-06 6.1116815e-01]\n",
      "[2.8041896e-01 1.4321192e-05 7.1956670e-01]\n",
      "[9.6138620e-01 2.7137989e-07 3.8613543e-02]\n",
      "[9.9998415e-01 9.2379821e-07 1.4903647e-05]\n",
      "[9.9987447e-01 4.0236792e-08 1.2549094e-04]\n",
      "[2.3197443e-05 3.9544676e-07 9.9997640e-01]\n",
      "[7.6057775e-05 4.7310701e-04 9.9945086e-01]\n",
      "[5.5901087e-06 5.9723568e-08 9.9999440e-01]\n",
      "[4.8587445e-08 9.9934441e-01 6.5560982e-04]\n",
      "[2.6955086e-06 6.4399325e-07 9.9999666e-01]\n",
      "[7.0020766e-04 7.0251888e-05 9.9922955e-01]\n",
      "[5.321227e-05 9.945154e-03 9.900017e-01]\n",
      "[4.8592738e-05 7.1276283e-08 9.9995136e-01]\n",
      "[3.4729070e-03 1.4938908e-05 9.9651212e-01]\n",
      "[5.8442361e-06 2.4136851e-08 9.9999416e-01]\n",
      "[8.1868297e-05 3.2937797e-07 9.9991775e-01]\n",
      "[2.7023621e-06 1.8379109e-09 9.9999726e-01]\n",
      "[1.8404782e-07 8.3061188e-08 9.9999976e-01]\n",
      "[2.7647991e-06 5.3138215e-06 9.9999189e-01]\n",
      "[8.4273893e-01 1.4963089e-06 1.5725963e-01]\n",
      "[2.7582344e-08 9.9961650e-01 3.8340909e-04]\n",
      "[1.8953999e-06 4.0770679e-08 9.9999809e-01]\n",
      "[1.0268556e-04 3.5405227e-03 9.9635679e-01]\n",
      "[5.2232984e-08 9.9999976e-01 1.8133514e-07]\n",
      "[8.6221524e-05 2.2843860e-03 9.9762946e-01]\n",
      "[0.01337168 0.00117976 0.98544854]\n",
      "[5.96067480e-07 9.99886990e-01 1.12352456e-04]\n",
      "[2.4238697e-01 2.0356209e-05 7.5759262e-01]\n",
      "[1.2409441e-05 9.9998701e-01 6.5458829e-07]\n",
      "[1.8787560e-03 1.5345530e-06 9.9811965e-01]\n",
      "[1.2952238e-05 1.3660349e-06 9.9998569e-01]\n",
      "[9.9999881e-01 1.0164018e-07 1.1133906e-06]\n",
      "[1.01934675e-04 1.73411664e-07 9.99897838e-01]\n",
      "[2.2136113e-09 9.9999785e-01 2.1489552e-06]\n",
      "[9.9997735e-01 2.5800462e-08 2.2656055e-05]\n",
      "[9.9395639e-01 1.3659542e-07 6.0435678e-03]\n",
      "[1.4519815e-04 3.8803762e-11 9.9985480e-01]\n",
      "[2.5178338e-06 9.1746078e-05 9.9990571e-01]\n",
      "[1.2283229e-07 1.2189071e-05 9.9998772e-01]\n",
      "[7.7002113e-07 1.8373264e-08 9.9999917e-01]\n",
      "[2.4303677e-03 7.8686635e-06 9.9756181e-01]\n",
      "[0.00122692 0.00106028 0.99771285]\n",
      "[2.2906193e-05 1.7626682e-07 9.9997687e-01]\n",
      "[9.3977107e-04 1.0650659e-10 9.9906021e-01]\n",
      "[2.9536113e-06 9.9998760e-01 9.3644630e-06]\n",
      "[2.1429772e-05 2.8021458e-07 9.9997830e-01]\n",
      "[1.6532433e-06 2.0143688e-08 9.9999833e-01]\n",
      "[9.9998546e-01 4.9620619e-10 1.4516859e-05]\n",
      "[9.9999833e-01 3.4906904e-11 1.6201616e-06]\n",
      "[2.8695624e-05 8.9644021e-07 9.9997044e-01]\n",
      "[1.1249071e-04 3.9259926e-10 9.9988747e-01]\n",
      "[2.6924708e-03 2.6001037e-09 9.9730754e-01]\n",
      "[1.5098834e-04 1.5189744e-03 9.9833006e-01]\n",
      "[1.8723060e-03 4.7060542e-04 9.9765706e-01]\n",
      "[9.4881296e-01 5.2301935e-10 5.1187057e-02]\n",
      "[4.9512764e-03 5.2353948e-07 9.9504822e-01]\n",
      "[1.4950385e-05 7.3384360e-04 9.9925119e-01]\n",
      "[9.956250e-06 8.550485e-03 9.914396e-01]\n",
      "[3.2976905e-06 1.5107950e-08 9.9999666e-01]\n",
      "[2.5206624e-04 2.1123812e-07 9.9974769e-01]\n",
      "[1.7223034e-05 2.5613685e-05 9.9995720e-01]\n",
      "[3.3472106e-06 4.8681144e-08 9.9999666e-01]\n",
      "[9.9998629e-01 5.5620135e-13 1.3740090e-05]\n",
      "[1.21733850e-04 1.32076075e-08 9.99878287e-01]\n",
      "[6.8491623e-02 9.7588490e-08 9.3150824e-01]\n",
      "[1.1977262e-08 9.9999380e-01 6.1759270e-06]\n",
      "[1.0393836e-04 5.5674900e-07 9.9989545e-01]\n",
      "[1.1711439e-06 5.0493492e-07 9.9999833e-01]\n",
      "[9.9730372e-01 1.2911348e-06 2.6948971e-03]\n",
      "[2.1065121e-05 1.6161051e-05 9.9996281e-01]\n",
      "[1.06685175e-05 6.45500734e-07 9.99988675e-01]\n",
      "[1.2316097e-05 9.5405915e-07 9.9998677e-01]\n",
      "[9.46021927e-08 9.99989271e-01 1.06248435e-05]\n",
      "[9.9203295e-01 1.6698937e-07 7.9668574e-03]\n",
      "[9.7720420e-01 4.3614081e-09 2.2795817e-02]\n",
      "[2.7489284e-07 1.9412660e-07 9.9999952e-01]\n",
      "[1.1253768e-06 5.5218012e-09 9.9999893e-01]\n",
      "[9.9994826e-01 1.8457522e-10 5.1710220e-05]\n",
      "[2.1122486e-07 1.0509975e-07 9.9999964e-01]\n",
      "[1.3252749e-03 5.5472801e-06 9.9866915e-01]\n",
      "[6.9175940e-06 9.8011538e-04 9.9901295e-01]\n",
      "[9.607336e-04 2.325155e-06 9.990369e-01]\n",
      "[5.4581447e-05 2.2755221e-06 9.9994314e-01]\n",
      "[1.5165491e-04 9.9967241e-01 1.7594695e-04]\n",
      "[1.0247879e-04 6.0413813e-06 9.9989152e-01]\n",
      "[9.843189e-01 7.281486e-08 1.568097e-02]\n",
      "[3.9397641e-09 9.9999917e-01 8.2849084e-07]\n",
      "[9.9845755e-01 5.3018343e-06 1.5370758e-03]\n",
      "[3.9481318e-05 2.6944917e-06 9.9995780e-01]\n",
      "[9.999999e-01 6.045156e-11 8.950378e-08]\n",
      "[3.5096033e-05 1.9571922e-07 9.9996471e-01]\n",
      "[1.0837985e-04 2.5120690e-07 9.9989140e-01]\n",
      "[3.2258640e-10 9.9999845e-01 1.5889113e-06]\n",
      "[6.324251e-06 4.076164e-07 9.999933e-01]\n",
      "[7.8650316e-07 4.6122474e-05 9.9995303e-01]\n",
      "[5.53831398e-01 1.13809954e-04 4.46054786e-01]\n",
      "[9.9380106e-01 1.0589608e-09 6.1989035e-03]\n",
      "[5.5258391e-07 1.6254506e-09 9.9999940e-01]\n",
      "[1.74079150e-06 1.28476295e-05 9.99985456e-01]\n",
      "[5.7065551e-04 2.3843233e-05 9.9940550e-01]\n",
      "[3.1688181e-05 9.9969089e-01 2.7747138e-04]\n",
      "[1.3640387e-06 1.4168506e-08 9.9999857e-01]\n",
      "[3.3443310e-08 9.9995339e-01 4.6640584e-05]\n",
      "[9.9809653e-01 1.3176148e-07 1.9033033e-03]\n",
      "[9.9999404e-01 8.3889458e-11 5.9215222e-06]\n",
      "[6.6350546e-04 7.5105112e-04 9.9858546e-01]\n",
      "[8.5776128e-07 2.8781616e-07 9.9999881e-01]\n",
      "[7.1183322e-08 9.9999857e-01 1.3664968e-06]\n",
      "[2.8143215e-01 8.8907007e-07 7.1856695e-01]\n",
      "[9.9937505e-01 6.8379049e-05 5.5657950e-04]\n",
      "[2.4257028e-03 2.8228359e-07 9.9757403e-01]\n",
      "[3.3203836e-05 4.0185054e-08 9.9996674e-01]\n",
      "[9.9001372e-01 4.2050718e-10 9.9862376e-03]\n",
      "[2.3637571e-05 1.2998488e-05 9.9996340e-01]\n",
      "[1.00863545e-07 9.99931097e-01 6.87905485e-05]\n",
      "[2.133518e-06 3.509737e-05 9.999628e-01]\n",
      "[3.0448061e-04 8.0152383e-09 9.9969554e-01]\n",
      "[9.9995625e-01 4.1158496e-10 4.3704098e-05]\n",
      "[3.4329255e-06 1.4739146e-07 9.9999642e-01]\n",
      "[3.2354088e-05 9.6000517e-03 9.9036765e-01]\n",
      "[4.5581764e-05 1.7991311e-05 9.9993646e-01]\n",
      "[1.6989870e-06 4.0250971e-09 9.9999833e-01]\n",
      "[1.0000000e+00 3.8527857e-12 2.3939016e-08]\n",
      "[9.7445130e-01 1.7648380e-06 2.5546942e-02]\n",
      "[9.9589772e-07 8.1144251e-05 9.9991786e-01]\n",
      "[1.3036708e-05 6.3747592e-08 9.9998689e-01]\n",
      "[7.3994743e-03 1.8227126e-07 9.9260026e-01]\n",
      "[1.0692856e-05 9.1418915e-04 9.9907506e-01]\n",
      "[6.1170581e-06 2.2037364e-05 9.9997187e-01]\n",
      "[7.3612556e-02 2.5664141e-07 9.2638713e-01]\n",
      "[1.2477128e-06 1.3527340e-09 9.9999881e-01]\n",
      "[2.1104297e-05 6.2650122e-07 9.9997830e-01]\n",
      "[2.3024667e-07 1.4576887e-06 9.9999833e-01]\n",
      "[9.9872029e-01 1.8829589e-11 1.2797023e-03]\n",
      "[1.1179243e-04 1.8191271e-08 9.9988818e-01]\n",
      "[9.9988472e-01 6.0314603e-10 1.1522801e-04]\n",
      "[0.13011615 0.7942854  0.07559841]\n",
      "[8.4528846e-01 1.5569174e-10 1.5471157e-01]\n",
      "[1.5021469e-03 1.0887324e-05 9.9848700e-01]\n",
      "[9.9995649e-01 7.9084424e-07 4.2637672e-05]\n",
      "[1.974608e-06 2.973801e-09 9.999980e-01]\n",
      "[2.3734750e-04 8.7605949e-05 9.9967504e-01]\n",
      "[2.5290300e-04 2.1742144e-07 9.9974686e-01]\n",
      "[9.9999166e-01 1.4450879e-09 8.2903434e-06]\n",
      "[1.2654389e-09 9.9999952e-01 5.3526827e-07]\n",
      "[0.9787379  0.0121981  0.00906404]\n",
      "[1.1387387e-04 5.3169945e-08 9.9988604e-01]\n",
      "[1.1948208e-05 1.8950993e-07 9.9998784e-01]\n",
      "[9.9908573e-07 1.0573059e-04 9.9989331e-01]\n",
      "[9.9170697e-01 1.2102304e-08 8.2930773e-03]\n",
      "[2.2035585e-05 4.2289581e-09 9.9997795e-01]\n",
      "[6.6793873e-05 9.9929807e-09 9.9993324e-01]\n",
      "[1.2879948e-04 8.7718645e-06 9.9986243e-01]\n",
      "[1.7149633e-06 1.1043498e-04 9.9988782e-01]\n",
      "[7.6330326e-07 1.7279757e-07 9.9999905e-01]\n",
      "[4.706077e-07 5.358471e-10 9.999995e-01]\n",
      "[7.9055148e-01 5.3276734e-09 2.0944852e-01]\n",
      "[3.5205460e-04 5.8594535e-10 9.9964797e-01]\n",
      "[4.7579230e-04 3.5720582e-06 9.9952066e-01]\n",
      "[7.2915638e-05 6.2336052e-09 9.9992704e-01]\n",
      "[9.2685902e-01 1.3750038e-09 7.3141009e-02]\n",
      "[9.9784303e-01 4.9879250e-06 2.1519086e-03]\n",
      "[6.0991207e-03 7.7079894e-05 9.9382377e-01]\n",
      "[9.9975711e-01 3.3944517e-08 2.4287320e-04]\n",
      "[9.9582618e-01 1.2358241e-09 4.1738260e-03]\n",
      "[5.7398026e-08 9.9999809e-01 1.8557480e-06]\n",
      "[9.9974149e-01 2.6434885e-09 2.5852671e-04]\n",
      "[2.8984980e-05 1.0501985e-04 9.9986601e-01]\n",
      "[9.9997246e-01 3.9435298e-13 2.7541284e-05]\n",
      "[2.696907e-05 9.788545e-07 9.999721e-01]\n",
      "[6.0730759e-04 2.4720566e-09 9.9939263e-01]\n",
      "[5.2663831e-06 1.5866219e-08 9.9999475e-01]\n",
      "[5.5541614e-06 2.5609554e-06 9.9999189e-01]\n",
      "[9.9964345e-01 6.0097309e-09 3.5652868e-04]\n",
      "[1.1431893e-03 7.7331578e-08 9.9885678e-01]\n",
      "[5.1010856e-03 1.4827869e-07 9.9489874e-01]\n",
      "[1.6998854e-03 8.4927855e-08 9.9830002e-01]\n",
      "[3.9706833e-06 5.2661453e-05 9.9994338e-01]\n",
      "[9.999751e-01 3.119505e-11 2.497290e-05]\n",
      "[1.1544555e-03 3.9811374e-07 9.9884510e-01]\n",
      "[4.3812214e-04 2.4661897e-06 9.9955934e-01]\n",
      "[1.0448942e-09 9.9999964e-01 3.5883645e-07]\n",
      "[2.2871848e-04 8.9689711e-06 9.9976236e-01]\n",
      "[9.0216326e-06 1.3958659e-09 9.9999094e-01]\n",
      "[9.9769282e-01 9.8098439e-11 2.3071934e-03]\n",
      "[8.174604e-04 9.290160e-06 9.991732e-01]\n",
      "[9.915195e-01 3.617374e-09 8.480523e-03]\n",
      "[6.096744e-06 7.519810e-09 9.999939e-01]\n",
      "[4.8658439e-06 2.5682752e-06 9.9999261e-01]\n",
      "[4.7174323e-04 4.5038978e-06 9.9952376e-01]\n",
      "[3.2723275e-07 3.2179180e-04 9.9967790e-01]\n",
      "[9.9949503e-01 5.8552058e-10 5.0500367e-04]\n",
      "[7.04865204e-04 1.05069574e-07 9.99294996e-01]\n",
      "[7.7491604e-05 5.1548857e-05 9.9987090e-01]\n",
      "[8.164351e-08 9.993025e-01 6.973718e-04]\n",
      "[9.9999809e-01 8.4225318e-12 1.9470249e-06]\n",
      "[4.2428677e-08 3.4549731e-07 9.9999964e-01]\n",
      "[7.6520828e-06 1.0558924e-03 9.9893647e-01]\n",
      "[1.7874032e-07 1.8232292e-10 9.9999976e-01]\n",
      "[2.3370983e-05 5.2849131e-10 9.9997663e-01]\n",
      "[9.9620408e-01 2.6551808e-08 3.7958960e-03]\n",
      "[8.0856145e-05 1.5511510e-10 9.9991918e-01]\n",
      "[1.6281961e-02 3.9944325e-07 9.8371768e-01]\n",
      "[9.9805778e-01 4.9253265e-07 1.9416865e-03]\n",
      "[2.5193691e-05 1.6564369e-06 9.9997318e-01]\n",
      "[8.6712527e-05 3.0921330e-04 9.9960405e-01]\n",
      "[4.0517443e-01 2.0547537e-07 5.9482539e-01]\n",
      "[5.0173621e-05 3.3010832e-09 9.9994981e-01]\n",
      "[9.5149881e-05 1.9721547e-08 9.9990487e-01]\n",
      "[9.6662796e-01 6.0125015e-04 3.2770827e-02]\n",
      "[4.633946e-05 5.707986e-06 9.999479e-01]\n",
      "[9.9995458e-01 2.2222953e-11 4.5406006e-05]\n",
      "[1.9872090e-04 3.5156008e-06 9.9979776e-01]\n",
      "[9.0615213e-01 1.4612094e-06 9.3846351e-02]\n",
      "[6.844159e-05 1.569300e-09 9.999316e-01]\n",
      "[4.2081582e-03 4.4213550e-07 9.9579132e-01]\n",
      "[9.8577625e-01 2.5645289e-07 1.4223546e-02]\n",
      "[8.5497111e-01 6.6080332e-07 1.4502825e-01]\n",
      "[3.2742017e-05 4.8925963e-06 9.9996233e-01]\n",
      "[0.03221644 0.00560082 0.9621827 ]\n",
      "[4.530104e-05 9.918700e-09 9.999547e-01]\n",
      "[3.4588153e-05 3.5738206e-04 9.9960810e-01]\n",
      "[0.49936005 0.00060578 0.5000342 ]\n",
      "[1.5076555e-06 2.6934120e-07 9.9999821e-01]\n",
      "[1.8147008e-04 2.8379494e-03 9.9698061e-01]\n",
      "[2.0589543e-09 9.9999678e-01 3.1798502e-06]\n",
      "[2.3550499e-06 3.3193448e-08 9.9999762e-01]\n",
      "[8.7321491e-04 1.1932028e-08 9.9912673e-01]\n",
      "[9.9178046e-01 4.8965516e-11 8.2195690e-03]\n",
      "[9.9985933e-01 4.1993933e-09 1.4069219e-04]\n",
      "[0.1451463  0.00095804 0.85389566]\n",
      "[9.9999928e-01 2.7497074e-12 7.2162817e-07]\n",
      "[1.7799582e-06 4.4415348e-05 9.9995375e-01]\n",
      "[5.6654248e-05 2.6367395e-06 9.9994075e-01]\n",
      "[1.1788967e-06 5.2873013e-09 9.9999881e-01]\n",
      "[1.0702403e-06 9.9990165e-01 9.7260992e-05]\n",
      "[9.2944479e-01 2.9444749e-05 7.0525788e-02]\n",
      "[9.9447870e-01 1.0290928e-07 5.5211731e-03]\n",
      "[1.1367969e-04 2.0843583e-05 9.9986541e-01]\n",
      "[2.8548724e-10 1.0000000e+00 1.6922966e-08]\n",
      "[3.7454967e-08 9.9936098e-01 6.3905900e-04]\n",
      "[1.0653931e-06 2.6657460e-06 9.9999630e-01]\n",
      "[8.7511734e-07 1.3133753e-07 9.9999905e-01]\n",
      "[9.7493035e-01 2.2160533e-08 2.5069600e-02]\n",
      "[9.9820420e-03 1.2884293e-05 9.9000508e-01]\n",
      "[2.1974849e-06 4.2605943e-06 9.9999356e-01]\n",
      "[9.9977952e-01 1.6156130e-07 2.2035112e-04]\n",
      "[2.0594929e-07 2.3923356e-08 9.9999976e-01]\n",
      "[7.0407258e-09 9.9999273e-01 7.2304147e-06]\n",
      "[1.5711862e-01 8.9018380e-05 8.4279233e-01]\n",
      "[3.4950320e-03 4.1834477e-07 9.9650455e-01]\n",
      "[4.9454375e-04 1.3653845e-07 9.9950528e-01]\n",
      "[7.8192157e-01 2.7989240e-06 2.1807559e-01]\n",
      "[2.0093439e-07 9.9894840e-01 1.0513336e-03]\n",
      "[1.3471318e-03 5.7570627e-08 9.9865282e-01]\n",
      "[9.9309206e-01 1.5693512e-07 6.9077713e-03]\n",
      "[9.094530e-06 1.902816e-07 9.999907e-01]\n",
      "[1.6617741e-03 9.1900321e-04 9.9741924e-01]\n",
      "[1.9837111e-05 3.7581916e-04 9.9960440e-01]\n",
      "[2.3510303e-04 3.2050804e-07 9.9976462e-01]\n",
      "[1.7594916e-04 1.8881188e-05 9.9980515e-01]\n",
      "[9.9996185e-01 2.2250674e-12 3.8137314e-05]\n",
      "[3.2078482e-05 3.0035601e-06 9.9996495e-01]\n",
      "[3.1722407e-04 3.1504052e-05 9.9965131e-01]\n",
      "[9.9893743e-01 6.0518807e-10 1.0625892e-03]\n",
      "[1.4832756e-07 8.6078551e-08 9.9999976e-01]\n",
      "[9.9997711e-01 3.6433846e-12 2.2863922e-05]\n",
      "[9.9999249e-01 3.3298033e-06 4.2198080e-06]\n",
      "[9.9998832e-01 1.2516257e-11 1.1653594e-05]\n",
      "[8.72646240e-08 9.99986172e-01 1.36620565e-05]\n",
      "[1.5546076e-01 1.0473454e-06 8.4453821e-01]\n",
      "[1.9699792e-05 1.6551248e-03 9.9832517e-01]\n",
      "[9.9992526e-01 9.3027025e-10 7.4755211e-05]\n",
      "[2.1865508e-06 5.9179849e-11 9.9999785e-01]\n",
      "[1.1453535e-04 3.8115057e-05 9.9984729e-01]\n",
      "[0.00185728 0.00165261 0.99649006]\n",
      "[5.612196e-06 1.969016e-08 9.999944e-01]\n",
      "[1.38653895e-05 1.82695437e-09 9.99986172e-01]\n",
      "[8.2671776e-04 1.8218324e-07 9.9917310e-01]\n",
      "[1.1631352e-04 1.0761894e-09 9.9988365e-01]\n",
      "[6.0459059e-03 1.0632292e-08 9.9395412e-01]\n",
      "[9.9991250e-01 3.8456194e-09 8.7522189e-05]\n",
      "[7.2354134e-03 2.1177604e-07 9.9276441e-01]\n",
      "[1.2906281e-03 3.4812924e-08 9.9870932e-01]\n",
      "[1.6980775e-04 3.9320062e-06 9.9982625e-01]\n",
      "[9.98361766e-01 1.00806716e-07 1.63808756e-03]\n",
      "[8.3784780e-06 3.5708148e-05 9.9995589e-01]\n",
      "[9.9996197e-01 1.8598602e-10 3.8077756e-05]\n",
      "[1.0743475e-04 8.1981106e-08 9.9989247e-01]\n",
      "[4.5373818e-06 1.5764265e-09 9.9999547e-01]\n",
      "[9.9976498e-01 1.3815693e-09 2.3498117e-04]\n",
      "[5.8502678e-06 2.7089985e-05 9.9996710e-01]\n",
      "[1.4585209e-03 1.4678770e-05 9.9852681e-01]\n",
      "[5.2273582e-04 1.2169878e-03 9.9826032e-01]\n",
      "[1.3016580e-03 5.7246222e-04 9.9812585e-01]\n",
      "[4.4187884e-05 7.6444494e-06 9.9994814e-01]\n",
      "[6.4712971e-01 3.1251568e-07 3.5286993e-01]\n",
      "[6.2406921e-06 1.1108474e-07 9.9999368e-01]\n",
      "[9.9991500e-01 3.3096775e-11 8.4977561e-05]\n",
      "[7.1947801e-07 1.0033765e-09 9.9999928e-01]\n",
      "[9.9998593e-01 1.7976617e-10 1.4125312e-05]\n",
      "[4.6913736e-04 2.6409284e-03 9.9688989e-01]\n",
      "[4.1217595e-06 8.3456598e-08 9.9999583e-01]\n",
      "[1.2960766e-06 2.8346490e-08 9.9999869e-01]\n",
      "[2.3599772e-03 3.3092820e-09 9.9764001e-01]\n",
      "[2.4517064e-01 1.3397344e-05 7.5481600e-01]\n",
      "[2.1384010e-05 6.9027237e-09 9.9997866e-01]\n",
      "[9.9999726e-01 6.3644770e-11 2.6870612e-06]\n",
      "[2.9393944e-03 3.0327774e-06 9.9705756e-01]\n",
      "[1.7609824e-05 1.7397875e-05 9.9996495e-01]\n",
      "[2.3078981e-05 1.9650797e-08 9.9997687e-01]\n",
      "[9.135653e-03 7.149177e-08 9.908642e-01]\n",
      "[2.1531894e-05 1.2123097e-07 9.9997830e-01]\n",
      "[2.8580736e-05 3.3642518e-06 9.9996805e-01]\n",
      "[1.0936949e-07 9.9973303e-01 2.6684141e-04]\n",
      "[6.9572184e-07 7.1333622e-10 9.9999928e-01]\n",
      "[9.8649579e-01 2.7314218e-09 1.3504163e-02]\n",
      "[7.112336e-05 8.227428e-04 9.991061e-01]\n",
      "[6.517210e-04 4.453885e-06 9.993438e-01]\n",
      "[9.9931097e-01 5.4746062e-11 6.8902818e-04]\n",
      "[4.1298536e-06 5.1424792e-10 9.9999583e-01]\n",
      "[4.9501985e-05 7.6183110e-06 9.9994290e-01]\n",
      "[9.0984671e-05 4.9213220e-11 9.9990904e-01]\n",
      "[4.7762769e-06 2.3759665e-09 9.9999523e-01]\n",
      "[3.2431184e-04 9.9965286e-01 2.2822793e-05]\n",
      "[3.4618381e-04 4.7274717e-09 9.9965382e-01]\n",
      "[7.8518287e-06 3.0631907e-07 9.9999189e-01]\n",
      "[1.8995841e-05 9.9995971e-01 2.1366441e-05]\n",
      "[3.3693537e-03 1.1032723e-06 9.9662954e-01]\n",
      "[9.9984324e-01 1.4667260e-09 1.5674782e-04]\n",
      "[1.6678516e-03 4.1740964e-06 9.9832803e-01]\n",
      "[1.4496394e-04 1.6255231e-03 9.9822956e-01]\n",
      "[3.6682229e-06 1.4794072e-08 9.9999630e-01]\n",
      "[1.6324223e-03 2.5183228e-10 9.9836761e-01]\n",
      "[2.1023455e-04 2.7365661e-07 9.9978954e-01]\n",
      "[2.5404457e-04 5.5802870e-04 9.9918789e-01]\n",
      "[9.9397391e-01 3.9336627e-09 6.0261004e-03]\n",
      "[9.9952579e-01 1.4181012e-10 4.7418143e-04]\n",
      "[2.7727425e-01 9.2592254e-06 7.2271651e-01]\n",
      "[9.892992e-06 1.941780e-06 9.999882e-01]\n",
      "[2.5881566e-06 1.5049850e-10 9.9999738e-01]\n",
      "[1.5493709e-06 1.2624444e-05 9.9998581e-01]\n",
      "[8.3819903e-02 1.4381039e-06 9.1617870e-01]\n",
      "[4.9189273e-02 3.7513512e-08 9.5081067e-01]\n",
      "[8.7418312e-01 2.4352109e-06 1.2581448e-01]\n",
      "[2.7512833e-06 1.9804139e-07 9.9999702e-01]\n",
      "[9.1351524e-07 4.4376900e-08 9.9999905e-01]\n",
      "[4.4292483e-06 1.9960158e-09 9.9999559e-01]\n",
      "[4.189792e-04 7.924155e-07 9.995802e-01]\n",
      "[5.9888547e-04 6.0883181e-06 9.9939501e-01]\n",
      "[2.3231129e-04 5.9181297e-05 9.9970847e-01]\n",
      "[2.9972778e-04 2.3852811e-09 9.9970031e-01]\n",
      "[1.0733496e-05 3.1998204e-06 9.9998605e-01]\n",
      "[2.3063587e-06 1.1457245e-08 9.9999774e-01]\n",
      "[5.7903431e-05 3.1276858e-07 9.9994183e-01]\n",
      "[8.2443478e-07 1.6998983e-07 9.9999905e-01]\n",
      "[2.3969256e-04 5.6293386e-05 9.9970394e-01]\n",
      "[7.7254617e-07 9.9999905e-01 2.4857945e-07]\n",
      "[1.1942511e-06 7.7582218e-10 9.9999881e-01]\n",
      "[1.50005235e-05 7.42825135e-09 9.99984980e-01]\n",
      "[1.3937646e-05 6.3625151e-07 9.9998546e-01]\n",
      "[9.9999726e-01 9.3488342e-11 2.7466647e-06]\n",
      "[2.2099696e-03 9.9720818e-01 5.8185746e-04]\n",
      "[1.1847265e-03 5.9288992e-05 9.9875593e-01]\n",
      "[9.9823570e-01 4.1621373e-09 1.7642546e-03]\n",
      "[2.9040319e-05 9.4290859e-05 9.9987662e-01]\n",
      "[2.0006273e-05 2.8730984e-10 9.9997997e-01]\n",
      "[6.1529549e-04 1.7531302e-06 9.9938297e-01]\n",
      "[9.9974543e-01 5.0543941e-10 2.5458567e-04]\n",
      "[0.02928174 0.78090376 0.18981443]\n",
      "[2.5915189e-05 3.5399898e-06 9.9997056e-01]\n",
      "[9.9486154e-01 1.7551413e-08 5.1384261e-03]\n",
      "[1.0000000e+00 2.3078772e-12 1.8653115e-08]\n",
      "[6.6659655e-03 1.0530077e-06 9.9333304e-01]\n",
      "[8.4296771e-05 1.5297903e-05 9.9990034e-01]\n",
      "[9.7148907e-01 8.3563751e-09 2.8510977e-02]\n",
      "[1.3269711e-06 2.7045089e-05 9.9997163e-01]\n",
      "[5.4296175e-05 4.0933966e-07 9.9994528e-01]\n",
      "[4.8575667e-01 9.7036255e-09 5.1424330e-01]\n",
      "[1.7659932e-01 2.5294885e-06 8.2339823e-01]\n",
      "[9.9994051e-01 4.1591151e-11 5.9494876e-05]\n",
      "[2.0772013e-06 3.7473266e-04 9.9962318e-01]\n",
      "[1.2373618e-05 6.8324688e-03 9.9315518e-01]\n",
      "[1.8330181e-02 3.5474799e-09 9.8166978e-01]\n",
      "[2.1665197e-04 4.1881265e-07 9.9978298e-01]\n",
      "[9.99690652e-01 1.38067175e-08 3.09353316e-04]\n",
      "[1.3770982e-05 4.3670283e-04 9.9954945e-01]\n",
      "[1.3150664e-08 9.9999976e-01 2.5773338e-07]\n",
      "[7.0024216e-05 3.6457738e-01 6.3535267e-01]\n",
      "[9.8585355e-01 3.6145437e-08 1.4146433e-02]\n",
      "[3.0764789e-04 5.1411399e-07 9.9969184e-01]\n",
      "[1.3376326e-06 1.1976233e-06 9.9999750e-01]\n",
      "[0.06011133 0.8826853  0.05720334]\n",
      "[9.9581224e-01 4.8995954e-08 4.1877665e-03]\n",
      "[1.4968356e-05 3.3403077e-05 9.9995160e-01]\n",
      "[9.9999237e-01 1.5229666e-11 7.6877704e-06]\n",
      "[9.9954551e-01 1.0779997e-07 4.5433579e-04]\n",
      "[1.3561906e-05 2.7165294e-07 9.9998617e-01]\n",
      "[2.7487706e-06 3.4720802e-07 9.9999690e-01]\n",
      "[9.9981517e-01 3.7509601e-08 1.8486229e-04]\n",
      "[3.6995436e-06 8.5891099e-07 9.9999547e-01]\n",
      "[2.9595825e-03 4.1989879e-06 9.9703622e-01]\n",
      "[3.1442824e-03 1.3524575e-08 9.9685574e-01]\n",
      "[9.3980046e-04 1.4184054e-07 9.9906009e-01]\n",
      "[9.9999094e-01 3.7001350e-11 9.0440217e-06]\n",
      "[2.8748320e-05 2.8629998e-08 9.9997127e-01]\n",
      "[0.99268395 0.00355095 0.00376509]\n",
      "[8.98706198e-01 1.78639141e-07 1.01293586e-01]\n",
      "[1.8288811e-03 5.3618453e-07 9.9817061e-01]\n",
      "[1.000000e+00 2.988852e-10 5.774216e-08]\n",
      "[9.9139494e-01 2.6492161e-08 8.6050536e-03]\n",
      "[2.1267731e-06 1.6517642e-08 9.9999785e-01]\n",
      "[1.9327097e-05 1.2021136e-06 9.9997950e-01]\n",
      "[4.6086629e-05 1.0741675e-06 9.9995279e-01]\n",
      "[3.1415260e-05 2.8491885e-07 9.9996829e-01]\n",
      "[6.2554529e-05 1.9957973e-02 9.7997952e-01]\n",
      "[5.5839205e-03 7.3541794e-04 9.9368060e-01]\n",
      "[9.9850839e-01 1.0604758e-09 1.4916095e-03]\n",
      "[8.1843615e-01 1.6815404e-05 1.8154705e-01]\n",
      "[9.9397933e-01 8.5298188e-07 6.0198093e-03]\n",
      "[1.36885447e-07 1.10819245e-04 9.99889016e-01]\n",
      "[1.7209322e-05 1.6034724e-08 9.9998283e-01]\n",
      "[4.8383221e-04 5.8189737e-08 9.9951613e-01]\n",
      "[1.4045063e-02 7.6229543e-07 9.8595423e-01]\n",
      "[1.28553035e-08 9.99990940e-01 9.09073333e-06]\n",
      "[5.599761e-06 1.941094e-06 9.999925e-01]\n",
      "[2.1857067e-04 9.0608103e-07 9.9978048e-01]\n",
      "[2.3844768e-06 4.7958281e-08 9.9999762e-01]\n",
      "[1.1817758e-06 2.4824934e-07 9.9999857e-01]\n",
      "[6.2187476e-04 8.2065744e-05 9.9929607e-01]\n",
      "[5.7778125e-06 3.0314840e-08 9.9999416e-01]\n",
      "[3.4871940e-05 1.3819655e-07 9.9996495e-01]\n",
      "[1.6365211e-06 1.3887855e-07 9.9999821e-01]\n",
      "[2.1287416e-04 2.4191072e-08 9.9978715e-01]\n",
      "[1.9232227e-09 9.9999988e-01 1.0038718e-07]\n",
      "[0.95157063 0.00385359 0.04457577]\n",
      "[4.8290159e-09 9.9998605e-01 1.3967607e-05]\n",
      "[2.9815499e-06 9.8140750e-05 9.9989891e-01]\n",
      "[1.6129019e-06 9.4737279e-01 5.2625634e-02]\n",
      "[6.582541e-05 1.580823e-08 9.999342e-01]\n",
      "[5.6812220e-05 1.7747089e-06 9.9994147e-01]\n",
      "[6.7500844e-07 1.5886330e-09 9.9999928e-01]\n",
      "[1.7856063e-04 6.8077981e-04 9.9914062e-01]\n",
      "[5.1582953e-07 2.9171535e-05 9.9997032e-01]\n",
      "[9.9999762e-01 1.3270446e-12 2.3387381e-06]\n",
      "[3.0737727e-05 8.1158731e-08 9.9996912e-01]\n",
      "[9.9991024e-01 7.0294669e-12 8.9743065e-05]\n",
      "[1.7072822e-05 8.8911460e-05 9.9989402e-01]\n",
      "[5.0849785e-06 9.9828643e-01 1.7084351e-03]\n",
      "[3.4583627e-06 8.1048608e-09 9.9999654e-01]\n",
      "[3.1597498e-09 9.9998474e-01 1.5310376e-05]\n",
      "[6.2977888e-06 2.7846463e-05 9.9996591e-01]\n",
      "[1.85697147e-07 1.14743415e-07 9.99999642e-01]\n",
      "[2.4737668e-04 6.1600471e-09 9.9975258e-01]\n",
      "[9.9674278e-01 3.0616327e-05 3.2265603e-03]\n",
      "[3.2656109e-07 9.9901605e-01 9.8354788e-04]\n",
      "[1.9279707e-05 6.2230761e-06 9.9997449e-01]\n",
      "[2.3104826e-03 1.5976765e-06 9.9768794e-01]\n",
      "[2.8181914e-05 3.8451421e-06 9.9996793e-01]\n",
      "[5.9206301e-04 3.1698056e-07 9.9940765e-01]\n",
      "[9.9968815e-01 1.5519532e-09 3.1182938e-04]\n",
      "[0.9909684  0.00144065 0.00759091]\n",
      "[6.2922486e-06 8.5228336e-08 9.9999368e-01]\n",
      "[1.0173948e-09 9.9999976e-01 2.6044663e-07]\n",
      "[7.7850100e-06 2.0090403e-10 9.9999225e-01]\n",
      "[7.4422904e-03 1.0291228e-07 9.9255764e-01]\n",
      "[1.6682647e-05 1.8858154e-01 8.1140172e-01]\n",
      "[2.4344768e-02 4.3204136e-06 9.7565085e-01]\n",
      "[9.9984765e-01 1.4584609e-09 1.5233181e-04]\n",
      "[1.1199963e-04 1.0645530e-05 9.9987733e-01]\n",
      "[4.0724946e-05 7.4907490e-07 9.9995852e-01]\n",
      "[1.7388113e-02 1.8339393e-04 9.8242849e-01]\n",
      "[4.9517426e-04 2.0462201e-08 9.9950480e-01]\n",
      "[1.9355745e-04 2.7494768e-06 9.9980372e-01]\n",
      "[9.9939322e-01 6.8986901e-07 6.0599897e-04]\n",
      "[1.9639005e-07 4.6263304e-09 9.9999976e-01]\n",
      "[2.1334756e-06 1.3423832e-03 9.9865544e-01]\n",
      "[2.7702888e-05 5.7591032e-04 9.9939632e-01]\n",
      "[1.5360782e-05 2.2011395e-06 9.9998248e-01]\n",
      "[9.9993587e-01 3.7956528e-13 6.4173299e-05]\n",
      "[6.199732e-06 5.578130e-09 9.999938e-01]\n",
      "[1.8133904e-04 1.1631543e-07 9.9981862e-01]\n",
      "[1.6589288e-01 9.4107282e-09 8.3410716e-01]\n",
      "[4.8314463e-02 2.0412431e-07 9.5168525e-01]\n",
      "[1.2018251e-02 2.8739032e-06 9.8797894e-01]\n",
      "[1.3307758e-04 1.3725903e-09 9.9986696e-01]\n",
      "[9.9999118e-01 5.2692548e-11 8.8133638e-06]\n",
      "[9.9701655e-01 1.2810394e-08 2.9834458e-03]\n",
      "[2.6704316e-04 4.3081195e-07 9.9973255e-01]\n",
      "[2.5976863e-06 5.3681750e-05 9.9994373e-01]\n",
      "[9.9999583e-01 8.2670615e-12 4.1963895e-06]\n",
      "[9.2603922e-01 1.7761204e-07 7.3960565e-02]\n",
      "[2.5884606e-06 1.8450793e-06 9.9999559e-01]\n",
      "[9.9437582e-01 7.0744671e-10 5.6241415e-03]\n",
      "[1.6734721e-01 1.4544730e-07 8.3265263e-01]\n",
      "[2.9926890e-05 1.7408276e-10 9.9997008e-01]\n",
      "[6.5976824e-06 9.8954821e-01 1.0445194e-02]\n",
      "[9.9693274e-01 5.2829171e-05 3.0143845e-03]\n",
      "[1.9805693e-05 5.8675419e-06 9.9997437e-01]\n",
      "[0.23739386 0.747518   0.01508809]\n",
      "[1.0474058e-05 8.6251456e-10 9.9998951e-01]\n",
      "[3.4908790e-05 6.0219963e-07 9.9996448e-01]\n",
      "[2.0483917e-08 9.9989402e-01 1.0601682e-04]\n",
      "[5.3448898e-06 1.5199312e-08 9.9999464e-01]\n",
      "[3.2753554e-01 1.8034105e-05 6.7244637e-01]\n",
      "[1.4508676e-05 3.0637779e-07 9.9998522e-01]\n",
      "[1.4783831e-05 1.4491360e-07 9.9998510e-01]\n",
      "[1.6907617e-01 1.8258243e-07 8.3092368e-01]\n",
      "[1.2831071e-05 9.1832639e-08 9.9998713e-01]\n",
      "[1.6306481e-05 1.5644341e-07 9.9998355e-01]\n",
      "[9.9880266e-01 1.5728114e-07 1.1972066e-03]\n",
      "[1.0649804e-05 8.1427579e-06 9.9998116e-01]\n",
      "[9.9933124e-01 3.0690753e-08 6.6881842e-04]\n",
      "[1.6402463e-06 1.9298439e-10 9.9999833e-01]\n",
      "[1.3847054e-03 6.5182737e-04 9.9796343e-01]\n",
      "[3.7152192e-06 1.2284731e-06 9.9999511e-01]\n",
      "[3.7868438e-05 1.8318495e-07 9.9996197e-01]\n",
      "[7.6942733e-06 1.5008472e-07 9.9999213e-01]\n",
      "[1.7184511e-05 9.9963796e-01 3.4488557e-04]\n",
      "[4.5447207e-05 6.4345873e-10 9.9995458e-01]\n",
      "[2.3794768e-04 1.5113656e-08 9.9976200e-01]\n",
      "[9.9999917e-01 1.2928173e-11 7.8051386e-07]\n",
      "[1.3543375e-05 2.9786387e-08 9.9998641e-01]\n",
      "[1.2541921e-08 9.9997520e-01 2.4743969e-05]\n",
      "[3.3369950e-05 1.7271732e-07 9.9996650e-01]\n",
      "[2.9633534e-06 2.7687634e-08 9.9999702e-01]\n",
      "[2.562408e-05 3.098058e-05 9.999434e-01]\n",
      "[1.6387185e-07 1.7275894e-07 9.9999964e-01]\n",
      "[3.2011840e-06 4.7186317e-05 9.9994957e-01]\n",
      "[4.8165803e-06 2.8137737e-10 9.9999523e-01]\n",
      "[1.1766238e-04 4.8841336e-03 9.9499822e-01]\n",
      "[4.0768668e-06 4.3120846e-07 9.9999547e-01]\n",
      "[1.9102827e-06 9.9999738e-01 6.8951488e-07]\n",
      "[3.0964458e-01 3.8220745e-04 6.8997324e-01]\n",
      "[2.4873831e-05 5.6253895e-09 9.9997509e-01]\n",
      "[2.3392975e-05 1.6196494e-04 9.9981469e-01]\n",
      "[9.9970990e-01 3.4720614e-12 2.9001563e-04]\n",
      "[9.999324e-01 8.931681e-08 6.741283e-05]\n",
      "[9.9992275e-01 6.7670687e-12 7.7237753e-05]\n",
      "[5.8516116e-06 4.4577380e-04 9.9954838e-01]\n",
      "[1.1892082e-02 8.4118976e-04 9.8726672e-01]\n",
      "[9.9733305e-01 1.0085460e-05 2.6568701e-03]\n",
      "[8.2587903e-06 5.7736121e-05 9.9993396e-01]\n",
      "[1.1203072e-04 3.2511791e-09 9.9988794e-01]\n",
      "[1.5686377e-05 1.1946302e-08 9.9998426e-01]\n",
      "[3.3445751e-05 1.0412043e-05 9.9995613e-01]\n",
      "[5.2565570e-06 2.3279705e-05 9.9997151e-01]\n",
      "[7.0099821e-05 1.8022896e-05 9.9991190e-01]\n",
      "[2.1881226e-06 1.4792051e-05 9.9998307e-01]\n",
      "[3.7051392e-05 7.3504302e-06 9.9995565e-01]\n",
      "[4.4374742e-06 3.6718114e-07 9.9999523e-01]\n",
      "[7.5476086e-01 3.4278801e-07 2.4523872e-01]\n",
      "[9.7811240e-01 6.1154865e-10 2.1887559e-02]\n",
      "[3.4306797e-01 1.4087998e-07 6.5693194e-01]\n",
      "[9.9848443e-01 1.0391290e-08 1.5155475e-03]\n",
      "[1.2259809e-03 2.4681531e-05 9.9874938e-01]\n",
      "[9.8640662e-01 3.7584416e-10 1.3593353e-02]\n",
      "[9.974738e-01 8.781941e-10 2.526221e-03]\n",
      "[9.9823463e-01 7.0066702e-11 1.7653046e-03]\n",
      "[9.4573683e-01 3.1085517e-06 5.4260030e-02]\n",
      "[1.7502399e-04 3.7461387e-10 9.9982506e-01]\n",
      "[1.3876608e-05 7.6370856e-07 9.9998534e-01]\n",
      "[9.85789955e-01 5.17683363e-09 1.42101245e-02]\n",
      "[1.0884538e-04 3.9334620e-07 9.9989080e-01]\n",
      "[2.0810789e-07 9.9997795e-01 2.1784534e-05]\n",
      "[5.0353032e-05 1.5026710e-09 9.9994969e-01]\n",
      "[3.3796596e-04 2.2759203e-04 9.9943441e-01]\n",
      "[9.9999726e-01 5.8787436e-10 2.7275937e-06]\n",
      "[2.2860686e-07 9.3118366e-08 9.9999964e-01]\n",
      "[9.2702108e-03 3.7295207e-09 9.9072975e-01]\n",
      "[8.4744961e-08 9.9871838e-01 1.2815807e-03]\n",
      "[8.0586251e-06 7.2753807e-07 9.9999118e-01]\n",
      "[5.6192919e-05 2.4612125e-06 9.9994135e-01]\n",
      "[2.1481463e-05 1.0269976e-07 9.9997842e-01]\n",
      "[1.6969033e-04 6.0705279e-05 9.9976963e-01]\n",
      "[9.9110997e-01 6.5188465e-07 8.8892858e-03]\n",
      "[2.2643524e-06 4.9636800e-08 9.9999774e-01]\n",
      "[1.8609830e-04 6.7903025e-06 9.9980718e-01]\n",
      "[9.9942112e-01 4.3791715e-10 5.7889539e-04]\n",
      "[5.5053043e-01 6.7395541e-07 4.4946891e-01]\n",
      "[9.9999976e-01 2.0328643e-11 2.8297973e-07]\n",
      "[9.9986982e-01 6.3406069e-12 1.3015934e-04]\n",
      "[9.2593683e-03 1.6716265e-05 9.9072391e-01]\n",
      "[3.1008894e-05 4.9667024e-11 9.9996901e-01]\n",
      "[6.5956835e-04 1.9132504e-08 9.9934036e-01]\n",
      "[1.14553884e-04 3.01426240e-07 9.99885082e-01]\n",
      "[9.9371606e-01 2.4816765e-10 6.2839291e-03]\n",
      "[9.9737203e-01 1.4730463e-06 2.6264875e-03]\n",
      "[3.5621654e-04 2.5428457e-03 9.9710089e-01]\n",
      "[2.7423076e-04 1.9861032e-08 9.9972576e-01]\n",
      "[1.9726003e-05 8.0891408e-07 9.9997950e-01]\n",
      "[1.0342431e-05 1.4182363e-07 9.9998951e-01]\n",
      "[4.0564256e-08 9.9999952e-01 4.3643760e-07]\n",
      "[1.0000000e+00 4.0440314e-14 1.7189562e-08]\n",
      "[7.4860850e-06 8.8495381e-06 9.9998367e-01]\n",
      "[2.6638725e-07 9.9995852e-01 4.1263629e-05]\n",
      "[9.9999642e-01 2.2450198e-11 3.5516464e-06]\n",
      "[2.4337683e-02 2.8885893e-06 9.7565949e-01]\n",
      "[9.9999952e-01 1.2779649e-12 4.3562383e-07]\n",
      "[3.2118196e-06 1.4804093e-06 9.9999535e-01]\n",
      "[4.7441314e-05 1.7334238e-06 9.9995077e-01]\n",
      "[2.6879728e-05 3.2349926e-06 9.9996984e-01]\n",
      "[3.5357865e-05 3.9204977e-05 9.9992537e-01]\n",
      "[9.9907672e-01 5.4178306e-10 9.2329324e-04]\n",
      "[1.4293017e-09 9.9999380e-01 6.1880423e-06]\n",
      "[2.0063140e-04 5.7926838e-05 9.9974138e-01]\n",
      "[6.6501765e-05 3.2946527e-08 9.9993348e-01]\n",
      "[3.1502841e-05 6.4028674e-05 9.9990451e-01]\n",
      "[1.0656178e-05 1.6814172e-07 9.9998915e-01]\n",
      "[4.2990215e-02 1.8891993e-07 9.5700955e-01]\n",
      "[1.4453305e-07 9.9993813e-01 6.1700877e-05]\n",
      "[2.3732921e-04 6.6555259e-07 9.9976200e-01]\n",
      "[1.5147332e-07 9.9808466e-01 1.9152124e-03]\n",
      "[4.9438681e-06 2.4524338e-10 9.9999511e-01]\n",
      "[9.9997640e-01 1.2483115e-07 2.3430766e-05]\n",
      "[9.7340065e-01 7.2214010e-07 2.6598670e-02]\n",
      "[9.5288110e-01 4.9012294e-10 4.7118921e-02]\n",
      "[7.7067190e-01 9.4671151e-08 2.2932798e-01]\n",
      "[2.923712e-01 2.571333e-08 7.076288e-01]\n",
      "[7.6964439e-04 1.1905856e-06 9.9922919e-01]\n",
      "[9.9665076e-01 3.1233716e-10 3.3492630e-03]\n",
      "[9.6444958e-01 7.3425092e-08 3.5550244e-02]\n",
      "[2.3866631e-05 3.8976906e-09 9.9997616e-01]\n",
      "[9.9999499e-01 9.5237063e-09 4.9675596e-06]\n",
      "[5.4256016e-05 3.2237404e-06 9.9994254e-01]\n",
      "[9.9999666e-01 8.9036558e-13 3.3769102e-06]\n",
      "[1.8720830e-07 9.7746038e-01 2.2539437e-02]\n",
      "[9.9999833e-01 2.3955385e-11 1.6743735e-06]\n",
      "[1.2936386e-04 9.5359874e-06 9.9986112e-01]\n",
      "[9.9722677e-01 2.2053659e-04 2.5527235e-03]\n",
      "[9.9986935e-01 7.6818324e-10 1.3068030e-04]\n",
      "[1.7082644e-05 1.5578017e-07 9.9998271e-01]\n",
      "[1.1061238e-08 9.9999571e-01 4.2561928e-06]\n",
      "[9.8943592e-06 1.3040889e-07 9.9998999e-01]\n",
      "[9.8730147e-01 5.9995259e-08 1.2698352e-02]\n",
      "[3.2096174e-05 8.8260646e-07 9.9996698e-01]\n",
      "[2.9171301e-06 5.9916266e-10 9.9999714e-01]\n",
      "[5.1948597e-04 2.1068126e-04 9.9926978e-01]\n",
      "[1.0788976e-03 1.2497587e-06 9.9891984e-01]\n",
      "[7.4778436e-05 1.2650009e-05 9.9991262e-01]\n",
      "[8.33257567e-04 1.05046254e-07 9.99166608e-01]\n",
      "[2.8937129e-07 2.4979993e-06 9.9999726e-01]\n",
      "[5.6929461e-05 3.8542835e-06 9.9993920e-01]\n",
      "[1.7673823e-05 2.2349741e-06 9.9998009e-01]\n",
      "[9.9997127e-01 6.8122844e-08 2.8594568e-05]\n",
      "[3.4834629e-01 3.9669617e-06 6.5164977e-01]\n",
      "[6.349724e-05 9.119697e-07 9.999356e-01]\n",
      "[6.5004453e-04 5.8846774e-05 9.9929106e-01]\n",
      "[1.481698e-07 9.999676e-01 3.234583e-05]\n",
      "[1.17982744e-07 2.31305419e-09 9.99999881e-01]\n",
      "[2.431531e-04 1.795292e-08 9.997569e-01]\n",
      "[6.6463356e-03 4.6988993e-04 9.9288380e-01]\n",
      "[7.5076800e-06 4.5244278e-06 9.9998796e-01]\n",
      "[1.1776262e-07 9.9999678e-01 3.0715823e-06]\n",
      "[9.9989772e-01 3.6592713e-09 1.0226542e-04]\n",
      "[3.7432925e-04 3.9671652e-02 9.5995402e-01]\n",
      "[3.4225429e-03 5.0186827e-07 9.9657696e-01]\n",
      "[1.6549058e-05 2.3476108e-11 9.9998343e-01]\n",
      "[9.8191470e-01 2.4166626e-08 1.8085372e-02]\n",
      "[8.138104e-08 1.507560e-10 9.999999e-01]\n",
      "[7.3312590e-04 1.1681763e-08 9.9926680e-01]\n",
      "[4.4254652e-06 1.1662355e-08 9.9999559e-01]\n",
      "[1.8059794e-03 9.0056147e-07 9.9819309e-01]\n",
      "[3.5097744e-02 2.5305637e-06 9.6489978e-01]\n",
      "[9.99205887e-01 1.09612884e-07 7.93990737e-04]\n",
      "[9.9999976e-01 7.7216983e-12 2.8831838e-07]\n",
      "[1.19947275e-04 5.59720456e-06 9.99874473e-01]\n",
      "[4.2872594e-04 5.2722010e-10 9.9957126e-01]\n",
      "[1.0008562e-04 1.1019223e-05 9.9988890e-01]\n",
      "[4.2633968e-05 3.4457792e-10 9.9995732e-01]\n",
      "[8.91571403e-01 5.31753030e-10 1.08428665e-01]\n",
      "[1.9259499e-04 5.2250482e-10 9.9980742e-01]\n",
      "[8.3666623e-01 7.3695073e-06 1.6332643e-01]\n",
      "[1.3835205e-06 9.9997413e-01 2.4449764e-05]\n",
      "[8.2705903e-04 9.0909696e-11 9.9917287e-01]\n",
      "[2.2462979e-03 1.6918841e-07 9.9775356e-01]\n",
      "[9.7062126e-05 4.3401374e-07 9.9990249e-01]\n",
      "[2.1869004e-04 8.1543028e-03 9.9162698e-01]\n",
      "[6.1598061e-05 2.9819331e-09 9.9993837e-01]\n",
      "[0.00244925 0.01791687 0.97963387]\n",
      "[8.6411315e-01 2.3980737e-08 1.3588691e-01]\n",
      "[2.45554693e-04 1.38403075e-05 9.99740541e-01]\n",
      "[1.1173412e-05 9.7941277e-10 9.9998879e-01]\n",
      "[2.7554153e-05 1.4171562e-03 9.9855524e-01]\n",
      "[4.1515719e-05 4.4830537e-07 9.9995804e-01]\n",
      "[6.728824e-08 9.994604e-01 5.394621e-04]\n",
      "[1.5110705e-05 5.0564659e-09 9.9998486e-01]\n",
      "[4.2145174e-08 1.2813897e-04 9.9987185e-01]\n",
      "[2.921021e-04 2.715891e-08 9.997079e-01]\n",
      "[8.3338236e-06 6.4305223e-09 9.9999166e-01]\n",
      "[7.6829463e-02 7.8419623e-07 9.2316973e-01]\n",
      "[1.4719851e-01 2.8462739e-07 8.5280120e-01]\n",
      "[1.6892924e-04 5.5876384e-08 9.9983096e-01]\n",
      "[1.0464746e-06 6.6447498e-10 9.9999893e-01]\n",
      "[9.4115100e-04 1.1234341e-09 9.9905890e-01]\n",
      "[4.9166908e-07 1.3510874e-05 9.9998605e-01]\n",
      "[2.5010327e-04 8.1970315e-09 9.9974984e-01]\n",
      "[7.6343676e-06 2.0131822e-07 9.9999213e-01]\n",
      "[1.2928767e-05 8.2364830e-05 9.9990475e-01]\n",
      "[1.411599e-04 9.156825e-06 9.998497e-01]\n",
      "[5.1249066e-05 8.5497872e-05 9.9986327e-01]\n",
      "[9.905223e-01 6.943383e-10 9.477693e-03]\n",
      "[2.5604673e-05 4.4642711e-08 9.9997437e-01]\n",
      "[3.8972980e-06 1.2442242e-10 9.9999607e-01]\n",
      "[4.5662651e-07 8.9701563e-10 9.9999952e-01]\n",
      "[8.1568651e-05 1.7031085e-02 9.8288733e-01]\n",
      "[5.8844191e-04 3.3478656e-08 9.9941158e-01]\n",
      "[3.426070e-05 9.996269e-01 3.387415e-04]\n",
      "[9.983966e-01 3.509829e-05 1.568334e-03]\n",
      "[3.0003437e-03 4.5376666e-10 9.9699968e-01]\n",
      "[2.1295998e-09 9.9998784e-01 1.2130186e-05]\n",
      "[2.4247120e-06 2.9802404e-08 9.9999750e-01]\n",
      "[4.2292842e-05 6.3359785e-08 9.9995768e-01]\n",
      "[9.5359273e-06 4.7125792e-04 9.9951923e-01]\n",
      "[3.4034855e-04 7.1841787e-06 9.9965250e-01]\n",
      "[9.9993920e-01 9.8383093e-11 6.0849477e-05]\n",
      "[7.9472554e-01 2.4392259e-07 2.0527418e-01]\n",
      "[9.9961382e-01 5.1973443e-09 3.8617736e-04]\n",
      "[4.9417608e-06 1.4330537e-10 9.9999511e-01]\n",
      "[2.6747188e-05 2.9451076e-05 9.9994385e-01]\n",
      "[2.8256398e-05 3.6548816e-05 9.9993515e-01]\n",
      "[0.9922787  0.00329088 0.00443038]\n",
      "[1.22565925e-05 1.56348251e-05 9.99972105e-01]\n",
      "[1.4043645e-05 4.8655835e-08 9.9998593e-01]\n",
      "[1.0123674e-06 1.0085456e-06 9.9999797e-01]\n",
      "[1.8295385e-05 3.9403213e-07 9.9998128e-01]\n",
      "[6.2543124e-02 8.0649025e-04 9.3665040e-01]\n",
      "[1.0047526e-08 9.9999428e-01 5.7156212e-06]\n",
      "[1.3359704e-05 6.6902171e-11 9.9998665e-01]\n",
      "[6.679715e-06 9.646554e-11 9.999933e-01]\n",
      "[1.4528031e-04 8.1238735e-01 1.8746732e-01]\n",
      "[9.9992526e-01 3.1204403e-10 7.4718220e-05]\n",
      "[3.7932792e-04 1.0619087e-06 9.9961960e-01]\n",
      "[9.6523505e-01 8.0625861e-05 3.4684289e-02]\n",
      "[6.913126e-05 9.920299e-07 9.999299e-01]\n",
      "[6.4641740e-03 3.3900677e-04 9.9319685e-01]\n",
      "[4.075232e-04 3.776141e-09 9.995925e-01]\n",
      "[1.0040072e-04 9.8775871e-08 9.9989951e-01]\n",
      "[2.7836204e-05 9.4034050e-07 9.9997127e-01]\n",
      "[5.05334356e-05 1.38214715e-02 9.86127973e-01]\n",
      "[7.3098401e-03 4.9358971e-07 9.9268967e-01]\n",
      "[2.4549001e-06 9.8406720e-01 1.5930390e-02]\n",
      "[2.2665308e-05 3.4251905e-05 9.9994314e-01]\n",
      "[1.9400719e-07 4.6795634e-07 9.9999928e-01]\n",
      "[1.7948756e-04 1.3867003e-07 9.9982041e-01]\n",
      "[5.8295824e-05 9.9988639e-01 5.5284407e-05]\n",
      "[1.38948535e-05 6.57409771e-09 9.99986053e-01]\n",
      "[2.0683285e-05 1.0729518e-03 9.9890637e-01]\n",
      "[6.6729325e-07 3.1283442e-08 9.9999928e-01]\n",
      "[3.8169441e-01 1.0896575e-05 6.1829466e-01]\n",
      "[1.6371534e-03 2.8877763e-05 9.9833399e-01]\n",
      "[6.2406921e-06 1.1108474e-07 9.9999368e-01]\n",
      "[1.8970631e-07 1.5129273e-06 9.9999833e-01]\n",
      "[2.6173086e-04 4.4196177e-06 9.9973387e-01]\n",
      "[6.9433459e-05 2.8865121e-10 9.9993062e-01]\n",
      "[8.4013782e-06 2.0375193e-05 9.9997127e-01]\n",
      "[1.9020048e-05 3.7047474e-03 9.9627626e-01]\n",
      "[7.0580303e-05 5.6962861e-05 9.9987245e-01]\n",
      "[1.4419104e-04 4.2157667e-06 9.9985158e-01]\n",
      "[3.4023584e-03 2.7850005e-08 9.9659759e-01]\n",
      "[4.8374216e-07 9.9952602e-01 4.7345858e-04]\n",
      "[6.5372737e-06 8.8019324e-06 9.9998462e-01]\n",
      "[1.5774051e-05 6.1373629e-07 9.9998367e-01]\n",
      "[9.9982423e-01 1.1972210e-09 1.7583341e-04]\n",
      "[3.7739301e-05 4.2425613e-03 9.9571973e-01]\n",
      "[9.9999905e-01 5.3054533e-10 1.0086353e-06]\n",
      "[5.1169707e-08 9.9998689e-01 1.3089929e-05]\n",
      "[4.4902824e-03 1.8161049e-07 9.9550951e-01]\n",
      "[3.98012071e-06 1.05263025e-08 9.99996066e-01]\n",
      "[1.5920156e-04 7.3667714e-08 9.9984074e-01]\n",
      "[8.352756e-05 7.356295e-05 9.998429e-01]\n",
      "[9.9502760e-01 2.4532401e-09 4.9723675e-03]\n",
      "[4.188911e-06 1.901677e-07 9.999956e-01]\n",
      "[5.9000062e-08 9.9974233e-01 2.5762542e-04]\n",
      "[1.9869153e-06 3.7176302e-04 9.9962628e-01]\n",
      "[2.3089505e-04 9.1638667e-06 9.9975997e-01]\n",
      "[7.8723963e-07 4.5782650e-10 9.9999917e-01]\n",
      "[2.0889149e-07 1.2689493e-08 9.9999976e-01]\n",
      "[9.999378e-01 3.724639e-09 6.219665e-05]\n",
      "[3.5781271e-03 1.0388176e-06 9.9642086e-01]\n",
      "[5.5706445e-05 3.2434892e-07 9.9994397e-01]\n",
      "[1.3882755e-06 1.0781640e-04 9.9989080e-01]\n",
      "[9.9999845e-01 4.1357914e-10 1.5855177e-06]\n",
      "[1.1974045e-06 2.6929502e-08 9.9999881e-01]\n",
      "[9.9999154e-01 1.7031892e-11 8.4948051e-06]\n",
      "[9.6696198e-01 3.5212730e-07 3.3037715e-02]\n",
      "[7.3673095e-07 5.2538404e-08 9.9999917e-01]\n",
      "[3.8926704e-05 6.6448971e-05 9.9989462e-01]\n",
      "[2.0079546e-05 1.2071270e-04 9.9985921e-01]\n",
      "[7.0733158e-06 3.4410067e-07 9.9999261e-01]\n",
      "[1.6981704e-06 1.2135924e-07 9.9999821e-01]\n",
      "[3.0885718e-07 7.2540824e-06 9.9999249e-01]\n",
      "[9.9999976e-01 3.6802590e-13 2.4829816e-07]\n",
      "[9.9033058e-01 1.5847286e-10 9.6694035e-03]\n",
      "[4.6754498e-02 1.4703427e-04 9.5309842e-01]\n",
      "[9.184384e-06 9.662808e-11 9.999908e-01]\n",
      "[4.2499960e-07 3.8449012e-05 9.9996114e-01]\n",
      "[1.5607126e-03 8.9297979e-04 9.9754626e-01]\n",
      "[1.7360657e-03 1.6593751e-05 9.9824739e-01]\n",
      "[9.143806e-01 2.736914e-09 8.561936e-02]\n",
      "[5.2759944e-08 9.9979156e-01 2.0849031e-04]\n",
      "[1.4680746e-04 4.9913083e-06 9.9984813e-01]\n",
      "[4.1154376e-06 6.3510657e-07 9.9999523e-01]\n",
      "[6.9033100e-05 1.8087766e-08 9.9993098e-01]\n",
      "[5.750863e-06 4.388027e-07 9.999938e-01]\n",
      "[8.6487552e-07 3.1567210e-06 9.9999595e-01]\n",
      "[2.8405464e-05 2.3965409e-03 9.9757510e-01]\n",
      "[1.8603997e-09 9.9999213e-01 7.8413696e-06]\n",
      "[1.7618994e-03 3.7796821e-05 9.9820030e-01]\n",
      "[1.1231305e-01 6.3440595e-09 8.8768697e-01]\n",
      "[1.1746041e-06 4.2569201e-08 9.9999881e-01]\n",
      "[1.4777451e-05 5.8030155e-03 9.9418217e-01]\n",
      "[9.5578116e-07 9.9967968e-01 3.1934178e-04]\n",
      "[1.2148263e-05 5.7743432e-07 9.9998724e-01]\n",
      "[1.2944844e-05 2.4885676e-07 9.9998677e-01]\n",
      "[9.7918373e-06 2.8127432e-04 9.9970895e-01]\n",
      "[3.4107095e-05 3.9334708e-07 9.9996555e-01]\n",
      "[7.5115013e-01 8.3079095e-07 2.4884906e-01]\n",
      "[8.8885349e-01 2.4563766e-07 1.1114634e-01]\n",
      "[1.5130427e-03 5.6272828e-08 9.9848688e-01]\n",
      "[2.2345406e-05 5.0219351e-06 9.9997258e-01]\n",
      "[1.9515177e-02 3.1221731e-07 9.8048455e-01]\n",
      "[1.1826646e-06 3.7289387e-06 9.9999511e-01]\n",
      "[5.2015297e-05 1.4396167e-06 9.9994659e-01]\n",
      "[2.8779719e-02 6.1480628e-06 9.7121418e-01]\n",
      "[1.28063175e-05 9.98385596e-10 9.99987245e-01]\n",
      "[9.5295084e-01 5.9758969e-11 4.7049176e-02]\n",
      "[4.9567986e-02 3.5816694e-07 9.5043170e-01]\n",
      "[2.6857688e-05 7.2708167e-04 9.9924612e-01]\n",
      "[1.00110134e-04 6.67768916e-07 9.99899268e-01]\n",
      "[9.9975771e-01 8.9663409e-11 2.4230978e-04]\n",
      "[1.8113368e-06 4.2485813e-06 9.9999392e-01]\n",
      "[1.2397819e-05 1.7250019e-07 9.9998748e-01]\n",
      "[1.1538839e-02 9.5866725e-04 9.8750257e-01]\n",
      "[5.3265232e-09 9.9999869e-01 1.3266300e-06]\n",
      "[2.0815097e-08 9.9995279e-01 4.7159476e-05]\n",
      "[1.0537581e-05 9.9860209e-01 1.3873639e-03]\n",
      "[9.9999797e-01 1.4162439e-09 2.0388441e-06]\n",
      "[6.0842567e-06 2.0005318e-10 9.9999392e-01]\n",
      "[9.5658481e-01 1.0718809e-06 4.3414127e-02]\n",
      "[9.9986446e-01 2.0042150e-09 1.3555051e-04]\n",
      "[3.4839644e-07 3.5146741e-10 9.9999964e-01]\n",
      "[9.99895215e-01 9.48236489e-11 1.04727864e-04]\n",
      "[3.4149384e-04 1.5571047e-06 9.9965692e-01]\n",
      "[9.9998558e-01 3.1914376e-12 1.4400731e-05]\n",
      "[4.7227463e-06 3.6860339e-07 9.9999487e-01]\n",
      "[3.3700105e-03 2.8619361e-08 9.9662989e-01]\n",
      "[7.219364e-02 2.070224e-08 9.278063e-01]\n",
      "[4.7808996e-04 9.9933004e-01 1.9188551e-04]\n",
      "[1.7275346e-02 2.1971716e-04 9.8250490e-01]\n",
      "[9.9999726e-01 9.1521174e-10 2.7424428e-06]\n",
      "[3.1233814e-03 6.2217794e-08 9.9687660e-01]\n",
      "[8.0535746e-01 9.0014296e-08 1.9464245e-01]\n",
      "[2.0075686e-06 9.9350703e-01 6.4910022e-03]\n",
      "[3.7544721e-06 1.8806837e-05 9.9997747e-01]\n",
      "[4.4365003e-04 6.0027814e-09 9.9955636e-01]\n",
      "[9.99881983e-01 2.35383231e-06 1.15595976e-04]\n",
      "[9.9792624e-01 1.2488616e-07 2.0735834e-03]\n",
      "[1.1826514e-05 1.1536991e-04 9.9987280e-01]\n",
      "[1.7545036e-04 8.7526708e-08 9.9982446e-01]\n",
      "[9.9906594e-01 1.2972758e-09 9.3403563e-04]\n",
      "[9.8955041e-01 2.9495424e-09 1.0449598e-02]\n",
      "[4.8562051e-06 1.6561719e-06 9.9999344e-01]\n",
      "[5.3704497e-07 4.6741736e-08 9.9999940e-01]\n",
      "[4.3808272e-06 8.0139844e-06 9.9998760e-01]\n",
      "[1.0650301e-05 3.1095977e-05 9.9995828e-01]\n",
      "[8.343266e-03 2.478796e-06 9.916543e-01]\n",
      "[5.8300786e-05 1.6937865e-05 9.9992478e-01]\n",
      "[1.1083246e-08 9.9932301e-01 6.7698967e-04]\n",
      "[9.9999523e-01 4.1891293e-10 4.7143062e-06]\n",
      "[7.6022050e-05 3.6915719e-06 9.9992025e-01]\n",
      "[4.8093439e-06 2.0845453e-04 9.9978679e-01]\n",
      "[1.4760445e-06 9.9999797e-01 5.8224202e-07]\n",
      "[8.18231365e-06 1.10458284e-04 9.99881387e-01]\n",
      "[2.5648109e-05 1.6597616e-06 9.9997270e-01]\n",
      "[4.6198034e-10 9.9999988e-01 1.3808585e-07]\n",
      "[1.3219323e-03 2.9616638e-08 9.9867803e-01]\n",
      "[2.2279218e-02 1.4950680e-06 9.7771931e-01]\n",
      "[5.8736285e-05 8.1652935e-05 9.9985957e-01]\n",
      "[7.1569129e-06 1.0882243e-04 9.9988401e-01]\n",
      "[2.0174332e-06 6.6657509e-07 9.9999726e-01]\n",
      "[1.3134886e-07 9.9999845e-01 1.4758496e-06]\n",
      "[5.3031075e-01 5.5517467e-06 4.6968368e-01]\n",
      "[9.4388037e-07 3.1523227e-06 9.9999595e-01]\n",
      "[9.9425274e-01 4.2401398e-06 5.7429224e-03]\n",
      "[3.4521014e-05 1.8699748e-07 9.9996531e-01]\n",
      "[6.2635507e-07 9.9893397e-01 1.0653923e-03]\n",
      "[4.5187871e-06 5.7319166e-06 9.9998975e-01]\n",
      "[9.9999940e-01 5.1012444e-13 6.5084595e-07]\n",
      "[2.9496010e-04 3.2257137e-04 9.9938250e-01]\n",
      "[7.8262528e-06 2.4280500e-05 9.9996793e-01]\n",
      "[9.9943393e-01 6.0269080e-08 5.6590314e-04]\n",
      "[3.6917857e-07 3.4617835e-09 9.9999964e-01]\n",
      "[1.4257203e-05 3.5170638e-03 9.9646866e-01]\n",
      "[2.2220913e-06 7.3703122e-05 9.9992406e-01]\n",
      "[5.2551525e-07 5.8118854e-10 9.9999952e-01]\n",
      "[2.2531037e-04 1.2950318e-07 9.9977452e-01]\n",
      "[9.9981982e-01 1.0054337e-09 1.8026643e-04]\n",
      "[9.2543269e-05 1.0321554e-06 9.9990642e-01]\n",
      "[4.7790877e-06 1.0369707e-07 9.9999511e-01]\n",
      "[7.6206267e-01 2.0718514e-07 2.3793717e-01]\n",
      "[6.9849066e-06 1.6174162e-07 9.9999285e-01]\n",
      "[9.7920233e-01 5.2410892e-06 2.0792382e-02]\n",
      "[6.0162455e-01 6.8609709e-09 3.9837545e-01]\n",
      "[2.2974671e-05 2.2601403e-09 9.9997699e-01]\n",
      "[2.4431215e-06 1.3583812e-10 9.9999762e-01]\n",
      "[3.0205324e-06 8.3888790e-10 9.9999702e-01]\n",
      "[5.6036836e-08 9.9984694e-01 1.5303471e-04]\n",
      "[9.994844e-01 8.301984e-11 5.154973e-04]\n",
      "[6.2731408e-07 4.3121904e-07 9.9999893e-01]\n",
      "[2.6643309e-06 2.8502327e-04 9.9971229e-01]\n",
      "[6.219339e-06 8.145446e-08 9.999937e-01]\n",
      "[3.1074537e-06 1.8518462e-07 9.9999666e-01]\n",
      "[9.533864e-08 9.995766e-01 4.233079e-04]\n",
      "[5.7410212e-05 7.1912251e-07 9.9994183e-01]\n",
      "[1.6010721e-04 6.9029507e-09 9.9983990e-01]\n",
      "[1.5930048e-07 1.3194583e-08 9.9999988e-01]\n",
      "[4.9729883e-03 5.8202692e-09 9.9502701e-01]\n",
      "[4.703896e-08 2.677694e-09 1.000000e+00]\n",
      "[1.0943582e-04 1.1156284e-01 8.8832766e-01]\n",
      "[3.1088683e-04 6.9954672e-06 9.9968219e-01]\n",
      "[3.8261857e-04 5.5718625e-09 9.9961734e-01]\n",
      "[1.0279661e-05 1.0298919e-03 9.9895978e-01]\n",
      "[1.9204322e-01 4.1850727e-09 8.0795676e-01]\n",
      "[7.1715104e-04 1.2875827e-09 9.9928290e-01]\n",
      "[5.4077412e-07 8.7566766e-11 9.9999940e-01]\n",
      "[2.8918516e-03 2.5996434e-09 9.9710816e-01]\n",
      "[9.8914248e-01 6.7021708e-09 1.0857504e-02]\n",
      "[4.0227178e-06 4.2270545e-11 9.9999595e-01]\n",
      "[9.9174303e-01 3.5735102e-05 8.2212966e-03]\n",
      "[6.7954332e-01 2.4128733e-06 3.2045430e-01]\n",
      "[9.9110109e-01 1.1563104e-11 8.8989008e-03]\n",
      "[2.2862481e-04 2.0549744e-10 9.9977142e-01]\n",
      "[5.2428753e-05 8.6090793e-08 9.9994743e-01]\n",
      "[1.5845448e-03 1.7576811e-05 9.9839789e-01]\n",
      "[7.0396884e-05 4.5293055e-07 9.9992919e-01]\n",
      "[2.8897228e-08 9.9999785e-01 2.0884797e-06]\n",
      "[9.87924337e-01 2.53703474e-05 1.20503465e-02]\n",
      "[1.5575632e-06 1.4064407e-04 9.9985778e-01]\n",
      "[8.1046965e-06 1.1372837e-07 9.9999177e-01]\n",
      "[5.6004149e-01 1.3935104e-06 4.3995708e-01]\n",
      "[9.999503e-01 4.752202e-09 4.974171e-05]\n",
      "[7.6130664e-06 1.1824824e-11 9.9999237e-01]\n",
      "[9.1947879e-07 7.3755295e-08 9.9999905e-01]\n",
      "[9.9999833e-01 1.0227032e-12 1.6857942e-06]\n",
      "[4.0081114e-04 2.6261469e-06 9.9959654e-01]\n",
      "[9.9789137e-01 1.2379194e-09 2.1085907e-03]\n",
      "[8.1816412e-05 5.6428646e-05 9.9986172e-01]\n",
      "[9.7729546e-01 7.5339720e-08 2.2704378e-02]\n",
      "[9.8275352e-01 4.8070055e-05 1.7198453e-02]\n",
      "[3.0528245e-05 7.2218493e-09 9.9996948e-01]\n",
      "[9.9954706e-01 3.4607315e-09 4.5287239e-04]\n",
      "[9.9690610e-01 8.5034662e-06 3.0853094e-03]\n",
      "[3.6130107e-06 9.9997377e-01 2.2702045e-05]\n",
      "[1.0717922e-05 3.8304918e-08 9.9998927e-01]\n",
      "[2.0070921e-03 5.2188275e-06 9.9798763e-01]\n",
      "[9.9958509e-01 3.6518744e-05 3.7848880e-04]\n",
      "[9.9952102e-01 3.4855293e-07 4.7868458e-04]\n",
      "[2.883641e-04 3.193239e-10 9.997116e-01]\n",
      "[4.2810792e-05 1.4097878e-04 9.9981624e-01]\n",
      "[3.7064406e-04 7.4276379e-08 9.9962926e-01]\n",
      "[9.9998903e-01 4.5894774e-11 1.0921236e-05]\n",
      "[9.9423569e-01 1.2018908e-10 5.7643554e-03]\n",
      "[5.533440e-06 4.014181e-08 9.999944e-01]\n",
      "[1.2887963e-05 4.3765217e-04 9.9954945e-01]\n",
      "[1.9764871e-05 7.6640612e-01 2.3357417e-01]\n",
      "[9.9343252e-01 1.0029727e-08 6.5674651e-03]\n",
      "[1.0041203e-02 4.2624590e-05 9.8991615e-01]\n",
      "[9.9958915e-01 9.4322224e-12 4.1087359e-04]\n",
      "[9.3861207e-02 4.4093346e-07 9.0613830e-01]\n",
      "[9.5896977e-01 3.0344212e-04 4.0726800e-02]\n",
      "[1.550553e-05 6.631203e-05 9.999182e-01]\n",
      "[1.5778740e-05 3.1995564e-09 9.9998426e-01]\n",
      "[9.9464887e-01 1.0363681e-08 5.3511485e-03]\n",
      "[7.888363e-03 5.547428e-07 9.921111e-01]\n",
      "[6.1980244e-03 1.1080443e-05 9.9379092e-01]\n",
      "[9.301412e-05 4.880930e-06 9.999021e-01]\n",
      "[2.575234e-04 1.341864e-03 9.984006e-01]\n",
      "[5.9804047e-06 4.7466954e-05 9.9994659e-01]\n",
      "[1.3812851e-06 2.5855181e-07 9.9999833e-01]\n",
      "[6.3668534e-07 2.8310799e-06 9.9999654e-01]\n",
      "[9.8625642e-05 5.4237665e-07 9.9990082e-01]\n",
      "[1.3300136e-04 9.4529608e-04 9.9892175e-01]\n",
      "[3.2348883e-01 5.9215616e-08 6.7651105e-01]\n",
      "[3.6126582e-06 1.9818495e-08 9.9999642e-01]\n",
      "[4.4945478e-01 3.7938765e-08 5.5054516e-01]\n",
      "[9.9880755e-01 9.0176053e-07 1.1915421e-03]\n",
      "[8.92388262e-03 1.17963125e-07 9.91075993e-01]\n",
      "[2.0514900e-08 9.9991584e-01 8.4199099e-05]\n",
      "[9.9580175e-01 4.5065121e-09 4.1982313e-03]\n",
      "[5.840130e-06 8.521454e-07 9.999933e-01]\n",
      "[2.1881433e-04 7.3672328e-03 9.9241394e-01]\n",
      "[9.9140960e-01 5.2762687e-07 8.5899960e-03]\n",
      "[0.99353975 0.00310398 0.0033563 ]\n"
     ]
    },
    {
     "name": "stdout",
     "output_type": "stream",
     "text": [
      "[1.42885965e-05 1.13439858e-09 9.99985695e-01]\n",
      "[9.9998319e-01 1.4774737e-11 1.6809166e-05]\n",
      "[3.142182e-04 3.701924e-04 9.993156e-01]\n",
      "[7.809455e-04 1.447435e-06 9.992176e-01]\n",
      "[1.3646383e-08 9.9982017e-01 1.7980635e-04]\n",
      "[9.9999988e-01 1.6952102e-12 1.3585831e-07]\n",
      "[1.6532398e-05 1.8445455e-07 9.9998331e-01]\n",
      "[3.5841588e-04 2.6318057e-05 9.9961519e-01]\n",
      "[2.3272477e-01 3.6349937e-07 7.6727492e-01]\n",
      "[6.2060077e-05 1.6972665e-08 9.9993789e-01]\n",
      "[2.8471892e-09 9.9999785e-01 2.1936939e-06]\n",
      "[2.4268568e-04 4.4072912e-08 9.9975723e-01]\n",
      "[6.426350e-04 5.893908e-09 9.993574e-01]\n",
      "[4.8458037e-06 1.2179247e-07 9.9999499e-01]\n",
      "[1.3580289e-02 2.1759872e-07 9.8641950e-01]\n",
      "[3.1642344e-02 6.0623427e-07 9.6835709e-01]\n",
      "[6.6021785e-05 8.9067548e-08 9.9993384e-01]\n",
      "[9.9999511e-01 8.0818141e-10 4.9369705e-06]\n",
      "[9.7999889e-01 3.1381649e-06 1.9997999e-02]\n",
      "[9.9878830e-01 1.2152177e-09 1.2117242e-03]\n",
      "[9.9619919e-01 3.4451873e-06 3.7973456e-03]\n",
      "[8.2452238e-01 5.6425232e-08 1.7547755e-01]\n",
      "[1.9334268e-03 1.9919543e-07 9.9806637e-01]\n",
      "[1.6211543e-02 2.3583077e-07 9.8378825e-01]\n",
      "[4.5654233e-05 8.8483958e-09 9.9995434e-01]\n",
      "[5.2294007e-07 2.3676257e-09 9.9999952e-01]\n",
      "[9.9998558e-01 2.9424266e-10 1.4457039e-05]\n",
      "[1.8209463e-04 1.1852175e-06 9.9981672e-01]\n",
      "[3.0225983e-08 8.1911764e-08 9.9999988e-01]\n",
      "[9.9919957e-01 8.6223530e-08 8.0029969e-04]\n",
      "[1.0206824e-06 9.9997807e-01 2.0831325e-05]\n",
      "[9.736979e-09 9.999994e-01 5.515699e-07]\n",
      "[4.9564051e-06 1.9006674e-07 9.9999487e-01]\n",
      "[9.9608922e-01 1.2983473e-06 3.9095082e-03]\n",
      "[1.0450705e-08 9.9980360e-01 1.9645033e-04]\n",
      "[3.1760412e-01 1.7987255e-05 6.8237787e-01]\n",
      "[7.4943688e-07 9.9885568e-08 9.9999917e-01]\n",
      "[3.3384739e-04 1.8480106e-06 9.9966431e-01]\n",
      "[3.4212373e-02 8.2668492e-05 9.6570498e-01]\n",
      "[1.2143324e-05 3.1493762e-08 9.9998784e-01]\n",
      "[5.4390007e-01 9.1652623e-08 4.5609987e-01]\n",
      "[9.9930549e-01 4.1232294e-08 6.9455296e-04]\n",
      "[1.5720895e-04 1.1880308e-06 9.9984157e-01]\n",
      "[3.2494836e-03 9.7462798e-06 9.9674076e-01]\n",
      "[0.9770249  0.0105376  0.01243749]\n",
      "[3.0222307e-06 3.3888916e-06 9.9999356e-01]\n",
      "[9.4431674e-04 8.6635197e-09 9.9905568e-01]\n",
      "[8.3064464e-05 9.9989462e-01 2.2290287e-05]\n",
      "[9.7893508e-07 1.1348339e-05 9.9998772e-01]\n",
      "[4.0966265e-07 6.0151961e-10 9.9999964e-01]\n",
      "[2.0666804e-09 9.9999988e-01 1.4580434e-07]\n",
      "[9.5738548e-01 3.5800831e-06 4.2610988e-02]\n",
      "[2.2064425e-05 3.3295692e-06 9.9997461e-01]\n",
      "[9.925391e-01 5.011685e-07 7.460464e-03]\n",
      "[9.9484986e-01 2.1343861e-10 5.1500662e-03]\n",
      "[4.9015001e-05 1.0532813e-05 9.9994040e-01]\n",
      "[3.6520332e-06 5.3525371e-05 9.9994278e-01]\n",
      "[3.9160921e-05 3.9463188e-03 9.9601460e-01]\n",
      "[3.0233865e-05 1.8788862e-05 9.9995100e-01]\n",
      "[1.2261048e-04 9.0553435e-08 9.9987733e-01]\n",
      "[9.9583340e-01 3.3789229e-09 4.1665845e-03]\n",
      "[2.1800397e-05 5.9681122e-09 9.9997818e-01]\n",
      "[9.9998677e-01 8.8013076e-11 1.3251783e-05]\n",
      "[4.110427e-03 7.254687e-09 9.958896e-01]\n",
      "[8.1249573e-06 9.9939513e-01 5.9679366e-04]\n",
      "[1.9279738e-04 4.1964413e-03 9.9561077e-01]\n",
      "[3.0891581e-05 5.3514856e-07 9.9996853e-01]\n",
      "[2.6476595e-03 1.9542595e-06 9.9735034e-01]\n",
      "[4.96991879e-06 1.07213246e-07 9.99994874e-01]\n",
      "[2.4109871e-05 9.9436593e-01 5.6100772e-03]\n",
      "[8.5586947e-01 7.8308373e-04 1.4334743e-01]\n",
      "[2.7433220e-01 9.5760166e-05 7.2557211e-01]\n",
      "[2.9063633e-05 2.2526665e-06 9.9996865e-01]\n",
      "[1.5425243e-05 2.4260368e-07 9.9998438e-01]\n",
      "[4.0382231e-04 7.0813724e-09 9.9959618e-01]\n",
      "[2.0037625e-05 3.5780727e-09 9.9997997e-01]\n",
      "[5.0868694e-05 1.6294180e-06 9.9994755e-01]\n",
      "[3.6664958e-06 9.9999547e-01 8.6473653e-07]\n",
      "[2.4760349e-05 2.0570652e-09 9.9997520e-01]\n",
      "[8.4415287e-01 4.2226678e-10 1.5584715e-01]\n",
      "[9.9999177e-01 1.3375504e-07 8.0992568e-06]\n",
      "[7.7836658e-06 1.6533293e-10 9.9999225e-01]\n",
      "[1.4975924e-03 1.8306238e-05 9.9848408e-01]\n",
      "[9.0238470e-01 2.8338602e-07 9.7615004e-02]\n",
      "[4.0317072e-08 9.9999464e-01 5.3983094e-06]\n",
      "[9.653927e-03 3.307919e-08 9.903460e-01]\n",
      "[2.3245798e-02 1.2739642e-07 9.7675407e-01]\n",
      "[9.9751747e-01 5.6642348e-05 2.4258937e-03]\n",
      "[9.9999881e-01 4.2408650e-12 1.1997889e-06]\n",
      "[1.6177175e-06 1.0331298e-06 9.9999738e-01]\n",
      "[4.9058006e-05 5.1680827e-06 9.9994576e-01]\n",
      "[5.6449437e-07 5.5591223e-11 9.9999940e-01]\n",
      "[8.9774767e-06 3.6501451e-06 9.9998736e-01]\n",
      "[8.0688304e-04 4.8762015e-03 9.9431688e-01]\n",
      "[1.6719727e-04 2.7036482e-09 9.9983275e-01]\n",
      "[6.2122234e-07 9.9384636e-01 6.1530555e-03]\n",
      "[9.9999797e-01 3.8798808e-11 2.0602899e-06]\n",
      "[9.9294043e-01 1.3892162e-05 7.0456667e-03]\n",
      "[9.9970585e-01 4.5312937e-10 2.9411999e-04]\n",
      "[3.7013348e-03 1.4090162e-06 9.9629730e-01]\n",
      "[9.150375e-01 4.043044e-06 8.495848e-02]\n",
      "[1.3895394e-04 2.5899708e-02 9.7396129e-01]\n",
      "[4.5635603e-05 2.1403349e-10 9.9995434e-01]\n",
      "[9.9998045e-01 1.2364275e-08 1.9605279e-05]\n",
      "[0.9934695  0.00486982 0.00166069]\n",
      "[9.9947697e-01 3.5706277e-10 5.2300317e-04]\n",
      "[3.8202864e-01 3.9998326e-05 6.1793143e-01]\n",
      "[3.2630915e-06 2.6081364e-06 9.9999416e-01]\n",
      "[2.9209608e-03 2.5462106e-07 9.9707878e-01]\n",
      "[2.9217401e-03 2.3307084e-07 9.9707806e-01]\n",
      "[1.0915780e-05 4.0983235e-08 9.9998903e-01]\n",
      "[7.5248508e-08 1.3726839e-09 9.9999988e-01]\n",
      "[1.757961e-05 3.936406e-10 9.999825e-01]\n",
      "[1.7719252e-04 4.5660277e-06 9.9981827e-01]\n",
      "[1.5672977e-06 2.3122881e-04 9.9976724e-01]\n",
      "[2.5258381e-03 2.6025944e-07 9.9747390e-01]\n",
      "[3.3609460e-06 1.4483371e-04 9.9985182e-01]\n",
      "[3.7212632e-07 9.9984252e-01 1.5709896e-04]\n",
      "[1.1538052e-04 2.0402190e-08 9.9988461e-01]\n",
      "[9.9995816e-01 7.1752876e-10 4.1843214e-05]\n",
      "[7.7985995e-04 1.7131878e-06 9.9921846e-01]\n",
      "[9.9998701e-01 4.6983440e-13 1.2990219e-05]\n",
      "[8.5467918e-06 1.4432894e-04 9.9984705e-01]\n",
      "[4.0188382e-09 9.9999857e-01 1.4229809e-06]\n",
      "[1.9557257e-05 3.7024105e-03 9.9627799e-01]\n",
      "[1.7602254e-04 5.3180747e-07 9.9982351e-01]\n",
      "[9.9796957e-01 1.7362112e-11 2.0303733e-03]\n",
      "[2.0046491e-06 4.5983228e-07 9.9999750e-01]\n",
      "[1.6198663e-06 1.5748411e-07 9.9999821e-01]\n",
      "[9.9990153e-01 7.2061346e-07 9.7778444e-05]\n",
      "[9.8893613e-01 1.3668499e-09 1.1063851e-02]\n",
      "[3.0370745e-01 6.1032253e-08 6.9629252e-01]\n",
      "[9.9999988e-01 4.9709976e-11 1.5101193e-07]\n",
      "[7.6404163e-03 3.9409417e-11 9.9235958e-01]\n",
      "[2.4144506e-06 6.0230072e-08 9.9999750e-01]\n",
      "[1.0294127e-06 5.7149986e-08 9.9999893e-01]\n",
      "[3.9652154e-05 2.7385858e-04 9.9968648e-01]\n",
      "[9.9368083e-01 2.0150519e-10 6.3192048e-03]\n",
      "[1.3051064e-03 6.9988614e-06 9.9868792e-01]\n",
      "[8.3948427e-01 1.2709173e-09 1.6051568e-01]\n",
      "[0.92179495 0.0040673  0.07413768]\n",
      "[9.0829324e-04 2.3197384e-08 9.9909174e-01]\n",
      "[1.4869336e-02 2.2835584e-06 9.8512846e-01]\n",
      "[2.3002916e-05 7.2092990e-07 9.9997628e-01]\n",
      "[1.6591384e-05 2.1182843e-03 9.9786514e-01]\n",
      "[1.60917546e-06 1.09243694e-04 9.99889135e-01]\n",
      "[9.9853766e-01 1.1249065e-06 1.4613123e-03]\n",
      "[8.8537763e-06 3.2108545e-04 9.9967003e-01]\n",
      "[9.9998784e-01 1.4146264e-12 1.2179892e-05]\n",
      "[7.5265787e-05 1.1451031e-05 9.9991333e-01]\n",
      "[9.9761081e-01 2.5336629e-08 2.3892077e-03]\n",
      "[1.7770512e-06 9.9998629e-01 1.1948475e-05]\n",
      "[5.1894704e-06 6.5702479e-06 9.9998820e-01]\n",
      "[6.7939645e-06 4.5470888e-06 9.9998868e-01]\n",
      "[9.9816412e-01 1.7617169e-06 1.8341013e-03]\n",
      "[2.8023367e-05 3.2920941e-10 9.9997199e-01]\n",
      "[1.2739503e-04 2.7807766e-07 9.9987233e-01]\n",
      "[1.7824598e-02 1.7750211e-06 9.8217356e-01]\n",
      "[9.5540636e-06 2.5729059e-06 9.9998784e-01]\n",
      "[6.7454734e-05 1.3848511e-06 9.9993110e-01]\n",
      "[3.8351309e-06 1.2192687e-06 9.9999499e-01]\n",
      "[3.2107548e-06 3.0004287e-06 9.9999380e-01]\n",
      "[1.3742270e-04 3.8800687e-07 9.9986219e-01]\n",
      "[2.2014874e-05 2.9394343e-08 9.9997795e-01]\n",
      "[7.2664086e-05 1.2000606e-09 9.9992728e-01]\n",
      "[1.7205950e-06 5.3291252e-08 9.9999821e-01]\n",
      "[2.4076082e-06 9.9672666e-03 9.9003029e-01]\n",
      "[1.9485033e-06 1.2036942e-07 9.9999797e-01]\n",
      "[1.4371633e-02 2.0190129e-08 9.8562837e-01]\n",
      "[1.4911667e-07 9.9980885e-01 1.9103943e-04]\n",
      "[1.6655926e-02 2.6475928e-07 9.8334378e-01]\n",
      "[8.9696159e-06 4.7122458e-07 9.9999058e-01]\n",
      "[3.1539098e-06 2.2521699e-07 9.9999666e-01]\n",
      "[4.9306364e-03 6.0470144e-09 9.9506938e-01]\n",
      "[9.99880075e-01 5.86253890e-09 1.19877164e-04]\n",
      "[5.9476076e-04 1.5000992e-06 9.9940372e-01]\n",
      "[3.046182e-04 7.282761e-08 9.996953e-01]\n",
      "[1.9386653e-06 9.9999547e-01 2.6697637e-06]\n",
      "[1.7897401e-02 1.9034375e-06 9.8210067e-01]\n"
     ]
    }
   ],
   "source": [
    "cphy_pred_norm = np.empty(cphy_test.size, dtype='int32')\n",
    "\n",
    "for i in range(cphy_test.size):\n",
    "    ind = np.argmax(cphy_pred[i])\n",
    "    cphy_pred_norm[i] = ind"
   ]
  },
  {
   "cell_type": "code",
   "execution_count": 68,
   "metadata": {},
   "outputs": [
    {
     "name": "stdout",
     "output_type": "stream",
     "text": [
      "              precision    recall  f1-score   support\n",
      "\n",
      "           0       0.94      0.91      0.93       314\n",
      "           1       0.96      1.00      0.98       107\n",
      "           2       0.97      0.98      0.97       851\n",
      "\n",
      "    accuracy                           0.96      1272\n",
      "   macro avg       0.96      0.96      0.96      1272\n",
      "weighted avg       0.96      0.96      0.96      1272\n",
      "\n"
     ]
    }
   ],
   "source": [
    "print(classification_report(cphy_test, cphy_pred_norm))"
   ]
  },
  {
   "cell_type": "code",
   "execution_count": 69,
   "metadata": {},
   "outputs": [
    {
     "data": {
      "image/png": "[encoded data removed]",
      "text/plain": [
       "<Figure size 432x288 with 2 Axes>"
      ]
     },
     "metadata": {
      "needs_background": "light"
     },
     "output_type": "display_data"
    }
   ],
   "source": [
    "plot_cm(cphy_test, cphy_pred_norm, \"Healthy(0)/COVID(1)/Pneumonia(2)\")"
   ]
  },
  {
   "cell_type": "markdown",
   "metadata": {},
   "source": [
    "## 4. COVID Not Intubated/COVID Intubated"
   ]
  },
  {
   "cell_type": "code",
   "execution_count": 82,
   "metadata": {},
   "outputs": [],
   "source": [
    "cc_images = normalize_images(cc, \"all_images/\")"
   ]
  },
  {
   "cell_type": "code",
   "execution_count": 97,
   "metadata": {},
   "outputs": [],
   "source": [
    "ccx_train, ccy_train, ccx_val, ccy_val, ccx_test, ccy_test = split_data(cc_images, cc['target'], .2)"
   ]
  },
  {
   "cell_type": "code",
   "execution_count": 98,
   "metadata": {},
   "outputs": [
    {
     "name": "stdout",
     "output_type": "stream",
     "text": [
      "Epoch 1/10\n",
      "7/7 [==============================] - 17s 2s/step - loss: 7.6693 - recall_6: 0.4493 - precision_6: 0.6327 - val_loss: 1.3902 - val_recall_6: 1.0000 - val_precision_6: 0.6000\n",
      "Epoch 2/10\n",
      "7/7 [==============================] - 18s 3s/step - loss: 1.2286 - recall_6: 0.9565 - precision_6: 0.7097 - val_loss: 1.6183 - val_recall_6: 0.0667 - val_precision_6: 1.0000\n",
      "Epoch 3/10\n",
      "7/7 [==============================] - 18s 3s/step - loss: 0.8965 - recall_6: 0.6377 - precision_6: 0.8000 - val_loss: 1.7391 - val_recall_6: 1.0000 - val_precision_6: 0.6000\n",
      "Epoch 00003: early stopping\n"
     ]
    }
   ],
   "source": [
    "cc_model = create_model(2)\n",
    "\n",
    "cc_history = cc_model.fit(ccx_train, np.asarray(ccy_train), epochs=10,\n",
    "                               validation_data=(ccx_val, ccy_val),\n",
    "                               batch_size=bs,\n",
    "                               callbacks=callbacks\n",
    "                               )"
   ]
  },
  {
   "cell_type": "code",
   "execution_count": 99,
   "metadata": {},
   "outputs": [],
   "source": [
    "ccy_pred = cc_model.predict(ccx_test)"
   ]
  },
  {
   "cell_type": "code",
   "execution_count": 100,
   "metadata": {},
   "outputs": [],
   "source": [
    "ccy_pred_norm = convert_pred(ccy_pred, threshold)"
   ]
  },
  {
   "cell_type": "code",
   "execution_count": 101,
   "metadata": {},
   "outputs": [
    {
     "name": "stdout",
     "output_type": "stream",
     "text": [
      "              precision    recall  f1-score   support\n",
      "\n",
      "           0       1.00      0.11      0.20         9\n",
      "           1       0.76      1.00      0.86        25\n",
      "\n",
      "    accuracy                           0.76        34\n",
      "   macro avg       0.88      0.56      0.53        34\n",
      "weighted avg       0.82      0.76      0.69        34\n",
      "\n"
     ]
    }
   ],
   "source": [
    "print(classification_report(ccy_test, ccy_pred_norm))"
   ]
  },
  {
   "cell_type": "code",
   "execution_count": 102,
   "metadata": {},
   "outputs": [
    {
     "data": {
      "image/png": "[encoded data removed]",
      "text/plain": [
       "<Figure size 432x288 with 2 Axes>"
      ]
     },
     "metadata": {
      "needs_background": "light"
     },
     "output_type": "display_data"
    }
   ],
   "source": [
    "plot_cm(ccy_test, ccy_pred_norm, \"COVID Not Intubated(0)/COVID Intubated(1) - VGG19\")"
   ]
  },
  {
   "cell_type": "code",
   "execution_count": 70,
   "metadata": {},
   "outputs": [
    {
     "data": {
      "image/png": "[encoded data removed]",
      "text/plain": [
       "<Figure size 432x288 with 1 Axes>"
      ]
     },
     "metadata": {
      "needs_background": "light"
     },
     "output_type": "display_data"
    }
   ],
   "source": [
    "plot_ROC(ccy_test, ccy_pred_norm.ravel(), \"COVID Not Intubated/COVID Intubated\")"
   ]
  },
  {
   "cell_type": "code",
   "execution_count": 71,
   "metadata": {},
   "outputs": [
    {
     "data": {
      "image/png": "[encoded data removed]",
      "text/plain": [
       "<Figure size 432x288 with 1 Axes>"
      ]
     },
     "metadata": {
      "needs_background": "light"
     },
     "output_type": "display_data"
    }
   ],
   "source": [
    "plot_pr(ccy_test, ccy_pred, \"COVID Not Intubated/COVID Intubated\")"
   ]
  },
  {
   "cell_type": "markdown",
   "metadata": {},
   "source": [
    "# Part 1: VGG19 With Augmentation"
   ]
  },
  {
   "cell_type": "markdown",
   "metadata": {},
   "source": [
    "## 1. COVID Not Intubated/COVID Intubated Augmented"
   ]
  },
  {
   "cell_type": "code",
   "execution_count": 83,
   "metadata": {},
   "outputs": [],
   "source": [
    "ccax_train, ccay_train, ccax_val, ccay_val, ccax_test, ccay_test = split_data(cc_images, cc['target'], .2)"
   ]
  },
  {
   "cell_type": "code",
   "execution_count": 84,
   "metadata": {},
   "outputs": [],
   "source": [
    "ccax_train, ccay_train = augment_images(ccax_train, ccay_train)"
   ]
  },
  {
   "cell_type": "code",
   "execution_count": 85,
   "metadata": {},
   "outputs": [
    {
     "name": "stdout",
     "output_type": "stream",
     "text": [
      "Epoch 1/10\n",
      "107/107 [==============================] - 261s 2s/step - loss: 1.2323 - recall_5: 0.8388 - precision_5: 0.7942 - val_loss: 0.5314 - val_recall_5: 0.8000 - val_precision_5: 0.7500\n",
      "Epoch 2/10\n",
      "107/107 [==============================] - 266s 2s/step - loss: 0.1903 - recall_5: 0.9846 - precision_5: 0.9259 - val_loss: 0.6419 - val_recall_5: 0.9333 - val_precision_5: 0.6667\n",
      "Epoch 3/10\n",
      "107/107 [==============================] - 298s 3s/step - loss: 0.1131 - recall_5: 0.9855 - precision_5: 0.9577 - val_loss: 0.5261 - val_recall_5: 0.8000 - val_precision_5: 0.7500\n",
      "Epoch 00003: early stopping\n"
     ]
    }
   ],
   "source": [
    "cca_model = create_model(2)\n",
    "\n",
    "cca_history = cca_model.fit(ccax_train, np.asarray(ccay_train), epochs=10,\n",
    "                               validation_data=(ccax_val, ccay_val),\n",
    "                               batch_size=bs,\n",
    "                               callbacks=callbacks\n",
    "                               )"
   ]
  },
  {
   "cell_type": "code",
   "execution_count": 95,
   "metadata": {},
   "outputs": [
    {
     "name": "stdout",
     "output_type": "stream",
     "text": [
      "WARNING:tensorflow:From /Users/gdosulli/opt/anaconda3/lib/python3.8/site-packages/tensorflow/python/training/tracking/tracking.py:111: Model.state_updates (from tensorflow.python.keras.engine.training) is deprecated and will be removed in a future version.\n",
      "Instructions for updating:\n",
      "This property should not be used in TensorFlow 2.0, as updates are applied automatically.\n",
      "WARNING:tensorflow:From /Users/gdosulli/opt/anaconda3/lib/python3.8/site-packages/tensorflow/python/training/tracking/tracking.py:111: Layer.updates (from tensorflow.python.keras.engine.base_layer) is deprecated and will be removed in a future version.\n",
      "Instructions for updating:\n",
      "This property should not be used in TensorFlow 2.0, as updates are applied automatically.\n",
      "INFO:tensorflow:Assets written to: models/cca_model/assets\n"
     ]
    }
   ],
   "source": [
    "# save model\n",
    "cca_model.save('models/cca_model')"
   ]
  },
  {
   "cell_type": "code",
   "execution_count": 86,
   "metadata": {},
   "outputs": [],
   "source": [
    "ccay_pred = cca_model.predict(ccax_test)"
   ]
  },
  {
   "cell_type": "code",
   "execution_count": 87,
   "metadata": {},
   "outputs": [],
   "source": [
    "ccay_pred_norm = convert_pred(ccay_pred, threshold)"
   ]
  },
  {
   "cell_type": "code",
   "execution_count": 89,
   "metadata": {},
   "outputs": [
    {
     "name": "stdout",
     "output_type": "stream",
     "text": [
      "              precision    recall  f1-score   support\n",
      "\n",
      "           0       0.47      0.78      0.58         9\n",
      "           1       0.89      0.68      0.77        25\n",
      "\n",
      "    accuracy                           0.71        34\n",
      "   macro avg       0.68      0.73      0.68        34\n",
      "weighted avg       0.78      0.71      0.72        34\n",
      "\n"
     ]
    }
   ],
   "source": [
    "print(classification_report(ccay_test, ccay_pred_norm))"
   ]
  },
  {
   "cell_type": "code",
   "execution_count": 91,
   "metadata": {},
   "outputs": [
    {
     "name": "stdout",
     "output_type": "stream",
     "text": [
      "              precision    recall  f1-score   support\n",
      "\n",
      "           0       0.50      0.56      0.53         9\n",
      "           1       0.83      0.80      0.82        25\n",
      "\n",
      "    accuracy                           0.74        34\n",
      "   macro avg       0.67      0.68      0.67        34\n",
      "weighted avg       0.75      0.74      0.74        34\n",
      "\n"
     ]
    }
   ],
   "source": [
    "print(classification_report(ccay_test, ccay_pred_norm))"
   ]
  },
  {
   "cell_type": "code",
   "execution_count": 96,
   "metadata": {},
   "outputs": [
    {
     "data": {
      "image/png": "[encoded data removed]",
      "text/plain": [
       "<Figure size 432x288 with 2 Axes>"
      ]
     },
     "metadata": {
      "needs_background": "light"
     },
     "output_type": "display_data"
    }
   ],
   "source": [
    "plot_cm(ccay_test, ccay_pred_norm, \"COVID Not Intubated(0)/COVID Intubated(1) - Augmented\")"
   ]
  },
  {
   "cell_type": "code",
   "execution_count": 94,
   "metadata": {},
   "outputs": [
    {
     "data": {
      "image/png": "[encoded data removed]",
      "text/plain": [
       "<Figure size 432x288 with 1 Axes>"
      ]
     },
     "metadata": {
      "needs_background": "light"
     },
     "output_type": "display_data"
    }
   ],
   "source": [
    "plot_ROC(ccay_test, ccay_pred, \"COVID Not Intubated/COVID Intubated - Augmented\")"
   ]
  },
  {
   "cell_type": "code",
   "execution_count": 92,
   "metadata": {},
   "outputs": [
    {
     "data": {
      "image/png": "[encoded data removed]",
      "text/plain": [
       "<Figure size 432x288 with 1 Axes>"
      ]
     },
     "metadata": {
      "needs_background": "light"
     },
     "output_type": "display_data"
    }
   ],
   "source": [
    "plot_pr(ccay_test, ccay_pred, \"COVID Not Intubated/COVID Intubated - Augmented\")"
   ]
  },
  {
   "cell_type": "markdown",
   "metadata": {},
   "source": [
    "## 2. COVID/Pneumonia/Healthy Augmented"
   ]
  },
  {
   "cell_type": "code",
   "execution_count": null,
   "metadata": {},
   "outputs": [],
   "source": [
    "cphax_train, cphay_train, cphax_val, cphay_val, cphax_test, cphay_test = split_data(cph_images, cph['target'], .2)"
   ]
  },
  {
   "cell_type": "code",
   "execution_count": null,
   "metadata": {},
   "outputs": [],
   "source": [
    "cphax_train, cphay_train = augment_images(cphax_train, cphay_train)"
   ]
  },
  {
   "cell_type": "code",
   "execution_count": null,
   "metadata": {},
   "outputs": [],
   "source": [
    "cpha_model = create_model(3)\n",
    "\n",
    "cpha_history = cpha_model.fit(cphax_train, np.asarray(cphay_train), epochs=10,\n",
    "                               validation_data=(cphax_val, cphay_val),\n",
    "                               batch_size=bs,\n",
    "                               callbacks=callbacks\n",
    "                               )"
   ]
  },
  {
   "cell_type": "code",
   "execution_count": null,
   "metadata": {},
   "outputs": [],
   "source": [
    "# save model\n",
    "cpha_model.save('models/cpha_model')"
   ]
  },
  {
   "cell_type": "code",
   "execution_count": null,
   "metadata": {},
   "outputs": [],
   "source": [
    "cphay_pred = cpha_model.predict(cphax_test)"
   ]
  },
  {
   "cell_type": "code",
   "execution_count": null,
   "metadata": {},
   "outputs": [],
   "source": [
    "cphay_pred_norm = np.empty(cphay_test.size, dtype='int32')\n",
    "\n",
    "for i in range(cphay_test.size):\n",
    "    ind = np.argmax(cphay_pred[i])\n",
    "    cphay_pred_norm[i] = ind"
   ]
  },
  {
   "cell_type": "code",
   "execution_count": null,
   "metadata": {},
   "outputs": [],
   "source": [
    "print(classification_report(cphay_test, cphay_pred_norm))"
   ]
  },
  {
   "cell_type": "code",
   "execution_count": null,
   "metadata": {},
   "outputs": [],
   "source": [
    "plot_cm(cphy_test, cphy_pred_norm, \"Healthy(0)/COVID(1)/Pneumonia(2) Augmented\")"
   ]
  }
 ],
 "metadata": {
  "kernelspec": {
   "display_name": "Python 3",
   "language": "python",
   "name": "python3"
  },
  "language_info": {
   "codemirror_mode": {
    "name": "ipython",
    "version": 3
   },
   "file_extension": ".py",
   "mimetype": "text/x-python",
   "name": "python",
   "nbconvert_exporter": "python",
   "pygments_lexer": "ipython3",
   "version": "3.8.3"
  }
 },
 "nbformat": 4,
 "nbformat_minor": 4
}
