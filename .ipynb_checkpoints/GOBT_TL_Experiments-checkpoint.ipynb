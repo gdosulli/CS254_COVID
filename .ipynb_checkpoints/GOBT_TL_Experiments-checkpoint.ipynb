{
 "cells": [
  {
   "cell_type": "code",
   "execution_count": 111,
   "metadata": {},
   "outputs": [],
   "source": [
    "import os\n",
    "import csv\n",
    "import pandas as pd\n",
    "import numpy as np\n",
    "import matplotlib.pyplot as plt\n",
    "import tensorflow as tf\n",
    "from tensorflow import keras\n",
    "from tensorflow.keras import datasets, layers, models\n",
    "\n",
    "from sklearn.model_selection import train_test_split, KFold, RandomizedSearchCV, GridSearchCV\n",
    "from sklearn.metrics import confusion_matrix, roc_curve, auc, classification_report, plot_confusion_matrix, precision_recall_curve\n",
    "from sklearn.utils import shuffle\n",
    "import seaborn as sns\n",
    "from PIL import Image\n",
    "from tensorflow.keras import backend as K    \n",
    "from tensorflow.keras.wrappers.scikit_learn import KerasClassifier"
   ]
  },
  {
   "cell_type": "markdown",
   "metadata": {},
   "source": [
    "# Methods for Experiments"
   ]
  },
  {
   "cell_type": "code",
   "execution_count": 112,
   "metadata": {},
   "outputs": [],
   "source": [
    "# data distribution\n",
    "def get_distr(targets, labels):\n",
    "    vals = {}\n",
    "    for label in labels.keys():\n",
    "        vals[label] = 0\n",
    "    \n",
    "    for target in targets:\n",
    "        vals[target] += 1\n",
    "    \n",
    "    fig = plt.figure()\n",
    "    ax = fig.add_axes([0,0,1,1])\n",
    "    langs = labels.values()\n",
    "    students = vals.values()\n",
    "    ax.bar(langs,students)\n",
    "    plt.show()"
   ]
  },
  {
   "cell_type": "code",
   "execution_count": 113,
   "metadata": {},
   "outputs": [],
   "source": [
    "# Image normalization\n",
    "img_dim = 224\n",
    "def normalize_images(d, curr_dir):\n",
    "    \"\"\"normalize all images inside dictionary\"\"\"\n",
    "    images = np.empty((len(d['target']), img_dim, img_dim, 3))\n",
    "\n",
    "    for i in range(len(d['filename'])):\n",
    "        image = Image.open(curr_dir + d['filename'][i])\n",
    "\n",
    "        # resize image shape\n",
    "        image = image.resize((img_dim, img_dim))\n",
    "\n",
    "        # convert to grayscale\n",
    "        image = image.convert('RGB')\n",
    "\n",
    "        images[i] = np.array(image)\n",
    "\n",
    "    # normalize values\n",
    "    images = images / 255.0\n",
    "    return images"
   ]
  },
  {
   "cell_type": "code",
   "execution_count": 114,
   "metadata": {},
   "outputs": [],
   "source": [
    "# Data Augmentation\n",
    "aug_count = 15\n",
    "def augment_images(images, targets):\n",
    "    data_augmentation = tf.keras.Sequential([\n",
    "      layers.experimental.preprocessing.RandomFlip(\"horizontal\", dtype='float64'),\n",
    "      layers.experimental.preprocessing.RandomRotation(0.05, dtype='float64')\n",
    "    ])\n",
    "    \n",
    "    aug_images = np.empty((len(targets) * (aug_count + 1), img_dim, img_dim, 3))\n",
    "    new_targets = []\n",
    "    \n",
    "    \n",
    "    for i in range(len(targets)):\n",
    "        image = tf.expand_dims(images[i], 0)\n",
    "        for j in range(0, aug_count):\n",
    "            new_image = data_augmentation(image)\n",
    "            new_targets.append(targets[i])\n",
    "            aug_images[len(new_targets) - 1] = new_image[0]\n",
    "        \n",
    "        # add base image\n",
    "        new_targets.append(targets[i])\n",
    "        aug_images[len(new_targets) - 1] = images[i]\n",
    "    \n",
    "    return np.asarray(aug_images), new_targets"
   ]
  },
  {
   "cell_type": "code",
   "execution_count": 115,
   "metadata": {},
   "outputs": [],
   "source": [
    "# Get data to test on\n",
    "def split_data(images, targets, split_size):\n",
    "    x_train, x_test, y_train, y_test = train_test_split(images, targets, test_size=split_size, random_state=0)\n",
    "    x_train, x_val, y_train, y_val = train_test_split(x_train, y_train, test_size=split_size, random_state=0)\n",
    "    y_train = np.asarray(y_train)\n",
    "    y_val = np.asarray(y_val)\n",
    "    y_test = np.asarray(y_test)\n",
    "    \n",
    "    return x_train, y_train, x_val, y_val, x_test, y_test"
   ]
  },
  {
   "cell_type": "code",
   "execution_count": 116,
   "metadata": {},
   "outputs": [],
   "source": [
    "def graph_correlation(images, targets, classes):\n",
    "    reshaped_images = np.empty((len(targets), img_dim * img_dim * 2))\n",
    "    for i in range(len(targets)):\n",
    "        reshaped_images[i] = images[i].ravel()\n",
    "\n",
    "    pca = PCA(n_components=2)\n",
    "    redData = pca.fit_transform(reshaped_images)\n",
    "    # append target values to reduced data\n",
    "    redData = np.append(redData, np.asarray(targets).reshape(-1, 1), axis=1)\n",
    "     # create scatter plot of reduced data\n",
    "    # add scatter plot for each of the target values\n",
    "    for curr in classes:\n",
    "        currClass = np.where(np.asarray(d['target']) == curr)\n",
    "        plt.scatter(redData[:, 0][currClass], redData[:, 1][currClass])\n",
    "        plt.legend(classes)"
   ]
  },
  {
   "cell_type": "code",
   "execution_count": 117,
   "metadata": {},
   "outputs": [],
   "source": [
    "def convert_pred(y_pred, threshold):\n",
    "    new_pred = np.empty((y_pred.size), dtype='int32')\n",
    "    for i in range(y_pred.size):\n",
    "        if y_pred[i] >= threshold:\n",
    "            new_pred[i] = 1\n",
    "        else:\n",
    "            new_pred[i] = 0\n",
    "    \n",
    "    return new_pred"
   ]
  },
  {
   "cell_type": "markdown",
   "metadata": {},
   "source": [
    "Results functions"
   ]
  },
  {
   "cell_type": "code",
   "execution_count": 118,
   "metadata": {},
   "outputs": [],
   "source": [
    "# accuracy and loss plots\n",
    "def plot_results(history, title):\n",
    "    # plot accuracy and loss curves\n",
    "    fig, axs = plt.subplots(1, 2, figsize=(20, 8))\n",
    "\n",
    "    axs[0].plot(history.history['accuracy'], label='training accuracy')\n",
    "    axs[0].plot(history.history['val_accuracy'], label = 'val accuracy')\n",
    "    axs[0].set_xlabel('Epoch')\n",
    "    axs[0].set_ylabel('Accuracy')\n",
    "    axs[0].set_title((title + ' Accuracy'))\n",
    "    axs[0].set_ylim([0.5, 1])\n",
    "    axs[0].legend(loc='lower right')\n",
    "\n",
    "    axs[1].plot(history.history['loss'], label='training loss')\n",
    "    axs[1].plot(history.history['val_loss'], label = 'val loss')\n",
    "    axs[1].set_xlabel('Epoch')\n",
    "    axs[1].set_ylabel('Loss')\n",
    "    axs[1].set_title((title + ' CNN Loss'))\n",
    "    axs[1].set_ylim([0, 1])\n",
    "    axs[1].legend(loc='lower right')"
   ]
  },
  {
   "cell_type": "code",
   "execution_count": 119,
   "metadata": {},
   "outputs": [],
   "source": [
    "# ROC Plots\n",
    "def plot_ROC(y_test, y_pred, title):\n",
    "    fpr, tpr, thresholds = roc_curve(y_test, y_pred)\n",
    "    auc_val = auc(fpr, tpr)\n",
    "\n",
    "    plt.plot(fpr,tpr) \n",
    "    plt.plot([0, 1], [0, 1], linestyle='dashed')\n",
    "    plt.axis([0,1,0,1]) \n",
    "    plt.xlabel('False Positive Rate') \n",
    "    plt.ylabel('True Positive Rate') \n",
    "    title += \"\\nAUC: \" + str(round(auc_val, 4))\n",
    "    plt.title(title)\n",
    "    plt.show()"
   ]
  },
  {
   "cell_type": "code",
   "execution_count": 120,
   "metadata": {},
   "outputs": [],
   "source": [
    "# Confusion Matrix\n",
    "def plot_cm(y_test, y_pred, title):\n",
    "    cm = confusion_matrix(y_test, y_pred)\n",
    "    cm_df = pd.DataFrame(cm)\n",
    "    sns.heatmap(cm, annot=True, cmap=plt.cm.Blues, fmt=\"d\")\n",
    "    plt.imshow(cm)\n",
    "    plt.xlabel(\"Predicted Label\")\n",
    "    plt.ylabel(\"True Label\")\n",
    "    plt.title(title)"
   ]
  },
  {
   "cell_type": "code",
   "execution_count": 121,
   "metadata": {},
   "outputs": [],
   "source": [
    "def plot_pr(y_test, y_pred, title):\n",
    "    prec, recall, _ = precision_recall_curve(y_test, y_pred)\n",
    "    plt.plot(recall, prec)\n",
    "    plt.ylim([0, 1])\n",
    "    plt.xlabel(\"Recall\")\n",
    "    plt.ylabel(\"Precision\")\n",
    "    plt.title(title + \" Precision vs Recall\")"
   ]
  },
  {
   "cell_type": "markdown",
   "metadata": {},
   "source": [
    "# Part 0: Load in data"
   ]
  },
  {
   "cell_type": "code",
   "execution_count": 122,
   "metadata": {},
   "outputs": [],
   "source": [
    "# covid/pneumonia\n",
    "data = []\n",
    "with open(\"metadata.csv\") as file:\n",
    "    for row in csv.reader(file):\n",
    "        data.append(row)\n",
    "\n",
    "data = data[1:]\n",
    "\n",
    "# pneumonia/healthy\n",
    "# format: (file location, healthy/pneumonia(0/1))\n",
    "ph_files = [('train/Normal', 0), \n",
    "         ('train/Pneumonia', 1),\n",
    "         ('test/Normal', 0), \n",
    "         ('test/Pneumonia', 1),\n",
    "         ('val/Normal', 0), \n",
    "         ('val/Pneumonia', 1),]"
   ]
  },
  {
   "cell_type": "markdown",
   "metadata": {},
   "source": [
    "COVID/Pneumonia"
   ]
  },
  {
   "cell_type": "code",
   "execution_count": 123,
   "metadata": {},
   "outputs": [
    {
     "data": {
      "image/png": "[encoded data removed]",
      "text/plain": [
       "<Figure size 432x288 with 1 Axes>"
      ]
     },
     "metadata": {
      "needs_background": "light"
     },
     "output_type": "display_data"
    }
   ],
   "source": [
    "ch = {'filename': [], 'target': []}\n",
    "\n",
    "# covid/pneumonia data\n",
    "for image in data:\n",
    "    # skip volume data\n",
    "    if image[22] == \"volumes\":\n",
    "        continue\n",
    "    \n",
    "    # ignore CT scan data\n",
    "    if image[19] == \"CT\":\n",
    "        continue\n",
    "    \n",
    "    diagnosis1 = image[4].split(\"/\")\n",
    "    diagnosis = diagnosis1[len(diagnosis1) - 1].lower()\n",
    "    # set target based on meta data\n",
    "    if diagnosis == \"covid-19\":\n",
    "        # if it is COVID-19\n",
    "        ch['filename'].append(image[23])\n",
    "        ch['target'].append(1)\n",
    "        \n",
    "# healthy from pneumonia/healthy\n",
    "for file in ph_files:\n",
    "    if \"normal\" in file[0].lower():\n",
    "        dir_path = os.path.abspath(os.getcwd())\n",
    "        dir_path = dir_path + \"/chest_xray/\" + file[0]\n",
    "        list = os.listdir(dir_path)\n",
    "        for pic in list:\n",
    "            if '.DS_Store' not in pic:\n",
    "                ch['filename'].append(pic)\n",
    "                ch['target'].append(0)\n",
    "\n",
    "# get distribution\n",
    "labels = {0: \"Healthy\", 1: \"COVID\"}\n",
    "get_distr(ch['target'], labels)\n"
   ]
  },
  {
   "cell_type": "code",
   "execution_count": 124,
   "metadata": {},
   "outputs": [
    {
     "data": {
      "image/png": "[encoded data removed]",
      "text/plain": [
       "<Figure size 432x288 with 1 Axes>"
      ]
     },
     "metadata": {
      "needs_background": "light"
     },
     "output_type": "display_data"
    }
   ],
   "source": [
    "cp = {'filename': [], 'target': []}\n",
    "\n",
    "# covid/pneumonia data\n",
    "for image in data:\n",
    "    # skip volume data\n",
    "    if image[22] == \"volumes\":\n",
    "        continue\n",
    "    \n",
    "    # ignore CT scan data\n",
    "    if image[19] == \"CT\":\n",
    "        continue\n",
    "    \n",
    "    diagnosis1 = image[4].split(\"/\")\n",
    "    diagnosis = diagnosis1[len(diagnosis1) - 1].lower()\n",
    "    # set target based on meta data\n",
    "    if diagnosis != \"covid-19\":\n",
    "        if diagnosis == \"todo\":\n",
    "            # if not classified yet target = -1\n",
    "            # d['filename'].append(image[23])\n",
    "            # d['target'].append(-1)\n",
    "            # ignore unknown data\n",
    "            continue\n",
    "        elif diagnosis1[0] == 'pneumonia':\n",
    "            # if not COVID-19 target = 0\n",
    "            cp['filename'].append(image[23])\n",
    "            cp['target'].append(0)\n",
    "    else:\n",
    "        # if it is COVID-19\n",
    "        cp['filename'].append(image[23])\n",
    "        cp['target'].append(1)\n",
    "        \n",
    "# pneumonia from pneumonia/healthy\n",
    "for file in ph_files:\n",
    "    if \"pneumonia\" in file[0].lower():\n",
    "        dir_path = os.path.abspath(os.getcwd())\n",
    "        dir_path = dir_path + \"/chest_xray/\" + file[0]\n",
    "        list = os.listdir(dir_path)\n",
    "        for pic in list:\n",
    "            if '.DS_Store' not in pic:\n",
    "                cp['filename'].append(pic)\n",
    "                cp['target'].append(0)\n",
    "\n",
    "# get distribution\n",
    "labels = {0: \"Pneumonia\", 1: \"COVID\"}\n",
    "get_distr(cp['target'], labels)\n"
   ]
  },
  {
   "cell_type": "code",
   "execution_count": 125,
   "metadata": {},
   "outputs": [
    {
     "data": {
      "image/png": "[encoded data removed]",
      "text/plain": [
       "<Figure size 432x288 with 1 Axes>"
      ]
     },
     "metadata": {
      "needs_background": "light"
     },
     "output_type": "display_data"
    }
   ],
   "source": [
    "cph = {'filename': [], 'target': []}\n",
    "\n",
    "# covid/pneumonia data\n",
    "for image in data:\n",
    "    # skip volume data\n",
    "    if image[22] == \"volumes\":\n",
    "        continue\n",
    "    \n",
    "    # ignore CT scan data\n",
    "    if image[19] == \"CT\":\n",
    "        continue\n",
    "    \n",
    "    diagnosis1 = image[4].split(\"/\")\n",
    "    diagnosis = diagnosis1[len(diagnosis1) - 1].lower()\n",
    "    # set target based on meta data\n",
    "    if diagnosis != \"covid-19\":\n",
    "        if diagnosis == \"todo\":\n",
    "            # if not classified yet target = -1\n",
    "            # d['filename'].append(image[23])\n",
    "            # d['target'].append(-1)\n",
    "            # ignore unknown data\n",
    "            continue\n",
    "        elif diagnosis1[0] == 'pneumonia':\n",
    "            # if not COVID-19 target = 0\n",
    "            cph['filename'].append(image[23])\n",
    "            cph['target'].append(2)\n",
    "    else:\n",
    "        # if it is COVID-19\n",
    "        cph['filename'].append(image[23])\n",
    "        cph['target'].append(1)\n",
    "        \n",
    "# pneumonia from pneumonia/healthy\n",
    "for file in ph_files:\n",
    "    dir_path = os.path.abspath(os.getcwd())\n",
    "    dir_path = dir_path + \"/chest_xray/\" + file[0]\n",
    "    list = os.listdir(dir_path)\n",
    "    for pic in list:\n",
    "        if '.DS_Store' not in pic:\n",
    "            cph['filename'].append(pic)\n",
    "            if 'pneumonia' in file[0].lower():\n",
    "                cph['target'].append(2)\n",
    "            else:\n",
    "                cph['target'].append(0)\n",
    "\n",
    "# get distribution\n",
    "labels = {0: \"Healthy\", 1: \"COVID\", 2: \"Pneumonia\"}\n",
    "get_distr(cph['target'], labels)\n"
   ]
  },
  {
   "cell_type": "code",
   "execution_count": 126,
   "metadata": {},
   "outputs": [
    {
     "data": {
      "image/png": "[encoded data removed]",
      "text/plain": [
       "<Figure size 432x288 with 1 Axes>"
      ]
     },
     "metadata": {
      "needs_background": "light"
     },
     "output_type": "display_data"
    }
   ],
   "source": [
    "cc = {'filename': [], 'target': []}\n",
    "\n",
    "# covid/pneumonia data\n",
    "for image in data:\n",
    "    # skip volume data\n",
    "    if image[22] == \"volumes\":\n",
    "        continue\n",
    "    \n",
    "    # ignore CT scan data\n",
    "    if image[19] == \"CT\":\n",
    "        continue\n",
    "    \n",
    "    diagnosis1 = image[4].split(\"/\")\n",
    "    diagnosis = diagnosis1[len(diagnosis1) - 1].lower()\n",
    "    # set target based on meta data\n",
    "    if diagnosis == \"covid-19\":\n",
    "        # if it is COVID-19\n",
    "        if image[7] == \"Y\":\n",
    "            # patient intubated\n",
    "            cc['filename'].append(image[23])\n",
    "            cc['target'].append(1)\n",
    "        elif image[7] == \"N\":\n",
    "            # patient not intubated\n",
    "            cc['filename'].append(image[23])\n",
    "            cc['target'].append(0)\n",
    "\n",
    "\n",
    "# get distribution\n",
    "labels = {0: \"COVID Not Intubated\", 1: \"COVID Intubated\"}\n",
    "get_distr(cc['target'], labels)"
   ]
  },
  {
   "cell_type": "markdown",
   "metadata": {},
   "source": [
    "Plan:\n",
    "1. COVID/Healthy\n",
    "2. COVID/Pneumonia\n",
    "3. COVID/Pneumonia/Healthy\n",
    "4. COVID Not Intubated/COVID Intubated\n",
    "\n",
    "Test on (use Random Search CV for Hyper Params)\n",
    "1. Deep CNN\n",
    "\n",
    "Test Each with\n",
    "1. Not augmented\n",
    "2. Augmented"
   ]
  },
  {
   "cell_type": "markdown",
   "metadata": {},
   "source": [
    "## Create Model"
   ]
  },
  {
   "cell_type": "code",
   "execution_count": 127,
   "metadata": {},
   "outputs": [],
   "source": [
    "def create_model(num_classes=2, lr=0.001, lr_step=100000, lr_decay=0.8, do=0.2, layer_size=1024):\n",
    "    act = 'softmax'\n",
    "    loss = tf.keras.losses.SparseCategoricalCrossentropy(from_logits=True)\n",
    "    metrics = ['accuracy']\n",
    "    \n",
    "    if num_classes == 2:\n",
    "        num_classes = 1\n",
    "        act = 'sigmoid'\n",
    "        loss = tf.keras.losses.BinaryCrossentropy(from_logits=True)\n",
    "        metrics = [tf.keras.metrics.Recall(), tf.keras.metrics.Precision()]\n",
    "        \n",
    "    base_model = tf.keras.applications.VGG19(weights='imagenet', \n",
    "                                             include_top=False,\n",
    "                                             input_shape=(224, 224, 3),\n",
    "                                             classifier_activation=act)\n",
    "    \n",
    "    base_model.trainable = False\n",
    "\n",
    "    flatten = layers.Flatten()(base_model.layers[-1].output)\n",
    "    dense = layers.Dense(layer_size, activation='relu')(flatten)\n",
    "    output = layers.Dense(num_classes, activation=act)(dense)\n",
    "    # define new model\n",
    "    model = tf.keras.Model(inputs=base_model.inputs, outputs=output)\n",
    "    \n",
    "\n",
    "\n",
    "    opt = tf.keras.optimizers.Adam(lr=lr)\n",
    "    # compile \n",
    "    model.compile(optimizer=opt,\n",
    "                  loss=loss,\n",
    "                  metrics=metrics)\n",
    "    \n",
    "    return model "
   ]
  },
  {
   "cell_type": "markdown",
   "metadata": {},
   "source": [
    "# Hyper Parameter Selection for models"
   ]
  },
  {
   "cell_type": "code",
   "execution_count": null,
   "metadata": {},
   "outputs": [],
   "source": [
    "# make classifier\n",
    "covid_test_model = KerasClassifier(\n",
    "    build_fn=create_model,\n",
    "    lr=0.001,\n",
    "    do=0.2,\n",
    "    layer_size=1024,\n",
    "    num_classes=3,\n",
    "    lr_decay=0.8,\n",
    "    lr_step=100000\n",
    ")\n",
    "\n",
    "# random search http://ethen8181.github.io/machine-learning/keras/nn_keras_hyperparameter_tuning.html\n",
    "learning_rates = [0.0001, 0.0005, 0.001, 0.005, 0.01]\n",
    "dropout_rates = [0, .1, .2, .3, .4, .5, .6, .7, .8, .9]\n",
    "dif_layers = [32, 64, 128, 256, 512, 1024]\n",
    "decay_rates = [0.4, 0.5, 0.6, 0.7, 0.8, 0.9]\n",
    "decay_step = [20000, 30000, 40000, 50000, 60000, 70000, 80000, 90000, 100000]\n",
    "distributions = dict(layer_size=dif_layers, \n",
    "                     do=dropout_rates, \n",
    "                     lr=learning_rates,\n",
    "                     lr_decay=decay_rates,\n",
    "                     lr_step=decay_step)\n",
    "\n",
    "clf = RandomizedSearchCV(covid_test_model, distributions, random_state=0, n_jobs=-1, \n",
    "                         scoring=\"roc_auc\", verbose=10, cv=2)\n",
    "search = clf.fit(cph_images, cph['target'])\n",
    "search.best_params_"
   ]
  },
  {
   "cell_type": "code",
   "execution_count": 128,
   "metadata": {},
   "outputs": [],
   "source": [
    "lr = 0.001\n",
    "lr_step = 100000\n",
    "lr_decay = 0.8\n",
    "do = 0.2\n",
    "bs = 32\n",
    "threshold = 0.5\n",
    "\n",
    "\n",
    "# early stopping\n",
    "callbacks = [\n",
    "    tf.keras.callbacks.EarlyStopping(\n",
    "        monitor=\"val_loss\",\n",
    "        min_delta=0.01,\n",
    "        patience=1,\n",
    "        verbose=1\n",
    "    )\n",
    "]  "
   ]
  },
  {
   "cell_type": "markdown",
   "metadata": {},
   "source": [
    "# Part 1: VGG19 No Augmentation"
   ]
  },
  {
   "cell_type": "markdown",
   "metadata": {},
   "source": [
    "## 1. COVID/Healthy"
   ]
  },
  {
   "cell_type": "code",
   "execution_count": 129,
   "metadata": {},
   "outputs": [],
   "source": [
    "ch_images = normalize_images(ch, \"all_images/\")"
   ]
  },
  {
   "cell_type": "code",
   "execution_count": 130,
   "metadata": {},
   "outputs": [],
   "source": [
    "chx_train, chy_train, chx_val, chy_val, chx_test, chy_test = split_data(ch_images, ch['target'], .2)"
   ]
  },
  {
   "cell_type": "code",
   "execution_count": 132,
   "metadata": {},
   "outputs": [
    {
     "name": "stdout",
     "output_type": "stream",
     "text": [
      "Epoch 1/10\n",
      " 8/42 [====>.........................] - ETA: 2:13 - loss: 0.7187 - recall_10: 0.1481 - precision_10: 0.2500"
     ]
    },
    {
     "ename": "KeyboardInterrupt",
     "evalue": "",
     "output_type": "error",
     "traceback": [
      "\u001b[0;31m---------------------------------------------------------------------------\u001b[0m",
      "\u001b[0;31mKeyboardInterrupt\u001b[0m                         Traceback (most recent call last)",
      "\u001b[0;32m<ipython-input-132-e7cd78e466e5>\u001b[0m in \u001b[0;36m<module>\u001b[0;34m\u001b[0m\n\u001b[1;32m      1\u001b[0m \u001b[0mch_model\u001b[0m \u001b[0;34m=\u001b[0m \u001b[0mcreate_model\u001b[0m\u001b[0;34m(\u001b[0m\u001b[0mnum_classes\u001b[0m\u001b[0;34m=\u001b[0m\u001b[0;36m2\u001b[0m\u001b[0;34m)\u001b[0m\u001b[0;34m\u001b[0m\u001b[0;34m\u001b[0m\u001b[0m\n\u001b[1;32m      2\u001b[0m \u001b[0;34m\u001b[0m\u001b[0m\n\u001b[0;32m----> 3\u001b[0;31m ch_history = ch_model.fit(chx_train, np.asarray(chy_train), epochs=10,\n\u001b[0m\u001b[1;32m      4\u001b[0m                                \u001b[0mvalidation_data\u001b[0m\u001b[0;34m=\u001b[0m\u001b[0;34m(\u001b[0m\u001b[0mchx_val\u001b[0m\u001b[0;34m,\u001b[0m \u001b[0mchy_val\u001b[0m\u001b[0;34m)\u001b[0m\u001b[0;34m,\u001b[0m\u001b[0;34m\u001b[0m\u001b[0;34m\u001b[0m\u001b[0m\n\u001b[1;32m      5\u001b[0m                                \u001b[0mbatch_size\u001b[0m\u001b[0;34m=\u001b[0m\u001b[0mbs\u001b[0m\u001b[0;34m,\u001b[0m\u001b[0;34m\u001b[0m\u001b[0;34m\u001b[0m\u001b[0m\n",
      "\u001b[0;32m~/opt/anaconda3/lib/python3.8/site-packages/tensorflow/python/keras/engine/training.py\u001b[0m in \u001b[0;36m_method_wrapper\u001b[0;34m(self, *args, **kwargs)\u001b[0m\n\u001b[1;32m    106\u001b[0m   \u001b[0;32mdef\u001b[0m \u001b[0m_method_wrapper\u001b[0m\u001b[0;34m(\u001b[0m\u001b[0mself\u001b[0m\u001b[0;34m,\u001b[0m \u001b[0;34m*\u001b[0m\u001b[0margs\u001b[0m\u001b[0;34m,\u001b[0m \u001b[0;34m**\u001b[0m\u001b[0mkwargs\u001b[0m\u001b[0;34m)\u001b[0m\u001b[0;34m:\u001b[0m\u001b[0;34m\u001b[0m\u001b[0;34m\u001b[0m\u001b[0m\n\u001b[1;32m    107\u001b[0m     \u001b[0;32mif\u001b[0m \u001b[0;32mnot\u001b[0m \u001b[0mself\u001b[0m\u001b[0;34m.\u001b[0m\u001b[0m_in_multi_worker_mode\u001b[0m\u001b[0;34m(\u001b[0m\u001b[0;34m)\u001b[0m\u001b[0;34m:\u001b[0m  \u001b[0;31m# pylint: disable=protected-access\u001b[0m\u001b[0;34m\u001b[0m\u001b[0;34m\u001b[0m\u001b[0m\n\u001b[0;32m--> 108\u001b[0;31m       \u001b[0;32mreturn\u001b[0m \u001b[0mmethod\u001b[0m\u001b[0;34m(\u001b[0m\u001b[0mself\u001b[0m\u001b[0;34m,\u001b[0m \u001b[0;34m*\u001b[0m\u001b[0margs\u001b[0m\u001b[0;34m,\u001b[0m \u001b[0;34m**\u001b[0m\u001b[0mkwargs\u001b[0m\u001b[0;34m)\u001b[0m\u001b[0;34m\u001b[0m\u001b[0;34m\u001b[0m\u001b[0m\n\u001b[0m\u001b[1;32m    109\u001b[0m \u001b[0;34m\u001b[0m\u001b[0m\n\u001b[1;32m    110\u001b[0m     \u001b[0;31m# Running inside `run_distribute_coordinator` already.\u001b[0m\u001b[0;34m\u001b[0m\u001b[0;34m\u001b[0m\u001b[0;34m\u001b[0m\u001b[0m\n",
      "\u001b[0;32m~/opt/anaconda3/lib/python3.8/site-packages/tensorflow/python/keras/engine/training.py\u001b[0m in \u001b[0;36mfit\u001b[0;34m(self, x, y, batch_size, epochs, verbose, callbacks, validation_split, validation_data, shuffle, class_weight, sample_weight, initial_epoch, steps_per_epoch, validation_steps, validation_batch_size, validation_freq, max_queue_size, workers, use_multiprocessing)\u001b[0m\n\u001b[1;32m   1096\u001b[0m                 batch_size=batch_size):\n\u001b[1;32m   1097\u001b[0m               \u001b[0mcallbacks\u001b[0m\u001b[0;34m.\u001b[0m\u001b[0mon_train_batch_begin\u001b[0m\u001b[0;34m(\u001b[0m\u001b[0mstep\u001b[0m\u001b[0;34m)\u001b[0m\u001b[0;34m\u001b[0m\u001b[0;34m\u001b[0m\u001b[0m\n\u001b[0;32m-> 1098\u001b[0;31m               \u001b[0mtmp_logs\u001b[0m \u001b[0;34m=\u001b[0m \u001b[0mtrain_function\u001b[0m\u001b[0;34m(\u001b[0m\u001b[0miterator\u001b[0m\u001b[0;34m)\u001b[0m\u001b[0;34m\u001b[0m\u001b[0;34m\u001b[0m\u001b[0m\n\u001b[0m\u001b[1;32m   1099\u001b[0m               \u001b[0;32mif\u001b[0m \u001b[0mdata_handler\u001b[0m\u001b[0;34m.\u001b[0m\u001b[0mshould_sync\u001b[0m\u001b[0;34m:\u001b[0m\u001b[0;34m\u001b[0m\u001b[0;34m\u001b[0m\u001b[0m\n\u001b[1;32m   1100\u001b[0m                 \u001b[0mcontext\u001b[0m\u001b[0;34m.\u001b[0m\u001b[0masync_wait\u001b[0m\u001b[0;34m(\u001b[0m\u001b[0;34m)\u001b[0m\u001b[0;34m\u001b[0m\u001b[0;34m\u001b[0m\u001b[0m\n",
      "\u001b[0;32m~/opt/anaconda3/lib/python3.8/site-packages/tensorflow/python/eager/def_function.py\u001b[0m in \u001b[0;36m__call__\u001b[0;34m(self, *args, **kwds)\u001b[0m\n\u001b[1;32m    778\u001b[0m       \u001b[0;32melse\u001b[0m\u001b[0;34m:\u001b[0m\u001b[0;34m\u001b[0m\u001b[0;34m\u001b[0m\u001b[0m\n\u001b[1;32m    779\u001b[0m         \u001b[0mcompiler\u001b[0m \u001b[0;34m=\u001b[0m \u001b[0;34m\"nonXla\"\u001b[0m\u001b[0;34m\u001b[0m\u001b[0;34m\u001b[0m\u001b[0m\n\u001b[0;32m--> 780\u001b[0;31m         \u001b[0mresult\u001b[0m \u001b[0;34m=\u001b[0m \u001b[0mself\u001b[0m\u001b[0;34m.\u001b[0m\u001b[0m_call\u001b[0m\u001b[0;34m(\u001b[0m\u001b[0;34m*\u001b[0m\u001b[0margs\u001b[0m\u001b[0;34m,\u001b[0m \u001b[0;34m**\u001b[0m\u001b[0mkwds\u001b[0m\u001b[0;34m)\u001b[0m\u001b[0;34m\u001b[0m\u001b[0;34m\u001b[0m\u001b[0m\n\u001b[0m\u001b[1;32m    781\u001b[0m \u001b[0;34m\u001b[0m\u001b[0m\n\u001b[1;32m    782\u001b[0m       \u001b[0mnew_tracing_count\u001b[0m \u001b[0;34m=\u001b[0m \u001b[0mself\u001b[0m\u001b[0;34m.\u001b[0m\u001b[0m_get_tracing_count\u001b[0m\u001b[0;34m(\u001b[0m\u001b[0;34m)\u001b[0m\u001b[0;34m\u001b[0m\u001b[0;34m\u001b[0m\u001b[0m\n",
      "\u001b[0;32m~/opt/anaconda3/lib/python3.8/site-packages/tensorflow/python/eager/def_function.py\u001b[0m in \u001b[0;36m_call\u001b[0;34m(self, *args, **kwds)\u001b[0m\n\u001b[1;32m    805\u001b[0m       \u001b[0;31m# In this case we have created variables on the first call, so we run the\u001b[0m\u001b[0;34m\u001b[0m\u001b[0;34m\u001b[0m\u001b[0;34m\u001b[0m\u001b[0m\n\u001b[1;32m    806\u001b[0m       \u001b[0;31m# defunned version which is guaranteed to never create variables.\u001b[0m\u001b[0;34m\u001b[0m\u001b[0;34m\u001b[0m\u001b[0;34m\u001b[0m\u001b[0m\n\u001b[0;32m--> 807\u001b[0;31m       \u001b[0;32mreturn\u001b[0m \u001b[0mself\u001b[0m\u001b[0;34m.\u001b[0m\u001b[0m_stateless_fn\u001b[0m\u001b[0;34m(\u001b[0m\u001b[0;34m*\u001b[0m\u001b[0margs\u001b[0m\u001b[0;34m,\u001b[0m \u001b[0;34m**\u001b[0m\u001b[0mkwds\u001b[0m\u001b[0;34m)\u001b[0m  \u001b[0;31m# pylint: disable=not-callable\u001b[0m\u001b[0;34m\u001b[0m\u001b[0;34m\u001b[0m\u001b[0m\n\u001b[0m\u001b[1;32m    808\u001b[0m     \u001b[0;32melif\u001b[0m \u001b[0mself\u001b[0m\u001b[0;34m.\u001b[0m\u001b[0m_stateful_fn\u001b[0m \u001b[0;32mis\u001b[0m \u001b[0;32mnot\u001b[0m \u001b[0;32mNone\u001b[0m\u001b[0;34m:\u001b[0m\u001b[0;34m\u001b[0m\u001b[0;34m\u001b[0m\u001b[0m\n\u001b[1;32m    809\u001b[0m       \u001b[0;31m# Release the lock early so that multiple threads can perform the call\u001b[0m\u001b[0;34m\u001b[0m\u001b[0;34m\u001b[0m\u001b[0;34m\u001b[0m\u001b[0m\n",
      "\u001b[0;32m~/opt/anaconda3/lib/python3.8/site-packages/tensorflow/python/eager/function.py\u001b[0m in \u001b[0;36m__call__\u001b[0;34m(self, *args, **kwargs)\u001b[0m\n\u001b[1;32m   2827\u001b[0m     \u001b[0;32mwith\u001b[0m \u001b[0mself\u001b[0m\u001b[0;34m.\u001b[0m\u001b[0m_lock\u001b[0m\u001b[0;34m:\u001b[0m\u001b[0;34m\u001b[0m\u001b[0;34m\u001b[0m\u001b[0m\n\u001b[1;32m   2828\u001b[0m       \u001b[0mgraph_function\u001b[0m\u001b[0;34m,\u001b[0m \u001b[0margs\u001b[0m\u001b[0;34m,\u001b[0m \u001b[0mkwargs\u001b[0m \u001b[0;34m=\u001b[0m \u001b[0mself\u001b[0m\u001b[0;34m.\u001b[0m\u001b[0m_maybe_define_function\u001b[0m\u001b[0;34m(\u001b[0m\u001b[0margs\u001b[0m\u001b[0;34m,\u001b[0m \u001b[0mkwargs\u001b[0m\u001b[0;34m)\u001b[0m\u001b[0;34m\u001b[0m\u001b[0;34m\u001b[0m\u001b[0m\n\u001b[0;32m-> 2829\u001b[0;31m     \u001b[0;32mreturn\u001b[0m \u001b[0mgraph_function\u001b[0m\u001b[0;34m.\u001b[0m\u001b[0m_filtered_call\u001b[0m\u001b[0;34m(\u001b[0m\u001b[0margs\u001b[0m\u001b[0;34m,\u001b[0m \u001b[0mkwargs\u001b[0m\u001b[0;34m)\u001b[0m  \u001b[0;31m# pylint: disable=protected-access\u001b[0m\u001b[0;34m\u001b[0m\u001b[0;34m\u001b[0m\u001b[0m\n\u001b[0m\u001b[1;32m   2830\u001b[0m \u001b[0;34m\u001b[0m\u001b[0m\n\u001b[1;32m   2831\u001b[0m   \u001b[0;34m@\u001b[0m\u001b[0mproperty\u001b[0m\u001b[0;34m\u001b[0m\u001b[0;34m\u001b[0m\u001b[0m\n",
      "\u001b[0;32m~/opt/anaconda3/lib/python3.8/site-packages/tensorflow/python/eager/function.py\u001b[0m in \u001b[0;36m_filtered_call\u001b[0;34m(self, args, kwargs, cancellation_manager)\u001b[0m\n\u001b[1;32m   1841\u001b[0m       \u001b[0;31m`\u001b[0m\u001b[0margs\u001b[0m\u001b[0;31m`\u001b[0m \u001b[0;32mand\u001b[0m\u001b[0;31m \u001b[0m\u001b[0;31m`\u001b[0m\u001b[0mkwargs\u001b[0m\u001b[0;31m`\u001b[0m\u001b[0;34m.\u001b[0m\u001b[0;34m\u001b[0m\u001b[0;34m\u001b[0m\u001b[0m\n\u001b[1;32m   1842\u001b[0m     \"\"\"\n\u001b[0;32m-> 1843\u001b[0;31m     return self._call_flat(\n\u001b[0m\u001b[1;32m   1844\u001b[0m         [t for t in nest.flatten((args, kwargs), expand_composites=True)\n\u001b[1;32m   1845\u001b[0m          if isinstance(t, (ops.Tensor,\n",
      "\u001b[0;32m~/opt/anaconda3/lib/python3.8/site-packages/tensorflow/python/eager/function.py\u001b[0m in \u001b[0;36m_call_flat\u001b[0;34m(self, args, captured_inputs, cancellation_manager)\u001b[0m\n\u001b[1;32m   1921\u001b[0m         and executing_eagerly):\n\u001b[1;32m   1922\u001b[0m       \u001b[0;31m# No tape is watching; skip to running the function.\u001b[0m\u001b[0;34m\u001b[0m\u001b[0;34m\u001b[0m\u001b[0;34m\u001b[0m\u001b[0m\n\u001b[0;32m-> 1923\u001b[0;31m       return self._build_call_outputs(self._inference_function.call(\n\u001b[0m\u001b[1;32m   1924\u001b[0m           ctx, args, cancellation_manager=cancellation_manager))\n\u001b[1;32m   1925\u001b[0m     forward_backward = self._select_forward_and_backward_functions(\n",
      "\u001b[0;32m~/opt/anaconda3/lib/python3.8/site-packages/tensorflow/python/eager/function.py\u001b[0m in \u001b[0;36mcall\u001b[0;34m(self, ctx, args, cancellation_manager)\u001b[0m\n\u001b[1;32m    543\u001b[0m       \u001b[0;32mwith\u001b[0m \u001b[0m_InterpolateFunctionError\u001b[0m\u001b[0;34m(\u001b[0m\u001b[0mself\u001b[0m\u001b[0;34m)\u001b[0m\u001b[0;34m:\u001b[0m\u001b[0;34m\u001b[0m\u001b[0;34m\u001b[0m\u001b[0m\n\u001b[1;32m    544\u001b[0m         \u001b[0;32mif\u001b[0m \u001b[0mcancellation_manager\u001b[0m \u001b[0;32mis\u001b[0m \u001b[0;32mNone\u001b[0m\u001b[0;34m:\u001b[0m\u001b[0;34m\u001b[0m\u001b[0;34m\u001b[0m\u001b[0m\n\u001b[0;32m--> 545\u001b[0;31m           outputs = execute.execute(\n\u001b[0m\u001b[1;32m    546\u001b[0m               \u001b[0mstr\u001b[0m\u001b[0;34m(\u001b[0m\u001b[0mself\u001b[0m\u001b[0;34m.\u001b[0m\u001b[0msignature\u001b[0m\u001b[0;34m.\u001b[0m\u001b[0mname\u001b[0m\u001b[0;34m)\u001b[0m\u001b[0;34m,\u001b[0m\u001b[0;34m\u001b[0m\u001b[0;34m\u001b[0m\u001b[0m\n\u001b[1;32m    547\u001b[0m               \u001b[0mnum_outputs\u001b[0m\u001b[0;34m=\u001b[0m\u001b[0mself\u001b[0m\u001b[0;34m.\u001b[0m\u001b[0m_num_outputs\u001b[0m\u001b[0;34m,\u001b[0m\u001b[0;34m\u001b[0m\u001b[0;34m\u001b[0m\u001b[0m\n",
      "\u001b[0;32m~/opt/anaconda3/lib/python3.8/site-packages/tensorflow/python/eager/execute.py\u001b[0m in \u001b[0;36mquick_execute\u001b[0;34m(op_name, num_outputs, inputs, attrs, ctx, name)\u001b[0m\n\u001b[1;32m     57\u001b[0m   \u001b[0;32mtry\u001b[0m\u001b[0;34m:\u001b[0m\u001b[0;34m\u001b[0m\u001b[0;34m\u001b[0m\u001b[0m\n\u001b[1;32m     58\u001b[0m     \u001b[0mctx\u001b[0m\u001b[0;34m.\u001b[0m\u001b[0mensure_initialized\u001b[0m\u001b[0;34m(\u001b[0m\u001b[0;34m)\u001b[0m\u001b[0;34m\u001b[0m\u001b[0;34m\u001b[0m\u001b[0m\n\u001b[0;32m---> 59\u001b[0;31m     tensors = pywrap_tfe.TFE_Py_Execute(ctx._handle, device_name, op_name,\n\u001b[0m\u001b[1;32m     60\u001b[0m                                         inputs, attrs, num_outputs)\n\u001b[1;32m     61\u001b[0m   \u001b[0;32mexcept\u001b[0m \u001b[0mcore\u001b[0m\u001b[0;34m.\u001b[0m\u001b[0m_NotOkStatusException\u001b[0m \u001b[0;32mas\u001b[0m \u001b[0me\u001b[0m\u001b[0;34m:\u001b[0m\u001b[0;34m\u001b[0m\u001b[0;34m\u001b[0m\u001b[0m\n",
      "\u001b[0;31mKeyboardInterrupt\u001b[0m: "
     ]
    }
   ],
   "source": [
    "ch_model = create_model(num_classes=2)\n",
    "\n",
    "ch_history = ch_model.fit(chx_train, np.asarray(chy_train), epochs=10,\n",
    "                               validation_data=(chx_val, chy_val),\n",
    "                               batch_size=bs,\n",
    "                               callbacks=callbacks\n",
    "                               )"
   ]
  },
  {
   "cell_type": "code",
   "execution_count": null,
   "metadata": {},
   "outputs": [],
   "source": [
    "chy_pred = ch_model.predict(chx_test)"
   ]
  },
  {
   "cell_type": "code",
   "execution_count": 147,
   "metadata": {},
   "outputs": [],
   "source": [
    "chy_pred_norm = convert_pred(chy_pred, threshold)"
   ]
  },
  {
   "cell_type": "code",
   "execution_count": 107,
   "metadata": {},
   "outputs": [
    {
     "name": "stdout",
     "output_type": "stream",
     "text": [
      "              precision    recall  f1-score   support\n",
      "\n",
      "           0       1.00      0.99      0.99       315\n",
      "           1       0.96      0.99      0.98       103\n",
      "\n",
      "    accuracy                           0.99       418\n",
      "   macro avg       0.98      0.99      0.98       418\n",
      "weighted avg       0.99      0.99      0.99       418\n",
      "\n"
     ]
    }
   ],
   "source": [
    "print(classification_report(chy_test, chy_pred_norm))"
   ]
  },
  {
   "cell_type": "code",
   "execution_count": 191,
   "metadata": {},
   "outputs": [
    {
     "data": {
      "image/png": "[encoded data removed]",
      "text/plain": [
       "<Figure size 432x288 with 2 Axes>"
      ]
     },
     "metadata": {
      "needs_background": "light"
     },
     "output_type": "display_data"
    }
   ],
   "source": [
    "plot_cm(chy_test, chy_pred_norm, \"Healthy(0)/COVID(1)\")"
   ]
  },
  {
   "cell_type": "code",
   "execution_count": 192,
   "metadata": {},
   "outputs": [
    {
     "data": {
      "image/png": "[encoded data removed]",
      "text/plain": [
       "<Figure size 432x288 with 1 Axes>"
      ]
     },
     "metadata": {
      "needs_background": "light"
     },
     "output_type": "display_data"
    }
   ],
   "source": [
    "plot_ROC(chy_test, chy_pred_norm.ravel(), \"COVID/Healthy - VGG19\")"
   ]
  },
  {
   "cell_type": "code",
   "execution_count": 193,
   "metadata": {},
   "outputs": [
    {
     "data": {
      "image/png": "[encoded data removed]",
      "text/plain": [
       "<Figure size 432x288 with 1 Axes>"
      ]
     },
     "metadata": {
      "needs_background": "light"
     },
     "output_type": "display_data"
    }
   ],
   "source": [
    "plot_pr(chy_test, chy_pred, \"COVID/Healthy\")"
   ]
  },
  {
   "cell_type": "markdown",
   "metadata": {},
   "source": [
    "## 2. COVID/Pneumonia"
   ]
  },
  {
   "cell_type": "code",
   "execution_count": 138,
   "metadata": {},
   "outputs": [],
   "source": [
    "cp_images = normalize_images(cp, \"all_images/\")"
   ]
  },
  {
   "cell_type": "code",
   "execution_count": 139,
   "metadata": {},
   "outputs": [],
   "source": [
    "cpx_train, cpy_train, cpx_val, cpy_val, cpx_test, cpy_test = split_data(cp_images, cp['target'], .2)"
   ]
  },
  {
   "cell_type": "code",
   "execution_count": 142,
   "metadata": {},
   "outputs": [
    {
     "name": "stdout",
     "output_type": "stream",
     "text": [
      "Epoch 1/10\n",
      "96/96 [==============================] - 583s 6s/step - loss: 0.6054 - recall_8: 0.6845 - precision_7: 0.7092 - val_loss: 0.0453 - val_recall_8: 0.8780 - val_precision_7: 0.9863\n",
      "Epoch 2/10\n",
      "96/96 [==============================] - 580s 6s/step - loss: 0.0396 - recall_8: 0.9085 - precision_7: 0.9381 - val_loss: 0.0182 - val_recall_8: 0.9878 - val_precision_7: 0.9643\n",
      "Epoch 3/10\n",
      "96/96 [==============================] - 542s 6s/step - loss: 0.0236 - recall_8: 0.9590 - precision_7: 0.9651 - val_loss: 0.0151 - val_recall_8: 0.9878 - val_precision_7: 0.9878\n",
      "Epoch 4/10\n",
      "96/96 [==============================] - 529s 6s/step - loss: 0.0156 - recall_8: 0.9653 - precision_7: 0.9745 - val_loss: 0.0246 - val_recall_8: 1.0000 - val_precision_7: 0.9011\n",
      "Epoch 00004: early stopping\n"
     ]
    }
   ],
   "source": [
    "cp_model = create_model(2)\n",
    "\n",
    "cp_history = cp_model.fit(cpx_train, np.asarray(cpy_train), epochs=10,\n",
    "                               validation_data=(cpx_val, cpy_val),\n",
    "                               batch_size=bs,\n",
    "                               callbacks=callbacks\n",
    "                               )"
   ]
  },
  {
   "cell_type": "code",
   "execution_count": 155,
   "metadata": {},
   "outputs": [],
   "source": [
    "cpy_pred = cp_model.predict(cpx_test)"
   ]
  },
  {
   "cell_type": "code",
   "execution_count": 156,
   "metadata": {},
   "outputs": [],
   "source": [
    "cpy_pred_norm = convert_pred(cpy_pred, threshold)"
   ]
  },
  {
   "cell_type": "code",
   "execution_count": 159,
   "metadata": {},
   "outputs": [
    {
     "name": "stdout",
     "output_type": "stream",
     "text": [
      "              precision    recall  f1-score   support\n",
      "\n",
      "           0       1.00      0.99      1.00       851\n",
      "           1       0.95      1.00      0.98       105\n",
      "\n",
      "    accuracy                           0.99       956\n",
      "   macro avg       0.98      1.00      0.99       956\n",
      "weighted avg       1.00      0.99      0.99       956\n",
      "\n"
     ]
    }
   ],
   "source": [
    "print(classification_report(cpy_test, cpy_pred_norm))"
   ]
  },
  {
   "cell_type": "code",
   "execution_count": 194,
   "metadata": {},
   "outputs": [
    {
     "data": {
      "image/png": "[encoded data removed]",
      "text/plain": [
       "<Figure size 432x288 with 2 Axes>"
      ]
     },
     "metadata": {
      "needs_background": "light"
     },
     "output_type": "display_data"
    }
   ],
   "source": [
    "plot_cm(cpy_test, cpy_pred_norm, \"Pneumonia(0)/COVID(1) - VGG19\")"
   ]
  },
  {
   "cell_type": "code",
   "execution_count": 195,
   "metadata": {},
   "outputs": [
    {
     "data": {
      "image/png": "[encoded data removed]",
      "text/plain": [
       "<Figure size 432x288 with 1 Axes>"
      ]
     },
     "metadata": {
      "needs_background": "light"
     },
     "output_type": "display_data"
    }
   ],
   "source": [
    "plot_ROC(cpy_test, cpy_pred_norm.ravel(), \"COVID/Healthy - VGG19\")"
   ]
  },
  {
   "cell_type": "code",
   "execution_count": 196,
   "metadata": {},
   "outputs": [
    {
     "data": {
      "image/png": "[encoded data removed]",
      "text/plain": [
       "<Figure size 432x288 with 1 Axes>"
      ]
     },
     "metadata": {
      "needs_background": "light"
     },
     "output_type": "display_data"
    }
   ],
   "source": [
    "plot_pr(cpy_test, cpy_pred, \"COVID/Pneumonia\")"
   ]
  },
  {
   "cell_type": "markdown",
   "metadata": {},
   "source": [
    "## 3. COVID/Pnuemonia/Healthy"
   ]
  },
  {
   "cell_type": "code",
   "execution_count": 102,
   "metadata": {},
   "outputs": [],
   "source": [
    "cph_images = normalize_images(cph, \"all_images/\")"
   ]
  },
  {
   "cell_type": "code",
   "execution_count": 103,
   "metadata": {},
   "outputs": [],
   "source": [
    "cphx_train, cphy_train, cphx_val, cphy_val, cphx_test, cphy_test = split_data(cph_images, cph['target'], .2)"
   ]
  },
  {
   "cell_type": "code",
   "execution_count": 105,
   "metadata": {},
   "outputs": [
    {
     "name": "stdout",
     "output_type": "stream",
     "text": [
      "Epoch 1/10\n",
      "128/128 [==============================] - 671s 5s/step - loss: 0.8840 - accuracy: 0.6663 - val_loss: 0.8658 - val_accuracy: 0.6857\n",
      "Epoch 2/10\n",
      "128/128 [==============================] - 635s 5s/step - loss: 0.8822 - accuracy: 0.6693 - val_loss: 0.8658 - val_accuracy: 0.6857\n",
      "Epoch 00002: early stopping\n"
     ]
    }
   ],
   "source": [
    "cph_model = create_model(3)\n",
    "\n",
    "cph_history = cph_model.fit(cphx_train, np.asarray(cphy_train), epochs=10,\n",
    "                               validation_data=(cphx_val, cphy_val),\n",
    "                               batch_size=bs,\n",
    "                               callbacks=callbacks\n",
    "                               )"
   ]
  },
  {
   "cell_type": "code",
   "execution_count": 75,
   "metadata": {},
   "outputs": [
    {
     "name": "stdout",
     "output_type": "stream",
     "text": [
      "Epoch 1/10\n",
      "128/128 [==============================] - 703s 5s/step - loss: 0.8853 - accuracy: 0.6649 - val_loss: 0.8658 - val_accuracy: 0.6857\n",
      "Epoch 2/10\n",
      "128/128 [==============================] - 666s 5s/step - loss: 0.8822 - accuracy: 0.6693 - val_loss: 0.8658 - val_accuracy: 0.6857\n",
      "Epoch 3/10\n",
      "128/128 [==============================] - 707s 6s/step - loss: 0.8822 - accuracy: 0.6693 - val_loss: 0.8658 - val_accuracy: 0.6857\n",
      "Epoch 00003: early stopping\n"
     ]
    }
   ],
   "source": []
  },
  {
   "cell_type": "code",
   "execution_count": 76,
   "metadata": {},
   "outputs": [],
   "source": [
    "cphy_pred = cph_model.predict(cphx_test)"
   ]
  },
  {
   "cell_type": "code",
   "execution_count": 83,
   "metadata": {},
   "outputs": [
    {
     "name": "stdout",
     "output_type": "stream",
     "text": [
      "[1.1862728e-19 1.0043482e-27 1.0000000e+00]\n",
      "[2.9249163e-21 2.4136009e-28 1.0000000e+00]\n",
      "[6.0225489e-20 1.1575864e-27 1.0000000e+00]\n",
      "[4.2370391e-19 4.3290036e-27 1.0000000e+00]\n",
      "[4.232996e-21 5.353664e-28 1.000000e+00]\n",
      "[2.9565183e-20 5.4850385e-27 1.0000000e+00]\n",
      "[6.4390582e-20 5.5545837e-28 1.0000000e+00]\n",
      "[3.6762039e-21 5.1593424e-28 1.0000000e+00]\n",
      "[2.6146820e-17 2.6950443e-27 1.0000000e+00]\n",
      "[6.1475417e-21 6.3908485e-28 1.0000000e+00]\n",
      "[3.4575487e-20 1.3916681e-27 1.0000000e+00]\n",
      "[1.3111315e-20 2.2530827e-27 1.0000000e+00]\n",
      "[3.8060777e-19 3.8637896e-26 1.0000000e+00]\n",
      "[2.6586205e-20 1.6400235e-27 1.0000000e+00]\n",
      "[1.0604024e-20 6.3701110e-28 1.0000000e+00]\n",
      "[4.0242828e-20 6.9111334e-27 1.0000000e+00]\n",
      "[4.9953644e-20 1.1713568e-27 1.0000000e+00]\n",
      "[4.582101e-19 2.545958e-27 1.000000e+00]\n",
      "[3.0887177e-19 3.6800127e-25 1.0000000e+00]\n",
      "[1.8889886e-19 1.9671086e-27 1.0000000e+00]\n",
      "[2.4440093e-20 9.5834166e-27 1.0000000e+00]\n",
      "[1.7573816e-20 7.9493883e-27 1.0000000e+00]\n",
      "[3.1545807e-18 2.8805479e-28 1.0000000e+00]\n",
      "[3.2287490e-18 1.3520449e-27 1.0000000e+00]\n",
      "[5.7054535e-19 2.3757193e-28 1.0000000e+00]\n",
      "[6.3064961e-21 6.9875866e-27 1.0000000e+00]\n",
      "[4.4177196e-20 1.1591329e-27 1.0000000e+00]\n",
      "[3.110272e-19 9.202330e-28 1.000000e+00]\n",
      "[2.2796842e-20 4.4835595e-27 1.0000000e+00]\n",
      "[1.6706352e-20 9.7786175e-28 1.0000000e+00]\n",
      "[2.1614679e-20 3.2375665e-26 1.0000000e+00]\n",
      "[3.2638156e-20 4.3225680e-27 1.0000000e+00]\n",
      "[8.553403e-20 7.010014e-27 1.000000e+00]\n",
      "[4.8706643e-20 1.7520805e-27 1.0000000e+00]\n",
      "[3.3076828e-21 5.6907962e-29 1.0000000e+00]\n",
      "[3.6863345e-18 1.8079596e-27 1.0000000e+00]\n",
      "[1.0667245e-18 3.5554573e-27 1.0000000e+00]\n",
      "[6.3458350e-20 2.9368158e-26 1.0000000e+00]\n",
      "[5.8968382e-18 9.3532426e-27 1.0000000e+00]\n",
      "[1.5222858e-20 7.3019198e-28 1.0000000e+00]\n",
      "[4.9567332e-21 6.7952933e-28 1.0000000e+00]\n",
      "[6.7160220e-21 2.4379854e-27 1.0000000e+00]\n",
      "[9.841682e-19 5.579984e-28 1.000000e+00]\n",
      "[8.1099429e-21 1.4020741e-28 1.0000000e+00]\n",
      "[4.850676e-20 2.866989e-27 1.000000e+00]\n",
      "[2.291884e-19 7.079616e-27 1.000000e+00]\n",
      "[1.2918246e-19 2.7069580e-25 1.0000000e+00]\n",
      "[1.2681640e-18 5.1998077e-28 1.0000000e+00]\n",
      "[1.4689090e-18 3.9522535e-24 1.0000000e+00]\n",
      "[7.211654e-19 8.090015e-28 1.000000e+00]\n",
      "[2.9991187e-18 2.8249425e-27 1.0000000e+00]\n",
      "[8.098076e-20 4.753011e-27 1.000000e+00]\n",
      "[4.049613e-21 4.296134e-27 1.000000e+00]\n",
      "[4.4459869e-20 3.1286905e-28 1.0000000e+00]\n",
      "[2.3683488e-17 4.6886318e-27 1.0000000e+00]\n",
      "[1.5275386e-20 4.0232707e-27 1.0000000e+00]\n",
      "[1.2538048e-19 6.3177972e-26 1.0000000e+00]\n",
      "[2.2316483e-18 3.3778677e-27 1.0000000e+00]\n",
      "[5.7475704e-19 1.8625590e-24 1.0000000e+00]\n",
      "[5.0033932e-20 1.5501035e-27 1.0000000e+00]\n",
      "[2.8557128e-20 3.1197434e-26 1.0000000e+00]\n",
      "[1.5443191e-20 6.5334496e-28 1.0000000e+00]\n",
      "[3.9942755e-20 5.2843758e-27 1.0000000e+00]\n",
      "[1.7285289e-17 1.7014112e-26 1.0000000e+00]\n",
      "[3.4737872e-18 3.8077615e-27 1.0000000e+00]\n",
      "[3.9165710e-20 4.7908563e-27 1.0000000e+00]\n",
      "[6.0712265e-18 6.0335194e-27 1.0000000e+00]\n",
      "[3.4923487e-18 6.3267622e-28 1.0000000e+00]\n",
      "[1.2134175e-20 1.6776862e-27 1.0000000e+00]\n",
      "[4.0037816e-19 3.4036336e-27 1.0000000e+00]\n",
      "[2.1812759e-17 3.6675083e-27 1.0000000e+00]\n",
      "[7.7683456e-21 1.7924946e-27 1.0000000e+00]\n",
      "[3.1324309e-19 5.3891117e-28 1.0000000e+00]\n",
      "[4.7764753e-20 4.2560070e-27 1.0000000e+00]\n",
      "[1.4460364e-18 3.5055582e-28 1.0000000e+00]\n",
      "[4.2394275e-21 3.6859641e-28 1.0000000e+00]\n",
      "[1.3668261e-17 1.1552798e-26 1.0000000e+00]\n",
      "[1.3849682e-20 1.3447255e-27 1.0000000e+00]\n",
      "[2.9118603e-19 3.7431869e-25 1.0000000e+00]\n",
      "[2.5155858e-20 4.9221612e-27 1.0000000e+00]\n",
      "[2.9725995e-20 3.3593746e-28 1.0000000e+00]\n",
      "[3.4498546e-20 5.7651141e-27 1.0000000e+00]\n",
      "[9.494808e-20 8.707308e-28 1.000000e+00]\n",
      "[3.5326258e-18 4.5960315e-28 1.0000000e+00]\n",
      "[1.6142520e-20 2.0257613e-27 1.0000000e+00]\n",
      "[4.0417596e-20 2.0911824e-27 1.0000000e+00]\n",
      "[4.8982967e-20 2.6058877e-26 1.0000000e+00]\n",
      "[4.6217722e-20 5.2841514e-28 1.0000000e+00]\n",
      "[1.1301071e-19 1.2933444e-25 1.0000000e+00]\n",
      "[1.0987983e-19 4.9218981e-27 1.0000000e+00]\n",
      "[3.2234046e-20 6.9255701e-27 1.0000000e+00]\n",
      "[1.6986594e-21 1.7279061e-28 1.0000000e+00]\n",
      "[2.0454689e-20 1.0849951e-26 1.0000000e+00]\n",
      "[6.2551034e-21 1.6674777e-27 1.0000000e+00]\n",
      "[2.8391482e-20 1.9307841e-27 1.0000000e+00]\n",
      "[2.3896707e-21 2.4017528e-28 1.0000000e+00]\n",
      "[4.4281513e-18 2.4844504e-26 1.0000000e+00]\n",
      "[2.0794584e-18 5.3221657e-27 1.0000000e+00]\n",
      "[4.5039387e-21 6.1995651e-28 1.0000000e+00]\n",
      "[1.1573708e-18 4.0889357e-27 1.0000000e+00]\n",
      "[7.4389872e-19 4.5719352e-28 1.0000000e+00]\n",
      "[2.9349462e-18 2.8373854e-26 1.0000000e+00]\n",
      "[3.7754216e-19 4.2995914e-28 1.0000000e+00]\n",
      "[7.3597601e-18 6.1139826e-28 1.0000000e+00]\n",
      "[3.9070506e-20 1.0117313e-27 1.0000000e+00]\n",
      "[5.5370715e-19 1.2831173e-26 1.0000000e+00]\n",
      "[4.0310103e-21 2.3464117e-28 1.0000000e+00]\n",
      "[2.2368037e-19 5.4297922e-25 1.0000000e+00]\n",
      "[2.6831442e-20 1.9512878e-26 1.0000000e+00]\n",
      "[1.5229190e-20 2.5383938e-27 1.0000000e+00]\n",
      "[1.8235805e-18 6.8868007e-24 1.0000000e+00]\n",
      "[1.4545604e-20 3.2348613e-27 1.0000000e+00]\n",
      "[1.7032234e-18 1.0566882e-26 1.0000000e+00]\n",
      "[5.4423076e-21 1.0161097e-27 1.0000000e+00]\n",
      "[2.0065870e-20 8.7459614e-27 1.0000000e+00]\n",
      "[8.2717585e-21 5.8024865e-28 1.0000000e+00]\n",
      "[2.4470132e-20 2.3559661e-26 1.0000000e+00]\n",
      "[2.1743357e-20 3.1275602e-26 1.0000000e+00]\n",
      "[1.2479881e-19 1.6422147e-27 1.0000000e+00]\n",
      "[1.9782248e-18 9.5360236e-24 1.0000000e+00]\n",
      "[4.88456356e-20 1.17136184e-26 1.00000000e+00]\n",
      "[7.2348310e-18 6.7102276e-23 1.0000000e+00]\n",
      "[5.283470e-19 6.658553e-27 1.000000e+00]\n",
      "[1.9477984e-20 5.0277672e-28 1.0000000e+00]\n",
      "[1.1010468e-20 2.2221567e-28 1.0000000e+00]\n",
      "[9.665913e-20 8.353290e-27 1.000000e+00]\n",
      "[1.4069830e-19 2.5740828e-27 1.0000000e+00]\n",
      "[1.5816661e-19 2.2646736e-26 1.0000000e+00]\n",
      "[2.7233607e-20 9.1583404e-29 1.0000000e+00]\n",
      "[5.8470352e-21 4.0751840e-28 1.0000000e+00]\n",
      "[1.4113110e-18 1.8759034e-28 1.0000000e+00]\n",
      "[4.2303206e-19 2.7677998e-27 1.0000000e+00]\n",
      "[7.2319853e-19 1.3367534e-25 1.0000000e+00]\n",
      "[6.5902503e-19 2.4357253e-28 1.0000000e+00]\n",
      "[1.5634547e-18 1.0406743e-27 1.0000000e+00]\n",
      "[1.0815685e-20 2.2540530e-28 1.0000000e+00]\n",
      "[8.6658519e-21 1.4874707e-27 1.0000000e+00]\n",
      "[4.601732e-21 9.521029e-28 1.000000e+00]\n",
      "[1.2449870e-20 3.1917149e-27 1.0000000e+00]\n",
      "[1.6206141e-19 1.2542925e-27 1.0000000e+00]\n",
      "[3.5095883e-19 9.0168537e-25 1.0000000e+00]\n",
      "[7.9665681e-20 4.8861252e-29 1.0000000e+00]\n",
      "[9.7589819e-20 2.4672318e-27 1.0000000e+00]\n",
      "[5.1475288e-20 8.6874675e-28 1.0000000e+00]\n",
      "[1.2189104e-20 3.7240128e-27 1.0000000e+00]\n",
      "[9.9024538e-21 6.9994553e-28 1.0000000e+00]\n",
      "[7.2689923e-19 2.3562332e-28 1.0000000e+00]\n",
      "[9.3616381e-18 2.0820127e-27 1.0000000e+00]\n",
      "[3.415638e-20 4.687237e-27 1.000000e+00]\n",
      "[1.0768835e-20 7.4511654e-28 1.0000000e+00]\n",
      "[7.189542e-19 9.594458e-28 1.000000e+00]\n",
      "[2.9238818e-19 1.5576449e-25 1.0000000e+00]\n",
      "[1.9895064e-20 6.8269402e-28 1.0000000e+00]\n",
      "[2.272574e-19 6.231717e-28 1.000000e+00]\n",
      "[4.4270803e-21 6.1789978e-29 1.0000000e+00]\n",
      "[1.2445941e-18 8.8846193e-24 1.0000000e+00]\n",
      "[1.7096345e-19 1.2319071e-25 1.0000000e+00]\n",
      "[2.5418608e-21 1.5251452e-28 1.0000000e+00]\n",
      "[1.4190779e-20 1.4246488e-27 1.0000000e+00]\n",
      "[1.516808e-20 8.131386e-27 1.000000e+00]\n",
      "[7.014368e-21 8.338354e-28 1.000000e+00]\n",
      "[2.1940850e-18 2.7304974e-27 1.0000000e+00]\n",
      "[6.361489e-21 9.820935e-28 1.000000e+00]\n",
      "[1.8066227e-19 6.9637975e-27 1.0000000e+00]\n",
      "[1.4177693e-19 1.5364236e-25 1.0000000e+00]\n",
      "[7.074188e-20 4.987711e-27 1.000000e+00]\n",
      "[1.4015504e-20 2.7433811e-27 1.0000000e+00]\n",
      "[7.8690661e-21 4.5648055e-29 1.0000000e+00]\n",
      "[9.6291425e-21 1.2460183e-27 1.0000000e+00]\n",
      "[5.8692483e-21 1.6757545e-27 1.0000000e+00]\n",
      "[1.573625e-20 5.085580e-27 1.000000e+00]\n",
      "[1.0024663e-17 3.4924697e-25 1.0000000e+00]\n",
      "[2.5542272e-19 3.9139266e-28 1.0000000e+00]\n",
      "[1.14143304e-18 1.07538545e-27 1.00000000e+00]\n",
      "[6.6644185e-21 1.3307483e-27 1.0000000e+00]\n",
      "[3.2857268e-20 7.9205718e-27 1.0000000e+00]\n",
      "[6.7023105e-19 4.2354705e-27 1.0000000e+00]\n",
      "[6.6482658e-22 4.8776704e-29 1.0000000e+00]\n",
      "[2.7550646e-19 5.1975295e-27 1.0000000e+00]\n",
      "[4.4735301e-20 1.6500594e-25 1.0000000e+00]\n",
      "[1.8877424e-19 6.4202962e-27 1.0000000e+00]\n",
      "[6.634693e-20 6.774200e-28 1.000000e+00]\n",
      "[3.5970259e-19 1.5548887e-27 1.0000000e+00]\n",
      "[3.0013932e-20 1.6272429e-26 1.0000000e+00]\n",
      "[1.5680597e-18 2.4497411e-27 1.0000000e+00]\n",
      "[4.4153634e-19 1.1331433e-24 1.0000000e+00]\n",
      "[1.1157959e-18 1.0442931e-27 1.0000000e+00]\n",
      "[5.678242e-21 8.494320e-28 1.000000e+00]\n",
      "[3.9383893e-18 1.8219788e-28 1.0000000e+00]\n",
      "[1.6367980e-20 1.1185097e-27 1.0000000e+00]\n",
      "[7.940475e-20 6.478209e-27 1.000000e+00]\n",
      "[2.0346517e-20 1.3418669e-26 1.0000000e+00]\n",
      "[6.0374515e-21 4.0527224e-27 1.0000000e+00]\n",
      "[2.5609384e-20 3.5982465e-27 1.0000000e+00]\n",
      "[1.4540064e-19 3.9045615e-28 1.0000000e+00]\n",
      "[9.2393758e-19 2.6412847e-27 1.0000000e+00]\n",
      "[8.4681759e-21 2.6578808e-27 1.0000000e+00]\n",
      "[9.3000466e-21 4.4714816e-28 1.0000000e+00]\n",
      "[1.3767562e-20 4.6150058e-28 1.0000000e+00]\n",
      "[3.3800471e-19 4.8831140e-26 1.0000000e+00]\n",
      "[4.1133718e-20 2.5725124e-27 1.0000000e+00]\n",
      "[2.0617643e-19 2.0460402e-26 1.0000000e+00]\n",
      "[5.6890019e-19 1.8700813e-27 1.0000000e+00]\n",
      "[9.1684544e-19 1.3622022e-27 1.0000000e+00]\n",
      "[2.8890979e-21 2.6359787e-28 1.0000000e+00]\n",
      "[1.1349452e-20 1.4002583e-26 1.0000000e+00]\n",
      "[3.869364e-19 5.000761e-27 1.000000e+00]\n",
      "[5.4618400e-20 2.2512515e-28 1.0000000e+00]\n",
      "[6.9588332e-19 9.4282914e-27 1.0000000e+00]\n",
      "[1.2470696e-19 1.4912318e-27 1.0000000e+00]\n",
      "[7.5416170e-20 3.0955566e-28 1.0000000e+00]\n",
      "[4.0487542e-18 1.2688847e-26 1.0000000e+00]\n",
      "[2.4101972e-20 1.2276984e-26 1.0000000e+00]\n",
      "[1.1114707e-19 7.4887305e-26 1.0000000e+00]\n",
      "[2.4208413e-19 2.2726452e-25 1.0000000e+00]\n",
      "[2.8670195e-21 3.3016325e-28 1.0000000e+00]\n",
      "[1.2510864e-19 8.4515542e-29 1.0000000e+00]\n",
      "[4.6452428e-21 3.6649630e-27 1.0000000e+00]\n",
      "[3.9718967e-19 5.0740362e-25 1.0000000e+00]\n",
      "[7.9525968e-21 1.4612289e-27 1.0000000e+00]\n",
      "[1.6493902e-20 2.9282230e-27 1.0000000e+00]\n",
      "[9.7275481e-18 1.1233759e-27 1.0000000e+00]\n",
      "[9.7038967e-19 3.2090752e-27 1.0000000e+00]\n",
      "[6.6747736e-21 6.4164521e-27 1.0000000e+00]\n",
      "[1.344284e-20 6.939268e-27 1.000000e+00]\n",
      "[1.4266614e-19 7.1180387e-28 1.0000000e+00]\n",
      "[5.8615574e-19 9.4103710e-25 1.0000000e+00]\n",
      "[1.641069e-19 4.326994e-25 1.000000e+00]\n",
      "[2.7440609e-20 2.1985646e-28 1.0000000e+00]\n",
      "[9.7647909e-20 2.2277013e-26 1.0000000e+00]\n",
      "[1.8232020e-21 7.1892076e-28 1.0000000e+00]\n",
      "[3.5030727e-20 3.2269748e-26 1.0000000e+00]\n",
      "[3.1024275e-19 3.5446895e-28 1.0000000e+00]\n",
      "[1.09888166e-20 3.00688172e-28 1.00000000e+00]\n",
      "[3.2893152e-19 9.4969426e-28 1.0000000e+00]\n",
      "[8.796723e-19 7.730748e-27 1.000000e+00]\n",
      "[9.480047e-19 2.295496e-28 1.000000e+00]\n",
      "[6.7539689e-21 6.2743186e-28 1.0000000e+00]\n",
      "[2.0852027e-17 1.0901016e-27 1.0000000e+00]\n",
      "[9.1593903e-21 2.5958047e-28 1.0000000e+00]\n",
      "[1.8454333e-20 4.5969282e-27 1.0000000e+00]\n",
      "[3.4557952e-20 7.0438692e-27 1.0000000e+00]\n",
      "[6.9962569e-19 3.2661937e-28 1.0000000e+00]\n",
      "[7.0307630e-21 3.9414953e-28 1.0000000e+00]\n",
      "[3.0499293e-18 1.6773854e-27 1.0000000e+00]\n",
      "[9.728906e-21 8.565188e-28 1.000000e+00]\n",
      "[1.4482975e-21 9.7959742e-29 1.0000000e+00]\n",
      "[8.158539e-20 9.291862e-27 1.000000e+00]\n",
      "[4.4930143e-18 6.4075242e-27 1.0000000e+00]\n",
      "[9.085408e-21 8.624729e-28 1.000000e+00]\n",
      "[6.9030202e-19 1.3771932e-26 1.0000000e+00]\n",
      "[1.0166018e-20 1.0588175e-28 1.0000000e+00]\n",
      "[3.9517187e-20 5.2657649e-26 1.0000000e+00]\n",
      "[3.1368520e-21 4.2884855e-28 1.0000000e+00]\n",
      "[5.8467678e-21 2.0149175e-27 1.0000000e+00]\n",
      "[3.8408051e-19 1.2488777e-28 1.0000000e+00]\n",
      "[1.3795109e-20 4.5157068e-28 1.0000000e+00]\n",
      "[8.1070356e-21 7.3252432e-28 1.0000000e+00]\n",
      "[4.0357512e-20 4.5929493e-27 1.0000000e+00]\n",
      "[4.0380479e-19 4.2999217e-27 1.0000000e+00]\n",
      "[9.3071540e-19 1.7122055e-27 1.0000000e+00]\n",
      "[1.4178659e-20 1.2841645e-27 1.0000000e+00]\n",
      "[1.0161885e-17 4.0144228e-28 1.0000000e+00]\n",
      "[1.5836161e-19 5.4941870e-28 1.0000000e+00]\n",
      "[4.994281e-19 4.708819e-25 1.000000e+00]\n",
      "[7.4999065e-19 5.2558455e-28 1.0000000e+00]\n",
      "[2.5284500e-19 1.8091275e-25 1.0000000e+00]\n",
      "[7.9674574e-18 2.5634998e-27 1.0000000e+00]\n",
      "[7.3025589e-21 6.3063563e-27 1.0000000e+00]\n",
      "[4.9632420e-21 2.1992858e-28 1.0000000e+00]\n",
      "[9.7675425e-21 2.2788065e-27 1.0000000e+00]\n",
      "[1.6153853e-20 8.6099738e-27 1.0000000e+00]\n",
      "[3.2300777e-19 3.9647333e-28 1.0000000e+00]\n",
      "[1.0938253e-20 7.8321432e-28 1.0000000e+00]\n",
      "[4.9976133e-20 1.2210142e-27 1.0000000e+00]\n",
      "[2.2649397e-20 1.0103891e-27 1.0000000e+00]\n",
      "[1.5166924e-20 1.0091840e-26 1.0000000e+00]\n",
      "[1.0197339e-17 3.9314813e-27 1.0000000e+00]\n",
      "[1.2281758e-19 2.4521626e-27 1.0000000e+00]\n",
      "[4.4501077e-21 1.6676485e-28 1.0000000e+00]\n",
      "[6.4718101e-20 6.5861307e-26 1.0000000e+00]\n",
      "[1.6479625e-20 7.7935774e-28 1.0000000e+00]\n",
      "[3.1486746e-20 2.8846402e-27 1.0000000e+00]\n",
      "[1.1085834e-18 7.1059697e-27 1.0000000e+00]\n",
      "[2.5528233e-20 8.5464905e-27 1.0000000e+00]\n",
      "[1.02940663e-18 1.53677365e-27 1.00000000e+00]\n",
      "[5.15118e-21 3.63296e-28 1.00000e+00]\n",
      "[1.5857251e-20 4.4910380e-28 1.0000000e+00]\n",
      "[1.1873141e-19 7.4339925e-27 1.0000000e+00]\n",
      "[8.6069459e-21 1.7522544e-27 1.0000000e+00]\n",
      "[8.4216023e-19 5.3260423e-28 1.0000000e+00]\n",
      "[4.1310783e-20 8.2265096e-28 1.0000000e+00]\n",
      "[4.118679e-20 4.605092e-26 1.000000e+00]\n",
      "[2.0275012e-19 3.8993131e-25 1.0000000e+00]\n",
      "[4.1144253e-19 2.5418905e-28 1.0000000e+00]\n",
      "[1.3108109e-21 5.7550229e-29 1.0000000e+00]\n",
      "[7.4680987e-20 2.8385006e-26 1.0000000e+00]\n",
      "[9.9285907e-21 1.3640742e-27 1.0000000e+00]\n",
      "[5.6339918e-20 4.2680524e-28 1.0000000e+00]\n",
      "[2.3896652e-18 1.0253970e-26 1.0000000e+00]\n",
      "[5.9566972e-21 3.5575585e-28 1.0000000e+00]\n",
      "[9.9955223e-19 1.4199015e-27 1.0000000e+00]\n",
      "[7.1724759e-19 1.1010555e-27 1.0000000e+00]\n",
      "[2.4451843e-20 3.1293367e-27 1.0000000e+00]\n",
      "[5.4580285e-20 7.6525548e-27 1.0000000e+00]\n",
      "[4.1741832e-19 1.8014608e-27 1.0000000e+00]\n",
      "[1.2516585e-20 3.2454770e-28 1.0000000e+00]\n",
      "[2.8897277e-20 2.4367289e-28 1.0000000e+00]\n",
      "[1.7494773e-18 3.2326037e-27 1.0000000e+00]\n",
      "[1.2608308e-20 5.3851250e-28 1.0000000e+00]\n",
      "[1.4137782e-19 2.0949101e-28 1.0000000e+00]\n",
      "[2.0747024e-20 1.6890265e-27 1.0000000e+00]\n",
      "[1.4593416e-18 5.0125285e-26 1.0000000e+00]\n",
      "[3.9851135e-20 1.7244170e-27 1.0000000e+00]\n",
      "[1.2471410e-19 2.8139382e-28 1.0000000e+00]\n",
      "[1.7678582e-19 6.3327296e-27 1.0000000e+00]\n",
      "[4.9260885e-19 4.0498768e-28 1.0000000e+00]\n",
      "[6.5901905e-22 9.8573001e-29 1.0000000e+00]\n",
      "[2.0389249e-20 3.6452594e-28 1.0000000e+00]\n",
      "[3.2465553e-20 3.2598704e-28 1.0000000e+00]\n",
      "[1.3741013e-20 1.5871658e-27 1.0000000e+00]\n",
      "[2.04957054e-19 1.08001506e-26 1.00000000e+00]\n",
      "[7.9244032e-21 2.2466458e-27 1.0000000e+00]\n",
      "[6.195548e-20 7.973441e-27 1.000000e+00]\n",
      "[5.4791007e-19 4.3387951e-25 1.0000000e+00]\n",
      "[5.1702956e-21 6.6600487e-28 1.0000000e+00]\n",
      "[4.2434908e-20 3.3498282e-28 1.0000000e+00]\n",
      "[4.6198885e-19 1.0438312e-27 1.0000000e+00]\n",
      "[1.2299628e-18 9.5961424e-28 1.0000000e+00]\n",
      "[1.3233022e-19 2.3441661e-28 1.0000000e+00]\n",
      "[3.8526949e-17 1.8989304e-26 1.0000000e+00]\n",
      "[3.563359e-20 5.758059e-27 1.000000e+00]\n",
      "[2.0643368e-20 5.0685369e-27 1.0000000e+00]\n",
      "[5.995978e-21 5.039903e-28 1.000000e+00]\n",
      "[9.1869739e-19 3.6331455e-25 1.0000000e+00]\n",
      "[2.6300233e-20 2.7028366e-28 1.0000000e+00]\n",
      "[2.2720205e-18 2.4062557e-28 1.0000000e+00]\n",
      "[9.2549982e-20 1.1148926e-28 1.0000000e+00]\n",
      "[7.6076124e-20 1.4366066e-26 1.0000000e+00]\n",
      "[8.9674164e-19 1.3883403e-24 1.0000000e+00]\n",
      "[1.1489940e-20 6.4797133e-28 1.0000000e+00]\n",
      "[1.3220149e-20 5.4176005e-27 1.0000000e+00]\n",
      "[5.7465840e-19 4.3482496e-28 1.0000000e+00]\n",
      "[3.3080000e-20 3.8536732e-28 1.0000000e+00]\n",
      "[2.5012314e-21 1.7529161e-27 1.0000000e+00]\n",
      "[5.1454137e-18 3.1618069e-27 1.0000000e+00]\n",
      "[1.0681899e-19 8.9437105e-26 1.0000000e+00]\n",
      "[7.378985e-19 1.231189e-24 1.000000e+00]\n",
      "[2.6270667e-19 8.4594605e-28 1.0000000e+00]\n",
      "[9.3804324e-20 1.9780884e-26 1.0000000e+00]\n",
      "[1.2657613e-19 4.7591978e-27 1.0000000e+00]\n",
      "[1.1220015e-19 8.5262325e-28 1.0000000e+00]\n",
      "[8.1334433e-17 1.1381964e-21 1.0000000e+00]\n",
      "[8.6430153e-19 4.4313583e-27 1.0000000e+00]\n",
      "[2.8266558e-20 2.2040806e-29 1.0000000e+00]\n",
      "[4.439479e-20 1.968993e-27 1.000000e+00]\n",
      "[2.3022840e-20 4.9139063e-27 1.0000000e+00]\n",
      "[3.6000442e-20 1.9689028e-27 1.0000000e+00]\n",
      "[1.2414687e-19 1.9688504e-27 1.0000000e+00]\n",
      "[1.7454025e-20 7.4639670e-28 1.0000000e+00]\n",
      "[8.1066996e-20 1.6497672e-28 1.0000000e+00]\n",
      "[1.2445555e-19 1.3672535e-25 1.0000000e+00]\n",
      "[1.3126279e-20 3.8245464e-27 1.0000000e+00]\n",
      "[1.9351138e-18 4.1227982e-27 1.0000000e+00]\n",
      "[1.8219784e-21 1.2261713e-28 1.0000000e+00]\n",
      "[2.9716745e-17 8.2518780e-27 1.0000000e+00]\n",
      "[2.3046865e-17 1.4976167e-27 1.0000000e+00]\n",
      "[9.7595453e-19 1.6186481e-28 1.0000000e+00]\n",
      "[1.9567138e-19 6.9218760e-26 1.0000000e+00]\n",
      "[1.4011456e-18 3.6434400e-27 1.0000000e+00]\n",
      "[3.5111936e-20 4.5908149e-26 1.0000000e+00]\n",
      "[6.5423550e-20 1.1185391e-28 1.0000000e+00]\n",
      "[1.7922343e-20 3.8707802e-27 1.0000000e+00]\n",
      "[2.4567219e-20 4.8768379e-27 1.0000000e+00]\n",
      "[2.5867299e-21 6.9706476e-29 1.0000000e+00]\n",
      "[4.4347395e-20 1.2671675e-26 1.0000000e+00]\n",
      "[2.6947147e-20 8.9488200e-28 1.0000000e+00]\n",
      "[7.194367e-20 9.468731e-27 1.000000e+00]\n",
      "[3.2431018e-20 1.8061044e-28 1.0000000e+00]\n",
      "[7.1224135e-20 2.5673752e-27 1.0000000e+00]\n",
      "[4.7545382e-18 7.0104952e-27 1.0000000e+00]\n",
      "[2.4315389e-20 2.3363278e-28 1.0000000e+00]\n",
      "[8.8222922e-20 5.8917043e-28 1.0000000e+00]\n",
      "[2.5786326e-20 7.0947022e-27 1.0000000e+00]\n",
      "[2.1640265e-19 3.7661984e-28 1.0000000e+00]\n",
      "[2.1119050e-20 2.2328047e-27 1.0000000e+00]\n",
      "[1.0439201e-17 1.2463987e-27 1.0000000e+00]\n",
      "[3.1207408e-20 8.2489159e-28 1.0000000e+00]\n",
      "[1.497582e-20 2.429341e-28 1.000000e+00]\n",
      "[5.3254369e-19 1.7721656e-27 1.0000000e+00]\n",
      "[5.810038e-21 6.351988e-27 1.000000e+00]\n",
      "[1.1264272e-19 1.2660659e-26 1.0000000e+00]\n",
      "[6.9363818e-20 5.0472143e-28 1.0000000e+00]\n",
      "[4.3137705e-20 8.0071183e-28 1.0000000e+00]\n",
      "[1.9598718e-21 7.3736332e-28 1.0000000e+00]\n",
      "[1.0499977e-19 1.6407619e-27 1.0000000e+00]\n",
      "[2.4340817e-20 2.2231158e-27 1.0000000e+00]\n",
      "[3.2275175e-18 3.6653263e-27 1.0000000e+00]\n",
      "[8.2812622e-21 1.4634714e-27 1.0000000e+00]\n",
      "[2.6482580e-18 2.5963111e-27 1.0000000e+00]\n",
      "[4.0676232e-19 7.5004560e-25 1.0000000e+00]\n",
      "[2.2725298e-20 2.8004364e-27 1.0000000e+00]\n",
      "[5.8450727e-21 1.8839362e-27 1.0000000e+00]\n",
      "[3.1836518e-20 4.9175607e-28 1.0000000e+00]\n",
      "[6.4012684e-20 8.1867517e-28 1.0000000e+00]\n",
      "[2.5736894e-20 3.6759963e-27 1.0000000e+00]\n",
      "[4.193897e-18 3.243486e-27 1.000000e+00]\n",
      "[2.0947735e-21 2.5280816e-28 1.0000000e+00]\n",
      "[9.9859085e-21 1.5505292e-27 1.0000000e+00]\n",
      "[1.9002623e-20 1.6436936e-27 1.0000000e+00]\n",
      "[5.4746684e-20 1.8723941e-27 1.0000000e+00]\n",
      "[9.2831039e-21 2.3982477e-27 1.0000000e+00]\n",
      "[2.1268699e-20 3.1229447e-27 1.0000000e+00]\n",
      "[5.717072e-17 5.746509e-22 1.000000e+00]\n",
      "[1.6464041e-20 5.7908804e-27 1.0000000e+00]\n",
      "[3.7619240e-18 4.1551654e-27 1.0000000e+00]\n",
      "[1.0845722e-20 2.9296962e-28 1.0000000e+00]\n",
      "[1.1758558e-20 3.5350478e-28 1.0000000e+00]\n",
      "[3.0351066e-19 7.5753787e-28 1.0000000e+00]\n",
      "[6.6559072e-21 1.6910896e-27 1.0000000e+00]\n",
      "[3.0605204e-20 2.8841904e-26 1.0000000e+00]\n",
      "[2.5220427e-20 7.1514378e-27 1.0000000e+00]\n",
      "[6.4398195e-20 1.0579628e-26 1.0000000e+00]\n",
      "[2.8185492e-19 3.0831958e-27 1.0000000e+00]\n",
      "[3.1418953e-20 2.8987030e-28 1.0000000e+00]\n",
      "[4.7645739e-20 6.2711125e-28 1.0000000e+00]\n",
      "[6.056373e-19 2.065252e-26 1.000000e+00]\n",
      "[8.6947264e-21 6.1397857e-28 1.0000000e+00]\n",
      "[2.236744e-19 6.232549e-28 1.000000e+00]\n",
      "[4.8256523e-19 8.0504252e-28 1.0000000e+00]\n",
      "[1.7201667e-19 1.2320669e-25 1.0000000e+00]\n",
      "[1.0513960e-20 3.3009792e-27 1.0000000e+00]\n",
      "[6.740279e-20 2.331449e-28 1.000000e+00]\n",
      "[2.0274859e-19 1.0014603e-26 1.0000000e+00]\n",
      "[5.3236238e-21 6.5886081e-29 1.0000000e+00]\n",
      "[1.3781447e-18 1.5708245e-27 1.0000000e+00]\n",
      "[2.2197450e-18 1.7653105e-27 1.0000000e+00]\n",
      "[4.465911e-19 1.409777e-26 1.000000e+00]\n",
      "[1.7922274e-20 1.1847265e-26 1.0000000e+00]\n",
      "[2.3306203e-22 1.0316062e-29 1.0000000e+00]\n",
      "[2.0460073e-20 3.3280878e-27 1.0000000e+00]\n",
      "[3.6544514e-19 5.6550519e-27 1.0000000e+00]\n",
      "[4.632524e-19 1.253006e-27 1.000000e+00]\n",
      "[7.0428494e-19 3.7214973e-28 1.0000000e+00]\n",
      "[3.5519980e-21 1.1435852e-27 1.0000000e+00]\n",
      "[2.5756821e-21 4.7152447e-29 1.0000000e+00]\n",
      "[5.2961774e-21 1.9665600e-28 1.0000000e+00]\n",
      "[2.3360700e-20 2.2093597e-28 1.0000000e+00]\n",
      "[1.1789324e-20 1.3511890e-27 1.0000000e+00]\n",
      "[8.0048869e-21 3.3998187e-27 1.0000000e+00]\n",
      "[1.9477092e-20 6.7786720e-28 1.0000000e+00]\n",
      "[6.944378e-20 4.754537e-26 1.000000e+00]\n",
      "[2.97051382e-20 1.14649046e-26 1.00000000e+00]\n",
      "[1.4570205e-20 2.9170279e-28 1.0000000e+00]\n",
      "[2.5466262e-21 8.0466793e-28 1.0000000e+00]\n",
      "[2.3264833e-20 8.7893653e-29 1.0000000e+00]\n",
      "[1.3723000e-19 8.3052486e-27 1.0000000e+00]\n",
      "[6.8733474e-21 1.1592922e-27 1.0000000e+00]\n",
      "[6.1493272e-20 7.4490054e-28 1.0000000e+00]\n",
      "[1.8693605e-20 2.5044902e-26 1.0000000e+00]\n",
      "[1.9054170e-19 3.7271355e-29 1.0000000e+00]\n",
      "[5.2076722e-19 6.1730195e-27 1.0000000e+00]\n",
      "[2.9692223e-20 1.7269770e-28 1.0000000e+00]\n",
      "[1.6989008e-19 2.1112278e-28 1.0000000e+00]\n",
      "[2.141272e-19 9.728473e-26 1.000000e+00]\n",
      "[1.5590697e-20 3.2510530e-28 1.0000000e+00]\n",
      "[8.9993208e-19 6.3547996e-27 1.0000000e+00]\n",
      "[2.2314781e-18 5.6779431e-27 1.0000000e+00]\n",
      "[1.0547468e-19 6.3187339e-27 1.0000000e+00]\n",
      "[1.0265938e-20 4.5869789e-27 1.0000000e+00]\n",
      "[2.5644772e-20 7.6037767e-29 1.0000000e+00]\n",
      "[7.2030797e-18 1.1684068e-27 1.0000000e+00]\n",
      "[3.796143e-20 5.663144e-28 1.000000e+00]\n",
      "[5.3067569e-20 7.1797873e-26 1.0000000e+00]\n",
      "[6.9936689e-19 3.5868442e-27 1.0000000e+00]\n",
      "[5.7596172e-20 2.6960844e-26 1.0000000e+00]\n",
      "[2.5947856e-20 2.7422929e-27 1.0000000e+00]\n",
      "[1.1460704e-19 7.3380526e-28 1.0000000e+00]\n",
      "[5.6424445e-20 2.8143585e-27 1.0000000e+00]\n",
      "[2.943094e-20 3.222826e-28 1.000000e+00]\n",
      "[2.9706612e-20 5.9784871e-27 1.0000000e+00]\n",
      "[4.194489e-18 3.803559e-23 1.000000e+00]\n",
      "[9.068278e-19 8.293471e-27 1.000000e+00]\n",
      "[3.5809802e-19 1.2629353e-26 1.0000000e+00]\n",
      "[2.3363398e-18 4.1147224e-27 1.0000000e+00]\n",
      "[4.2124118e-20 1.9636384e-26 1.0000000e+00]\n",
      "[3.0334629e-19 7.2787017e-27 1.0000000e+00]\n",
      "[3.2797537e-20 7.3310893e-27 1.0000000e+00]\n",
      "[2.0314042e-18 9.7525456e-27 1.0000000e+00]\n",
      "[1.7452627e-20 4.2958719e-27 1.0000000e+00]\n",
      "[5.471492e-21 5.479075e-28 1.000000e+00]\n",
      "[1.8007623e-17 9.2597023e-26 1.0000000e+00]\n",
      "[3.9836431e-18 1.4277233e-26 1.0000000e+00]\n",
      "[9.6825885e-21 1.9250477e-27 1.0000000e+00]\n",
      "[1.2830980e-18 4.6662744e-27 1.0000000e+00]\n",
      "[7.2510222e-18 1.8448425e-27 1.0000000e+00]\n",
      "[4.7486426e-20 1.4267217e-26 1.0000000e+00]\n",
      "[7.6596456e-21 2.9726116e-27 1.0000000e+00]\n",
      "[1.1455290e-18 6.9019354e-28 1.0000000e+00]\n",
      "[9.551438e-21 3.564937e-27 1.000000e+00]\n",
      "[4.8199830e-20 1.0405473e-27 1.0000000e+00]\n",
      "[7.2004037e-21 1.3975292e-29 1.0000000e+00]\n",
      "[3.4191188e-20 3.6308539e-28 1.0000000e+00]\n",
      "[5.3653854e-18 1.8228626e-27 1.0000000e+00]\n",
      "[1.8547351e-20 1.7257463e-27 1.0000000e+00]\n",
      "[1.4641252e-19 3.8666294e-29 1.0000000e+00]\n",
      "[1.6070756e-20 4.6895215e-29 1.0000000e+00]\n",
      "[1.8629393e-20 1.5754994e-27 1.0000000e+00]\n",
      "[9.5591029e-19 1.3983459e-28 1.0000000e+00]\n",
      "[3.6965275e-19 8.6629783e-28 1.0000000e+00]\n",
      "[2.2716617e-21 6.1469569e-28 1.0000000e+00]\n",
      "[5.802352e-21 7.230959e-28 1.000000e+00]\n",
      "[9.841710e-21 1.907111e-27 1.000000e+00]\n",
      "[1.5817800e-20 5.8065193e-27 1.0000000e+00]\n",
      "[2.4469292e-20 1.1326840e-26 1.0000000e+00]\n",
      "[2.9408943e-20 2.3123273e-27 1.0000000e+00]\n",
      "[1.8429307e-18 1.6393229e-27 1.0000000e+00]\n",
      "[1.1094375e-19 2.2727816e-27 1.0000000e+00]\n",
      "[1.3471190e-18 2.8301847e-27 1.0000000e+00]\n",
      "[1.31070645e-20 4.77596653e-27 1.00000000e+00]\n",
      "[3.1734409e-21 1.0547908e-27 1.0000000e+00]\n",
      "[1.7954162e-20 4.3189580e-27 1.0000000e+00]\n",
      "[7.887760e-21 5.746818e-29 1.000000e+00]\n",
      "[3.5852856e-19 4.5749259e-25 1.0000000e+00]\n",
      "[1.33096624e-20 2.08145688e-27 1.00000000e+00]\n",
      "[4.607511e-21 4.388342e-28 1.000000e+00]\n",
      "[3.2920124e-20 2.5026662e-26 1.0000000e+00]\n",
      "[1.3082738e-20 3.7363479e-28 1.0000000e+00]\n",
      "[1.3764306e-20 2.9186657e-27 1.0000000e+00]\n",
      "[5.6657574e-21 2.3701172e-27 1.0000000e+00]\n",
      "[2.6553973e-20 6.1548203e-27 1.0000000e+00]\n",
      "[8.3553554e-21 1.1403354e-27 1.0000000e+00]\n",
      "[2.3810911e-20 6.0386513e-28 1.0000000e+00]\n",
      "[2.2490901e-19 5.3823552e-27 1.0000000e+00]\n",
      "[8.3878415e-19 5.8926288e-27 1.0000000e+00]\n",
      "[1.9790400e-18 7.9951084e-24 1.0000000e+00]\n",
      "[1.6358688e-19 4.9386045e-25 1.0000000e+00]\n",
      "[4.303186e-20 2.151491e-26 1.000000e+00]\n",
      "[2.2750787e-21 1.8390588e-28 1.0000000e+00]\n",
      "[9.129705e-21 8.394910e-28 1.000000e+00]\n",
      "[3.727606e-21 8.337782e-28 1.000000e+00]\n",
      "[1.2899528e-20 1.8930060e-27 1.0000000e+00]\n",
      "[1.04984495e-20 5.07546366e-27 1.00000000e+00]\n",
      "[4.202337e-18 1.796040e-27 1.000000e+00]\n",
      "[2.2070437e-20 5.8673465e-28 1.0000000e+00]\n",
      "[3.0985157e-17 2.4689559e-26 1.0000000e+00]\n",
      "[1.5180650e-19 1.6997449e-25 1.0000000e+00]\n",
      "[7.4123564e-20 7.8813035e-26 1.0000000e+00]\n",
      "[7.717752e-20 5.340493e-26 1.000000e+00]\n",
      "[1.02449744e-19 8.01400219e-26 1.00000000e+00]\n",
      "[5.4504546e-20 1.4655449e-26 1.0000000e+00]\n",
      "[5.0870897e-21 1.8797512e-27 1.0000000e+00]\n",
      "[1.6525203e-20 1.5430592e-27 1.0000000e+00]\n",
      "[3.1086841e-18 3.1400612e-28 1.0000000e+00]\n",
      "[1.9028413e-16 7.6423088e-21 1.0000000e+00]\n",
      "[1.9154293e-20 1.7691261e-27 1.0000000e+00]\n",
      "[2.1283389e-20 4.4979304e-28 1.0000000e+00]\n",
      "[6.5612244e-20 7.5436619e-27 1.0000000e+00]\n",
      "[1.2198692e-19 6.0751137e-27 1.0000000e+00]\n",
      "[2.9935180e-18 2.7659316e-27 1.0000000e+00]\n",
      "[4.8548435e-19 3.7542229e-27 1.0000000e+00]\n",
      "[1.5989182e-20 3.8370240e-28 1.0000000e+00]\n",
      "[3.2570246e-20 2.3769455e-26 1.0000000e+00]\n",
      "[3.8396457e-20 4.7646996e-28 1.0000000e+00]\n",
      "[4.0454929e-20 5.8444532e-27 1.0000000e+00]\n",
      "[1.6402930e-19 7.2348295e-26 1.0000000e+00]\n",
      "[4.9597269e-19 2.7777742e-27 1.0000000e+00]\n",
      "[3.9320671e-19 1.3270224e-27 1.0000000e+00]\n",
      "[5.9423080e-21 1.4875502e-27 1.0000000e+00]\n",
      "[1.6260511e-19 1.3116329e-26 1.0000000e+00]\n",
      "[1.10166434e-20 1.83440051e-27 1.00000000e+00]\n",
      "[7.322699e-21 3.389795e-27 1.000000e+00]\n",
      "[9.254782e-21 8.221741e-28 1.000000e+00]\n",
      "[6.9842044e-19 3.1173982e-27 1.0000000e+00]\n",
      "[1.28653735e-20 2.80195382e-27 1.00000000e+00]\n",
      "[2.5753604e-19 5.0287146e-25 1.0000000e+00]\n",
      "[1.0827285e-20 3.3652764e-27 1.0000000e+00]\n",
      "[6.4964704e-20 2.4441311e-27 1.0000000e+00]\n",
      "[3.571189e-17 9.884723e-27 1.000000e+00]\n",
      "[3.8527772e-20 4.7822011e-27 1.0000000e+00]\n",
      "[1.1228953e-21 6.1322223e-29 1.0000000e+00]\n",
      "[1.3379373e-17 1.5376138e-25 1.0000000e+00]\n",
      "[3.1637503e-19 3.7642039e-27 1.0000000e+00]\n",
      "[5.424444e-20 1.367805e-27 1.000000e+00]\n",
      "[5.8769551e-21 1.4352967e-27 1.0000000e+00]\n",
      "[9.2553208e-19 2.9614729e-28 1.0000000e+00]\n",
      "[2.1152692e-18 3.7601852e-27 1.0000000e+00]\n",
      "[2.2570822e-20 4.2199559e-27 1.0000000e+00]\n",
      "[6.6075123e-21 1.6269316e-27 1.0000000e+00]\n",
      "[3.0717871e-18 1.0954959e-27 1.0000000e+00]\n",
      "[6.4112913e-19 1.0777427e-27 1.0000000e+00]\n",
      "[2.2800494e-20 1.2119282e-27 1.0000000e+00]\n",
      "[2.1385281e-20 2.4803570e-28 1.0000000e+00]\n",
      "[1.8343449e-19 2.4468740e-27 1.0000000e+00]\n",
      "[6.4276709e-20 1.1315649e-27 1.0000000e+00]\n",
      "[2.9053379e-18 1.0614368e-23 1.0000000e+00]\n",
      "[7.345148e-18 6.248195e-26 1.000000e+00]\n",
      "[4.9078729e-20 3.2524315e-27 1.0000000e+00]\n",
      "[1.5909790e-19 2.8536444e-27 1.0000000e+00]\n",
      "[6.6402916e-19 2.9809808e-27 1.0000000e+00]\n",
      "[3.6837564e-21 8.6203505e-29 1.0000000e+00]\n",
      "[3.1138573e-19 3.2319045e-25 1.0000000e+00]\n",
      "[8.243503e-21 4.461925e-27 1.000000e+00]\n",
      "[7.1706122e-20 3.6063934e-28 1.0000000e+00]\n",
      "[2.1819301e-20 2.8560077e-27 1.0000000e+00]\n",
      "[8.489361e-21 7.455487e-28 1.000000e+00]\n",
      "[1.709804e-19 8.173958e-28 1.000000e+00]\n",
      "[3.7052363e-20 2.8482503e-27 1.0000000e+00]\n",
      "[2.5911740e-21 3.8794556e-28 1.0000000e+00]\n",
      "[9.168065e-20 4.709369e-28 1.000000e+00]\n",
      "[5.39682520e-21 1.04471155e-27 1.00000000e+00]\n",
      "[2.1101043e-17 2.2319969e-26 1.0000000e+00]\n",
      "[2.4142093e-20 1.0552536e-27 1.0000000e+00]\n",
      "[2.2735106e-19 1.9537458e-26 1.0000000e+00]\n",
      "[1.0086521e-20 5.0516444e-28 1.0000000e+00]\n",
      "[1.7859350e-20 2.1912728e-27 1.0000000e+00]\n",
      "[3.5186199e-21 2.2578147e-27 1.0000000e+00]\n",
      "[1.9157536e-17 1.0360060e-24 1.0000000e+00]\n",
      "[1.3560839e-20 3.1184687e-27 1.0000000e+00]\n",
      "[9.215256e-21 8.167910e-28 1.000000e+00]\n",
      "[1.7624454e-18 1.1355518e-27 1.0000000e+00]\n",
      "[1.1190435e-19 7.8493711e-28 1.0000000e+00]\n",
      "[1.2333074e-19 2.6625707e-26 1.0000000e+00]\n",
      "[1.9608982e-19 1.9061362e-27 1.0000000e+00]\n",
      "[7.9171253e-20 1.0850236e-27 1.0000000e+00]\n",
      "[3.014589e-20 4.539403e-28 1.000000e+00]\n",
      "[9.1492985e-21 7.5927954e-28 1.0000000e+00]\n",
      "[2.88498044e-20 1.04812104e-26 1.00000000e+00]\n",
      "[9.6571365e-21 3.3136461e-27 1.0000000e+00]\n",
      "[1.3711435e-19 1.1097473e-25 1.0000000e+00]\n",
      "[6.760545e-20 5.462612e-27 1.000000e+00]\n",
      "[6.2371234e-18 7.6114206e-26 1.0000000e+00]\n",
      "[1.4283005e-19 5.2263359e-28 1.0000000e+00]\n",
      "[3.4409437e-20 4.1531685e-27 1.0000000e+00]\n",
      "[2.0861702e-20 5.4588836e-27 1.0000000e+00]\n",
      "[1.2284576e-18 7.4867233e-28 1.0000000e+00]\n",
      "[1.5376134e-18 8.2854036e-28 1.0000000e+00]\n",
      "[1.25787817e-17 1.00437555e-26 1.00000000e+00]\n",
      "[3.1897664e-20 1.3204686e-26 1.0000000e+00]\n",
      "[2.7667540e-20 1.8227375e-27 1.0000000e+00]\n",
      "[1.1092815e-18 3.1691348e-28 1.0000000e+00]\n",
      "[1.7095684e-20 1.6588239e-27 1.0000000e+00]\n",
      "[1.6086711e-19 1.7995102e-27 1.0000000e+00]\n",
      "[9.1666960e-21 3.4879127e-27 1.0000000e+00]\n",
      "[1.0792194e-20 5.7654191e-28 1.0000000e+00]\n",
      "[3.7984754e-20 1.7554198e-26 1.0000000e+00]\n",
      "[7.2840646e-19 3.7193722e-26 1.0000000e+00]\n",
      "[9.630984e-20 7.261012e-26 1.000000e+00]\n",
      "[6.3976277e-21 8.2293975e-28 1.0000000e+00]\n",
      "[2.2697844e-19 3.0608932e-28 1.0000000e+00]\n",
      "[6.5465736e-20 5.8615750e-28 1.0000000e+00]\n",
      "[2.2029066e-19 3.2376727e-29 1.0000000e+00]\n",
      "[1.0141191e-20 9.8069665e-29 1.0000000e+00]\n",
      "[5.7908349e-20 4.4886548e-29 1.0000000e+00]\n",
      "[1.5679086e-20 7.4438926e-28 1.0000000e+00]\n",
      "[4.1226894e-19 1.2993663e-27 1.0000000e+00]\n",
      "[1.5933373e-17 1.0667324e-26 1.0000000e+00]\n",
      "[4.1554362e-19 4.8363741e-28 1.0000000e+00]\n",
      "[2.0998972e-18 6.7952418e-28 1.0000000e+00]\n",
      "[2.835629e-21 2.588665e-28 1.000000e+00]\n",
      "[1.3476162e-20 7.6369239e-27 1.0000000e+00]\n",
      "[3.9367781e-20 5.7984785e-29 1.0000000e+00]\n",
      "[1.8987333e-20 1.4651695e-27 1.0000000e+00]\n",
      "[2.9939519e-18 1.6201401e-24 1.0000000e+00]\n",
      "[1.2354775e-20 3.0515431e-28 1.0000000e+00]\n",
      "[6.197510e-20 5.457322e-27 1.000000e+00]\n",
      "[3.6011722e-19 1.1618556e-27 1.0000000e+00]\n",
      "[3.0218756e-21 3.8308521e-28 1.0000000e+00]\n",
      "[2.0086624e-20 2.2639813e-27 1.0000000e+00]\n",
      "[1.3613156e-17 1.4442914e-22 1.0000000e+00]\n",
      "[4.5938419e-20 1.5969871e-26 1.0000000e+00]\n",
      "[8.3171629e-21 1.1677786e-27 1.0000000e+00]\n",
      "[1.2157851e-20 6.6690486e-28 1.0000000e+00]\n",
      "[1.1277643e-19 1.7065536e-25 1.0000000e+00]\n",
      "[1.9265026e-19 2.3132626e-27 1.0000000e+00]\n",
      "[5.3117569e-21 4.0221044e-27 1.0000000e+00]\n",
      "[3.8153211e-20 1.7535056e-26 1.0000000e+00]\n",
      "[6.3312818e-19 1.8499378e-27 1.0000000e+00]\n",
      "[1.7151551e-18 8.3635572e-27 1.0000000e+00]\n",
      "[7.5488205e-18 9.4719831e-27 1.0000000e+00]\n",
      "[1.5521039e-19 8.1277181e-29 1.0000000e+00]\n",
      "[3.8126296e-20 5.7579215e-29 1.0000000e+00]\n",
      "[6.2526461e-21 5.7267527e-28 1.0000000e+00]\n",
      "[5.0838527e-20 1.2299344e-26 1.0000000e+00]\n",
      "[3.7115458e-20 3.1898889e-27 1.0000000e+00]\n",
      "[9.4782797e-18 1.4582171e-26 1.0000000e+00]\n",
      "[1.1523136e-18 1.9375045e-28 1.0000000e+00]\n",
      "[1.0038013e-18 2.4616231e-24 1.0000000e+00]\n",
      "[1.8019002e-20 7.7272400e-27 1.0000000e+00]\n",
      "[6.0531102e-21 3.1746283e-28 1.0000000e+00]\n",
      "[2.2807541e-20 2.7908049e-28 1.0000000e+00]\n",
      "[2.8940757e-19 8.0104868e-26 1.0000000e+00]\n",
      "[1.0591057e-18 3.8617816e-28 1.0000000e+00]\n",
      "[6.0484274e-20 4.7963261e-26 1.0000000e+00]\n",
      "[7.7299208e-20 4.2573896e-26 1.0000000e+00]\n",
      "[2.0234844e-18 6.4960476e-28 1.0000000e+00]\n",
      "[1.8999143e-20 1.5276373e-28 1.0000000e+00]\n",
      "[1.2707403e-18 3.5159775e-28 1.0000000e+00]\n",
      "[1.5912454e-20 6.5863470e-29 1.0000000e+00]\n",
      "[4.4603753e-20 2.9922713e-27 1.0000000e+00]\n",
      "[3.7154840e-20 2.4345757e-26 1.0000000e+00]\n",
      "[8.4441486e-20 2.2602375e-26 1.0000000e+00]\n",
      "[6.3754155e-19 1.7078153e-27 1.0000000e+00]\n",
      "[4.5392804e-21 4.3493112e-28 1.0000000e+00]\n",
      "[2.0662671e-20 7.1037471e-27 1.0000000e+00]\n",
      "[2.3893802e-20 1.7688696e-27 1.0000000e+00]\n",
      "[6.2212441e-20 1.1464342e-25 1.0000000e+00]\n",
      "[6.9816936e-21 1.9659599e-28 1.0000000e+00]\n",
      "[1.8036005e-18 4.7586355e-27 1.0000000e+00]\n",
      "[2.968816e-19 4.749518e-25 1.000000e+00]\n",
      "[5.0101518e-21 1.1077879e-27 1.0000000e+00]\n",
      "[2.3495471e-20 1.1840488e-26 1.0000000e+00]\n",
      "[8.628803e-22 3.550683e-29 1.000000e+00]\n",
      "[1.7084161e-18 4.3114166e-28 1.0000000e+00]\n",
      "[5.8044198e-18 1.5098398e-28 1.0000000e+00]\n",
      "[2.4667725e-18 9.4990447e-28 1.0000000e+00]\n",
      "[8.1792931e-20 6.7942276e-29 1.0000000e+00]\n",
      "[6.8483045e-20 2.5402039e-28 1.0000000e+00]\n",
      "[2.6932143e-20 6.5174717e-27 1.0000000e+00]\n",
      "[4.2068896e-19 3.3961371e-27 1.0000000e+00]\n",
      "[7.3580966e-20 1.2379452e-27 1.0000000e+00]\n",
      "[1.1421767e-20 1.0566674e-27 1.0000000e+00]\n",
      "[2.0254373e-19 5.8568367e-28 1.0000000e+00]\n",
      "[1.9261269e-20 5.1344102e-27 1.0000000e+00]\n",
      "[3.7284468e-20 9.5664226e-29 1.0000000e+00]\n",
      "[1.0646187e-18 3.3510239e-24 1.0000000e+00]\n",
      "[5.6742882e-18 1.5116098e-27 1.0000000e+00]\n",
      "[2.8257810e-21 1.9455924e-28 1.0000000e+00]\n",
      "[9.8671364e-18 1.4795262e-26 1.0000000e+00]\n",
      "[6.3348335e-19 2.9550082e-27 1.0000000e+00]\n",
      "[3.4173061e-20 1.8644906e-26 1.0000000e+00]\n",
      "[4.8336086e-20 3.8262242e-27 1.0000000e+00]\n",
      "[3.3402206e-20 4.8909784e-27 1.0000000e+00]\n",
      "[2.54773645e-19 1.61363665e-27 1.00000000e+00]\n",
      "[6.3565405e-21 1.9769785e-27 1.0000000e+00]\n",
      "[5.157039e-21 4.056123e-28 1.000000e+00]\n",
      "[6.234358e-20 9.970994e-27 1.000000e+00]\n",
      "[8.480266e-21 6.269582e-28 1.000000e+00]\n",
      "[3.0681887e-20 2.0930270e-26 1.0000000e+00]\n",
      "[2.4855197e-20 9.8712653e-28 1.0000000e+00]\n",
      "[1.5137677e-20 4.8546943e-27 1.0000000e+00]\n",
      "[3.4261298e-20 3.8341436e-27 1.0000000e+00]\n",
      "[5.9299665e-21 1.8646247e-27 1.0000000e+00]\n",
      "[1.2514497e-18 1.3873270e-27 1.0000000e+00]\n",
      "[2.7741743e-19 1.6175256e-27 1.0000000e+00]\n",
      "[4.2584260e-20 2.0715484e-26 1.0000000e+00]\n",
      "[1.9626933e-20 1.5611649e-27 1.0000000e+00]\n",
      "[9.9346625e-19 5.0866333e-25 1.0000000e+00]\n",
      "[5.432787e-21 7.977510e-29 1.000000e+00]\n",
      "[1.9827265e-19 9.5870728e-27 1.0000000e+00]\n",
      "[5.1743063e-19 9.9572350e-27 1.0000000e+00]\n",
      "[3.9899202e-20 3.4611278e-26 1.0000000e+00]\n",
      "[5.7048227e-19 5.3200140e-27 1.0000000e+00]\n",
      "[2.2620408e-18 1.5973396e-27 1.0000000e+00]\n",
      "[2.63791206e-19 1.03371187e-25 1.00000000e+00]\n",
      "[1.9603064e-20 1.8661048e-27 1.0000000e+00]\n",
      "[1.0025642e-20 5.8637219e-28 1.0000000e+00]\n",
      "[2.2294433e-19 1.1476845e-27 1.0000000e+00]\n",
      "[1.6805169e-20 1.3846886e-27 1.0000000e+00]\n",
      "[1.3575745e-20 2.5111076e-28 1.0000000e+00]\n",
      "[7.4791034e-20 2.3639771e-27 1.0000000e+00]\n",
      "[1.2967323e-19 4.4364520e-26 1.0000000e+00]\n",
      "[2.4043855e-19 9.1095292e-28 1.0000000e+00]\n",
      "[3.968474e-19 3.320794e-28 1.000000e+00]\n",
      "[1.0951839e-17 2.1384064e-27 1.0000000e+00]\n",
      "[7.6151572e-21 4.7516674e-28 1.0000000e+00]\n",
      "[5.1705323e-21 2.6340486e-28 1.0000000e+00]\n",
      "[5.7179138e-20 1.6170513e-26 1.0000000e+00]\n",
      "[1.4684641e-21 4.9332091e-29 1.0000000e+00]\n",
      "[1.637393e-18 5.334908e-28 1.000000e+00]\n",
      "[6.700390e-20 7.340909e-28 1.000000e+00]\n",
      "[3.1797815e-19 8.0080957e-28 1.0000000e+00]\n",
      "[1.1544557e-19 7.5363850e-27 1.0000000e+00]\n",
      "[5.7206163e-21 2.8538497e-28 1.0000000e+00]\n",
      "[1.3469951e-19 1.9867701e-26 1.0000000e+00]\n",
      "[2.3243531e-21 1.4327742e-28 1.0000000e+00]\n",
      "[1.5575901e-19 9.0635077e-26 1.0000000e+00]\n",
      "[4.065217e-20 6.578142e-27 1.000000e+00]\n",
      "[9.7851880e-20 2.0435975e-27 1.0000000e+00]\n",
      "[5.2088644e-19 5.3223864e-28 1.0000000e+00]\n",
      "[1.1090053e-20 2.5051195e-27 1.0000000e+00]\n",
      "[1.9018650e-20 6.4176762e-27 1.0000000e+00]\n",
      "[7.254750e-20 9.554147e-26 1.000000e+00]\n",
      "[1.1651574e-20 3.3088717e-27 1.0000000e+00]\n",
      "[5.7625402e-20 3.9040295e-26 1.0000000e+00]\n",
      "[2.2044594e-21 9.0345320e-29 1.0000000e+00]\n",
      "[1.32762965e-20 4.18089115e-27 1.00000000e+00]\n",
      "[7.765590e-21 8.181632e-28 1.000000e+00]\n",
      "[1.1530863e-20 5.5005437e-27 1.0000000e+00]\n",
      "[3.9170701e-17 3.1801344e-26 1.0000000e+00]\n",
      "[7.976416e-21 4.117751e-28 1.000000e+00]\n",
      "[1.1259117e-19 2.3397628e-27 1.0000000e+00]\n",
      "[1.2447211e-20 5.9929379e-28 1.0000000e+00]\n",
      "[3.2939343e-20 1.6372606e-27 1.0000000e+00]\n",
      "[6.3878732e-21 1.2320374e-27 1.0000000e+00]\n",
      "[2.1312231e-20 1.0027021e-27 1.0000000e+00]\n",
      "[3.0236414e-20 5.9730422e-26 1.0000000e+00]\n",
      "[1.3523025e-20 6.2745311e-29 1.0000000e+00]\n",
      "[5.860481e-20 5.688284e-27 1.000000e+00]\n",
      "[4.3832908e-20 1.1184340e-25 1.0000000e+00]\n",
      "[2.4620814e-18 1.1744759e-26 1.0000000e+00]\n",
      "[6.062403e-20 5.231288e-26 1.000000e+00]\n",
      "[3.784244e-20 5.634939e-27 1.000000e+00]\n",
      "[2.2074046e-21 2.5186963e-28 1.0000000e+00]\n",
      "[1.1662386e-19 3.6345279e-27 1.0000000e+00]\n",
      "[1.3069277e-19 1.2754793e-27 1.0000000e+00]\n",
      "[1.7742900e-19 6.3157937e-27 1.0000000e+00]\n",
      "[6.3834221e-19 6.9761574e-28 1.0000000e+00]\n",
      "[2.5955604e-18 1.0210566e-26 1.0000000e+00]\n",
      "[8.7234681e-20 4.2849904e-26 1.0000000e+00]\n",
      "[1.0202342e-20 1.2198224e-27 1.0000000e+00]\n",
      "[2.9490165e-20 1.4721165e-27 1.0000000e+00]\n",
      "[9.3777492e-20 1.1851565e-25 1.0000000e+00]\n",
      "[3.9261895e-20 5.1760985e-28 1.0000000e+00]\n",
      "[8.8514219e-19 1.3979679e-27 1.0000000e+00]\n",
      "[1.3734102e-19 2.1829129e-27 1.0000000e+00]\n",
      "[3.382306e-18 3.458671e-27 1.000000e+00]\n",
      "[4.0656819e-20 3.2325174e-27 1.0000000e+00]\n",
      "[3.2130063e-20 4.7619219e-27 1.0000000e+00]\n",
      "[4.1055942e-21 5.9266440e-28 1.0000000e+00]\n",
      "[4.5293959e-17 4.8028074e-26 1.0000000e+00]\n",
      "[2.5891906e-19 7.8254356e-25 1.0000000e+00]\n",
      "[5.3074832e-21 3.3866527e-28 1.0000000e+00]\n",
      "[1.1497262e-20 1.5504228e-27 1.0000000e+00]\n",
      "[5.7042076e-21 1.9428566e-27 1.0000000e+00]\n",
      "[4.581976e-20 3.254577e-28 1.000000e+00]\n",
      "[5.0663923e-19 2.2238475e-25 1.0000000e+00]\n",
      "[3.546613e-19 6.140588e-26 1.000000e+00]\n",
      "[5.3670766e-21 6.7959158e-28 1.0000000e+00]\n",
      "[3.4203188e-20 1.2951853e-26 1.0000000e+00]\n",
      "[3.5894219e-17 3.2174487e-26 1.0000000e+00]\n",
      "[3.3395215e-19 1.3489127e-27 1.0000000e+00]\n",
      "[1.811945e-18 9.458186e-28 1.000000e+00]\n",
      "[2.6413042e-20 5.8533333e-27 1.0000000e+00]\n",
      "[1.235318e-19 3.353949e-26 1.000000e+00]\n",
      "[3.423739e-20 2.486241e-27 1.000000e+00]\n",
      "[4.0304740e-20 3.1826206e-27 1.0000000e+00]\n",
      "[6.6222993e-21 1.9125896e-27 1.0000000e+00]\n",
      "[3.3348607e-20 5.8176273e-27 1.0000000e+00]\n",
      "[1.4306827e-20 1.3746835e-27 1.0000000e+00]\n",
      "[2.2892126e-17 3.0876056e-22 1.0000000e+00]\n",
      "[1.2885167e-20 3.5579811e-27 1.0000000e+00]\n",
      "[1.5241452e-20 5.1828389e-27 1.0000000e+00]\n",
      "[4.4361922e-21 1.3743892e-28 1.0000000e+00]\n",
      "[1.7938228e-18 1.8831056e-24 1.0000000e+00]\n",
      "[3.2123307e-21 5.4409596e-28 1.0000000e+00]\n",
      "[1.1533326e-20 1.2539104e-26 1.0000000e+00]\n",
      "[1.3646150e-20 1.7880904e-26 1.0000000e+00]\n",
      "[1.1474889e-17 4.9174532e-26 1.0000000e+00]\n",
      "[8.8634414e-21 2.7729437e-29 1.0000000e+00]\n",
      "[2.4340817e-20 2.2231158e-27 1.0000000e+00]\n",
      "[5.4392776e-21 5.2686929e-28 1.0000000e+00]\n",
      "[2.3668358e-21 6.0962828e-28 1.0000000e+00]\n",
      "[4.3503244e-20 2.1297688e-27 1.0000000e+00]\n",
      "[1.6815245e-19 1.3621515e-25 1.0000000e+00]\n",
      "[2.4036495e-21 3.6211715e-28 1.0000000e+00]\n",
      "[6.240803e-21 5.998381e-28 1.000000e+00]\n",
      "[1.1777098e-20 5.7095209e-28 1.0000000e+00]\n",
      "[5.9307586e-21 1.1361795e-28 1.0000000e+00]\n",
      "[3.9327553e-20 6.9602159e-26 1.0000000e+00]\n",
      "[5.3709913e-20 3.8735295e-26 1.0000000e+00]\n",
      "[7.876665e-21 9.515292e-28 1.000000e+00]\n",
      "[1.3040151e-18 1.0061122e-27 1.0000000e+00]\n",
      "[2.3594450e-20 5.9721963e-27 1.0000000e+00]\n",
      "[4.4800412e-18 3.3106643e-27 1.0000000e+00]\n",
      "[7.2906293e-18 1.4129335e-24 1.0000000e+00]\n",
      "[1.0448354e-19 2.9931274e-27 1.0000000e+00]\n",
      "[3.1838081e-21 1.1132352e-28 1.0000000e+00]\n",
      "[1.5746457e-20 1.6716429e-27 1.0000000e+00]\n",
      "[3.4055808e-20 7.6927073e-28 1.0000000e+00]\n",
      "[5.0797844e-19 6.4717587e-28 1.0000000e+00]\n",
      "[1.27790915e-20 3.13588522e-27 1.00000000e+00]\n",
      "[3.8353002e-19 6.5512290e-25 1.0000000e+00]\n",
      "[2.1041862e-19 5.2895037e-25 1.0000000e+00]\n",
      "[3.7091677e-20 2.0677904e-26 1.0000000e+00]\n",
      "[2.4878342e-20 1.1913022e-26 1.0000000e+00]\n",
      "[3.0198934e-21 1.4070310e-27 1.0000000e+00]\n",
      "[8.5603929e-19 3.2362437e-27 1.0000000e+00]\n",
      "[3.5001608e-20 4.7103955e-27 1.0000000e+00]\n",
      "[2.873799e-20 7.605956e-28 1.000000e+00]\n",
      "[1.4640573e-20 7.1452748e-27 1.0000000e+00]\n",
      "[1.5198851e-18 4.1243397e-27 1.0000000e+00]\n",
      "[2.3843893e-21 1.2585821e-27 1.0000000e+00]\n",
      "[3.5781827e-18 6.7255130e-27 1.0000000e+00]\n",
      "[4.7546241e-20 1.0646219e-27 1.0000000e+00]\n",
      "[7.1022244e-21 1.2428093e-27 1.0000000e+00]\n",
      "[2.0081493e-20 2.0637152e-27 1.0000000e+00]\n",
      "[4.849048e-20 7.596826e-27 1.000000e+00]\n",
      "[3.8166004e-21 1.1256494e-27 1.0000000e+00]\n",
      "[2.4725262e-20 4.5310167e-26 1.0000000e+00]\n",
      "[1.27240274e-20 4.71992851e-27 1.00000000e+00]\n",
      "[7.1725307e-19 5.1339545e-29 1.0000000e+00]\n",
      "[1.5814489e-19 1.3024232e-27 1.0000000e+00]\n",
      "[2.4252408e-19 1.9902204e-27 1.0000000e+00]\n",
      "[2.5538838e-21 1.1353476e-28 1.0000000e+00]\n",
      "[5.7320846e-21 4.5324319e-27 1.0000000e+00]\n",
      "[7.8552100e-21 1.1680854e-28 1.0000000e+00]\n",
      "[1.7405953e-20 7.1243413e-28 1.0000000e+00]\n",
      "[2.6998207e-18 8.6410344e-27 1.0000000e+00]\n",
      "[1.3305318e-17 7.2877463e-23 1.0000000e+00]\n",
      "[4.5920024e-20 2.2692222e-26 1.0000000e+00]\n",
      "[1.1362497e-19 1.3515616e-25 1.0000000e+00]\n",
      "[3.0522073e-20 8.3640592e-29 1.0000000e+00]\n",
      "[4.2531474e-21 4.5999257e-28 1.0000000e+00]\n",
      "[8.865437e-21 7.206506e-28 1.000000e+00]\n",
      "[3.408206e-20 3.083609e-26 1.000000e+00]\n",
      "[3.7000810e-20 2.1986841e-26 1.0000000e+00]\n",
      "[2.5847583e-20 1.2213963e-27 1.0000000e+00]\n",
      "[1.3247056e-20 1.9531774e-28 1.0000000e+00]\n",
      "[8.2132401e-22 1.2402506e-29 1.0000000e+00]\n",
      "[2.501891e-20 8.043553e-27 1.000000e+00]\n",
      "[1.0316581e-20 1.3057612e-27 1.0000000e+00]\n",
      "[5.7098678e-21 1.0366566e-27 1.0000000e+00]\n",
      "[4.3268045e-21 9.5136953e-28 1.0000000e+00]\n",
      "[2.1345601e-19 2.4071590e-25 1.0000000e+00]\n",
      "[4.2612697e-20 4.8876212e-27 1.0000000e+00]\n",
      "[9.3214022e-19 1.9601275e-27 1.0000000e+00]\n",
      "[8.893051e-19 8.717611e-28 1.000000e+00]\n",
      "[2.3619394e-20 3.8520857e-28 1.0000000e+00]\n",
      "[1.8426127e-20 5.8133236e-27 1.0000000e+00]\n",
      "[1.6498567e-19 3.8968833e-28 1.0000000e+00]\n",
      "[3.736534e-20 4.336507e-27 1.000000e+00]\n",
      "[7.514504e-21 7.072968e-29 1.000000e+00]\n",
      "[1.0026522e-20 1.0494849e-27 1.0000000e+00]\n",
      "[2.0377819e-20 9.6054080e-28 1.0000000e+00]\n",
      "[2.9733512e-18 6.0082547e-27 1.0000000e+00]\n",
      "[1.6550121e-20 1.4937646e-28 1.0000000e+00]\n",
      "[1.2825780e-20 1.6685084e-27 1.0000000e+00]\n",
      "[1.3988424e-20 2.7430882e-27 1.0000000e+00]\n",
      "[2.0327519e-19 6.0912388e-28 1.0000000e+00]\n",
      "[2.513829e-21 5.477362e-28 1.000000e+00]\n",
      "[1.1729841e-20 2.1902450e-27 1.0000000e+00]\n",
      "[1.3668574e-17 4.2264505e-26 1.0000000e+00]\n",
      "[2.0440514e-18 2.2197286e-25 1.0000000e+00]\n",
      "[1.5558859e-19 1.1770734e-25 1.0000000e+00]\n",
      "[2.04615661e-19 1.02021994e-25 1.00000000e+00]\n",
      "[2.6248941e-18 3.8655972e-29 1.0000000e+00]\n",
      "[5.0421134e-21 1.1262292e-27 1.0000000e+00]\n",
      "[3.597275e-18 4.230981e-27 1.000000e+00]\n",
      "[1.3872320e-19 1.9129241e-28 1.0000000e+00]\n",
      "[2.251208e-21 4.073381e-28 1.000000e+00]\n",
      "[1.6666013e-18 2.2883191e-27 1.0000000e+00]\n",
      "[1.668127e-19 3.867356e-27 1.000000e+00]\n",
      "[1.4864055e-18 4.0514840e-28 1.0000000e+00]\n",
      "[7.2400140e-20 1.8372386e-25 1.0000000e+00]\n",
      "[3.7489554e-20 1.3155356e-27 1.0000000e+00]\n",
      "[1.1484775e-19 2.0238535e-27 1.0000000e+00]\n",
      "[8.5532724e-20 1.3453932e-26 1.0000000e+00]\n",
      "[1.9809206e-18 9.6123772e-27 1.0000000e+00]\n",
      "[2.7271893e-18 3.3039398e-27 1.0000000e+00]\n",
      "[2.428083e-19 4.845776e-27 1.000000e+00]\n",
      "[4.4786205e-19 6.2128704e-28 1.0000000e+00]\n",
      "[9.0801257e-17 1.4723794e-21 1.0000000e+00]\n",
      "[1.9209465e-20 5.3699680e-27 1.0000000e+00]\n",
      "[3.114022e-20 2.075431e-27 1.000000e+00]\n",
      "[1.0944609e-18 9.2472679e-28 1.0000000e+00]\n",
      "[1.9531128e-18 1.6502654e-27 1.0000000e+00]\n",
      "[3.2208374e-19 7.5686604e-25 1.0000000e+00]\n",
      "[1.3168659e-20 6.2368063e-28 1.0000000e+00]\n",
      "[3.2736413e-20 8.0073890e-29 1.0000000e+00]\n",
      "[1.1774201e-16 3.8708581e-25 1.0000000e+00]\n",
      "[4.2018675e-20 4.3113201e-27 1.0000000e+00]\n",
      "[1.614646e-20 9.211497e-28 1.000000e+00]\n",
      "[4.8522861e-20 1.1052052e-26 1.0000000e+00]\n",
      "[8.910161e-20 3.901826e-26 1.000000e+00]\n",
      "[2.5262807e-19 2.7516085e-27 1.0000000e+00]\n",
      "[9.9213214e-21 4.1546265e-27 1.0000000e+00]\n",
      "[2.3093209e-20 1.6264981e-26 1.0000000e+00]\n",
      "[1.2796813e-18 9.1297373e-29 1.0000000e+00]\n",
      "[7.4061907e-21 1.1060819e-27 1.0000000e+00]\n",
      "[2.0996857e-21 9.7736207e-28 1.0000000e+00]\n",
      "[1.5672225e-18 1.2605492e-24 1.0000000e+00]\n",
      "[3.8227199e-21 1.0552093e-27 1.0000000e+00]\n",
      "[1.8915330e-20 1.2687395e-26 1.0000000e+00]\n",
      "[2.4028989e-20 1.3549524e-26 1.0000000e+00]\n",
      "[1.4822592e-20 2.3884056e-27 1.0000000e+00]\n",
      "[3.0215574e-18 7.2891772e-27 1.0000000e+00]\n",
      "[9.2653838e-20 1.0739219e-27 1.0000000e+00]\n",
      "[1.3068978e-19 1.3607131e-25 1.0000000e+00]\n",
      "[8.3952964e-20 7.7398410e-26 1.0000000e+00]\n",
      "[5.1622796e-19 1.5524425e-25 1.0000000e+00]\n",
      "[1.8039782e-19 7.7515339e-28 1.0000000e+00]\n",
      "[1.4778441e-20 1.0114270e-26 1.0000000e+00]\n",
      "[7.8932159e-19 1.6797098e-27 1.0000000e+00]\n",
      "[2.5870765e-20 6.3508219e-28 1.0000000e+00]\n",
      "[1.0592305e-19 3.6126328e-27 1.0000000e+00]\n",
      "[7.9796466e-20 9.6935031e-26 1.0000000e+00]\n",
      "[3.195250e-18 4.845813e-27 1.000000e+00]\n",
      "[2.4551680e-19 6.0061924e-27 1.0000000e+00]\n",
      "[4.4492103e-20 1.1215690e-27 1.0000000e+00]\n",
      "[5.7289423e-19 8.9240708e-28 1.0000000e+00]\n",
      "[3.725445e-21 8.408307e-28 1.000000e+00]\n",
      "[1.4233555e-20 1.2040261e-26 1.0000000e+00]\n",
      "[2.39597000e-20 1.00467445e-26 1.00000000e+00]\n",
      "[2.0926422e-20 2.8735913e-27 1.0000000e+00]\n",
      "[1.5050674e-20 8.9055713e-28 1.0000000e+00]\n",
      "[1.1626500e-18 1.2123398e-27 1.0000000e+00]\n",
      "[9.961064e-21 4.290138e-28 1.000000e+00]\n",
      "[2.0701723e-20 1.7549912e-26 1.0000000e+00]\n",
      "[1.2048212e-18 1.0160986e-26 1.0000000e+00]\n",
      "[2.205268e-20 1.963690e-27 1.000000e+00]\n",
      "[1.1109584e-18 4.0870333e-27 1.0000000e+00]\n",
      "[2.7515477e-18 2.1854792e-27 1.0000000e+00]\n",
      "[7.7654125e-21 2.2131735e-27 1.0000000e+00]\n",
      "[1.4710832e-20 1.7099797e-27 1.0000000e+00]\n",
      "[4.9825725e-21 2.6538486e-27 1.0000000e+00]\n",
      "[3.4457249e-20 4.1380504e-27 1.0000000e+00]\n",
      "[1.0767701e-17 1.3255154e-26 1.0000000e+00]\n",
      "[3.3011799e-20 1.0737007e-27 1.0000000e+00]\n",
      "[7.5063959e-21 1.2747399e-27 1.0000000e+00]\n",
      "[4.2917575e-21 2.2178472e-27 1.0000000e+00]\n",
      "[2.4749607e-20 1.1301807e-26 1.0000000e+00]\n",
      "[4.869239e-18 8.821634e-24 1.000000e+00]\n",
      "[5.519122e-20 4.438430e-27 1.000000e+00]\n",
      "[8.8654071e-20 1.6805182e-26 1.0000000e+00]\n",
      "[6.4743253e-21 3.1944920e-27 1.0000000e+00]\n",
      "[2.7806465e-20 1.6528233e-27 1.0000000e+00]\n",
      "[4.2070778e-21 4.4225577e-28 1.0000000e+00]\n",
      "[3.8104489e-20 2.0815294e-26 1.0000000e+00]\n",
      "[9.383295e-20 8.283444e-28 1.000000e+00]\n",
      "[2.4516944e-20 2.3653212e-27 1.0000000e+00]\n",
      "[4.0618529e-20 2.3820364e-27 1.0000000e+00]\n",
      "[6.4773425e-20 3.1377145e-28 1.0000000e+00]\n",
      "[1.1049556e-20 6.8443588e-28 1.0000000e+00]\n",
      "[3.8220494e-21 5.9516108e-28 1.0000000e+00]\n",
      "[7.5430519e-21 6.7647485e-28 1.0000000e+00]\n",
      "[2.0995928e-18 3.7109096e-27 1.0000000e+00]\n",
      "[6.0315126e-21 1.8752023e-28 1.0000000e+00]\n",
      "[1.8567819e-19 3.0883484e-29 1.0000000e+00]\n",
      "[3.0415971e-19 1.2044619e-27 1.0000000e+00]\n",
      "[6.3884162e-19 2.6921467e-27 1.0000000e+00]\n",
      "[2.5239785e-19 7.0728676e-27 1.0000000e+00]\n",
      "[4.7024923e-21 8.4224588e-29 1.0000000e+00]\n",
      "[1.6637937e-18 1.5820467e-26 1.0000000e+00]\n",
      "[2.1591934e-20 3.3930294e-27 1.0000000e+00]\n",
      "[1.6669756e-19 2.5090337e-25 1.0000000e+00]\n",
      "[1.7584353e-19 7.3037585e-28 1.0000000e+00]\n",
      "[1.7354182e-19 4.3628608e-25 1.0000000e+00]\n",
      "[3.5282452e-20 3.1119937e-26 1.0000000e+00]\n",
      "[5.5044042e-20 1.7599783e-27 1.0000000e+00]\n",
      "[1.905259e-17 3.000398e-27 1.000000e+00]\n",
      "[5.5056464e-19 2.9471281e-27 1.0000000e+00]\n",
      "[3.3637082e-21 5.0689600e-28 1.0000000e+00]\n",
      "[3.0278574e-18 1.0052758e-27 1.0000000e+00]\n",
      "[1.1535307e-20 3.6332093e-28 1.0000000e+00]\n",
      "[8.4427637e-20 8.7645605e-28 1.0000000e+00]\n",
      "[1.3537425e-20 1.6815562e-27 1.0000000e+00]\n",
      "[4.3010546e-19 2.0068860e-27 1.0000000e+00]\n",
      "[3.247003e-19 9.638668e-27 1.000000e+00]\n",
      "[1.3801629e-21 7.1851740e-29 1.0000000e+00]\n",
      "[1.70978532e-18 1.18219835e-26 1.00000000e+00]\n",
      "[8.4500816e-19 2.5257103e-28 1.0000000e+00]\n",
      "[2.1865555e-19 5.0357956e-26 1.0000000e+00]\n",
      "[3.9457666e-21 1.9494035e-28 1.0000000e+00]\n",
      "[8.4893611e-21 1.7941911e-27 1.0000000e+00]\n",
      "[5.0983044e-19 1.0303138e-26 1.0000000e+00]\n",
      "[1.6794989e-19 2.5949532e-28 1.0000000e+00]\n",
      "[4.9803301e-21 5.9333848e-28 1.0000000e+00]\n",
      "[5.8206418e-21 1.0145875e-27 1.0000000e+00]\n",
      "[8.7618840e-21 2.9877416e-28 1.0000000e+00]\n",
      "[1.0226517e-17 2.0284060e-27 1.0000000e+00]\n",
      "[5.5183915e-18 3.8539692e-27 1.0000000e+00]\n",
      "[1.9686847e-20 2.9085958e-27 1.0000000e+00]\n",
      "[4.0034303e-19 5.8796121e-25 1.0000000e+00]\n",
      "[1.5530759e-18 7.5270007e-24 1.0000000e+00]\n",
      "[9.5258630e-20 2.9816046e-28 1.0000000e+00]\n",
      "[2.7991327e-20 5.5047180e-28 1.0000000e+00]\n",
      "[1.5534677e-17 1.5836709e-26 1.0000000e+00]\n",
      "[7.0745154e-19 1.8883982e-26 1.0000000e+00]\n",
      "[2.8949481e-19 1.0444844e-27 1.0000000e+00]\n",
      "[1.9644302e-21 1.1095975e-28 1.0000000e+00]\n",
      "[7.225033e-20 5.678961e-27 1.000000e+00]\n",
      "[2.1416642e-19 1.0739547e-27 1.0000000e+00]\n",
      "[4.5536107e-19 2.4099864e-27 1.0000000e+00]\n",
      "[2.0319534e-19 1.1005012e-27 1.0000000e+00]\n",
      "[3.1833726e-20 2.5447345e-27 1.0000000e+00]\n",
      "[8.763288e-21 3.382342e-27 1.000000e+00]\n",
      "[2.6139599e-20 2.3268667e-26 1.0000000e+00]\n",
      "[2.0027253e-20 1.9851942e-26 1.0000000e+00]\n",
      "[6.9214709e-21 1.5624092e-28 1.0000000e+00]\n",
      "[3.0881153e-20 9.1553057e-28 1.0000000e+00]\n",
      "[9.3393667e-21 2.6864427e-27 1.0000000e+00]\n",
      "[1.1193296e-19 7.7196641e-28 1.0000000e+00]\n",
      "[1.6621553e-20 2.1853958e-27 1.0000000e+00]\n",
      "[6.1258734e-18 1.4164182e-26 1.0000000e+00]\n",
      "[5.7732393e-18 2.1570040e-27 1.0000000e+00]\n",
      "[1.8365075e-20 8.0075725e-29 1.0000000e+00]\n",
      "[1.0528057e-18 3.9851360e-24 1.0000000e+00]\n",
      "[2.4028739e-18 9.0427081e-28 1.0000000e+00]\n",
      "[2.7414972e-20 2.6544359e-27 1.0000000e+00]\n",
      "[5.1552713e-20 7.9886597e-28 1.0000000e+00]\n",
      "[1.5828326e-17 1.8880813e-26 1.0000000e+00]\n",
      "[2.1270414e-19 1.4936571e-27 1.0000000e+00]\n",
      "[4.5096635e-21 3.0125305e-28 1.0000000e+00]\n",
      "[1.0248068e-18 4.9514807e-28 1.0000000e+00]\n",
      "[1.7173334e-20 9.7817936e-27 1.0000000e+00]\n",
      "[5.5727953e-20 1.3584289e-28 1.0000000e+00]\n",
      "[1.4491162e-20 3.7812722e-27 1.0000000e+00]\n",
      "[8.116853e-19 8.100948e-28 1.000000e+00]\n",
      "[4.6443771e-20 2.1675218e-26 1.0000000e+00]\n",
      "[8.2168206e-20 2.7057590e-26 1.0000000e+00]\n",
      "[9.2451890e-20 8.3121493e-29 1.0000000e+00]\n",
      "[9.4893352e-21 6.9124746e-28 1.0000000e+00]\n",
      "[1.9888245e-19 5.6659158e-26 1.0000000e+00]\n",
      "[2.4820614e-20 3.7169450e-27 1.0000000e+00]\n",
      "[1.0893281e-20 4.6321143e-28 1.0000000e+00]\n",
      "[3.3070157e-20 7.0001799e-27 1.0000000e+00]\n",
      "[6.8906510e-20 2.4214686e-27 1.0000000e+00]\n",
      "[3.8080239e-19 5.7759664e-27 1.0000000e+00]\n",
      "[1.33939056e-20 4.73057891e-28 1.00000000e+00]\n",
      "[2.1330950e-19 3.7919596e-28 1.0000000e+00]\n",
      "[3.1048917e-18 2.8664626e-28 1.0000000e+00]\n",
      "[1.2733205e-20 3.9642776e-29 1.0000000e+00]\n",
      "[1.3525463e-18 1.9031574e-27 1.0000000e+00]\n",
      "[1.4471842e-18 3.0520453e-27 1.0000000e+00]\n",
      "[7.690421e-20 3.877830e-27 1.000000e+00]\n",
      "[8.916757e-20 9.973994e-28 1.000000e+00]\n",
      "[5.3678751e-21 7.8042875e-28 1.0000000e+00]\n",
      "[5.1059093e-21 4.3897340e-27 1.0000000e+00]\n",
      "[7.9108245e-18 4.9151435e-27 1.0000000e+00]\n",
      "[1.1102667e-20 2.9848496e-27 1.0000000e+00]\n",
      "[1.9804416e-21 6.6818830e-28 1.0000000e+00]\n",
      "[1.4464502e-18 3.5930892e-27 1.0000000e+00]\n",
      "[9.439450e-19 9.171005e-27 1.000000e+00]\n",
      "[3.9045902e-21 1.1083416e-27 1.0000000e+00]\n",
      "[9.0883893e-21 2.1077445e-27 1.0000000e+00]\n",
      "[6.7920333e-19 9.8824184e-28 1.0000000e+00]\n",
      "[1.0803939e-19 5.9037241e-26 1.0000000e+00]\n",
      "[8.5734931e-20 1.1813006e-27 1.0000000e+00]\n",
      "[4.617664e-21 5.443825e-28 1.000000e+00]\n",
      "[9.6419752e-20 7.2250034e-28 1.0000000e+00]\n",
      "[2.1218224e-19 3.7917012e-27 1.0000000e+00]\n",
      "[9.105393e-21 4.915669e-27 1.000000e+00]\n",
      "[5.2654192e-20 7.4039613e-28 1.0000000e+00]\n",
      "[3.8855160e-19 2.1798414e-28 1.0000000e+00]\n",
      "[7.714422e-21 1.715625e-27 1.000000e+00]\n",
      "[9.555270e-20 6.375873e-28 1.000000e+00]\n",
      "[1.3201875e-17 1.7170072e-26 1.0000000e+00]\n",
      "[3.1871757e-20 2.7070391e-26 1.0000000e+00]\n",
      "[1.5317918e-21 1.5366030e-28 1.0000000e+00]\n",
      "[7.4782763e-20 3.7734626e-27 1.0000000e+00]\n",
      "[8.159504e-20 1.064818e-25 1.000000e+00]\n",
      "[7.947926e-21 3.127056e-28 1.000000e+00]\n",
      "[6.6287734e-20 3.1736007e-27 1.0000000e+00]\n",
      "[6.6259447e-19 1.7973961e-28 1.0000000e+00]\n",
      "[5.582370e-20 4.641104e-26 1.000000e+00]\n",
      "[1.2375117e-18 1.6568635e-27 1.0000000e+00]\n",
      "[4.2199407e-19 4.9686990e-28 1.0000000e+00]\n",
      "[3.9146891e-20 1.1733833e-26 1.0000000e+00]\n",
      "[2.5076048e-20 6.5725996e-27 1.0000000e+00]\n",
      "[1.6636604e-18 1.3553009e-23 1.0000000e+00]\n",
      "[1.2446499e-20 1.7909088e-27 1.0000000e+00]\n",
      "[8.3249441e-20 1.8726737e-26 1.0000000e+00]\n",
      "[1.8788482e-19 2.1427249e-28 1.0000000e+00]\n",
      "[4.8069646e-20 6.7728084e-27 1.0000000e+00]\n",
      "[5.1495343e-19 2.8530009e-28 1.0000000e+00]\n",
      "[4.0673905e-19 6.8720154e-27 1.0000000e+00]\n",
      "[1.5929657e-18 1.3340338e-24 1.0000000e+00]\n",
      "[1.4983648e-20 2.2490209e-27 1.0000000e+00]\n",
      "[5.4789067e-21 1.4408758e-27 1.0000000e+00]\n",
      "[2.5789895e-18 5.2435723e-27 1.0000000e+00]\n",
      "[6.4687705e-21 5.4438066e-27 1.0000000e+00]\n",
      "[2.0281965e-20 2.0057075e-27 1.0000000e+00]\n",
      "[5.1902424e-18 6.8616194e-26 1.0000000e+00]\n",
      "[3.1588797e-18 1.0867053e-27 1.0000000e+00]\n",
      "[4.2479935e-20 1.4322183e-26 1.0000000e+00]\n",
      "[2.5830333e-20 1.7715919e-26 1.0000000e+00]\n",
      "[9.6063586e-21 1.5482006e-27 1.0000000e+00]\n",
      "[1.6085107e-20 1.1356211e-27 1.0000000e+00]\n",
      "[2.7085347e-20 2.0808784e-26 1.0000000e+00]\n",
      "[7.8704255e-19 8.4124173e-27 1.0000000e+00]\n",
      "[1.6988482e-20 3.4522629e-28 1.0000000e+00]\n",
      "[1.03281636e-19 2.30721689e-27 1.00000000e+00]\n",
      "[1.6507263e-18 7.5185488e-28 1.0000000e+00]\n",
      "[6.3386463e-21 1.4974910e-27 1.0000000e+00]\n",
      "[1.0172967e-19 1.8128216e-27 1.0000000e+00]\n",
      "[3.4189918e-18 1.1885470e-26 1.0000000e+00]\n",
      "[2.2341856e-19 8.0143037e-27 1.0000000e+00]\n",
      "[4.0137828e-19 9.9463011e-27 1.0000000e+00]\n",
      "[7.2895647e-20 4.9707087e-28 1.0000000e+00]\n",
      "[7.8755913e-19 1.1189541e-26 1.0000000e+00]\n",
      "[7.2238551e-18 3.1453019e-27 1.0000000e+00]\n",
      "[6.7615734e-21 3.2204557e-27 1.0000000e+00]\n",
      "[7.8647493e-20 2.2188215e-26 1.0000000e+00]\n",
      "[9.7675054e-21 4.0440874e-28 1.0000000e+00]\n",
      "[5.9034271e-20 3.6193917e-27 1.0000000e+00]\n",
      "[6.9722485e-20 6.6927569e-26 1.0000000e+00]\n",
      "[2.9008372e-21 1.5246152e-29 1.0000000e+00]\n",
      "[2.1816992e-18 2.8902069e-24 1.0000000e+00]\n",
      "[3.3374984e-18 1.5291299e-28 1.0000000e+00]\n",
      "[1.0888384e-19 2.0599064e-29 1.0000000e+00]\n",
      "[2.4060384e-18 2.8752690e-27 1.0000000e+00]\n",
      "[2.7735288e-19 2.3558738e-28 1.0000000e+00]\n",
      "[4.7007417e-18 1.3482086e-26 1.0000000e+00]\n",
      "[4.6662712e-21 8.0182439e-28 1.0000000e+00]\n",
      "[4.6428006e-20 6.9030714e-27 1.0000000e+00]\n",
      "[3.0210042e-18 1.7905606e-27 1.0000000e+00]\n",
      "[2.5833428e-17 2.6451880e-26 1.0000000e+00]\n",
      "[1.1431107e-18 3.8686822e-28 1.0000000e+00]\n",
      "[4.694463e-21 4.443067e-29 1.000000e+00]\n",
      "[2.6046631e-20 9.5577139e-27 1.0000000e+00]\n",
      "[1.207871e-20 7.726912e-28 1.000000e+00]\n",
      "[1.6158607e-19 1.5156864e-27 1.0000000e+00]\n",
      "[1.6061930e-20 4.4437837e-27 1.0000000e+00]\n",
      "[8.093130e-21 6.711106e-28 1.000000e+00]\n",
      "[2.0647620e-20 2.2685373e-27 1.0000000e+00]\n",
      "[2.2331448e-20 2.1618313e-27 1.0000000e+00]\n",
      "[2.6193501e-20 1.5760952e-26 1.0000000e+00]\n",
      "[1.0198262e-19 1.2239948e-26 1.0000000e+00]\n",
      "[4.3465094e-20 1.3373596e-26 1.0000000e+00]\n",
      "[5.3029728e-20 5.2658801e-28 1.0000000e+00]\n",
      "[1.4925860e-20 3.4411677e-27 1.0000000e+00]\n",
      "[5.4077790e-17 2.6753569e-27 1.0000000e+00]\n",
      "[9.334380e-21 8.577744e-28 1.000000e+00]\n",
      "[1.1132238e-18 5.8757686e-28 1.0000000e+00]\n",
      "[4.6397530e-21 2.5400793e-27 1.0000000e+00]\n",
      "[4.6475317e-20 1.1610940e-26 1.0000000e+00]\n",
      "[9.6756835e-21 2.2900131e-27 1.0000000e+00]\n",
      "[3.0451830e-20 6.7866705e-27 1.0000000e+00]\n",
      "[1.1322005e-18 7.4859236e-28 1.0000000e+00]\n",
      "[3.7757509e-20 4.9470794e-29 1.0000000e+00]\n",
      "[6.0804649e-21 4.0100627e-27 1.0000000e+00]\n",
      "[1.0497504e-17 1.5116971e-26 1.0000000e+00]\n",
      "[7.0499768e-18 6.6932167e-26 1.0000000e+00]\n",
      "[1.5384297e-17 6.5204346e-26 1.0000000e+00]\n",
      "[8.926699e-19 6.984755e-29 1.000000e+00]\n",
      "[1.6454122e-20 1.5800909e-28 1.0000000e+00]\n",
      "[7.3934637e-20 2.2617727e-26 1.0000000e+00]\n",
      "[1.0281262e-20 7.2353187e-28 1.0000000e+00]\n",
      "[7.9909866e-18 1.3489391e-26 1.0000000e+00]\n",
      "[1.4288952e-18 1.9692560e-27 1.0000000e+00]\n",
      "[2.9448796e-20 1.6243892e-27 1.0000000e+00]\n",
      "[1.3493512e-18 2.5781710e-27 1.0000000e+00]\n",
      "[3.5131932e-18 2.8168395e-27 1.0000000e+00]\n",
      "[2.1326150e-19 4.0907903e-28 1.0000000e+00]\n",
      "[8.9442148e-20 3.5919106e-27 1.0000000e+00]\n",
      "[9.5065816e-21 1.5077513e-27 1.0000000e+00]\n",
      "[3.7794852e-19 5.6829111e-25 1.0000000e+00]\n",
      "[6.958375e-21 8.629901e-27 1.000000e+00]\n",
      "[5.3186588e-18 1.7636278e-27 1.0000000e+00]\n",
      "[3.2656729e-19 5.0068938e-25 1.0000000e+00]\n",
      "[3.2868084e-18 1.6020263e-27 1.0000000e+00]\n",
      "[3.8809072e-20 5.3227750e-27 1.0000000e+00]\n"
     ]
    },
    {
     "name": "stdout",
     "output_type": "stream",
     "text": [
      "[3.0556472e-18 1.7517598e-27 1.0000000e+00]\n",
      "[1.3895988e-20 1.0032760e-27 1.0000000e+00]\n",
      "[1.7098497e-19 2.8496658e-25 1.0000000e+00]\n",
      "[2.5728453e-20 1.4598646e-26 1.0000000e+00]\n",
      "[1.0559269e-18 2.0705353e-28 1.0000000e+00]\n",
      "[9.2047902e-20 1.5084071e-27 1.0000000e+00]\n",
      "[8.8837857e-21 7.9942083e-28 1.0000000e+00]\n",
      "[8.5906151e-20 5.0525694e-28 1.0000000e+00]\n",
      "[3.5854600e-21 1.1560722e-28 1.0000000e+00]\n",
      "[2.10225158e-20 1.12689165e-26 1.00000000e+00]\n",
      "[6.458914e-19 3.067258e-24 1.000000e+00]\n",
      "[8.2206728e-21 1.1543591e-26 1.0000000e+00]\n",
      "[1.4846481e-19 1.4437218e-25 1.0000000e+00]\n",
      "[2.1264481e-20 7.4428136e-28 1.0000000e+00]\n",
      "[3.834786e-20 4.539284e-27 1.000000e+00]\n",
      "[4.2798738e-20 2.5345344e-26 1.0000000e+00]\n",
      "[2.6397543e-19 2.3441786e-25 1.0000000e+00]\n",
      "[3.0753952e-20 2.3580599e-27 1.0000000e+00]\n",
      "[1.2144455e-20 4.3361244e-28 1.0000000e+00]\n",
      "[1.3700626e-17 8.0178668e-23 1.0000000e+00]\n",
      "[6.0223195e-20 3.4088166e-28 1.0000000e+00]\n",
      "[3.7460393e-20 2.7480225e-26 1.0000000e+00]\n",
      "[4.589531e-21 4.428568e-28 1.000000e+00]\n",
      "[3.7223520e-19 5.5335858e-27 1.0000000e+00]\n",
      "[2.8223472e-19 1.2097151e-28 1.0000000e+00]\n",
      "[7.675210e-20 7.155991e-28 1.000000e+00]\n",
      "[1.3654274e-20 2.7019295e-28 1.0000000e+00]\n",
      "[1.0224366e-18 2.8901254e-27 1.0000000e+00]\n",
      "[1.7289550e-20 6.6651828e-28 1.0000000e+00]\n"
     ]
    }
   ],
   "source": [
    "cphy_pred_norm = np.empty(cphy_test.size, dtype='int32')\n",
    "\n",
    "for i in range(cphy_test.size):\n",
    "    ind = np.argmax(cphy_pred[i])\n",
    "    cphy_pred_norm[i] = ind\n",
    "\n",
    "for pred in cphy_pred:\n",
    "    print(pred)"
   ]
  },
  {
   "cell_type": "code",
   "execution_count": 79,
   "metadata": {},
   "outputs": [
    {
     "name": "stdout",
     "output_type": "stream",
     "text": [
      "              precision    recall  f1-score   support\n",
      "\n",
      "           0       0.00      0.00      0.00       314\n",
      "           1       0.00      0.00      0.00       107\n",
      "           2       0.67      1.00      0.80       851\n",
      "\n",
      "    accuracy                           0.67      1272\n",
      "   macro avg       0.22      0.33      0.27      1272\n",
      "weighted avg       0.45      0.67      0.54      1272\n",
      "\n"
     ]
    },
    {
     "name": "stderr",
     "output_type": "stream",
     "text": [
      "/Users/gdosulli/opt/anaconda3/lib/python3.8/site-packages/sklearn/metrics/_classification.py:1221: UndefinedMetricWarning: Precision and F-score are ill-defined and being set to 0.0 in labels with no predicted samples. Use `zero_division` parameter to control this behavior.\n",
      "  _warn_prf(average, modifier, msg_start, len(result))\n"
     ]
    }
   ],
   "source": [
    "print(classification_report(cphy_test, cphy_pred_norm))"
   ]
  },
  {
   "cell_type": "code",
   "execution_count": 80,
   "metadata": {},
   "outputs": [
    {
     "data": {
      "image/png": "[encoded data removed]",
      "text/plain": [
       "<Figure size 432x288 with 2 Axes>"
      ]
     },
     "metadata": {
      "needs_background": "light"
     },
     "output_type": "display_data"
    }
   ],
   "source": [
    "plot_cm(cphy_test, cphy_pred_norm, \"Healthy(0)/COVID(1)/Pneumonia(2)\")"
   ]
  },
  {
   "cell_type": "markdown",
   "metadata": {},
   "source": [
    "## 4. COVID Not Intubated/COVID Intubated"
   ]
  },
  {
   "cell_type": "code",
   "execution_count": 58,
   "metadata": {},
   "outputs": [],
   "source": [
    "cc_images = normalize_images(cc, \"all_images/\")"
   ]
  },
  {
   "cell_type": "code",
   "execution_count": 59,
   "metadata": {},
   "outputs": [],
   "source": [
    "ccx_train, ccy_train, ccx_val, ccy_val, ccx_test, ccy_test = split_data(cc_images, cc['target'], .2)"
   ]
  },
  {
   "cell_type": "code",
   "execution_count": 60,
   "metadata": {},
   "outputs": [
    {
     "name": "stdout",
     "output_type": "stream",
     "text": [
      "Epoch 1/10\n",
      "4/4 [==============================] - 18s 5s/step - loss: 0.6764 - recall_4: 1.0000 - precision_4: 0.6417 - val_loss: 0.7678 - val_recall_4: 1.0000 - val_precision_4: 0.5455\n",
      "Epoch 2/10\n",
      "4/4 [==============================] - 18s 4s/step - loss: 0.6716 - recall_4: 1.0000 - precision_4: 0.6417 - val_loss: 0.7678 - val_recall_4: 1.0000 - val_precision_4: 0.5455\n",
      "Epoch 3/10\n",
      "4/4 [==============================] - 17s 4s/step - loss: 0.6716 - recall_4: 1.0000 - precision_4: 0.6417 - val_loss: 0.7678 - val_recall_4: 1.0000 - val_precision_4: 0.5455\n",
      "Epoch 00003: early stopping\n"
     ]
    }
   ],
   "source": [
    "cc_model = create_model(2)\n",
    "\n",
    "cc_history = cc_model.fit(ccx_train, np.asarray(ccy_train), epochs=10,\n",
    "                               validation_data=(ccx_val, ccy_val),\n",
    "                               batch_size=bs,\n",
    "                               callbacks=callbacks\n",
    "                               )"
   ]
  },
  {
   "cell_type": "code",
   "execution_count": 66,
   "metadata": {},
   "outputs": [],
   "source": [
    "ccy_pred = cc_model.predict(ccx_test)"
   ]
  },
  {
   "cell_type": "code",
   "execution_count": 67,
   "metadata": {},
   "outputs": [],
   "source": [
    "ccy_pred_norm = convert_pred(ccy_pred, threshold)"
   ]
  },
  {
   "cell_type": "code",
   "execution_count": 68,
   "metadata": {},
   "outputs": [
    {
     "name": "stdout",
     "output_type": "stream",
     "text": [
      "              precision    recall  f1-score   support\n",
      "\n",
      "           0       0.00      0.00      0.00         6\n",
      "           1       0.77      1.00      0.87        20\n",
      "\n",
      "    accuracy                           0.77        26\n",
      "   macro avg       0.38      0.50      0.43        26\n",
      "weighted avg       0.59      0.77      0.67        26\n",
      "\n"
     ]
    }
   ],
   "source": [
    "print(classification_report(ccy_test, ccy_pred_norm))"
   ]
  },
  {
   "cell_type": "code",
   "execution_count": 69,
   "metadata": {},
   "outputs": [
    {
     "data": {
      "image/png": "[encoded data removed]",
      "text/plain": [
       "<Figure size 432x288 with 2 Axes>"
      ]
     },
     "metadata": {
      "needs_background": "light"
     },
     "output_type": "display_data"
    }
   ],
   "source": [
    "plot_cm(ccy_test, ccy_pred_norm, \"COVID Not Intubated(0)/COVID Intubated(1) - VGG19\")"
   ]
  },
  {
   "cell_type": "code",
   "execution_count": 70,
   "metadata": {},
   "outputs": [
    {
     "data": {
      "image/png": "[encoded data removed]",
      "text/plain": [
       "<Figure size 432x288 with 1 Axes>"
      ]
     },
     "metadata": {
      "needs_background": "light"
     },
     "output_type": "display_data"
    }
   ],
   "source": [
    "plot_ROC(ccy_test, ccy_pred_norm.ravel(), \"COVID Not Intubated/COVID Intubated\")"
   ]
  },
  {
   "cell_type": "code",
   "execution_count": 71,
   "metadata": {},
   "outputs": [
    {
     "data": {
      "image/png": "[encoded data removed]",
      "text/plain": [
       "<Figure size 432x288 with 1 Axes>"
      ]
     },
     "metadata": {
      "needs_background": "light"
     },
     "output_type": "display_data"
    }
   ],
   "source": [
    "plot_pr(ccy_test, ccy_pred, \"COVID Not Intubated/COVID Intubated\")"
   ]
  },
  {
   "cell_type": "markdown",
   "metadata": {},
   "source": [
    "# Part 1: VGG19 With Augmentation"
   ]
  },
  {
   "cell_type": "markdown",
   "metadata": {},
   "source": [
    "## 3. COVID Not Intubated/COVID Intubated Augmented"
   ]
  },
  {
   "cell_type": "code",
   "execution_count": 86,
   "metadata": {},
   "outputs": [],
   "source": [
    "ccax_train, ccay_train, ccax_val, ccay_val, ccax_test, ccay_test = split_data(cc_images, cc['target'], .2)"
   ]
  },
  {
   "cell_type": "code",
   "execution_count": 87,
   "metadata": {},
   "outputs": [],
   "source": [
    "ccax_train, ccay_train = augment_images(ccax_train, ccay_train)"
   ]
  },
  {
   "cell_type": "code",
   "execution_count": 88,
   "metadata": {},
   "outputs": [
    {
     "name": "stdout",
     "output_type": "stream",
     "text": [
      "Epoch 1/10\n",
      "54/54 [==============================] - 251s 5s/step - loss: 0.5787 - recall_5: 0.8071 - precision_5: 0.7984 - val_loss: 0.6414 - val_recall_5: 0.9333 - val_precision_5: 0.6667\n",
      "Epoch 2/10\n",
      "54/54 [==============================] - 248s 5s/step - loss: 0.5202 - recall_5: 0.9692 - precision_5: 0.8909 - val_loss: 0.6328 - val_recall_5: 0.9333 - val_precision_5: 0.6667\n",
      "Epoch 3/10\n",
      "54/54 [==============================] - 253s 5s/step - loss: 0.5047 - recall_5: 0.9701 - precision_5: 0.9225 - val_loss: 0.6203 - val_recall_5: 0.9333 - val_precision_5: 0.7000\n",
      "Epoch 4/10\n",
      "54/54 [==============================] - 255s 5s/step - loss: 0.4927 - recall_5: 0.9810 - precision_5: 0.9385 - val_loss: 0.6399 - val_recall_5: 1.0000 - val_precision_5: 0.6818\n",
      "Epoch 5/10\n",
      "54/54 [==============================] - 236s 4s/step - loss: 0.4803 - recall_5: 0.9873 - precision_5: 0.9637 - val_loss: 0.6061 - val_recall_5: 0.9333 - val_precision_5: 0.7368\n",
      "Epoch 6/10\n",
      "54/54 [==============================] - 239s 4s/step - loss: 0.4792 - recall_5: 0.9846 - precision_5: 0.9654 - val_loss: 0.5948 - val_recall_5: 0.8000 - val_precision_5: 0.8571\n",
      "Epoch 7/10\n",
      "54/54 [==============================] - 248s 5s/step - loss: 0.4684 - recall_5: 0.9964 - precision_5: 0.9857 - val_loss: 0.5988 - val_recall_5: 0.8000 - val_precision_5: 0.8571\n",
      "Epoch 8/10\n",
      "54/54 [==============================] - 241s 4s/step - loss: 0.4636 - recall_5: 0.9982 - precision_5: 0.9928 - val_loss: 0.6041 - val_recall_5: 0.9333 - val_precision_5: 0.7368\n",
      "Epoch 00008: early stopping\n"
     ]
    }
   ],
   "source": [
    "cca_model = create_model(2)\n",
    "\n",
    "cca_history = cca_model.fit(ccax_train, np.asarray(ccay_train), epochs=10,\n",
    "                               validation_data=(ccax_val, ccay_val),\n",
    "                               batch_size=bs,\n",
    "                               callbacks=callbacks\n",
    "                               )"
   ]
  },
  {
   "cell_type": "code",
   "execution_count": 89,
   "metadata": {},
   "outputs": [],
   "source": [
    "ccay_pred = cca_model.predict(ccax_test)"
   ]
  },
  {
   "cell_type": "code",
   "execution_count": 90,
   "metadata": {},
   "outputs": [],
   "source": [
    "ccay_pred_norm = convert_pred(ccay_pred, threshold)"
   ]
  },
  {
   "cell_type": "code",
   "execution_count": 91,
   "metadata": {},
   "outputs": [
    {
     "name": "stdout",
     "output_type": "stream",
     "text": [
      "              precision    recall  f1-score   support\n",
      "\n",
      "           0       0.50      0.56      0.53         9\n",
      "           1       0.83      0.80      0.82        25\n",
      "\n",
      "    accuracy                           0.74        34\n",
      "   macro avg       0.67      0.68      0.67        34\n",
      "weighted avg       0.75      0.74      0.74        34\n",
      "\n"
     ]
    }
   ],
   "source": [
    "print(classification_report(ccay_test, ccay_pred_norm))"
   ]
  },
  {
   "cell_type": "code",
   "execution_count": 92,
   "metadata": {},
   "outputs": [
    {
     "data": {
      "image/png": "[encoded data removed]",
      "text/plain": [
       "<Figure size 432x288 with 2 Axes>"
      ]
     },
     "metadata": {
      "needs_background": "light"
     },
     "output_type": "display_data"
    }
   ],
   "source": [
    "plot_cm(ccay_test, ccay_pred_norm, \"COVID Not Intubated(0)/COVID Intubated(1) - Augmented\")"
   ]
  },
  {
   "cell_type": "code",
   "execution_count": 93,
   "metadata": {},
   "outputs": [
    {
     "data": {
      "image/png": "[encoded data removed]",
      "text/plain": [
       "<Figure size 432x288 with 1 Axes>"
      ]
     },
     "metadata": {
      "needs_background": "light"
     },
     "output_type": "display_data"
    }
   ],
   "source": [
    "plot_ROC(ccay_test, ccay_pred_norm.ravel(), \"COVID Not Intubated/COVID Intubated - Augmented\")"
   ]
  },
  {
   "cell_type": "code",
   "execution_count": 94,
   "metadata": {},
   "outputs": [
    {
     "data": {
      "image/png": "[encoded data removed]",
      "text/plain": [
       "<Figure size 432x288 with 1 Axes>"
      ]
     },
     "metadata": {
      "needs_background": "light"
     },
     "output_type": "display_data"
    }
   ],
   "source": [
    "plot_pr(ccay_test, ccay_pred, \"COVID Not Intubated/COVID Intubated - Augmented\")"
   ]
  },
  {
   "cell_type": "code",
   "execution_count": null,
   "metadata": {},
   "outputs": [],
   "source": []
  }
 ],
 "metadata": {
  "kernelspec": {
   "display_name": "Python 3",
   "language": "python",
   "name": "python3"
  },
  "language_info": {
   "codemirror_mode": {
    "name": "ipython",
    "version": 3
   },
   "file_extension": ".py",
   "mimetype": "text/x-python",
   "name": "python",
   "nbconvert_exporter": "python",
   "pygments_lexer": "ipython3",
   "version": "3.8.3"
  }
 },
 "nbformat": 4,
 "nbformat_minor": 4
}
