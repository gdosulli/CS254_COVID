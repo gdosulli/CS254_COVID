{
 "cells": [
  {
   "cell_type": "markdown",
   "metadata": {},
   "source": [
    "Imports"
   ]
  },
  {
   "cell_type": "code",
   "execution_count": 1,
   "metadata": {},
   "outputs": [],
   "source": [
    "import os\n",
    "import csv\n",
    "import pandas as pd\n",
    "import numpy as np\n",
    "import matplotlib.pyplot as plt\n",
    "import tensorflow as tf\n",
    "from tensorflow.keras import datasets, layers, models\n",
    "\n",
    "from sklearn.model_selection import train_test_split, KFold, RandomizedSearchCV, GridSearchCV\n",
    "from sklearn.metrics import confusion_matrix, roc_curve, auc\n",
    "from sklearn.utils import shuffle\n",
    "from PIL import Image\n",
    "from tensorflow.keras import backend as K    \n",
    "from tensorflow.keras.wrappers.scikit_learn import KerasClassifier"
   ]
  },
  {
   "cell_type": "markdown",
   "metadata": {},
   "source": [
    "# Part 0: Load in pneumonia/healthy data to train CNN on\n",
    "\n",
    "We will be training a CNN with a large pneumonia/healthy chest x-ray dataset and use transfer learning to train it for COVID/Non-COVID"
   ]
  },
  {
   "cell_type": "code",
   "execution_count": 58,
   "metadata": {},
   "outputs": [],
   "source": [
    "init_d = {'filename': [], 'target': []}\n",
    "\n",
    "# format: (file location, healthy/pneumonia(0/1))\n",
    "files = [('train/Normal', 0), \n",
    "         ('train/Pneumonia', 1),\n",
    "         ('test/Normal', 0), \n",
    "         ('test/Pneumonia', 1),\n",
    "         ('val/Normal', 0), \n",
    "         ('val/Pneumonia', 1),]\n",
    "\n",
    "for file in files:\n",
    "    dir_path = os.path.abspath(os.getcwd())\n",
    "    dir_path = dir_path + \"/chest_xray/\" + file[0]\n",
    "    list = os.listdir(dir_path)\n",
    "    for pic in list:\n",
    "        if '.DS_Store' not in pic:\n",
    "            init_d['filename'].append(pic)\n",
    "            init_d['target'].append(file[1])"
   ]
  },
  {
   "cell_type": "markdown",
   "metadata": {},
   "source": [
    "# Part 1: Preprocessing for images\n",
    "Load in images for the corresponding target data with PIL. Reformat all images to the same dimensions and convert them to a numpy array for the models to use (where each is a (# pixels, # pixels) array)."
   ]
  },
  {
   "cell_type": "code",
   "execution_count": 61,
   "metadata": {},
   "outputs": [],
   "source": [
    "# Load in image data from filenames with PIL\n",
    "img_dim = 128\n",
    "def normalize_images(d, curr_dir):\n",
    "    \"\"\"normalize all images inside dictionary\"\"\"\n",
    "    images = np.empty((len(d['target']), img_dim, img_dim, 2))\n",
    "\n",
    "    for i in range(len(d['filename'])):\n",
    "        image = Image.open(curr_dir + d['filename'][i])\n",
    "\n",
    "        # resize image shape\n",
    "        image = image.resize((img_dim, img_dim))\n",
    "\n",
    "        # convert to grayscale\n",
    "        image = image.convert('LA')\n",
    "\n",
    "        images[i] = np.array(image)\n",
    "\n",
    "    # normalize values\n",
    "    images = images / 255.0\n",
    "    return images"
   ]
  },
  {
   "cell_type": "code",
   "execution_count": 62,
   "metadata": {},
   "outputs": [],
   "source": [
    "# get train/test/val images\n",
    "images = normalize_images(init_d, \"chest_xray/pooled_imgs/\")"
   ]
  },
  {
   "cell_type": "markdown",
   "metadata": {},
   "source": [
    "### Data Augmenation"
   ]
  },
  {
   "cell_type": "code",
   "execution_count": 86,
   "metadata": {},
   "outputs": [],
   "source": [
    "aug_count = 15\n",
    "def augment_images(images, targets):\n",
    "    data_augmentation = tf.keras.Sequential([\n",
    "      layers.experimental.preprocessing.RandomFlip(\"horizontal\", dtype='float64'),\n",
    "      layers.experimental.preprocessing.RandomRotation(0.05, dtype='float64')\n",
    "    ])\n",
    "    \n",
    "    aug_images = np.empty((len(targets * (aug_count + 1)), img_dim, img_dim, 2))\n",
    "    new_targets = []\n",
    "    \n",
    "    \n",
    "    for i in range(len(targets)):\n",
    "        image = tf.expand_dims(images[i], 0)\n",
    "        for j in range(0, aug_count):\n",
    "            new_image = data_augmentation(image)\n",
    "            new_targets.append(targets[i])\n",
    "            aug_images[len(new_targets) - 1] = new_image[0]\n",
    "        \n",
    "        # add base image\n",
    "        new_targets.append(targets[i])\n",
    "        aug_images[len(new_targets) - 1] = images[i]\n",
    "    \n",
    "    return np.asarray(aug_images), new_targets"
   ]
  },
  {
   "cell_type": "markdown",
   "metadata": {},
   "source": [
    "# Part 2: Train Pneumonia/Healthy Classifier with CNN"
   ]
  },
  {
   "cell_type": "code",
   "execution_count": 69,
   "metadata": {},
   "outputs": [],
   "source": [
    "# split data\n",
    "x_train1, x_test1, y_train1, y_test1 = train_test_split(images, init_d[\"targets\"], test_size=0.20, random_state=0)\n",
    "x_train1, x_val1, y_train1, y_val1 = train_test_split(x_train1, y_train1, test_size=0.20, random_state=0)\n",
    "y_train1 = np.asarray(y_train1)\n",
    "y_val1 = np.asarray(y_val1)\n",
    "y_test1 = np.asarray(y_test1)"
   ]
  },
  {
   "cell_type": "code",
   "execution_count": null,
   "metadata": {},
   "outputs": [],
   "source": [
    "x_train1, y_train1 = augment_images(x_train1, y_train1)\n",
    "print(\"base image count: \", len(y_train1))"
   ]
  },
  {
   "cell_type": "code",
   "execution_count": 70,
   "metadata": {},
   "outputs": [
    {
     "name": "stdout",
     "output_type": "stream",
     "text": [
      "Model: \"sequential_17\"\n",
      "_________________________________________________________________\n",
      "Layer (type)                 Output Shape              Param #   \n",
      "=================================================================\n",
      "conv2d (Conv2D)              (None, 128, 128, 32)      608       \n",
      "_________________________________________________________________\n",
      "conv2d_1 (Conv2D)            (None, 128, 128, 64)      18496     \n",
      "_________________________________________________________________\n",
      "max_pooling2d (MaxPooling2D) (None, 64, 64, 64)        0         \n",
      "_________________________________________________________________\n",
      "conv2d_2 (Conv2D)            (None, 64, 64, 64)        36928     \n",
      "_________________________________________________________________\n",
      "conv2d_3 (Conv2D)            (None, 64, 64, 64)        36928     \n",
      "_________________________________________________________________\n",
      "max_pooling2d_1 (MaxPooling2 (None, 32, 32, 64)        0         \n",
      "_________________________________________________________________\n",
      "conv2d_4 (Conv2D)            (None, 32, 32, 64)        36928     \n",
      "_________________________________________________________________\n",
      "conv2d_5 (Conv2D)            (None, 32, 32, 64)        36928     \n",
      "_________________________________________________________________\n",
      "max_pooling2d_2 (MaxPooling2 (None, 16, 16, 64)        0         \n",
      "_________________________________________________________________\n",
      "conv2d_6 (Conv2D)            (None, 16, 16, 64)        36928     \n",
      "_________________________________________________________________\n",
      "conv2d_7 (Conv2D)            (None, 16, 16, 64)        36928     \n",
      "_________________________________________________________________\n",
      "flatten (Flatten)            (None, 16384)             0         \n",
      "_________________________________________________________________\n",
      "dense_40 (Dense)             (None, 64)                1048640   \n",
      "_________________________________________________________________\n",
      "dense_41 (Dense)             (None, 2)                 130       \n",
      "=================================================================\n",
      "Total params: 1,289,442\n",
      "Trainable params: 1,289,442\n",
      "Non-trainable params: 0\n",
      "_________________________________________________________________\n"
     ]
    }
   ],
   "source": [
    "# build model for convolutional network\n",
    "cnn_model = models.Sequential()\n",
    "cnn_model.add(layers.Conv2D(32, (3, 3), activation='relu', input_shape=(img_dim, img_dim, 2), padding='same'))\n",
    "cnn_model.add(layers.Conv2D(64, (3, 3), activation='relu', padding='same'))\n",
    "cnn_model.add(layers.MaxPooling2D((2, 2)))\n",
    "cnn_model.add(layers.Conv2D(64, (3, 3), activation='relu', padding='same'))\n",
    "cnn_model.add(layers.Conv2D(64, (3, 3), activation='relu', padding='same'))\n",
    "cnn_model.add(layers.MaxPooling2D((2, 2)))\n",
    "cnn_model.add(layers.Conv2D(64, (3, 3), activation='relu', padding='same'))\n",
    "cnn_model.add(layers.Conv2D(64, (3, 3), activation='relu', padding='same'))\n",
    "cnn_model.add(layers.MaxPooling2D((2, 2)))\n",
    "cnn_model.add(layers.Conv2D(64, (3, 3), activation='relu', padding='same'))\n",
    "cnn_model.add(layers.Conv2D(64, (3, 3), activation='relu', padding='same'))\n",
    "\n",
    "\n",
    "# add more layers\n",
    "cnn_model.add(layers.Flatten())\n",
    "cnn_model.add(layers.Dense(64, activation='relu'))\n",
    "cnn_model.add(layers.Dense(2))\n",
    "\n",
    "# compile \n",
    "cnn_model.compile(optimizer='adam',\n",
    "                  loss=tf.keras.losses.SparseCategoricalCrossentropy(from_logits=True),\n",
    "                  metrics=['accuracy'])\n",
    "cnn_model.summary()"
   ]
  },
  {
   "cell_type": "code",
   "execution_count": 71,
   "metadata": {},
   "outputs": [
    {
     "name": "stdout",
     "output_type": "stream",
     "text": [
      "Epoch 1/10\n",
      "1055/1055 [==============================] - 1198s 1s/step - loss: 0.3177 - accuracy: 0.8572 - val_loss: 0.1584 - val_accuracy: 0.9388\n",
      "Epoch 2/10\n",
      "1055/1055 [==============================] - 1139s 1s/step - loss: 0.1254 - accuracy: 0.9525 - val_loss: 0.1217 - val_accuracy: 0.9565\n",
      "Epoch 3/10\n",
      "1055/1055 [==============================] - 1177s 1s/step - loss: 0.0955 - accuracy: 0.9647 - val_loss: 0.1241 - val_accuracy: 0.9632\n",
      "Epoch 00003: early stopping\n"
     ]
    }
   ],
   "source": [
    "# Set up early stopping\n",
    "callbacks = [\n",
    "    tf.keras.callbacks.EarlyStopping(\n",
    "        monitor=\"val_loss\",\n",
    "        min_delta=1e-2,\n",
    "        verbose=1\n",
    "    )\n",
    "]\n",
    "\n",
    "history = cnn_model.fit(x_train1, y_train1, epochs=10,\n",
    "                       validation_data=(x_val1, y_val1),\n",
    "                       callbacks=callbacks)"
   ]
  },
  {
   "cell_type": "code",
   "execution_count": 72,
   "metadata": {},
   "outputs": [
    {
     "name": "stdout",
     "output_type": "stream",
     "text": [
      "WARNING:tensorflow:From /Users/benjamintemkin/opt/anaconda3/lib/python3.8/site-packages/tensorflow/python/training/tracking/tracking.py:111: Model.state_updates (from tensorflow.python.keras.engine.training) is deprecated and will be removed in a future version.\n",
      "Instructions for updating:\n",
      "This property should not be used in TensorFlow 2.0, as updates are applied automatically.\n",
      "WARNING:tensorflow:From /Users/benjamintemkin/opt/anaconda3/lib/python3.8/site-packages/tensorflow/python/training/tracking/tracking.py:111: Layer.updates (from tensorflow.python.keras.engine.base_layer) is deprecated and will be removed in a future version.\n",
      "Instructions for updating:\n",
      "This property should not be used in TensorFlow 2.0, as updates are applied automatically.\n",
      "INFO:tensorflow:Assets written to: basemodel_aug/assets\n"
     ]
    }
   ],
   "source": [
    "# save model\n",
    "cnn_model.save('basemodel_aug/')"
   ]
  },
  {
   "cell_type": "code",
   "execution_count": 73,
   "metadata": {},
   "outputs": [
    {
     "name": "stdout",
     "output_type": "stream",
     "text": [
      "330/330 - 70s - loss: 0.1120 - accuracy: 0.9658\n"
     ]
    },
    {
     "data": {
      "image/png": "[encoded data removed]",
      "text/plain": [
       "<Figure size 1440x576 with 2 Axes>"
      ]
     },
     "metadata": {
      "needs_background": "light"
     },
     "output_type": "display_data"
    }
   ],
   "source": [
    "fig, axs = plt.subplots(1, 2, figsize=(20, 8))\n",
    "\n",
    "axs[0].plot(history.history['accuracy'], label='training accuracy')\n",
    "axs[0].plot(history.history['val_accuracy'], label = 'val accuracy')\n",
    "axs[0].set_xlabel('Epoch')\n",
    "axs[0].set_ylabel('Accuracy')\n",
    "axs[0].set_title('Base Model Accuracy')\n",
    "axs[0].set_ylim([0.5, 1])\n",
    "axs[0].legend(loc='lower right')\n",
    "\n",
    "axs[1].plot(history.history['loss'], label='training loss')\n",
    "axs[1].plot(history.history['val_loss'], label = 'val loss')\n",
    "axs[1].set_xlabel('Epoch')\n",
    "axs[1].set_ylabel('Loss')\n",
    "axs[1].set_title('Base Model Loss')\n",
    "axs[1].set_ylim([0, 1])\n",
    "axs[1].legend(loc='lower right')\n",
    "\n",
    "test_loss, test_acc = cnn_model.evaluate(x_test1, y_test1, verbose=2)"
   ]
  },
  {
   "cell_type": "markdown",
   "metadata": {},
   "source": [
    "# Part 3: Load in COVID Data\n",
    "\n",
    "Read in csv of metadata for the images and select target data. For our target data we are selecting COVID/Non-COVID, Survival, Intubation, and Admission to the ICU - resulting in 28 classes where class 0 = Non-COVID and class > 0 is COVID and some unique combination of the classes above. For the initial training and testing of this data, any class > 0 we set to 1 to train a binary classifier for COVID/Non-COVID"
   ]
  },
  {
   "cell_type": "code",
   "execution_count": 74,
   "metadata": {},
   "outputs": [],
   "source": [
    "data = []\n",
    "with open(\"metadata.csv\") as file:\n",
    "    for row in csv.reader(file):\n",
    "        data.append(row)\n",
    "\n",
    "data = data[1:]\n",
    "\n",
    "d = {'filename': [], 'target': []}\n",
    "\n",
    "for image in data:\n",
    "    # skip volume data\n",
    "    if image[22] == \"volumes\":\n",
    "        continue\n",
    "    \n",
    "    # ignore CT scan data\n",
    "    if image[19] == \"CT\":\n",
    "        continue\n",
    "    \n",
    "    diagnosis = image[4].split(\"/\")\n",
    "    diagnosis = diagnosis[len(diagnosis) - 1].lower()\n",
    "    # set target based on meta data\n",
    "    if diagnosis != \"covid-19\":\n",
    "        if diagnosis == \"todo\":\n",
    "            # if not classified yet target = -1\n",
    "            # d['filename'].append(image[23])\n",
    "            # d['target'].append(-1)\n",
    "            # ignore unknown data\n",
    "            continue\n",
    "        else:\n",
    "            # if not COVID-19 target = 0\n",
    "            d['filename'].append(image[23])\n",
    "            d['target'].append(0)\n",
    "    else:\n",
    "        # if it is COVID-19\n",
    "        d['filename'].append(image[23])\n",
    "        d['target'].append(1)\n",
    "        \n",
    "file.close()\n"
   ]
  },
  {
   "cell_type": "code",
   "execution_count": 75,
   "metadata": {},
   "outputs": [],
   "source": [
    "# preprocess covid/noncovid images\n",
    "covid_images = normalize_images(d, \"model_images/\")"
   ]
  },
  {
   "cell_type": "markdown",
   "metadata": {},
   "source": [
    "### Augmentation"
   ]
  },
  {
   "cell_type": "code",
   "execution_count": 87,
   "metadata": {},
   "outputs": [],
   "source": [
    "covid_images_aug, targets = augment_images(covid_images, d['target'])"
   ]
  },
  {
   "cell_type": "code",
   "execution_count": 88,
   "metadata": {},
   "outputs": [
    {
     "name": "stdout",
     "output_type": "stream",
     "text": [
      "covid image count:  12528\n"
     ]
    }
   ],
   "source": [
    "print(\"covid image count: \", len(covid_images_aug))"
   ]
  },
  {
   "cell_type": "code",
   "execution_count": 80,
   "metadata": {},
   "outputs": [
    {
     "ename": "TypeError",
     "evalue": "Invalid shape (128, 128, 2) for image data",
     "output_type": "error",
     "traceback": [
      "\u001b[0;31m---------------------------------------------------------------------------\u001b[0m",
      "\u001b[0;31mTypeError\u001b[0m                                 Traceback (most recent call last)",
      "\u001b[0;32m<ipython-input-80-c98e4b31a697>\u001b[0m in \u001b[0;36m<module>\u001b[0;34m\u001b[0m\n\u001b[1;32m      2\u001b[0m \u001b[0;32mfor\u001b[0m \u001b[0mi\u001b[0m \u001b[0;32min\u001b[0m \u001b[0mrange\u001b[0m\u001b[0;34m(\u001b[0m\u001b[0maug_count\u001b[0m \u001b[0;34m+\u001b[0m \u001b[0;36m1\u001b[0m\u001b[0;34m)\u001b[0m\u001b[0;34m:\u001b[0m\u001b[0;34m\u001b[0m\u001b[0;34m\u001b[0m\u001b[0m\n\u001b[1;32m      3\u001b[0m   \u001b[0max\u001b[0m \u001b[0;34m=\u001b[0m \u001b[0mplt\u001b[0m\u001b[0;34m.\u001b[0m\u001b[0msubplot\u001b[0m\u001b[0;34m(\u001b[0m\u001b[0;36m3\u001b[0m\u001b[0;34m,\u001b[0m \u001b[0;36m3\u001b[0m\u001b[0;34m,\u001b[0m \u001b[0mi\u001b[0m \u001b[0;34m+\u001b[0m \u001b[0;36m1\u001b[0m\u001b[0;34m)\u001b[0m\u001b[0;34m\u001b[0m\u001b[0;34m\u001b[0m\u001b[0m\n\u001b[0;32m----> 4\u001b[0;31m   \u001b[0mplt\u001b[0m\u001b[0;34m.\u001b[0m\u001b[0mimshow\u001b[0m\u001b[0;34m(\u001b[0m\u001b[0mcovid_images_aug\u001b[0m\u001b[0;34m[\u001b[0m\u001b[0mi\u001b[0m\u001b[0;34m]\u001b[0m\u001b[0;34m,\u001b[0m \u001b[0mcmap\u001b[0m\u001b[0;34m=\u001b[0m\u001b[0;34m'gray'\u001b[0m\u001b[0;34m,\u001b[0m \u001b[0mvmin\u001b[0m\u001b[0;34m=\u001b[0m\u001b[0;36m0\u001b[0m\u001b[0;34m,\u001b[0m \u001b[0mvmax\u001b[0m\u001b[0;34m=\u001b[0m\u001b[0;36m255\u001b[0m\u001b[0;34m)\u001b[0m\u001b[0;34m\u001b[0m\u001b[0;34m\u001b[0m\u001b[0m\n\u001b[0m\u001b[1;32m      5\u001b[0m   \u001b[0mplt\u001b[0m\u001b[0;34m.\u001b[0m\u001b[0maxis\u001b[0m\u001b[0;34m(\u001b[0m\u001b[0;34m\"off\"\u001b[0m\u001b[0;34m)\u001b[0m\u001b[0;34m\u001b[0m\u001b[0;34m\u001b[0m\u001b[0m\n",
      "\u001b[0;32m~/opt/anaconda3/lib/python3.8/site-packages/matplotlib/pyplot.py\u001b[0m in \u001b[0;36mimshow\u001b[0;34m(X, cmap, norm, aspect, interpolation, alpha, vmin, vmax, origin, extent, shape, filternorm, filterrad, imlim, resample, url, data, **kwargs)\u001b[0m\n\u001b[1;32m   2643\u001b[0m         \u001b[0mfilterrad\u001b[0m\u001b[0;34m=\u001b[0m\u001b[0;36m4.0\u001b[0m\u001b[0;34m,\u001b[0m \u001b[0mimlim\u001b[0m\u001b[0;34m=\u001b[0m\u001b[0mcbook\u001b[0m\u001b[0;34m.\u001b[0m\u001b[0mdeprecation\u001b[0m\u001b[0;34m.\u001b[0m\u001b[0m_deprecated_parameter\u001b[0m\u001b[0;34m,\u001b[0m\u001b[0;34m\u001b[0m\u001b[0;34m\u001b[0m\u001b[0m\n\u001b[1;32m   2644\u001b[0m         resample=None, url=None, *, data=None, **kwargs):\n\u001b[0;32m-> 2645\u001b[0;31m     __ret = gca().imshow(\n\u001b[0m\u001b[1;32m   2646\u001b[0m         \u001b[0mX\u001b[0m\u001b[0;34m,\u001b[0m \u001b[0mcmap\u001b[0m\u001b[0;34m=\u001b[0m\u001b[0mcmap\u001b[0m\u001b[0;34m,\u001b[0m \u001b[0mnorm\u001b[0m\u001b[0;34m=\u001b[0m\u001b[0mnorm\u001b[0m\u001b[0;34m,\u001b[0m \u001b[0maspect\u001b[0m\u001b[0;34m=\u001b[0m\u001b[0maspect\u001b[0m\u001b[0;34m,\u001b[0m\u001b[0;34m\u001b[0m\u001b[0;34m\u001b[0m\u001b[0m\n\u001b[1;32m   2647\u001b[0m         \u001b[0minterpolation\u001b[0m\u001b[0;34m=\u001b[0m\u001b[0minterpolation\u001b[0m\u001b[0;34m,\u001b[0m \u001b[0malpha\u001b[0m\u001b[0;34m=\u001b[0m\u001b[0malpha\u001b[0m\u001b[0;34m,\u001b[0m \u001b[0mvmin\u001b[0m\u001b[0;34m=\u001b[0m\u001b[0mvmin\u001b[0m\u001b[0;34m,\u001b[0m\u001b[0;34m\u001b[0m\u001b[0;34m\u001b[0m\u001b[0m\n",
      "\u001b[0;32m~/opt/anaconda3/lib/python3.8/site-packages/matplotlib/__init__.py\u001b[0m in \u001b[0;36minner\u001b[0;34m(ax, data, *args, **kwargs)\u001b[0m\n\u001b[1;32m   1563\u001b[0m     \u001b[0;32mdef\u001b[0m \u001b[0minner\u001b[0m\u001b[0;34m(\u001b[0m\u001b[0max\u001b[0m\u001b[0;34m,\u001b[0m \u001b[0;34m*\u001b[0m\u001b[0margs\u001b[0m\u001b[0;34m,\u001b[0m \u001b[0mdata\u001b[0m\u001b[0;34m=\u001b[0m\u001b[0;32mNone\u001b[0m\u001b[0;34m,\u001b[0m \u001b[0;34m**\u001b[0m\u001b[0mkwargs\u001b[0m\u001b[0;34m)\u001b[0m\u001b[0;34m:\u001b[0m\u001b[0;34m\u001b[0m\u001b[0;34m\u001b[0m\u001b[0m\n\u001b[1;32m   1564\u001b[0m         \u001b[0;32mif\u001b[0m \u001b[0mdata\u001b[0m \u001b[0;32mis\u001b[0m \u001b[0;32mNone\u001b[0m\u001b[0;34m:\u001b[0m\u001b[0;34m\u001b[0m\u001b[0;34m\u001b[0m\u001b[0m\n\u001b[0;32m-> 1565\u001b[0;31m             \u001b[0;32mreturn\u001b[0m \u001b[0mfunc\u001b[0m\u001b[0;34m(\u001b[0m\u001b[0max\u001b[0m\u001b[0;34m,\u001b[0m \u001b[0;34m*\u001b[0m\u001b[0mmap\u001b[0m\u001b[0;34m(\u001b[0m\u001b[0msanitize_sequence\u001b[0m\u001b[0;34m,\u001b[0m \u001b[0margs\u001b[0m\u001b[0;34m)\u001b[0m\u001b[0;34m,\u001b[0m \u001b[0;34m**\u001b[0m\u001b[0mkwargs\u001b[0m\u001b[0;34m)\u001b[0m\u001b[0;34m\u001b[0m\u001b[0;34m\u001b[0m\u001b[0m\n\u001b[0m\u001b[1;32m   1566\u001b[0m \u001b[0;34m\u001b[0m\u001b[0m\n\u001b[1;32m   1567\u001b[0m         \u001b[0mbound\u001b[0m \u001b[0;34m=\u001b[0m \u001b[0mnew_sig\u001b[0m\u001b[0;34m.\u001b[0m\u001b[0mbind\u001b[0m\u001b[0;34m(\u001b[0m\u001b[0max\u001b[0m\u001b[0;34m,\u001b[0m \u001b[0;34m*\u001b[0m\u001b[0margs\u001b[0m\u001b[0;34m,\u001b[0m \u001b[0;34m**\u001b[0m\u001b[0mkwargs\u001b[0m\u001b[0;34m)\u001b[0m\u001b[0;34m\u001b[0m\u001b[0;34m\u001b[0m\u001b[0m\n",
      "\u001b[0;32m~/opt/anaconda3/lib/python3.8/site-packages/matplotlib/cbook/deprecation.py\u001b[0m in \u001b[0;36mwrapper\u001b[0;34m(*args, **kwargs)\u001b[0m\n\u001b[1;32m    356\u001b[0m                 \u001b[0;34mf\"%(removal)s.  If any parameter follows {name!r}, they \"\u001b[0m\u001b[0;34m\u001b[0m\u001b[0;34m\u001b[0m\u001b[0m\n\u001b[1;32m    357\u001b[0m                 f\"should be pass as keyword, not positionally.\")\n\u001b[0;32m--> 358\u001b[0;31m         \u001b[0;32mreturn\u001b[0m \u001b[0mfunc\u001b[0m\u001b[0;34m(\u001b[0m\u001b[0;34m*\u001b[0m\u001b[0margs\u001b[0m\u001b[0;34m,\u001b[0m \u001b[0;34m**\u001b[0m\u001b[0mkwargs\u001b[0m\u001b[0;34m)\u001b[0m\u001b[0;34m\u001b[0m\u001b[0;34m\u001b[0m\u001b[0m\n\u001b[0m\u001b[1;32m    359\u001b[0m \u001b[0;34m\u001b[0m\u001b[0m\n\u001b[1;32m    360\u001b[0m     \u001b[0;32mreturn\u001b[0m \u001b[0mwrapper\u001b[0m\u001b[0;34m\u001b[0m\u001b[0;34m\u001b[0m\u001b[0m\n",
      "\u001b[0;32m~/opt/anaconda3/lib/python3.8/site-packages/matplotlib/cbook/deprecation.py\u001b[0m in \u001b[0;36mwrapper\u001b[0;34m(*args, **kwargs)\u001b[0m\n\u001b[1;32m    356\u001b[0m                 \u001b[0;34mf\"%(removal)s.  If any parameter follows {name!r}, they \"\u001b[0m\u001b[0;34m\u001b[0m\u001b[0;34m\u001b[0m\u001b[0m\n\u001b[1;32m    357\u001b[0m                 f\"should be pass as keyword, not positionally.\")\n\u001b[0;32m--> 358\u001b[0;31m         \u001b[0;32mreturn\u001b[0m \u001b[0mfunc\u001b[0m\u001b[0;34m(\u001b[0m\u001b[0;34m*\u001b[0m\u001b[0margs\u001b[0m\u001b[0;34m,\u001b[0m \u001b[0;34m**\u001b[0m\u001b[0mkwargs\u001b[0m\u001b[0;34m)\u001b[0m\u001b[0;34m\u001b[0m\u001b[0;34m\u001b[0m\u001b[0m\n\u001b[0m\u001b[1;32m    359\u001b[0m \u001b[0;34m\u001b[0m\u001b[0m\n\u001b[1;32m    360\u001b[0m     \u001b[0;32mreturn\u001b[0m \u001b[0mwrapper\u001b[0m\u001b[0;34m\u001b[0m\u001b[0;34m\u001b[0m\u001b[0m\n",
      "\u001b[0;32m~/opt/anaconda3/lib/python3.8/site-packages/matplotlib/axes/_axes.py\u001b[0m in \u001b[0;36mimshow\u001b[0;34m(self, X, cmap, norm, aspect, interpolation, alpha, vmin, vmax, origin, extent, shape, filternorm, filterrad, imlim, resample, url, **kwargs)\u001b[0m\n\u001b[1;32m   5624\u001b[0m                               resample=resample, **kwargs)\n\u001b[1;32m   5625\u001b[0m \u001b[0;34m\u001b[0m\u001b[0m\n\u001b[0;32m-> 5626\u001b[0;31m         \u001b[0mim\u001b[0m\u001b[0;34m.\u001b[0m\u001b[0mset_data\u001b[0m\u001b[0;34m(\u001b[0m\u001b[0mX\u001b[0m\u001b[0;34m)\u001b[0m\u001b[0;34m\u001b[0m\u001b[0;34m\u001b[0m\u001b[0m\n\u001b[0m\u001b[1;32m   5627\u001b[0m         \u001b[0mim\u001b[0m\u001b[0;34m.\u001b[0m\u001b[0mset_alpha\u001b[0m\u001b[0;34m(\u001b[0m\u001b[0malpha\u001b[0m\u001b[0;34m)\u001b[0m\u001b[0;34m\u001b[0m\u001b[0;34m\u001b[0m\u001b[0m\n\u001b[1;32m   5628\u001b[0m         \u001b[0;32mif\u001b[0m \u001b[0mim\u001b[0m\u001b[0;34m.\u001b[0m\u001b[0mget_clip_path\u001b[0m\u001b[0;34m(\u001b[0m\u001b[0;34m)\u001b[0m \u001b[0;32mis\u001b[0m \u001b[0;32mNone\u001b[0m\u001b[0;34m:\u001b[0m\u001b[0;34m\u001b[0m\u001b[0;34m\u001b[0m\u001b[0m\n",
      "\u001b[0;32m~/opt/anaconda3/lib/python3.8/site-packages/matplotlib/image.py\u001b[0m in \u001b[0;36mset_data\u001b[0;34m(self, A)\u001b[0m\n\u001b[1;32m    696\u001b[0m         if not (self._A.ndim == 2\n\u001b[1;32m    697\u001b[0m                 or self._A.ndim == 3 and self._A.shape[-1] in [3, 4]):\n\u001b[0;32m--> 698\u001b[0;31m             raise TypeError(\"Invalid shape {} for image data\"\n\u001b[0m\u001b[1;32m    699\u001b[0m                             .format(self._A.shape))\n\u001b[1;32m    700\u001b[0m \u001b[0;34m\u001b[0m\u001b[0m\n",
      "\u001b[0;31mTypeError\u001b[0m: Invalid shape (128, 128, 2) for image data"
     ]
    },
    {
     "data": {
      "image/png": "[encoded data removed]",
      "text/plain": [
       "<Figure size 720x720 with 1 Axes>"
      ]
     },
     "metadata": {
      "needs_background": "light"
     },
     "output_type": "display_data"
    }
   ],
   "source": [
    "plt.figure(figsize=(10, 10))\n",
    "for i in range(aug_count + 1):\n",
    "  ax = plt.subplot(3, 3, i + 1)\n",
    "  plt.imshow(covid_images_aug[i], cmap='gray', vmin=0, vmax=255)\n",
    "  plt.axis(\"off\")"
   ]
  },
  {
   "cell_type": "markdown",
   "metadata": {},
   "source": [
    "# Part 2: Train COVID/Non-COVID with Transfer Learning"
   ]
  },
  {
   "cell_type": "code",
   "execution_count": 89,
   "metadata": {},
   "outputs": [],
   "source": [
    "# split data\n",
    "x_train, x_test, y_train, y_test = train_test_split(covid_images, d[\"target\"], test_size=0.20, random_state=2)\n",
    "x_train, x_val, y_train, y_val = train_test_split(x_train, y_train, test_size=0.20, random_state=2)\n",
    "y_train = np.asarray(y_train)\n",
    "y_val = np.asarray(y_val)\n",
    "y_test = np.asarray(y_test)"
   ]
  },
  {
   "cell_type": "code",
   "execution_count": null,
   "metadata": {},
   "outputs": [],
   "source": [
    "x_train, y_train = augment_images(x_train, y_train)\n",
    "print(\"base image count: \", len(y_train))"
   ]
  },
  {
   "cell_type": "code",
   "execution_count": 90,
   "metadata": {},
   "outputs": [],
   "source": [
    "def build_covid_model(learn_rate=0.01, dropout_rate=0.0, \n",
    "                      layers=(128, 128), num_classes=2, decay_rate=0.8, decay_steps=100000):\n",
    "    base_model = tf.keras.models.load_model('basemodel_aug/')\n",
    "    covid_model = models.Sequential()\n",
    "\n",
    "    # add all layers except densely connected to new model\n",
    "    for layer in base_model.layers[:-2]:\n",
    "        layer.trainable = False\n",
    "        covid_model.add(layer)\n",
    "\n",
    "    # add new dense layers on top of old model\n",
    "    #covid_model.add(layers.Dense(64, activation='relu'))\n",
    "    try:\n",
    "        for neurons in layers:\n",
    "            covid_model.add(tf.keras.layers.Dense(int(neurons)))\n",
    "            covid_model.add(tf.keras.layers.LeakyReLU(alpha=0.1))\n",
    "            covid_model.add(tf.keras.layers.BatchNormalization())\n",
    "    except:\n",
    "        covid_model.add(tf.keras.layers.Dense(layers))\n",
    "        covid_model.add(tf.keras.layers.LeakyReLU(alpha=0.1))\n",
    "        covid_model.add(tf.keras.layers.BatchNormalization())\n",
    "    \n",
    "    covid_model.add(tf.keras.layers.Dropout(dropout_rate))\n",
    "    \n",
    "    # set new low learning rate for fine-tuning\n",
    "    lr_schedule = tf.keras.optimizers.schedules.ExponentialDecay(\n",
    "        initial_learning_rate=learn_rate,\n",
    "        decay_steps=decay_steps,\n",
    "        decay_rate=decay_rate)\n",
    "\n",
    "    opt = tf.keras.optimizers.Adam(learning_rate=lr_schedule)\n",
    "\n",
    "    if num_classes == 2:\n",
    "        covid_model.add(tf.keras.layers.Dense(1, activation='sigmoid'))\n",
    "        covid_model.compile(optimizer=opt,\n",
    "                        loss=tf.keras.losses.BinaryCrossentropy(),\n",
    "                        metrics=['accuracy'])\n",
    "    else:\n",
    "        covid_model.add(tf.keras.layers.Dense(num_classes, activation='softmax'))\n",
    "        covid_model.compile(optimizer=opt,\n",
    "                        loss=tf.keras.losses.SparseCategoricalCrossentropy(from_logits=True),\n",
    "                        metrics=['accuracy'])\n",
    "\n",
    "    return covid_model\n"
   ]
  },
  {
   "cell_type": "code",
   "execution_count": 43,
   "metadata": {},
   "outputs": [
    {
     "name": "stdout",
     "output_type": "stream",
     "text": [
      "Fitting 2 folds for each of 10 candidates, totalling 20 fits\n"
     ]
    },
    {
     "name": "stderr",
     "output_type": "stream",
     "text": [
      "[Parallel(n_jobs=-1)]: Using backend LokyBackend with 16 concurrent workers.\n",
      "[Parallel(n_jobs=-1)]: Done   4 out of  20 | elapsed:  5.7min remaining: 22.8min\n",
      "[Parallel(n_jobs=-1)]: Done   7 out of  20 | elapsed:  5.7min remaining: 10.6min\n",
      "[Parallel(n_jobs=-1)]: Done  10 out of  20 | elapsed:  5.8min remaining:  5.8min\n",
      "[Parallel(n_jobs=-1)]: Done  13 out of  20 | elapsed:  5.8min remaining:  3.1min\n",
      "[Parallel(n_jobs=-1)]: Done  16 out of  20 | elapsed:  5.8min remaining:  1.5min\n",
      "[Parallel(n_jobs=-1)]: Done  20 out of  20 | elapsed:  7.1min finished\n"
     ]
    },
    {
     "name": "stdout",
     "output_type": "stream",
     "text": [
      "221/221 [==============================] - 25s 112ms/step - loss: 0.5274 - accuracy: 0.7443\n"
     ]
    },
    {
     "data": {
      "text/plain": [
       "{'layers': (64, 64),\n",
       " 'dropout_rate': 0.2,\n",
       " 'decay_steps': 80000,\n",
       " 'decay_rate': 0.7}"
      ]
     },
     "execution_count": 43,
     "metadata": {},
     "output_type": "execute_result"
    }
   ],
   "source": [
    "# make classifier\n",
    "covid_test_model = KerasClassifier(\n",
    "    build_fn = build_covid_model,\n",
    "    learn_rate = 0.001,\n",
    "    dropout_rate = 0.6,\n",
    "    layers=(128, 128, 128),\n",
    "    num_classes=2,\n",
    "    decay_rate=0.8,\n",
    "    decay_steps=100000\n",
    ")\n",
    "\n",
    "# random search http://ethen8181.github.io/machine-learning/keras/nn_keras_hyperparameter_tuning.html\n",
    "learning_rates = [0.001, 0.01, 0.0005, 0.0001]\n",
    "dropout_rates = [0.2, 0.4, 0.6]\n",
    "dif_layers = [(64), (64, 64), (128), (32), (128, 128, 128)]\n",
    "decay_rates = [0.5, 0.7, 0.8, 0.85, 0.65, 0.55]\n",
    "decay_step = [100000, 10000, 50000, 80000]\n",
    "distributions = dict(layers=dif_layers, \n",
    "                     dropout_rate=dropout_rates, decay_rate=decay_rates, decay_steps=decay_step)\n",
    "\n",
    "clf = RandomizedSearchCV(covid_test_model, distributions, random_state=0, n_jobs=-1, \n",
    "                         scoring=\"roc_auc\", verbose=10, cv=2)\n",
    "search = clf.fit(covid_images_aug, targets)\n",
    "search.best_params_"
   ]
  },
  {
   "cell_type": "code",
   "execution_count": 91,
   "metadata": {},
   "outputs": [],
   "source": [
    "# build model\n",
    "covid_model = build_covid_model(learn_rate=0.001, dropout_rate=0.2, layers=(64, 64), \n",
    "                                num_classes = 2, decay_rate=0.7, decay_steps=50000)\n",
    "\n",
    "#covid_model.summary()"
   ]
  },
  {
   "cell_type": "code",
   "execution_count": 92,
   "metadata": {},
   "outputs": [
    {
     "name": "stdout",
     "output_type": "stream",
     "text": [
      "Epoch 1/10\n",
      "251/251 [==============================] - 69s 277ms/step - loss: 0.4904 - accuracy: 0.7692 - val_loss: 0.4076 - val_accuracy: 0.8254\n",
      "Epoch 2/10\n",
      "251/251 [==============================] - 72s 285ms/step - loss: 0.2745 - accuracy: 0.8876 - val_loss: 0.2533 - val_accuracy: 0.8958\n",
      "Epoch 3/10\n",
      "251/251 [==============================] - 70s 277ms/step - loss: 0.1843 - accuracy: 0.9292 - val_loss: 0.2193 - val_accuracy: 0.9182\n",
      "Epoch 4/10\n",
      "251/251 [==============================] - 77s 308ms/step - loss: 0.1256 - accuracy: 0.9541 - val_loss: 0.1631 - val_accuracy: 0.9421\n",
      "Epoch 5/10\n",
      "251/251 [==============================] - 75s 299ms/step - loss: 0.0864 - accuracy: 0.9703 - val_loss: 0.1667 - val_accuracy: 0.9387\n",
      "Epoch 6/10\n",
      "251/251 [==============================] - 70s 277ms/step - loss: 0.0866 - accuracy: 0.9696 - val_loss: 0.1710 - val_accuracy: 0.9357\n",
      "Epoch 7/10\n",
      "251/251 [==============================] - 71s 285ms/step - loss: 0.0618 - accuracy: 0.9780 - val_loss: 0.1639 - val_accuracy: 0.9466\n",
      "Epoch 8/10\n",
      "251/251 [==============================] - 71s 282ms/step - loss: 0.0586 - accuracy: 0.9778 - val_loss: 0.1817 - val_accuracy: 0.9322\n",
      "Epoch 9/10\n",
      "251/251 [==============================] - 71s 282ms/step - loss: 0.0500 - accuracy: 0.9813 - val_loss: 0.1788 - val_accuracy: 0.9481\n",
      "Epoch 10/10\n",
      " 27/251 [==>...........................] - ETA: 49s - loss: 0.0510 - accuracy: 0.9815"
     ]
    },
    {
     "ename": "KeyboardInterrupt",
     "evalue": "",
     "output_type": "error",
     "traceback": [
      "\u001b[0;31m---------------------------------------------------------------------------\u001b[0m",
      "\u001b[0;31mKeyboardInterrupt\u001b[0m                         Traceback (most recent call last)",
      "\u001b[0;32m<ipython-input-92-30e731bcda4f>\u001b[0m in \u001b[0;36m<module>\u001b[0;34m\u001b[0m\n\u001b[1;32m      9\u001b[0m ]\n\u001b[1;32m     10\u001b[0m \u001b[0;34m\u001b[0m\u001b[0m\n\u001b[0;32m---> 11\u001b[0;31m covid_history = covid_model.fit(x_train, y_train, epochs=10,\n\u001b[0m\u001b[1;32m     12\u001b[0m                                \u001b[0mvalidation_data\u001b[0m\u001b[0;34m=\u001b[0m\u001b[0;34m(\u001b[0m\u001b[0mx_val\u001b[0m\u001b[0;34m,\u001b[0m \u001b[0my_val\u001b[0m\u001b[0;34m)\u001b[0m\u001b[0;34m,\u001b[0m\u001b[0;34m\u001b[0m\u001b[0;34m\u001b[0m\u001b[0m\n\u001b[1;32m     13\u001b[0m                                \u001b[0;31m#callbacks=callbacks\u001b[0m\u001b[0;34m\u001b[0m\u001b[0;34m\u001b[0m\u001b[0;34m\u001b[0m\u001b[0m\n",
      "\u001b[0;32m~/opt/anaconda3/lib/python3.8/site-packages/tensorflow/python/keras/engine/training.py\u001b[0m in \u001b[0;36m_method_wrapper\u001b[0;34m(self, *args, **kwargs)\u001b[0m\n\u001b[1;32m    106\u001b[0m   \u001b[0;32mdef\u001b[0m \u001b[0m_method_wrapper\u001b[0m\u001b[0;34m(\u001b[0m\u001b[0mself\u001b[0m\u001b[0;34m,\u001b[0m \u001b[0;34m*\u001b[0m\u001b[0margs\u001b[0m\u001b[0;34m,\u001b[0m \u001b[0;34m**\u001b[0m\u001b[0mkwargs\u001b[0m\u001b[0;34m)\u001b[0m\u001b[0;34m:\u001b[0m\u001b[0;34m\u001b[0m\u001b[0;34m\u001b[0m\u001b[0m\n\u001b[1;32m    107\u001b[0m     \u001b[0;32mif\u001b[0m \u001b[0;32mnot\u001b[0m \u001b[0mself\u001b[0m\u001b[0;34m.\u001b[0m\u001b[0m_in_multi_worker_mode\u001b[0m\u001b[0;34m(\u001b[0m\u001b[0;34m)\u001b[0m\u001b[0;34m:\u001b[0m  \u001b[0;31m# pylint: disable=protected-access\u001b[0m\u001b[0;34m\u001b[0m\u001b[0;34m\u001b[0m\u001b[0m\n\u001b[0;32m--> 108\u001b[0;31m       \u001b[0;32mreturn\u001b[0m \u001b[0mmethod\u001b[0m\u001b[0;34m(\u001b[0m\u001b[0mself\u001b[0m\u001b[0;34m,\u001b[0m \u001b[0;34m*\u001b[0m\u001b[0margs\u001b[0m\u001b[0;34m,\u001b[0m \u001b[0;34m**\u001b[0m\u001b[0mkwargs\u001b[0m\u001b[0;34m)\u001b[0m\u001b[0;34m\u001b[0m\u001b[0;34m\u001b[0m\u001b[0m\n\u001b[0m\u001b[1;32m    109\u001b[0m \u001b[0;34m\u001b[0m\u001b[0m\n\u001b[1;32m    110\u001b[0m     \u001b[0;31m# Running inside `run_distribute_coordinator` already.\u001b[0m\u001b[0;34m\u001b[0m\u001b[0;34m\u001b[0m\u001b[0;34m\u001b[0m\u001b[0m\n",
      "\u001b[0;32m~/opt/anaconda3/lib/python3.8/site-packages/tensorflow/python/keras/engine/training.py\u001b[0m in \u001b[0;36mfit\u001b[0;34m(self, x, y, batch_size, epochs, verbose, callbacks, validation_split, validation_data, shuffle, class_weight, sample_weight, initial_epoch, steps_per_epoch, validation_steps, validation_batch_size, validation_freq, max_queue_size, workers, use_multiprocessing)\u001b[0m\n\u001b[1;32m   1096\u001b[0m                 batch_size=batch_size):\n\u001b[1;32m   1097\u001b[0m               \u001b[0mcallbacks\u001b[0m\u001b[0;34m.\u001b[0m\u001b[0mon_train_batch_begin\u001b[0m\u001b[0;34m(\u001b[0m\u001b[0mstep\u001b[0m\u001b[0;34m)\u001b[0m\u001b[0;34m\u001b[0m\u001b[0;34m\u001b[0m\u001b[0m\n\u001b[0;32m-> 1098\u001b[0;31m               \u001b[0mtmp_logs\u001b[0m \u001b[0;34m=\u001b[0m \u001b[0mtrain_function\u001b[0m\u001b[0;34m(\u001b[0m\u001b[0miterator\u001b[0m\u001b[0;34m)\u001b[0m\u001b[0;34m\u001b[0m\u001b[0;34m\u001b[0m\u001b[0m\n\u001b[0m\u001b[1;32m   1099\u001b[0m               \u001b[0;32mif\u001b[0m \u001b[0mdata_handler\u001b[0m\u001b[0;34m.\u001b[0m\u001b[0mshould_sync\u001b[0m\u001b[0;34m:\u001b[0m\u001b[0;34m\u001b[0m\u001b[0;34m\u001b[0m\u001b[0m\n\u001b[1;32m   1100\u001b[0m                 \u001b[0mcontext\u001b[0m\u001b[0;34m.\u001b[0m\u001b[0masync_wait\u001b[0m\u001b[0;34m(\u001b[0m\u001b[0;34m)\u001b[0m\u001b[0;34m\u001b[0m\u001b[0;34m\u001b[0m\u001b[0m\n",
      "\u001b[0;32m~/opt/anaconda3/lib/python3.8/site-packages/tensorflow/python/eager/def_function.py\u001b[0m in \u001b[0;36m__call__\u001b[0;34m(self, *args, **kwds)\u001b[0m\n\u001b[1;32m    778\u001b[0m       \u001b[0;32melse\u001b[0m\u001b[0;34m:\u001b[0m\u001b[0;34m\u001b[0m\u001b[0;34m\u001b[0m\u001b[0m\n\u001b[1;32m    779\u001b[0m         \u001b[0mcompiler\u001b[0m \u001b[0;34m=\u001b[0m \u001b[0;34m\"nonXla\"\u001b[0m\u001b[0;34m\u001b[0m\u001b[0;34m\u001b[0m\u001b[0m\n\u001b[0;32m--> 780\u001b[0;31m         \u001b[0mresult\u001b[0m \u001b[0;34m=\u001b[0m \u001b[0mself\u001b[0m\u001b[0;34m.\u001b[0m\u001b[0m_call\u001b[0m\u001b[0;34m(\u001b[0m\u001b[0;34m*\u001b[0m\u001b[0margs\u001b[0m\u001b[0;34m,\u001b[0m \u001b[0;34m**\u001b[0m\u001b[0mkwds\u001b[0m\u001b[0;34m)\u001b[0m\u001b[0;34m\u001b[0m\u001b[0;34m\u001b[0m\u001b[0m\n\u001b[0m\u001b[1;32m    781\u001b[0m \u001b[0;34m\u001b[0m\u001b[0m\n\u001b[1;32m    782\u001b[0m       \u001b[0mnew_tracing_count\u001b[0m \u001b[0;34m=\u001b[0m \u001b[0mself\u001b[0m\u001b[0;34m.\u001b[0m\u001b[0m_get_tracing_count\u001b[0m\u001b[0;34m(\u001b[0m\u001b[0;34m)\u001b[0m\u001b[0;34m\u001b[0m\u001b[0;34m\u001b[0m\u001b[0m\n",
      "\u001b[0;32m~/opt/anaconda3/lib/python3.8/site-packages/tensorflow/python/eager/def_function.py\u001b[0m in \u001b[0;36m_call\u001b[0;34m(self, *args, **kwds)\u001b[0m\n\u001b[1;32m    805\u001b[0m       \u001b[0;31m# In this case we have created variables on the first call, so we run the\u001b[0m\u001b[0;34m\u001b[0m\u001b[0;34m\u001b[0m\u001b[0;34m\u001b[0m\u001b[0m\n\u001b[1;32m    806\u001b[0m       \u001b[0;31m# defunned version which is guaranteed to never create variables.\u001b[0m\u001b[0;34m\u001b[0m\u001b[0;34m\u001b[0m\u001b[0;34m\u001b[0m\u001b[0m\n\u001b[0;32m--> 807\u001b[0;31m       \u001b[0;32mreturn\u001b[0m \u001b[0mself\u001b[0m\u001b[0;34m.\u001b[0m\u001b[0m_stateless_fn\u001b[0m\u001b[0;34m(\u001b[0m\u001b[0;34m*\u001b[0m\u001b[0margs\u001b[0m\u001b[0;34m,\u001b[0m \u001b[0;34m**\u001b[0m\u001b[0mkwds\u001b[0m\u001b[0;34m)\u001b[0m  \u001b[0;31m# pylint: disable=not-callable\u001b[0m\u001b[0;34m\u001b[0m\u001b[0;34m\u001b[0m\u001b[0m\n\u001b[0m\u001b[1;32m    808\u001b[0m     \u001b[0;32melif\u001b[0m \u001b[0mself\u001b[0m\u001b[0;34m.\u001b[0m\u001b[0m_stateful_fn\u001b[0m \u001b[0;32mis\u001b[0m \u001b[0;32mnot\u001b[0m \u001b[0;32mNone\u001b[0m\u001b[0;34m:\u001b[0m\u001b[0;34m\u001b[0m\u001b[0;34m\u001b[0m\u001b[0m\n\u001b[1;32m    809\u001b[0m       \u001b[0;31m# Release the lock early so that multiple threads can perform the call\u001b[0m\u001b[0;34m\u001b[0m\u001b[0;34m\u001b[0m\u001b[0;34m\u001b[0m\u001b[0m\n",
      "\u001b[0;32m~/opt/anaconda3/lib/python3.8/site-packages/tensorflow/python/eager/function.py\u001b[0m in \u001b[0;36m__call__\u001b[0;34m(self, *args, **kwargs)\u001b[0m\n\u001b[1;32m   2827\u001b[0m     \u001b[0;32mwith\u001b[0m \u001b[0mself\u001b[0m\u001b[0;34m.\u001b[0m\u001b[0m_lock\u001b[0m\u001b[0;34m:\u001b[0m\u001b[0;34m\u001b[0m\u001b[0;34m\u001b[0m\u001b[0m\n\u001b[1;32m   2828\u001b[0m       \u001b[0mgraph_function\u001b[0m\u001b[0;34m,\u001b[0m \u001b[0margs\u001b[0m\u001b[0;34m,\u001b[0m \u001b[0mkwargs\u001b[0m \u001b[0;34m=\u001b[0m \u001b[0mself\u001b[0m\u001b[0;34m.\u001b[0m\u001b[0m_maybe_define_function\u001b[0m\u001b[0;34m(\u001b[0m\u001b[0margs\u001b[0m\u001b[0;34m,\u001b[0m \u001b[0mkwargs\u001b[0m\u001b[0;34m)\u001b[0m\u001b[0;34m\u001b[0m\u001b[0;34m\u001b[0m\u001b[0m\n\u001b[0;32m-> 2829\u001b[0;31m     \u001b[0;32mreturn\u001b[0m \u001b[0mgraph_function\u001b[0m\u001b[0;34m.\u001b[0m\u001b[0m_filtered_call\u001b[0m\u001b[0;34m(\u001b[0m\u001b[0margs\u001b[0m\u001b[0;34m,\u001b[0m \u001b[0mkwargs\u001b[0m\u001b[0;34m)\u001b[0m  \u001b[0;31m# pylint: disable=protected-access\u001b[0m\u001b[0;34m\u001b[0m\u001b[0;34m\u001b[0m\u001b[0m\n\u001b[0m\u001b[1;32m   2830\u001b[0m \u001b[0;34m\u001b[0m\u001b[0m\n\u001b[1;32m   2831\u001b[0m   \u001b[0;34m@\u001b[0m\u001b[0mproperty\u001b[0m\u001b[0;34m\u001b[0m\u001b[0;34m\u001b[0m\u001b[0m\n",
      "\u001b[0;32m~/opt/anaconda3/lib/python3.8/site-packages/tensorflow/python/eager/function.py\u001b[0m in \u001b[0;36m_filtered_call\u001b[0;34m(self, args, kwargs, cancellation_manager)\u001b[0m\n\u001b[1;32m   1841\u001b[0m       \u001b[0;31m`\u001b[0m\u001b[0margs\u001b[0m\u001b[0;31m`\u001b[0m \u001b[0;32mand\u001b[0m\u001b[0;31m \u001b[0m\u001b[0;31m`\u001b[0m\u001b[0mkwargs\u001b[0m\u001b[0;31m`\u001b[0m\u001b[0;34m.\u001b[0m\u001b[0;34m\u001b[0m\u001b[0;34m\u001b[0m\u001b[0m\n\u001b[1;32m   1842\u001b[0m     \"\"\"\n\u001b[0;32m-> 1843\u001b[0;31m     return self._call_flat(\n\u001b[0m\u001b[1;32m   1844\u001b[0m         [t for t in nest.flatten((args, kwargs), expand_composites=True)\n\u001b[1;32m   1845\u001b[0m          if isinstance(t, (ops.Tensor,\n",
      "\u001b[0;32m~/opt/anaconda3/lib/python3.8/site-packages/tensorflow/python/eager/function.py\u001b[0m in \u001b[0;36m_call_flat\u001b[0;34m(self, args, captured_inputs, cancellation_manager)\u001b[0m\n\u001b[1;32m   1921\u001b[0m         and executing_eagerly):\n\u001b[1;32m   1922\u001b[0m       \u001b[0;31m# No tape is watching; skip to running the function.\u001b[0m\u001b[0;34m\u001b[0m\u001b[0;34m\u001b[0m\u001b[0;34m\u001b[0m\u001b[0m\n\u001b[0;32m-> 1923\u001b[0;31m       return self._build_call_outputs(self._inference_function.call(\n\u001b[0m\u001b[1;32m   1924\u001b[0m           ctx, args, cancellation_manager=cancellation_manager))\n\u001b[1;32m   1925\u001b[0m     forward_backward = self._select_forward_and_backward_functions(\n",
      "\u001b[0;32m~/opt/anaconda3/lib/python3.8/site-packages/tensorflow/python/eager/function.py\u001b[0m in \u001b[0;36mcall\u001b[0;34m(self, ctx, args, cancellation_manager)\u001b[0m\n\u001b[1;32m    543\u001b[0m       \u001b[0;32mwith\u001b[0m \u001b[0m_InterpolateFunctionError\u001b[0m\u001b[0;34m(\u001b[0m\u001b[0mself\u001b[0m\u001b[0;34m)\u001b[0m\u001b[0;34m:\u001b[0m\u001b[0;34m\u001b[0m\u001b[0;34m\u001b[0m\u001b[0m\n\u001b[1;32m    544\u001b[0m         \u001b[0;32mif\u001b[0m \u001b[0mcancellation_manager\u001b[0m \u001b[0;32mis\u001b[0m \u001b[0;32mNone\u001b[0m\u001b[0;34m:\u001b[0m\u001b[0;34m\u001b[0m\u001b[0;34m\u001b[0m\u001b[0m\n\u001b[0;32m--> 545\u001b[0;31m           outputs = execute.execute(\n\u001b[0m\u001b[1;32m    546\u001b[0m               \u001b[0mstr\u001b[0m\u001b[0;34m(\u001b[0m\u001b[0mself\u001b[0m\u001b[0;34m.\u001b[0m\u001b[0msignature\u001b[0m\u001b[0;34m.\u001b[0m\u001b[0mname\u001b[0m\u001b[0;34m)\u001b[0m\u001b[0;34m,\u001b[0m\u001b[0;34m\u001b[0m\u001b[0;34m\u001b[0m\u001b[0m\n\u001b[1;32m    547\u001b[0m               \u001b[0mnum_outputs\u001b[0m\u001b[0;34m=\u001b[0m\u001b[0mself\u001b[0m\u001b[0;34m.\u001b[0m\u001b[0m_num_outputs\u001b[0m\u001b[0;34m,\u001b[0m\u001b[0;34m\u001b[0m\u001b[0;34m\u001b[0m\u001b[0m\n",
      "\u001b[0;32m~/opt/anaconda3/lib/python3.8/site-packages/tensorflow/python/eager/execute.py\u001b[0m in \u001b[0;36mquick_execute\u001b[0;34m(op_name, num_outputs, inputs, attrs, ctx, name)\u001b[0m\n\u001b[1;32m     57\u001b[0m   \u001b[0;32mtry\u001b[0m\u001b[0;34m:\u001b[0m\u001b[0;34m\u001b[0m\u001b[0;34m\u001b[0m\u001b[0m\n\u001b[1;32m     58\u001b[0m     \u001b[0mctx\u001b[0m\u001b[0;34m.\u001b[0m\u001b[0mensure_initialized\u001b[0m\u001b[0;34m(\u001b[0m\u001b[0;34m)\u001b[0m\u001b[0;34m\u001b[0m\u001b[0;34m\u001b[0m\u001b[0m\n\u001b[0;32m---> 59\u001b[0;31m     tensors = pywrap_tfe.TFE_Py_Execute(ctx._handle, device_name, op_name,\n\u001b[0m\u001b[1;32m     60\u001b[0m                                         inputs, attrs, num_outputs)\n\u001b[1;32m     61\u001b[0m   \u001b[0;32mexcept\u001b[0m \u001b[0mcore\u001b[0m\u001b[0;34m.\u001b[0m\u001b[0m_NotOkStatusException\u001b[0m \u001b[0;32mas\u001b[0m \u001b[0me\u001b[0m\u001b[0;34m:\u001b[0m\u001b[0;34m\u001b[0m\u001b[0;34m\u001b[0m\u001b[0m\n",
      "\u001b[0;31mKeyboardInterrupt\u001b[0m: "
     ]
    }
   ],
   "source": [
    "# setup early stopping: https://www.tensorflow.org/guide/keras/train_and_evaluate\n",
    "callbacks = [\n",
    "    tf.keras.callbacks.EarlyStopping(\n",
    "        monitor=\"val_loss\",\n",
    "        min_delta=1e-2,\n",
    "        patience=2,\n",
    "        verbose=1\n",
    "    )\n",
    "]\n",
    "\n",
    "covid_history = covid_model.fit(x_train, y_train, epochs=10,\n",
    "                               validation_data=(x_val, y_val),\n",
    "                               #callbacks=callbacks\n",
    "                               )"
   ]
  },
  {
   "cell_type": "code",
   "execution_count": 84,
   "metadata": {},
   "outputs": [
    {
     "name": "stdout",
     "output_type": "stream",
     "text": [
      "Area under the curve:  0.9596620935906064\n"
     ]
    },
    {
     "data": {
      "image/png": "[encoded data removed]",
      "text/plain": [
       "<Figure size 432x288 with 1 Axes>"
      ]
     },
     "metadata": {
      "needs_background": "light"
     },
     "output_type": "display_data"
    }
   ],
   "source": [
    "# plot ROC curve\n",
    "y_predict = covid_model.predict(x_test).ravel()\n",
    "fpr, tpr, thresholds = roc_curve(y_test, y_predict)\n",
    "\n",
    "auc_val = auc(fpr, tpr)\n",
    "\n",
    "print(\"Area under the curve: \", auc_val)\n",
    "\n",
    "plt.plot(fpr,tpr) \n",
    "plt.axis([0,1,0,1]) \n",
    "plt.xlabel('False Positive Rate') \n",
    "plt.ylabel('True Positive Rate') \n",
    "plt.show()  "
   ]
  },
  {
   "cell_type": "code",
   "execution_count": 85,
   "metadata": {},
   "outputs": [
    {
     "name": "stdout",
     "output_type": "stream",
     "text": [
      "45/45 - 10s - loss: 0.2844 - accuracy: 0.9121\n"
     ]
    },
    {
     "data": {
      "image/png": "[encoded data removed]",
      "text/plain": [
       "<Figure size 1440x576 with 2 Axes>"
      ]
     },
     "metadata": {
      "needs_background": "light"
     },
     "output_type": "display_data"
    }
   ],
   "source": [
    "# plot accuracy and loss curves\n",
    "fig, axs = plt.subplots(1, 2, figsize=(20, 8))\n",
    "\n",
    "axs[0].plot(covid_history.history['accuracy'], label='training accuracy')\n",
    "axs[0].plot(covid_history.history['val_accuracy'], label = 'val accuracy')\n",
    "axs[0].set_xlabel('Epoch')\n",
    "axs[0].set_ylabel('Accuracy')\n",
    "axs[0].set_title('Covid Transfer Learning CNN Accuracy')\n",
    "axs[0].set_ylim([0.5, 1])\n",
    "axs[0].legend(loc='lower right')\n",
    "\n",
    "axs[1].plot(covid_history.history['loss'], label='training loss')\n",
    "axs[1].plot(covid_history.history['val_loss'], label = 'val loss')\n",
    "axs[1].set_xlabel('Epoch')\n",
    "axs[1].set_ylabel('Loss')\n",
    "axs[1].set_title('Covid Transfer Learning CNN Loss')\n",
    "axs[1].set_ylim([0, 1])\n",
    "axs[1].legend(loc='lower right')\n",
    "\n",
    "test_loss, test_acc = covid_model.evaluate(x_test, y_test, verbose=2)"
   ]
  },
  {
   "cell_type": "markdown",
   "metadata": {},
   "source": [
    "# Part 4: Additional Classes for Covid Prediction"
   ]
  },
  {
   "cell_type": "code",
   "execution_count": 397,
   "metadata": {},
   "outputs": [],
   "source": [
    "data = []\n",
    "with open(\"metadata.csv\") as file:\n",
    "    for row in csv.reader(file):\n",
    "        data.append(row)\n",
    "\n",
    "data = data[1:]\n",
    "\n",
    "d_pred = {'filename': [], 'target': []}\n",
    "\n",
    "for image in data:\n",
    "    # skip volume data\n",
    "    if image[22] == \"volumes\":\n",
    "        continue\n",
    "    \n",
    "    # ignore CT scan data\n",
    "    if image[19] == \"CT\":\n",
    "        continue\n",
    "    \n",
    "    diagnosis = image[4].split(\"/\")\n",
    "    diagnosis = diagnosis[len(diagnosis) - 1].lower()\n",
    "    # set target based on meta data\n",
    "    if diagnosis != \"covid-19\":\n",
    "        if diagnosis == \"todo\":\n",
    "            # if not classified yet target = -1\n",
    "            # d['filename'].append(image[23])\n",
    "            # d['target'].append(-1)\n",
    "            # ignore unknown data\n",
    "            continue\n",
    "        else:\n",
    "            # if not COVID-19 target = 0\n",
    "            d_pred['filename'].append(image[23])\n",
    "            d_pred['target'].append(0)\n",
    "    else:\n",
    "        # if it is COVID-19\n",
    "        if image[6] == \"Y\":\n",
    "            # if they survived\n",
    "            d_pred['filename'].append(image[23])\n",
    "            d_pred['target'].append(1)\n",
    "        elif image[6] == \"N\":\n",
    "            # if they did not survive\n",
    "            d_pred['filename'].append(image[23])\n",
    "            d_pred['target'].append(2)\n",
    "\n",
    "file.close()\n"
   ]
  },
  {
   "cell_type": "code",
   "execution_count": 398,
   "metadata": {},
   "outputs": [],
   "source": [
    "# preprocess covid/noncovid images\n",
    "covid_pred_images = normalize_images(d_pred, \"model_images/\")"
   ]
  },
  {
   "cell_type": "markdown",
   "metadata": {},
   "source": [
    "### Augmentation"
   ]
  },
  {
   "cell_type": "code",
   "execution_count": 399,
   "metadata": {},
   "outputs": [],
   "source": [
    "covid_pred_images_aug, pred_targets = augment_images(covid_pred_images, d_pred['target'])"
   ]
  },
  {
   "cell_type": "markdown",
   "metadata": {},
   "source": [
    "### Train Prediction Model"
   ]
  },
  {
   "cell_type": "code",
   "execution_count": 400,
   "metadata": {},
   "outputs": [],
   "source": [
    "# split data\n",
    "x_train, x_test, y_train, y_test = train_test_split(covid_pred_images_aug, pred_targets, test_size=0.20, random_state=2)\n",
    "x_train, x_val, y_train, y_val = train_test_split(x_train, y_train, test_size=0.20, random_state=2)\n",
    "y_train = np.asarray(y_train)\n",
    "y_val = np.asarray(y_val)\n",
    "y_test = np.asarray(y_test)"
   ]
  },
  {
   "cell_type": "code",
   "execution_count": 401,
   "metadata": {},
   "outputs": [
    {
     "name": "stdout",
     "output_type": "stream",
     "text": [
      "Model: \"sequential_92\"\n",
      "_________________________________________________________________\n",
      "Layer (type)                 Output Shape              Param #   \n",
      "=================================================================\n",
      "conv2d_126 (Conv2D)          (None, 96, 96, 32)        896       \n",
      "_________________________________________________________________\n",
      "conv2d_127 (Conv2D)          (None, 96, 96, 64)        18496     \n",
      "_________________________________________________________________\n",
      "max_pooling2d_76 (MaxPooling (None, 48, 48, 64)        0         \n",
      "_________________________________________________________________\n",
      "conv2d_128 (Conv2D)          (None, 48, 48, 64)        36928     \n",
      "_________________________________________________________________\n",
      "conv2d_129 (Conv2D)          (None, 48, 48, 64)        36928     \n",
      "_________________________________________________________________\n",
      "max_pooling2d_77 (MaxPooling (None, 24, 24, 64)        0         \n",
      "_________________________________________________________________\n",
      "conv2d_130 (Conv2D)          (None, 24, 24, 64)        36928     \n",
      "_________________________________________________________________\n",
      "conv2d_131 (Conv2D)          (None, 24, 24, 64)        36928     \n",
      "_________________________________________________________________\n",
      "max_pooling2d_78 (MaxPooling (None, 12, 12, 64)        0         \n",
      "_________________________________________________________________\n",
      "conv2d_132 (Conv2D)          (None, 12, 12, 64)        36928     \n",
      "_________________________________________________________________\n",
      "conv2d_133 (Conv2D)          (None, 12, 12, 64)        36928     \n",
      "_________________________________________________________________\n",
      "flatten_37 (Flatten)         (None, 9216)              0         \n",
      "_________________________________________________________________\n",
      "dense_186 (Dense)            (None, 64)                589888    \n",
      "_________________________________________________________________\n",
      "dropout_64 (Dropout)         (None, 64)                0         \n",
      "_________________________________________________________________\n",
      "dense_187 (Dense)            (None, 3)                 195       \n",
      "=================================================================\n",
      "Total params: 831,043\n",
      "Trainable params: 590,083\n",
      "Non-trainable params: 240,960\n",
      "_________________________________________________________________\n"
     ]
    }
   ],
   "source": [
    "base_model = tf.keras.models.load_model('basemodel_aug/')\n",
    "pred_model = models.Sequential()\n",
    "\n",
    "# add all layers except densely connected to new model\n",
    "for layer in base_model.layers[:-2]:\n",
    "    layer.trainable = False\n",
    "    pred_model.add(layer)\n",
    "\n",
    "# add new dense layers on top of old model\n",
    "#covid_model.add(layers.Dense(64, activation='relu'))\n",
    "pred_model.add(layers.Dense(64, activation='relu'))\n",
    "pred_model.add(layers.Dropout(0.5))\n",
    "pred_model.add(layers.Dense(3, activation='softmax'))\n",
    "\n",
    "pred_model.summary()"
   ]
  },
  {
   "cell_type": "code",
   "execution_count": 402,
   "metadata": {},
   "outputs": [],
   "source": [
    "# set new low learning rate for fine-tuning\n",
    "opt = tf.keras.optimizers.Adam(lr=0.001)\n",
    "pred_model.compile(optimizer=opt,\n",
    "                    loss=tf.keras.losses.SparseCategoricalCrossentropy(from_logits=True),\n",
    "                    metrics=['accuracy'])"
   ]
  },
  {
   "cell_type": "code",
   "execution_count": 403,
   "metadata": {},
   "outputs": [
    {
     "name": "stdout",
     "output_type": "stream",
     "text": [
      "Epoch 1/10\n",
      "83/83 [==============================] - 13s 156ms/step - loss: 0.9168 - accuracy: 0.6214 - val_loss: 0.8655 - val_accuracy: 0.6606\n",
      "Epoch 2/10\n",
      "83/83 [==============================] - 13s 161ms/step - loss: 0.8122 - accuracy: 0.7433 - val_loss: 0.8070 - val_accuracy: 0.7406\n",
      "Epoch 3/10\n",
      "83/83 [==============================] - 14s 166ms/step - loss: 0.7594 - accuracy: 0.7984 - val_loss: 0.7899 - val_accuracy: 0.7526\n",
      "Epoch 4/10\n",
      "83/83 [==============================] - 13s 157ms/step - loss: 0.7281 - accuracy: 0.8294 - val_loss: 0.7823 - val_accuracy: 0.7662\n",
      "Epoch 5/10\n",
      "83/83 [==============================] - 14s 163ms/step - loss: 0.7018 - accuracy: 0.8569 - val_loss: 0.7623 - val_accuracy: 0.7813\n",
      "Epoch 6/10\n",
      "83/83 [==============================] - 13s 159ms/step - loss: 0.6906 - accuracy: 0.8656 - val_loss: 0.7609 - val_accuracy: 0.7843\n",
      "Epoch 7/10\n",
      "83/83 [==============================] - 13s 157ms/step - loss: 0.6713 - accuracy: 0.8856 - val_loss: 0.7530 - val_accuracy: 0.7934\n",
      "Epoch 00007: early stopping\n"
     ]
    }
   ],
   "source": [
    "pred_history = pred_model.fit(x_train, y_train, epochs=10,\n",
    "                              validation_data=(x_val, y_val),\n",
    "                             callbacks=callbacks)"
   ]
  },
  {
   "cell_type": "code",
   "execution_count": 404,
   "metadata": {},
   "outputs": [
    {
     "name": "stdout",
     "output_type": "stream",
     "text": [
      "26/26 - 3s - loss: 0.7549 - accuracy: 0.7874\n"
     ]
    },
    {
     "data": {
      "image/png": "[encoded data removed]",
      "text/plain": [
       "<Figure size 1440x576 with 2 Axes>"
      ]
     },
     "metadata": {
      "needs_background": "light"
     },
     "output_type": "display_data"
    }
   ],
   "source": [
    "fig, axs = plt.subplots(1, 2, figsize=(20, 8))\n",
    "\n",
    "axs[0].plot(pred_history.history['accuracy'], label='training accuracy')\n",
    "axs[0].plot(pred_history.history['val_accuracy'], label = 'val accuracy')\n",
    "axs[0].set_xlabel('Epoch')\n",
    "axs[0].set_ylabel('Accuracy')\n",
    "axs[0].set_title('Covid Transfer Learning CNN Accuracy - Prediction')\n",
    "axs[0].set_ylim([0.5, 1])\n",
    "axs[0].legend(loc='lower right')\n",
    "\n",
    "axs[1].plot(pred_history.history['loss'], label='training loss')\n",
    "axs[1].plot(pred_history.history['val_loss'], label = 'val loss')\n",
    "axs[1].set_xlabel('Epoch')\n",
    "axs[1].set_ylabel('Loss')\n",
    "axs[1].set_title('Covid Transfer Learning CNN Loss - Prediction')\n",
    "axs[1].set_ylim([0, 1])\n",
    "axs[1].legend(loc='lower right')\n",
    "\n",
    "test_loss, test_acc = pred_model.evaluate(x_test, y_test, verbose=2)"
   ]
  },
  {
   "cell_type": "markdown",
   "metadata": {},
   "source": [
    "# Part 5: "
   ]
  },
  {
   "cell_type": "code",
   "execution_count": null,
   "metadata": {},
   "outputs": [],
   "source": [
    "def graph_correlation(images, targets, classes):\n",
    "    reshaped_images = np.empty((len(targets), img_dim * img_dim * 2))\n",
    "    for i in range(len(targets)):\n",
    "    reshaped_images[i] = images[i].ravel()\n",
    "\n",
    "     pca = PCA(n_components=2)\n",
    "    redData = pca.fit_transform(reshaped_images)\n",
    "    # append target values to reduced data\n",
    "    redData = np.append(redData, np.asarray(targets).reshape(-1, 1), axis=1)\n",
    "     # create scatter plot of reduced data\n",
    "    # add scatter plot for each of the target values\n",
    "    for curr in classes:\n",
    "    currClass = np.where(np.asarray(d['target']) == curr)\n",
    "    plt.scatter(redData[:, 0][currClass], redData[:, 1][currClass])\n",
    "    plt.legend(classes)\n"
   ]
  },
  {
   "cell_type": "code",
   "execution_count": null,
   "metadata": {},
   "outputs": [],
   "source": [
    "print(\"covid/healthy default\")\n",
    "graph_correlation(covid_images, d['target'], [0, 1])"
   ]
  }
 ],
 "metadata": {
  "kernelspec": {
   "display_name": "Python 3",
   "language": "python",
   "name": "python3"
  },
  "language_info": {
   "codemirror_mode": {
    "name": "ipython",
    "version": 3
   },
   "file_extension": ".py",
   "mimetype": "text/x-python",
   "name": "python",
   "nbconvert_exporter": "python",
   "pygments_lexer": "ipython3",
   "version": "3.8.3"
  }
 },
 "nbformat": 4,
 "nbformat_minor": 4
}
