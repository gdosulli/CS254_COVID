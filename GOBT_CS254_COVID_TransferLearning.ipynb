{
 "cells": [
  {
   "cell_type": "markdown",
   "metadata": {},
   "source": [
    "Imports"
   ]
  },
  {
   "cell_type": "code",
   "execution_count": 1,
   "metadata": {},
   "outputs": [],
   "source": [
    "import os\n",
    "import csv\n",
    "import pandas as pd\n",
    "import numpy as np\n",
    "import matplotlib.pyplot as plt\n",
    "import tensorflow as tf\n",
    "from tensorflow.keras import datasets, layers, models\n",
    "\n",
    "from sklearn.model_selection import train_test_split, KFold\n",
    "from sklearn.metrics import confusion_matrix\n",
    "from sklearn.utils import shuffle\n",
    "from PIL import Image"
   ]
  },
  {
   "cell_type": "markdown",
   "metadata": {},
   "source": [
    "# Part 0: Load in pneumonia/healthy data to train CNN on\n",
    "\n",
    "We will be training a CNN with a large pneumonia/healthy chest x-ray dataset and use transfer learning to train it for COVID/Non-COVID"
   ]
  },
  {
   "cell_type": "code",
   "execution_count": 37,
   "metadata": {},
   "outputs": [],
   "source": [
    "init_d = {'filename': [], 'target': []}\n",
    "\n",
    "# format: (file location, healthy/pneumonia(0/1))\n",
    "files = [('train/Normal', 0), \n",
    "         ('train/Pneumonia', 1),\n",
    "         ('test/Normal', 0), \n",
    "         ('test/Pneumonia', 1),\n",
    "         ('val/Normal', 0), \n",
    "         ('val/Pneumonia', 1),]\n",
    "\n",
    "for file in files:\n",
    "    dir_path = os.path.abspath(os.getcwd())\n",
    "    dir_path = dir_path + \"/chest_xray/\" + file[0]\n",
    "    list = os.listdir(dir_path)\n",
    "    for pic in list:\n",
    "        if '.DS_Store' not in pic:\n",
    "            init_d['filename'].append(pic)\n",
    "            init_d['target'].append(file[1])"
   ]
  },
  {
   "cell_type": "markdown",
   "metadata": {},
   "source": [
    "# Part 1: Preprocessing for images\n",
    "Load in images for the corresponding target data with PIL. Reformat all images to the same dimensions and convert them to a numpy array for the models to use (where each is a (# pixels, # pixels) array)."
   ]
  },
  {
   "cell_type": "code",
   "execution_count": 41,
   "metadata": {},
   "outputs": [],
   "source": [
    "# Load in image data from filenames with PIL\n",
    "img_dim = 128\n",
    "def normalize_images(d, curr_dir):\n",
    "    \"\"\"normalize all images inside dictionary\"\"\"\n",
    "    images = np.empty((len(d['target']), img_dim, img_dim, 2))\n",
    "\n",
    "    for i in range(len(d['filename'])):\n",
    "        image = Image.open(curr_dir + d['filename'][i])\n",
    "\n",
    "        # resize image shape\n",
    "        image = image.resize((img_dim, img_dim))\n",
    "\n",
    "        # convert to grayscale\n",
    "        image = image.convert('LA')\n",
    "\n",
    "        images[i] = np.array(image)\n",
    "\n",
    "    # normalize values\n",
    "    images = images / 255.0\n",
    "    return images"
   ]
  },
  {
   "cell_type": "code",
   "execution_count": 42,
   "metadata": {},
   "outputs": [],
   "source": [
    "# get train/test/val images\n",
    "images = normalize_images(init_d, \"chest_xray/pooled_imgs/\")"
   ]
  },
  {
   "cell_type": "markdown",
   "metadata": {},
   "source": [
    "# Part 2: Train Pneumonia/Healthy Classifier with CNN"
   ]
  },
  {
   "cell_type": "code",
   "execution_count": 43,
   "metadata": {},
   "outputs": [],
   "source": [
    "# split data\n",
    "x_train, x_test, y_train, y_test = train_test_split(images, init_d['target'], test_size=0.25, random_state=0)\n",
    "y_train = np.asarray(y_train)\n",
    "y_test = np.asarray(y_test)"
   ]
  },
  {
   "cell_type": "code",
   "execution_count": 44,
   "metadata": {},
   "outputs": [],
   "source": [
    "# build model for convolutional network\n",
    "cnn_model = models.Sequential()\n",
    "cnn_model.add(layers.Conv2D(32, (3, 3), activation='relu', input_shape=(img_dim, img_dim, 2)))\n",
    "cnn_model.add(layers.MaxPooling2D((2, 2)))\n",
    "cnn_model.add(layers.Conv2D(64, (3, 3), activation='relu'))\n",
    "cnn_model.add(layers.MaxPooling2D((2, 2)))\n",
    "cnn_model.add(layers.Conv2D(64, (3, 3), activation='relu'))\n",
    "\n",
    "# add more layers\n",
    "cnn_model.add(layers.Flatten())\n",
    "cnn_model.add(layers.Dense(64, activation='relu'))\n",
    "cnn_model.add(layers.Dense(2))\n",
    "\n",
    "# compile \n",
    "cnn_model.compile(optimizer='adam',\n",
    "                  loss=tf.keras.losses.SparseCategoricalCrossentropy(from_logits=True),\n",
    "                  metrics=['accuracy'])"
   ]
  },
  {
   "cell_type": "code",
   "execution_count": 46,
   "metadata": {},
   "outputs": [
    {
     "name": "stdout",
     "output_type": "stream",
     "text": [
      "Epoch 1/10\n",
      "138/138 [==============================] - 33s 242ms/step - loss: 0.2980 - accuracy: 0.8739 - val_loss: 0.2050 - val_accuracy: 0.9290\n",
      "Epoch 2/10\n",
      "138/138 [==============================] - 33s 236ms/step - loss: 0.1862 - accuracy: 0.9258 - val_loss: 0.1775 - val_accuracy: 0.9337\n",
      "Epoch 3/10\n",
      "138/138 [==============================] - 36s 259ms/step - loss: 0.1649 - accuracy: 0.9347 - val_loss: 0.1643 - val_accuracy: 0.9419\n",
      "Epoch 4/10\n",
      "138/138 [==============================] - 38s 277ms/step - loss: 0.1535 - accuracy: 0.9435 - val_loss: 0.1660 - val_accuracy: 0.9385\n",
      "Epoch 5/10\n",
      "138/138 [==============================] - 35s 255ms/step - loss: 0.1308 - accuracy: 0.9520 - val_loss: 0.1497 - val_accuracy: 0.9495\n",
      "Epoch 6/10\n",
      "138/138 [==============================] - 34s 248ms/step - loss: 0.1180 - accuracy: 0.9579 - val_loss: 0.1350 - val_accuracy: 0.9542\n",
      "Epoch 7/10\n",
      "138/138 [==============================] - 35s 251ms/step - loss: 0.1052 - accuracy: 0.9590 - val_loss: 0.1591 - val_accuracy: 0.9460\n",
      "Epoch 8/10\n",
      "138/138 [==============================] - 38s 278ms/step - loss: 0.0908 - accuracy: 0.9661 - val_loss: 0.1484 - val_accuracy: 0.9460\n",
      "Epoch 9/10\n",
      "138/138 [==============================] - 39s 285ms/step - loss: 0.0904 - accuracy: 0.9672 - val_loss: 0.1598 - val_accuracy: 0.9508\n",
      "Epoch 10/10\n",
      "138/138 [==============================] - 37s 270ms/step - loss: 0.0666 - accuracy: 0.9756 - val_loss: 0.1554 - val_accuracy: 0.9419\n"
     ]
    }
   ],
   "source": [
    "history = cnn_model.fit(x_train, y_train, epochs=10,\n",
    "                       validation_data=(x_test, y_test))"
   ]
  },
  {
   "cell_type": "markdown",
   "metadata": {},
   "source": [
    "# Part 3: Load in COVID Data\n",
    "\n",
    "Read in csv of metadata for the images and select target data. For our target data we are selecting COVID/Non-COVID, Survival, Intubation, and Admission to the ICU - resulting in 28 classes where class 0 = Non-COVID and class > 0 is COVID and some unique combination of the classes above. For the initial training and testing of this data, any class > 0 we set to 1 to train a binary classifier for COVID/Non-COVID"
   ]
  },
  {
   "cell_type": "code",
   "execution_count": 49,
   "metadata": {},
   "outputs": [
    {
     "name": "stdout",
     "output_type": "stream",
     "text": [
      "[792, 8, 6, 0, 0, 96, 0, 6, 12, 158, 16, 16, 4, 0, 2, 2, 0, 0, 36, 90, 62, 16, 0, 18, 0, 10, 450, 0]\n"
     ]
    }
   ],
   "source": [
    "data = []\n",
    "with open(\"metadata.csv\") as file:\n",
    "    for row in csv.reader(file):\n",
    "        data.append(row)\n",
    "\n",
    "data = data[1:]\n",
    "\n",
    "d = {'filename': [], 'target': []}\n",
    "\n",
    "for image in data:\n",
    "    # skip volume data\n",
    "    if image[22] == \"volumes\":\n",
    "        continue\n",
    "    \n",
    "    # ignore CT scan data\n",
    "    if image[19] == \"CT\":\n",
    "        continue\n",
    "    \n",
    "    diagnosis = image[4].split(\"/\")\n",
    "    diagnosis = diagnosis[len(diagnosis) - 1].lower()\n",
    "    # set target based on meta data\n",
    "    if diagnosis != \"covid-19\":\n",
    "        if diagnosis == \"todo\":\n",
    "            # if not classified yet target = -1\n",
    "            # d['filename'].append(image[23])\n",
    "            # d['target'].append(-1)\n",
    "            # ignore unknown data\n",
    "            continue\n",
    "        else:\n",
    "            # if not COVID-19 target = 0\n",
    "            d['filename'].append(image[23])\n",
    "            d['target'].append(0)\n",
    "    else:\n",
    "        # if it is COVID-19\n",
    "        if image[6] == \"Y\":\n",
    "            # if they survived\n",
    "            if image[7] == \"Y\":\n",
    "                # if they were intubated\n",
    "                if image[8] == \"Y\":\n",
    "                    # if they were put in the icu\n",
    "                    d['filename'].append(image[23])\n",
    "                    d['target'].append(1)\n",
    "                elif image[8] == \"N\":\n",
    "                    # if they were not put in the icu\n",
    "                    d['filename'].append(image[23])\n",
    "                    d['target'].append(2)\n",
    "                else:\n",
    "                    # if they were put in the icu is unknown\n",
    "                    d['filename'].append(image[23])\n",
    "                    d['target'].append(3)\n",
    "            elif image[7] == \"N\":\n",
    "                # if they were not intubated\n",
    "                if image[8] == \"Y\":\n",
    "                    # if they were put in the icu\n",
    "                    d['filename'].append(image[23])\n",
    "                    d['target'].append(4)\n",
    "                elif image[8] == \"N\":\n",
    "                    # if they were not put in the icu\n",
    "                    d['filename'].append(image[23])\n",
    "                    d['target'].append(5)\n",
    "                else:\n",
    "                    # if they were put in the icu is unknown\n",
    "                    d['filename'].append(image[23])\n",
    "                    d['target'].append(6)\n",
    "            else:\n",
    "                # if they were intubated is unknown\n",
    "                if image[8] == \"Y\":\n",
    "                    # if they were put in the icu\n",
    "                    d['filename'].append(image[23])\n",
    "                    d['target'].append(7)\n",
    "                elif image[8] == \"N\":\n",
    "                    # if they were not put in the icu\n",
    "                    d['filename'].append(image[23])\n",
    "                    d['target'].append(8)\n",
    "                else:\n",
    "                    # if they were put in the icu is unknown\n",
    "                    d['filename'].append(image[23])\n",
    "                    d['target'].append(9)\n",
    "        elif image[6] == \"N\":\n",
    "            # if they did not survive\n",
    "            if image[7] == \"Y\":\n",
    "                # if they were intubated\n",
    "                if image[8] == \"Y\":\n",
    "                    # if they were put in the icu\n",
    "                    d['filename'].append(image[23])\n",
    "                    d['target'].append(10)\n",
    "                elif image[8] == \"N\":\n",
    "                    # if they were not put in the icu\n",
    "                    d['filename'].append(image[23])\n",
    "                    d['target'].append(11)\n",
    "                else:\n",
    "                    # if they were put in the icu is unknown\n",
    "                    d['filename'].append(image[23])\n",
    "                    d['target'].append(12)\n",
    "            elif image[7] == \"N\":\n",
    "                # if they were not intubated\n",
    "                if image[8] == \"Y\":\n",
    "                    # if they were put in the icu\n",
    "                    d['filename'].append(image[23])\n",
    "                    d['target'].append(13)\n",
    "                elif image[8] == \"N\":\n",
    "                    # if they were not put in the icu\n",
    "                    d['filename'].append(image[23])\n",
    "                    d['target'].append(14)\n",
    "                else:\n",
    "                    # if they were put in the icu is unknown\n",
    "                    d['filename'].append(image[23])\n",
    "                    d['target'].append(15)\n",
    "            else:\n",
    "                # if they were intubated is unknown\n",
    "                if image[8] == \"Y\":\n",
    "                    # if they were put in the icu\n",
    "                    d['filename'].append(image[23])\n",
    "                    d['target'].append(16)\n",
    "                elif image[8] == \"N\":\n",
    "                    # if they were not put in the icu\n",
    "                    d['filename'].append(image[23])\n",
    "                    d['target'].append(17)\n",
    "                else:\n",
    "                    # if they were put in the icu is unknown\n",
    "                    d['filename'].append(image[23])\n",
    "                    d['target'].append(18)\n",
    "        else:\n",
    "            # if their survival is unknown\n",
    "            if image[7] == \"Y\":\n",
    "                # if they were intubated\n",
    "                if image[8] == \"Y\":\n",
    "                    # if they were put in the icu\n",
    "                    d['filename'].append(image[23])\n",
    "                    d['target'].append(19)\n",
    "                elif image[8] == \"N\":\n",
    "                    # if they were not put in the icu\n",
    "                    d['filename'].append(image[23])\n",
    "                    d['target'].append(20)\n",
    "                else:\n",
    "                    # if they were put in the icu is unknown\n",
    "                    d['filename'].append(image[23])\n",
    "                    d['target'].append(21)\n",
    "            elif image[7] == \"N\":\n",
    "                # if they were not intubated\n",
    "                if image[8] == \"Y\":\n",
    "                    # if they were put in the icu\n",
    "                    d['filename'].append(image[23])\n",
    "                    d['target'].append(22)\n",
    "                elif image[8] == \"N\":\n",
    "                    # if they were not put in the icu\n",
    "                    d['filename'].append(image[23])\n",
    "                    d['target'].append(23)\n",
    "                else:\n",
    "                    # if they were put in the icu is unknown\n",
    "                    d['filename'].append(image[23])\n",
    "                    d['target'].append(23)\n",
    "            else:\n",
    "                # if they were intubated is unknown\n",
    "                if image[8] == \"Y\":\n",
    "                    # if they were put in the icu\n",
    "                    d['filename'].append(image[23])\n",
    "                    d['target'].append(24)\n",
    "                elif image[8] == \"N\":\n",
    "                    # if they were not put in the icu\n",
    "                    d['filename'].append(image[23])\n",
    "                    d['target'].append(25)\n",
    "                else:\n",
    "                    # if they were put in the icu is unknown\n",
    "                    d['filename'].append(image[23])\n",
    "                    d['target'].append(26)\n",
    "\n",
    "for target in d['target']:\n",
    "    if target == -1:\n",
    "        total[27] += 1\n",
    "    else:\n",
    "        total[target] += 1\n",
    "\n",
    "# set up binary classification (covid vs non-covid)\n",
    "# all targets > 0 are covid\n",
    "for i in range(len(d['target'])):\n",
    "    if d['target'][i] > 0:\n",
    "        d['target'][i] = 1\n",
    "\n",
    "print(total)\n",
    "#print(d)\n",
    "\n",
    "file.close()\n"
   ]
  },
  {
   "cell_type": "code",
   "execution_count": 50,
   "metadata": {},
   "outputs": [],
   "source": [
    "# preprocess covid/noncovid images\n",
    "covid_images = normalize_images(d, \"model_images/\")"
   ]
  },
  {
   "cell_type": "markdown",
   "metadata": {},
   "source": [
    "# Part 2: Train COVID/Non-COVID with Transfer Learning"
   ]
  },
  {
   "cell_type": "code",
   "execution_count": 52,
   "metadata": {},
   "outputs": [],
   "source": [
    "# split data\n",
    "x_train, x_test, y_train, y_test = train_test_split(covid_images, d['target'], test_size=0.25, random_state=0)\n",
    "y_train = np.asarray(y_train)\n",
    "y_test = np.asarray(y_test)"
   ]
  },
  {
   "cell_type": "code",
   "execution_count": 53,
   "metadata": {},
   "outputs": [
    {
     "name": "stdout",
     "output_type": "stream",
     "text": [
      "Epoch 1/10\n",
      "19/19 [==============================] - 4s 216ms/step - loss: 0.8365 - accuracy: 0.6082 - val_loss: 0.6687 - val_accuracy: 0.6327\n",
      "Epoch 2/10\n",
      "19/19 [==============================] - 4s 212ms/step - loss: 0.6590 - accuracy: 0.6440 - val_loss: 0.6584 - val_accuracy: 0.6327\n",
      "Epoch 3/10\n",
      "19/19 [==============================] - 4s 218ms/step - loss: 0.6427 - accuracy: 0.6440 - val_loss: 0.6408 - val_accuracy: 0.6582\n",
      "Epoch 4/10\n",
      "19/19 [==============================] - 4s 230ms/step - loss: 0.6104 - accuracy: 0.6797 - val_loss: 0.6869 - val_accuracy: 0.6378\n",
      "Epoch 5/10\n",
      "19/19 [==============================] - 4s 222ms/step - loss: 0.5990 - accuracy: 0.6899 - val_loss: 0.6256 - val_accuracy: 0.6735\n",
      "Epoch 6/10\n",
      "19/19 [==============================] - 4s 223ms/step - loss: 0.5671 - accuracy: 0.7053 - val_loss: 0.5879 - val_accuracy: 0.6837\n",
      "Epoch 7/10\n",
      "19/19 [==============================] - 4s 229ms/step - loss: 0.5397 - accuracy: 0.7308 - val_loss: 0.6272 - val_accuracy: 0.6939\n",
      "Epoch 8/10\n",
      "19/19 [==============================] - 4s 233ms/step - loss: 0.5435 - accuracy: 0.7394 - val_loss: 0.6160 - val_accuracy: 0.7296\n",
      "Epoch 9/10\n",
      "19/19 [==============================] - 4s 223ms/step - loss: 0.5410 - accuracy: 0.7376 - val_loss: 0.5589 - val_accuracy: 0.7092\n",
      "Epoch 10/10\n",
      "19/19 [==============================] - 4s 223ms/step - loss: 0.4850 - accuracy: 0.7734 - val_loss: 0.5543 - val_accuracy: 0.7449\n"
     ]
    }
   ],
   "source": [
    "covid_history = cnn_model.fit(x_train, y_train, epochs=10,\n",
    "                              validation_data=(x_test, y_test))"
   ]
  },
  {
   "cell_type": "code",
   "execution_count": null,
   "metadata": {},
   "outputs": [],
   "source": []
  }
 ],
 "metadata": {
  "kernelspec": {
   "display_name": "Python 3",
   "language": "python",
   "name": "python3"
  },
  "language_info": {
   "codemirror_mode": {
    "name": "ipython",
    "version": 3
   },
   "file_extension": ".py",
   "mimetype": "text/x-python",
   "name": "python",
   "nbconvert_exporter": "python",
   "pygments_lexer": "ipython3",
   "version": "3.8.3"
  }
 },
 "nbformat": 4,
 "nbformat_minor": 4
}
