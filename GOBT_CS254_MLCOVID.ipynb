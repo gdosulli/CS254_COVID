{
 "cells": [
  {
   "cell_type": "markdown",
   "metadata": {},
   "source": [
    "#### Imports"
   ]
  },
  {
   "cell_type": "code",
   "execution_count": 40,
   "metadata": {},
   "outputs": [],
   "source": [
    "import os\n",
    "import csv\n",
    "import pandas as pd\n",
    "import numpy as np\n",
    "import matplotlib.pyplot as plt\n",
    "import tensorflow as tf\n",
    "import seaborn as sns\n",
    "from tensorflow.keras import datasets, layers, models\n",
    "\n",
    "from sklearn.model_selection import train_test_split, KFold\n",
    "from sklearn.metrics import confusion_matrix, roc_curve, auc, classification_report, precision_recall_curve\n",
    "from sklearn.utils import shuffle\n",
    "from PIL import Image"
   ]
  },
  {
   "cell_type": "markdown",
   "metadata": {},
   "source": [
    "## Methods for Experiments"
   ]
  },
  {
   "cell_type": "code",
   "execution_count": 9,
   "metadata": {},
   "outputs": [],
   "source": [
    "def get_distr(targets, labels):\n",
    "    vals = {}\n",
    "    for label in labels.keys():\n",
    "        vals[label] = 0\n",
    "    \n",
    "    for target in targets:\n",
    "        vals[target] += 1\n",
    "    \n",
    "    fig = plt.figure()\n",
    "    ax = fig.add_axes([0,0,1,1])\n",
    "    langs = labels.values()\n",
    "    students = vals.values()\n",
    "    ax.bar(langs,students)\n",
    "    plt.show()"
   ]
  },
  {
   "cell_type": "code",
   "execution_count": 55,
   "metadata": {},
   "outputs": [],
   "source": [
    "def plot_ROC(y_test, y_pred, title):\n",
    "    fpr, tpr, thresholds = roc_curve(y_test, y_pred)\n",
    "    auc_val = auc(fpr, tpr)\n",
    "    plt.plot(fpr,tpr) \n",
    "    plt.plot([0, 1], [0, 1], linestyle='dashed')\n",
    "    plt.axis([-0.05, 1.05, -0.05, 1.05])\n",
    "    plt.xlabel('False Positive Rate') \n",
    "    plt.ylabel('True Positive Rate') \n",
    "    title += \"\\nAUC: \" + str(round(auc_val, 4))\n",
    "    plt.title(title)\n",
    "    plt.show()"
   ]
  },
  {
   "cell_type": "code",
   "execution_count": 13,
   "metadata": {},
   "outputs": [],
   "source": [
    "def plot_cm(y_test, y_pred, title):\n",
    "    cm = confusion_matrix(y_test, y_pred)\n",
    "    cm_df = pd.DataFrame(cm)\n",
    "    sns.heatmap(cm, annot=True, cmap=plt.cm.Blues, fmt=\"d\")\n",
    "    plt.imshow(cm)\n",
    "    plt.xlabel(\"Predicted Label\")\n",
    "    plt.ylabel(\"True Label\")\n",
    "    plt.title(title)"
   ]
  },
  {
   "cell_type": "code",
   "execution_count": 61,
   "metadata": {},
   "outputs": [],
   "source": [
    "def plot_pr(y_test, y_pred, title):\n",
    "    new_pred = []\n",
    "    for val in y_pred:\n",
    "        if val >= 0.5:\n",
    "            new_pred.append(val)\n",
    "        else:\n",
    "            new_pred.append(0)\n",
    "    prec, recall, _ = precision_recall_curve(y_test, new_pred)\n",
    "    plt.plot(recall, prec)\n",
    "    plt.ylim([0, 1])\n",
    "    plt.xlabel(\"Recall\")\n",
    "    plt.ylabel(\"Precision\")\n",
    "    plt.title(title + \" Precision vs Recall\")"
   ]
  },
  {
   "cell_type": "code",
   "execution_count": 21,
   "metadata": {},
   "outputs": [],
   "source": [
    "def convert_pred(y_pred, threshold):\n",
    "    new_pred = np.empty((y_pred.size), dtype='int32')\n",
    "    for i in range(y_pred.size):\n",
    "        if y_pred[i] >= threshold:\n",
    "            new_pred[i] = 1\n",
    "        else:\n",
    "            new_pred[i] = 0\n",
    "    \n",
    "    return new_pred"
   ]
  },
  {
   "cell_type": "markdown",
   "metadata": {},
   "source": [
    "# Part 0: Load in csv data and format it to images and target data\n",
    "\n",
    "Read in csv of metadata for the images and select target data. For our target data we are selecting COVID/Non-COVID, Survival, Intubation, and Admission to the ICU - resulting in 28 classes where class 0 = Non-COVID and class > 0 is COVID and some unique combination of the classes above. For the initial training and testing of this data, any class > 0 we set to 1 to train a binary classifier for COVID/Non-COVID"
   ]
  },
  {
   "cell_type": "code",
   "execution_count": 3,
   "metadata": {},
   "outputs": [
    {
     "name": "stdout",
     "output_type": "stream",
     "text": [
      "[513, 4, 3, 0, 0, 48, 0, 3, 6, 79, 8, 8, 2, 0, 1, 1, 0, 0, 18, 45, 31, 8, 0, 9, 0, 5, 225, 0]\n"
     ]
    }
   ],
   "source": [
    "data = []\n",
    "with open(\"metadata.csv\") as file:\n",
    "    for row in csv.reader(file):\n",
    "        data.append(row)\n",
    "\n",
    "data = data[1:]\n",
    "\n",
    "d = {'filename': [], 'target': []}\n",
    "\n",
    "for image in data:\n",
    "    # skip volume data\n",
    "    if image[22] == \"volumes\":\n",
    "        continue\n",
    "    \n",
    "    # ignore CT scan data\n",
    "    if image[19] == \"CT\":\n",
    "        continue\n",
    "    \n",
    "    diagnosis = image[4].split(\"/\")\n",
    "    diagnosis = diagnosis[len(diagnosis) - 1].lower()\n",
    "    # set target based on meta data\n",
    "    if diagnosis != \"covid-19\":\n",
    "        if diagnosis == \"todo\":\n",
    "            # if not classified yet target = -1\n",
    "            # d['filename'].append(image[23])\n",
    "            # d['target'].append(-1)\n",
    "            # ignore unknown data\n",
    "            continue\n",
    "        else:\n",
    "            # if not COVID-19 target = 0\n",
    "            d['filename'].append(image[23])\n",
    "            d['target'].append(0)\n",
    "    else:\n",
    "        # if it is COVID-19\n",
    "        if image[6] == \"Y\":\n",
    "            # if they survived\n",
    "            if image[7] == \"Y\":\n",
    "                # if they were intubated\n",
    "                if image[8] == \"Y\":\n",
    "                    # if they were put in the icu\n",
    "                    d['filename'].append(image[23])\n",
    "                    d['target'].append(1)\n",
    "                elif image[8] == \"N\":\n",
    "                    # if they were not put in the icu\n",
    "                    d['filename'].append(image[23])\n",
    "                    d['target'].append(2)\n",
    "                else:\n",
    "                    # if they were put in the icu is unknown\n",
    "                    d['filename'].append(image[23])\n",
    "                    d['target'].append(3)\n",
    "            elif image[7] == \"N\":\n",
    "                # if they were not intubated\n",
    "                if image[8] == \"Y\":\n",
    "                    # if they were put in the icu\n",
    "                    d['filename'].append(image[23])\n",
    "                    d['target'].append(4)\n",
    "                elif image[8] == \"N\":\n",
    "                    # if they were not put in the icu\n",
    "                    d['filename'].append(image[23])\n",
    "                    d['target'].append(5)\n",
    "                else:\n",
    "                    # if they were put in the icu is unknown\n",
    "                    d['filename'].append(image[23])\n",
    "                    d['target'].append(6)\n",
    "            else:\n",
    "                # if they were intubated is unknown\n",
    "                if image[8] == \"Y\":\n",
    "                    # if they were put in the icu\n",
    "                    d['filename'].append(image[23])\n",
    "                    d['target'].append(7)\n",
    "                elif image[8] == \"N\":\n",
    "                    # if they were not put in the icu\n",
    "                    d['filename'].append(image[23])\n",
    "                    d['target'].append(8)\n",
    "                else:\n",
    "                    # if they were put in the icu is unknown\n",
    "                    d['filename'].append(image[23])\n",
    "                    d['target'].append(9)\n",
    "        elif image[6] == \"N\":\n",
    "            # if they did not survive\n",
    "            if image[7] == \"Y\":\n",
    "                # if they were intubated\n",
    "                if image[8] == \"Y\":\n",
    "                    # if they were put in the icu\n",
    "                    d['filename'].append(image[23])\n",
    "                    d['target'].append(10)\n",
    "                elif image[8] == \"N\":\n",
    "                    # if they were not put in the icu\n",
    "                    d['filename'].append(image[23])\n",
    "                    d['target'].append(11)\n",
    "                else:\n",
    "                    # if they were put in the icu is unknown\n",
    "                    d['filename'].append(image[23])\n",
    "                    d['target'].append(12)\n",
    "            elif image[7] == \"N\":\n",
    "                # if they were not intubated\n",
    "                if image[8] == \"Y\":\n",
    "                    # if they were put in the icu\n",
    "                    d['filename'].append(image[23])\n",
    "                    d['target'].append(13)\n",
    "                elif image[8] == \"N\":\n",
    "                    # if they were not put in the icu\n",
    "                    d['filename'].append(image[23])\n",
    "                    d['target'].append(14)\n",
    "                else:\n",
    "                    # if they were put in the icu is unknown\n",
    "                    d['filename'].append(image[23])\n",
    "                    d['target'].append(15)\n",
    "            else:\n",
    "                # if they were intubated is unknown\n",
    "                if image[8] == \"Y\":\n",
    "                    # if they were put in the icu\n",
    "                    d['filename'].append(image[23])\n",
    "                    d['target'].append(16)\n",
    "                elif image[8] == \"N\":\n",
    "                    # if they were not put in the icu\n",
    "                    d['filename'].append(image[23])\n",
    "                    d['target'].append(17)\n",
    "                else:\n",
    "                    # if they were put in the icu is unknown\n",
    "                    d['filename'].append(image[23])\n",
    "                    d['target'].append(18)\n",
    "        else:\n",
    "            # if their survival is unknown\n",
    "            if image[7] == \"Y\":\n",
    "                # if they were intubated\n",
    "                if image[8] == \"Y\":\n",
    "                    # if they were put in the icu\n",
    "                    d['filename'].append(image[23])\n",
    "                    d['target'].append(19)\n",
    "                elif image[8] == \"N\":\n",
    "                    # if they were not put in the icu\n",
    "                    d['filename'].append(image[23])\n",
    "                    d['target'].append(20)\n",
    "                else:\n",
    "                    # if they were put in the icu is unknown\n",
    "                    d['filename'].append(image[23])\n",
    "                    d['target'].append(21)\n",
    "            elif image[7] == \"N\":\n",
    "                # if they were not intubated\n",
    "                if image[8] == \"Y\":\n",
    "                    # if they were put in the icu\n",
    "                    d['filename'].append(image[23])\n",
    "                    d['target'].append(22)\n",
    "                elif image[8] == \"N\":\n",
    "                    # if they were not put in the icu\n",
    "                    d['filename'].append(image[23])\n",
    "                    d['target'].append(23)\n",
    "                else:\n",
    "                    # if they were put in the icu is unknown\n",
    "                    d['filename'].append(image[23])\n",
    "                    d['target'].append(23)\n",
    "            else:\n",
    "                # if they were intubated is unknown\n",
    "                if image[8] == \"Y\":\n",
    "                    # if they were put in the icu\n",
    "                    d['filename'].append(image[23])\n",
    "                    d['target'].append(24)\n",
    "                elif image[8] == \"N\":\n",
    "                    # if they were not put in the icu\n",
    "                    d['filename'].append(image[23])\n",
    "                    d['target'].append(25)\n",
    "                else:\n",
    "                    # if they were put in the icu is unknown\n",
    "                    d['filename'].append(image[23])\n",
    "                    d['target'].append(26)\n",
    "\n",
    "                    \n",
    "# add normal chest xrays to data\n",
    "dir_path = os.path.abspath(os.getcwd())\n",
    "dir_path = dir_path+\"/chest_xray/test/Normal\"\n",
    "list = os.listdir(dir_path)\n",
    "for pic in list:\n",
    "    d['filename'].append(pic)\n",
    "    d['target'].append(0)\n",
    "total = [0] * 28\n",
    "\n",
    "for target in d['target']:\n",
    "    if target == -1:\n",
    "        total[27] += 1\n",
    "    else:\n",
    "        total[target] += 1\n",
    "\n",
    "# set up binary classification (covid vs non-covid)\n",
    "# all targets > 0 are covid\n",
    "for i in range(len(d['target'])):\n",
    "    if d['target'][i] > 0:\n",
    "        d['target'][i] = 1\n",
    "\n",
    "print(total)\n",
    "#print(d)\n",
    "\n",
    "file.close()\n"
   ]
  },
  {
   "cell_type": "code",
   "execution_count": 10,
   "metadata": {},
   "outputs": [
    {
     "data": {
      "image/png": "[encoded data removed]",
      "text/plain": [
       "<Figure size 432x288 with 1 Axes>"
      ]
     },
     "metadata": {
      "needs_background": "light"
     },
     "output_type": "display_data"
    }
   ],
   "source": [
    "labels = {0: \"Non COVID\", 1: \"COVID\"}\n",
    "get_distr(d['target'], labels)"
   ]
  },
  {
   "cell_type": "code",
   "execution_count": 4,
   "metadata": {},
   "outputs": [
    {
     "name": "stdout",
     "output_type": "stream",
     "text": [
      "1017\n",
      "504\n",
      "513\n"
     ]
    }
   ],
   "source": [
    "print(len(d['target']))\n",
    "print(d['target'].count(1))\n",
    "print(d['target'].count(0))"
   ]
  },
  {
   "cell_type": "markdown",
   "metadata": {},
   "source": [
    "# Part 1: Preprocessing for images\n",
    "Load in images for the corresponding target data with PIL. Reformat all images to the same dimensions and convert them to a numpy array for the models to use (where each is a (# pixels, # pixels) array)."
   ]
  },
  {
   "cell_type": "code",
   "execution_count": 5,
   "metadata": {},
   "outputs": [],
   "source": [
    "# Load in image data from filenames with PIL\n",
    "img_dim = 224\n",
    "images = np.empty((len(d['target']), img_dim, img_dim, 2))\n",
    "\n",
    "for i in range(len(d['filename'])):\n",
    "    image = Image.open(\"model_images/\" + d['filename'][i])\n",
    "    \n",
    "    # resize image shape\n",
    "    image = image.resize((img_dim, img_dim))\n",
    "    \n",
    "    # convert to grayscale\n",
    "    image = image.convert('LA')\n",
    "    \n",
    "    images[i] = np.array(image)\n",
    "\n",
    "# normalize values\n",
    "images = images / 255.0"
   ]
  },
  {
   "cell_type": "markdown",
   "metadata": {},
   "source": [
    "# Part 2: Deep Learning Classifier with Keras"
   ]
  },
  {
   "cell_type": "markdown",
   "metadata": {},
   "source": [
    "Split the data into training and testing with sklearn"
   ]
  },
  {
   "cell_type": "code",
   "execution_count": 6,
   "metadata": {},
   "outputs": [],
   "source": [
    "# split data\n",
    "x_train, x_test, y_train, y_test = train_test_split(images, d['target'], test_size=0.2, random_state=0)\n",
    "y_train = np.asarray(y_train)\n",
    "y_test = np.asarray(y_test)"
   ]
  },
  {
   "cell_type": "markdown",
   "metadata": {},
   "source": [
    "Build and compile the deep learning model"
   ]
  },
  {
   "cell_type": "code",
   "execution_count": 27,
   "metadata": {},
   "outputs": [],
   "source": [
    "# build model\n",
    "dl_model = tf.keras.Sequential([\n",
    "    tf.keras.layers.Flatten(input_shape=(img_dim,img_dim,2)),\n",
    "    tf.keras.layers.Dense(512, activation='relu'),\n",
    "    tf.keras.layers.Dense(1, activation='sigmoid')\n",
    "])\n",
    "\n",
    "# compile model\n",
    "dl_model.compile(optimizer='adam',\n",
    "              loss=tf.keras.losses.BinaryCrossentropy(),\n",
    "              metrics=['accuracy'])"
   ]
  },
  {
   "cell_type": "markdown",
   "metadata": {},
   "source": [
    "Train the model"
   ]
  },
  {
   "cell_type": "code",
   "execution_count": 28,
   "metadata": {},
   "outputs": [
    {
     "name": "stdout",
     "output_type": "stream",
     "text": [
      "Epoch 1/10\n",
      "26/26 [==============================] - 5s 181ms/step - loss: 31.4315 - accuracy: 0.5080 - val_loss: 0.6160 - val_accuracy: 0.7108\n",
      "Epoch 2/10\n",
      "26/26 [==============================] - 4s 171ms/step - loss: 0.7685 - accuracy: 0.6617 - val_loss: 0.4846 - val_accuracy: 0.7941\n",
      "Epoch 3/10\n",
      "26/26 [==============================] - 5s 176ms/step - loss: 0.8160 - accuracy: 0.6359 - val_loss: 0.6219 - val_accuracy: 0.6765\n",
      "Epoch 4/10\n",
      "26/26 [==============================] - 4s 172ms/step - loss: 0.6991 - accuracy: 0.6974 - val_loss: 0.4688 - val_accuracy: 0.7696\n",
      "Epoch 5/10\n",
      "26/26 [==============================] - 4s 173ms/step - loss: 0.6180 - accuracy: 0.6937 - val_loss: 0.7498 - val_accuracy: 0.6176\n",
      "Epoch 6/10\n",
      "26/26 [==============================] - 5s 188ms/step - loss: 0.5465 - accuracy: 0.7306 - val_loss: 0.6341 - val_accuracy: 0.6814\n",
      "Epoch 7/10\n",
      "26/26 [==============================] - 5s 190ms/step - loss: 0.5972 - accuracy: 0.7232 - val_loss: 0.4916 - val_accuracy: 0.8137\n",
      "Epoch 8/10\n",
      "26/26 [==============================] - 5s 183ms/step - loss: 0.5195 - accuracy: 0.7392 - val_loss: 0.4881 - val_accuracy: 0.7549\n",
      "Epoch 9/10\n",
      "26/26 [==============================] - 5s 187ms/step - loss: 0.5851 - accuracy: 0.7282 - val_loss: 0.5366 - val_accuracy: 0.7059\n",
      "Epoch 10/10\n",
      "26/26 [==============================] - 5s 188ms/step - loss: 0.5207 - accuracy: 0.7503 - val_loss: 0.5066 - val_accuracy: 0.7206\n"
     ]
    }
   ],
   "source": [
    "history = dl_model.fit(x_train, y_train, epochs=10,\n",
    "                   validation_data=(x_test, y_test))"
   ]
  },
  {
   "cell_type": "markdown",
   "metadata": {},
   "source": [
    "Evaluate the model with testing data"
   ]
  },
  {
   "cell_type": "code",
   "execution_count": 29,
   "metadata": {},
   "outputs": [
    {
     "name": "stdout",
     "output_type": "stream",
     "text": [
      "7/7 - 0s - loss: 0.5066 - accuracy: 0.7206\n",
      "Test Accuracy: 0.7206\n"
     ]
    },
    {
     "data": {
      "image/png": "[encoded data removed]",
      "text/plain": [
       "<Figure size 432x288 with 1 Axes>"
      ]
     },
     "metadata": {
      "needs_background": "light"
     },
     "output_type": "display_data"
    }
   ],
   "source": [
    "plt.plot(history.history['accuracy'], label='accuracy')\n",
    "plt.plot(history.history['val_accuracy'], label='val_accuracy')\n",
    "plt.xlabel('Epoch')\n",
    "plt.ylabel('Accuracy')\n",
    "plt.title('Deep Learning Classifier')\n",
    "plt.ylim([0.5, 1])\n",
    "plt.legend(loc='lower right')\n",
    "\n",
    "test_loss, test_acc = dl_model.evaluate(x_test, y_test, verbose=2)\n",
    "print(\"Test Accuracy:\", round(test_acc, 4))"
   ]
  },
  {
   "cell_type": "code",
   "execution_count": 30,
   "metadata": {},
   "outputs": [],
   "source": [
    "dly_pred = dl_model.predict(x_test)"
   ]
  },
  {
   "cell_type": "code",
   "execution_count": 32,
   "metadata": {},
   "outputs": [],
   "source": [
    "dly_pred_norm = convert_pred(dly_pred, 0.5)"
   ]
  },
  {
   "cell_type": "code",
   "execution_count": 34,
   "metadata": {},
   "outputs": [
    {
     "name": "stdout",
     "output_type": "stream",
     "text": [
      "              precision    recall  f1-score   support\n",
      "\n",
      "           0       0.68      0.85      0.76       104\n",
      "           1       0.79      0.59      0.67       100\n",
      "\n",
      "    accuracy                           0.72       204\n",
      "   macro avg       0.73      0.72      0.71       204\n",
      "weighted avg       0.73      0.72      0.72       204\n",
      "\n"
     ]
    }
   ],
   "source": [
    "print(classification_report(y_test, dly_pred_norm))"
   ]
  },
  {
   "cell_type": "code",
   "execution_count": 37,
   "metadata": {},
   "outputs": [
    {
     "data": {
      "image/png": "[encoded data removed]",
      "text/plain": [
       "<Figure size 432x288 with 2 Axes>"
      ]
     },
     "metadata": {
      "needs_background": "light"
     },
     "output_type": "display_data"
    }
   ],
   "source": [
    "plot_cm(y_test, dly_pred_norm, \"Not COVID(0)/COVID(1) - MLP\")"
   ]
  },
  {
   "cell_type": "code",
   "execution_count": 56,
   "metadata": {},
   "outputs": [
    {
     "data": {
      "image/png": "[encoded data removed]",
      "text/plain": [
       "<Figure size 432x288 with 1 Axes>"
      ]
     },
     "metadata": {
      "needs_background": "light"
     },
     "output_type": "display_data"
    }
   ],
   "source": [
    "plot_ROC(y_test, dly_pred, \"Not COVID/COVID - MLP\")"
   ]
  },
  {
   "cell_type": "code",
   "execution_count": 62,
   "metadata": {},
   "outputs": [
    {
     "data": {
      "image/png": "[encoded data removed]",
      "text/plain": [
       "<Figure size 432x288 with 1 Axes>"
      ]
     },
     "metadata": {
      "needs_background": "light"
     },
     "output_type": "display_data"
    }
   ],
   "source": [
    "\n",
    "plot_pr(y_test, dly_pred, \"Not COVID/COVID - MLP\")"
   ]
  },
  {
   "cell_type": "markdown",
   "metadata": {},
   "source": [
    "# Part 3: Classifier with a Convolution Neural Network"
   ]
  },
  {
   "cell_type": "markdown",
   "metadata": {},
   "source": [
    "Build and compile the model"
   ]
  },
  {
   "cell_type": "code",
   "execution_count": 63,
   "metadata": {},
   "outputs": [],
   "source": [
    "# build model for convolution network\n",
    "cnn_model = models.Sequential()\n",
    "cnn_model.add(layers.Conv2D(32, (3, 3), activation='relu', input_shape=(img_dim, img_dim, 2)))\n",
    "cnn_model.add(layers.MaxPooling2D((2, 2)))\n",
    "cnn_model.add(layers.Conv2D(64, (3, 3), activation='relu'))\n",
    "cnn_model.add(layers.MaxPooling2D((2, 2)))\n",
    "cnn_model.add(layers.Conv2D(64, (3, 3), activation='relu'))\n",
    "\n",
    "# add more layers\n",
    "cnn_model.add(layers.Flatten())\n",
    "cnn_model.add(layers.Dense(64, activation='relu'))\n",
    "cnn_model.add(layers.Dense(1, activation='sigmoid'))\n",
    "\n",
    "# compile \n",
    "cnn_model.compile(optimizer='adam',\n",
    "                  loss=tf.keras.losses.BinaryCrossentropy(),\n",
    "                  metrics=['accuracy'])"
   ]
  },
  {
   "cell_type": "code",
   "execution_count": 64,
   "metadata": {},
   "outputs": [
    {
     "name": "stdout",
     "output_type": "stream",
     "text": [
      "Model: \"sequential_3\"\n",
      "_________________________________________________________________\n",
      "Layer (type)                 Output Shape              Param #   \n",
      "=================================================================\n",
      "conv2d (Conv2D)              (None, 222, 222, 32)      608       \n",
      "_________________________________________________________________\n",
      "max_pooling2d (MaxPooling2D) (None, 111, 111, 32)      0         \n",
      "_________________________________________________________________\n",
      "conv2d_1 (Conv2D)            (None, 109, 109, 64)      18496     \n",
      "_________________________________________________________________\n",
      "max_pooling2d_1 (MaxPooling2 (None, 54, 54, 64)        0         \n",
      "_________________________________________________________________\n",
      "conv2d_2 (Conv2D)            (None, 52, 52, 64)        36928     \n",
      "_________________________________________________________________\n",
      "flatten_3 (Flatten)          (None, 173056)            0         \n",
      "_________________________________________________________________\n",
      "dense_6 (Dense)              (None, 64)                11075648  \n",
      "_________________________________________________________________\n",
      "dense_7 (Dense)              (None, 1)                 65        \n",
      "=================================================================\n",
      "Total params: 11,131,745\n",
      "Trainable params: 11,131,745\n",
      "Non-trainable params: 0\n",
      "_________________________________________________________________\n"
     ]
    }
   ],
   "source": [
    "cnn_model.summary()"
   ]
  },
  {
   "cell_type": "markdown",
   "metadata": {},
   "source": [
    "Train the model"
   ]
  },
  {
   "cell_type": "code",
   "execution_count": 65,
   "metadata": {
    "scrolled": true
   },
   "outputs": [
    {
     "name": "stdout",
     "output_type": "stream",
     "text": [
      "Epoch 1/10\n",
      "26/26 [==============================] - 33s 1s/step - loss: 1.2326 - accuracy: 0.5572 - val_loss: 0.6388 - val_accuracy: 0.6961\n",
      "Epoch 2/10\n",
      "26/26 [==============================] - 32s 1s/step - loss: 0.5834 - accuracy: 0.6950 - val_loss: 0.5193 - val_accuracy: 0.7647\n",
      "Epoch 3/10\n",
      "26/26 [==============================] - 30s 1s/step - loss: 0.5368 - accuracy: 0.7417 - val_loss: 0.4976 - val_accuracy: 0.7745\n",
      "Epoch 4/10\n",
      "26/26 [==============================] - 19s 740ms/step - loss: 0.5208 - accuracy: 0.7355 - val_loss: 0.4803 - val_accuracy: 0.7598\n",
      "Epoch 5/10\n",
      "26/26 [==============================] - 20s 752ms/step - loss: 0.4956 - accuracy: 0.7761 - val_loss: 0.4545 - val_accuracy: 0.8088\n",
      "Epoch 6/10\n",
      "26/26 [==============================] - 22s 829ms/step - loss: 0.4636 - accuracy: 0.7798 - val_loss: 0.4024 - val_accuracy: 0.8284\n",
      "Epoch 7/10\n",
      "26/26 [==============================] - 19s 747ms/step - loss: 0.4655 - accuracy: 0.7884 - val_loss: 0.4209 - val_accuracy: 0.8137\n",
      "Epoch 8/10\n",
      "26/26 [==============================] - 19s 747ms/step - loss: 0.4015 - accuracy: 0.8069 - val_loss: 0.4311 - val_accuracy: 0.8284\n",
      "Epoch 9/10\n",
      "26/26 [==============================] - 20s 764ms/step - loss: 0.3971 - accuracy: 0.8106 - val_loss: 0.4020 - val_accuracy: 0.8382\n",
      "Epoch 10/10\n",
      "26/26 [==============================] - 20s 782ms/step - loss: 0.3600 - accuracy: 0.8462 - val_loss: 0.4397 - val_accuracy: 0.8235\n"
     ]
    }
   ],
   "source": [
    "history = cnn_model.fit(x_train, y_train, epochs=10, \n",
    "                    validation_data=(x_test, y_test))"
   ]
  },
  {
   "cell_type": "markdown",
   "metadata": {},
   "source": [
    "Evaluate the model with testing data and plot results"
   ]
  },
  {
   "cell_type": "code",
   "execution_count": 66,
   "metadata": {},
   "outputs": [
    {
     "name": "stdout",
     "output_type": "stream",
     "text": [
      "7/7 - 1s - loss: 0.4397 - accuracy: 0.8235\n",
      "Test Accuracy: 0.8235\n"
     ]
    },
    {
     "data": {
      "image/png": "[encoded data removed]",
      "text/plain": [
       "<Figure size 432x288 with 1 Axes>"
      ]
     },
     "metadata": {
      "needs_background": "light"
     },
     "output_type": "display_data"
    }
   ],
   "source": [
    "plt.plot(history.history['accuracy'], label='accuracy')\n",
    "plt.plot(history.history['val_accuracy'], label = 'val_accuracy')\n",
    "plt.xlabel('Epoch')\n",
    "plt.ylabel('Accuracy')\n",
    "plt.title('CNN Classifier')\n",
    "plt.ylim([0.5, 1])\n",
    "plt.legend(loc='lower right')\n",
    "\n",
    "test_loss, test_acc = cnn_model.evaluate(x_test, y_test, verbose=2)\n",
    "print(\"Test Accuracy:\", round(test_acc, 4))"
   ]
  },
  {
   "cell_type": "code",
   "execution_count": 67,
   "metadata": {},
   "outputs": [],
   "source": [
    "cnny_pred = cnn_model.predict(x_test)"
   ]
  },
  {
   "cell_type": "code",
   "execution_count": 68,
   "metadata": {},
   "outputs": [],
   "source": [
    "cnny_pred_norm = convert_pred(cnny_pred, 0.5)"
   ]
  },
  {
   "cell_type": "code",
   "execution_count": 69,
   "metadata": {},
   "outputs": [
    {
     "name": "stdout",
     "output_type": "stream",
     "text": [
      "              precision    recall  f1-score   support\n",
      "\n",
      "           0       0.84      0.81      0.82       104\n",
      "           1       0.81      0.84      0.82       100\n",
      "\n",
      "    accuracy                           0.82       204\n",
      "   macro avg       0.82      0.82      0.82       204\n",
      "weighted avg       0.82      0.82      0.82       204\n",
      "\n"
     ]
    }
   ],
   "source": [
    "print(classification_report(y_test, cnny_pred_norm))"
   ]
  },
  {
   "cell_type": "code",
   "execution_count": 70,
   "metadata": {},
   "outputs": [
    {
     "data": {
      "image/png": "[encoded data removed]",
      "text/plain": [
       "<Figure size 432x288 with 2 Axes>"
      ]
     },
     "metadata": {
      "needs_background": "light"
     },
     "output_type": "display_data"
    }
   ],
   "source": [
    "plot_cm(y_test, cnny_pred_norm, \"Not COVID(0)/COVID(1) - CNN\")"
   ]
  },
  {
   "cell_type": "code",
   "execution_count": 71,
   "metadata": {},
   "outputs": [
    {
     "data": {
      "image/png": "[encoded data removed]",
      "text/plain": [
       "<Figure size 432x288 with 1 Axes>"
      ]
     },
     "metadata": {
      "needs_background": "light"
     },
     "output_type": "display_data"
    }
   ],
   "source": [
    "plot_ROC(y_test, cnny_pred, \"Not COVID/COVID - MLP\")"
   ]
  },
  {
   "cell_type": "markdown",
   "metadata": {},
   "source": [
    "# Part 4: Optimization\n",
    "Based on the results of the above models, we will now attempt to optimize our algorithms. We will be using cross validation to find a find the best split between our training/testing data."
   ]
  },
  {
   "cell_type": "code",
   "execution_count": 431,
   "metadata": {},
   "outputs": [],
   "source": [
    "# split data into 10 folds\n",
    "folds = 10\n",
    "kfold = KFold(n_splits=folds)\n",
    "\n",
    "# shuffle initial data\n",
    "rimages, rtargets = shuffle(images, d['target'], random_state=0)"
   ]
  },
  {
   "cell_type": "markdown",
   "metadata": {},
   "source": [
    "Repeat Deep Learning and CNN models above with KFold technique and compare results"
   ]
  },
  {
   "cell_type": "markdown",
   "metadata": {},
   "source": [
    "### Deep Learning - Cross Validation"
   ]
  },
  {
   "cell_type": "code",
   "execution_count": 432,
   "metadata": {},
   "outputs": [
    {
     "name": "stdout",
     "output_type": "stream",
     "text": [
      "Epoch 1/10\n",
      "29/29 [==============================] - 1s 40ms/step - loss: 14.1133 - accuracy: 0.5158 - val_loss: 0.6477 - val_accuracy: 0.7647\n",
      "Epoch 2/10\n",
      "29/29 [==============================] - 1s 34ms/step - loss: 0.8426 - accuracy: 0.6710 - val_loss: 0.5029 - val_accuracy: 0.8039\n",
      "Epoch 3/10\n",
      "29/29 [==============================] - 1s 34ms/step - loss: 0.6776 - accuracy: 0.6743 - val_loss: 0.4829 - val_accuracy: 0.7353\n",
      "Epoch 4/10\n",
      "29/29 [==============================] - 1s 35ms/step - loss: 0.5471 - accuracy: 0.7333 - val_loss: 0.5030 - val_accuracy: 0.7941\n",
      "Epoch 5/10\n",
      "29/29 [==============================] - 1s 33ms/step - loss: 0.5572 - accuracy: 0.7257 - val_loss: 0.8368 - val_accuracy: 0.5686\n",
      "Epoch 6/10\n",
      "29/29 [==============================] - 1s 33ms/step - loss: 0.5975 - accuracy: 0.7224 - val_loss: 0.4859 - val_accuracy: 0.7549\n",
      "Epoch 7/10\n",
      "29/29 [==============================] - 1s 33ms/step - loss: 0.4797 - accuracy: 0.7694 - val_loss: 0.4960 - val_accuracy: 0.7843\n",
      "Epoch 8/10\n",
      "29/29 [==============================] - 1s 33ms/step - loss: 0.4919 - accuracy: 0.7650 - val_loss: 0.4940 - val_accuracy: 0.7549\n",
      "Epoch 9/10\n",
      "29/29 [==============================] - 1s 33ms/step - loss: 0.5130 - accuracy: 0.7443 - val_loss: 0.4875 - val_accuracy: 0.7941\n",
      "Epoch 10/10\n",
      "29/29 [==============================] - 1s 34ms/step - loss: 0.5232 - accuracy: 0.7464 - val_loss: 0.4995 - val_accuracy: 0.7941\n",
      "4/4 - 0s - loss: 0.4603 - accuracy: 0.7745\n",
      "Epoch 1/10\n",
      "29/29 [==============================] - 1s 39ms/step - loss: 19.1354 - accuracy: 0.5027 - val_loss: 2.6863 - val_accuracy: 0.5980\n",
      "Epoch 2/10\n",
      "29/29 [==============================] - 1s 36ms/step - loss: 1.7808 - accuracy: 0.6787 - val_loss: 0.7003 - val_accuracy: 0.7941\n",
      "Epoch 3/10\n",
      "29/29 [==============================] - 1s 35ms/step - loss: 0.8133 - accuracy: 0.6984 - val_loss: 0.5035 - val_accuracy: 0.7451\n",
      "Epoch 4/10\n",
      "29/29 [==============================] - 1s 37ms/step - loss: 1.3890 - accuracy: 0.6098 - val_loss: 2.5449 - val_accuracy: 0.5294\n",
      "Epoch 5/10\n",
      "29/29 [==============================] - 1s 35ms/step - loss: 0.9510 - accuracy: 0.7268 - val_loss: 0.5799 - val_accuracy: 0.7157\n",
      "Epoch 6/10\n",
      "29/29 [==============================] - 1s 34ms/step - loss: 0.6144 - accuracy: 0.7355 - val_loss: 1.0302 - val_accuracy: 0.6078\n",
      "Epoch 7/10\n",
      "29/29 [==============================] - 1s 35ms/step - loss: 0.9991 - accuracy: 0.6601 - val_loss: 0.4797 - val_accuracy: 0.7843\n",
      "Epoch 8/10\n",
      "29/29 [==============================] - 1s 34ms/step - loss: 1.4372 - accuracy: 0.6262 - val_loss: 1.2349 - val_accuracy: 0.6471\n",
      "Epoch 9/10\n",
      "29/29 [==============================] - 1s 35ms/step - loss: 0.7878 - accuracy: 0.7454 - val_loss: 0.4871 - val_accuracy: 0.8137\n",
      "Epoch 10/10\n",
      "29/29 [==============================] - 1s 35ms/step - loss: 0.6325 - accuracy: 0.7191 - val_loss: 0.8715 - val_accuracy: 0.6765\n",
      "4/4 - 0s - loss: 0.4114 - accuracy: 0.8431\n",
      "Epoch 1/10\n",
      "29/29 [==============================] - 1s 37ms/step - loss: 11.4061 - accuracy: 0.5333 - val_loss: 1.4181 - val_accuracy: 0.5686\n",
      "Epoch 2/10\n",
      "29/29 [==============================] - 1s 35ms/step - loss: 0.8303 - accuracy: 0.6842 - val_loss: 1.0297 - val_accuracy: 0.4804\n",
      "Epoch 3/10\n",
      "29/29 [==============================] - 1s 35ms/step - loss: 0.6489 - accuracy: 0.6973 - val_loss: 0.6287 - val_accuracy: 0.6471\n",
      "Epoch 4/10\n",
      "29/29 [==============================] - 1s 35ms/step - loss: 0.5733 - accuracy: 0.7257 - val_loss: 0.6223 - val_accuracy: 0.6667\n",
      "Epoch 5/10\n",
      "29/29 [==============================] - 1s 35ms/step - loss: 0.5938 - accuracy: 0.7158 - val_loss: 0.7357 - val_accuracy: 0.5980\n",
      "Epoch 6/10\n",
      "29/29 [==============================] - 1s 35ms/step - loss: 0.9903 - accuracy: 0.6656 - val_loss: 1.4780 - val_accuracy: 0.6765\n",
      "Epoch 7/10\n",
      "29/29 [==============================] - 1s 35ms/step - loss: 0.7018 - accuracy: 0.7235 - val_loss: 0.7619 - val_accuracy: 0.7451\n",
      "Epoch 8/10\n",
      "29/29 [==============================] - 1s 35ms/step - loss: 0.5893 - accuracy: 0.7355 - val_loss: 0.6929 - val_accuracy: 0.7451\n",
      "Epoch 9/10\n",
      "29/29 [==============================] - 1s 36ms/step - loss: 0.5613 - accuracy: 0.7475 - val_loss: 0.7216 - val_accuracy: 0.7353\n",
      "Epoch 10/10\n",
      "29/29 [==============================] - 1s 35ms/step - loss: 0.5944 - accuracy: 0.7333 - val_loss: 1.1098 - val_accuracy: 0.6569\n",
      "4/4 - 0s - loss: 0.4289 - accuracy: 0.8039\n",
      "Epoch 1/10\n",
      "29/29 [==============================] - 1s 38ms/step - loss: 11.3453 - accuracy: 0.5115 - val_loss: 0.7933 - val_accuracy: 0.5882\n",
      "Epoch 2/10\n",
      "29/29 [==============================] - 1s 35ms/step - loss: 0.6325 - accuracy: 0.6820 - val_loss: 0.5241 - val_accuracy: 0.7647\n",
      "Epoch 3/10\n",
      "29/29 [==============================] - 1s 37ms/step - loss: 0.5813 - accuracy: 0.6929 - val_loss: 0.5008 - val_accuracy: 0.7549\n",
      "Epoch 4/10\n",
      "29/29 [==============================] - 1s 35ms/step - loss: 0.5482 - accuracy: 0.7421 - val_loss: 0.5088 - val_accuracy: 0.7451\n",
      "Epoch 5/10\n",
      "29/29 [==============================] - 1s 35ms/step - loss: 0.6497 - accuracy: 0.6645 - val_loss: 0.5035 - val_accuracy: 0.7549\n",
      "Epoch 6/10\n",
      "29/29 [==============================] - 1s 35ms/step - loss: 0.5428 - accuracy: 0.7366 - val_loss: 0.5670 - val_accuracy: 0.7451\n",
      "Epoch 7/10\n",
      "29/29 [==============================] - 1s 35ms/step - loss: 0.5345 - accuracy: 0.7519 - val_loss: 0.6985 - val_accuracy: 0.5784\n",
      "Epoch 8/10\n",
      "29/29 [==============================] - 1s 36ms/step - loss: 0.5981 - accuracy: 0.7115 - val_loss: 0.5469 - val_accuracy: 0.7549\n",
      "Epoch 9/10\n",
      "29/29 [==============================] - 1s 35ms/step - loss: 0.6085 - accuracy: 0.7126 - val_loss: 0.4862 - val_accuracy: 0.7745\n",
      "Epoch 10/10\n",
      "29/29 [==============================] - 1s 35ms/step - loss: 0.5739 - accuracy: 0.7104 - val_loss: 0.5355 - val_accuracy: 0.7843\n",
      "4/4 - 0s - loss: 0.3307 - accuracy: 0.8725\n",
      "Epoch 1/10\n",
      "29/29 [==============================] - 1s 38ms/step - loss: 9.4820 - accuracy: 0.5508 - val_loss: 0.5880 - val_accuracy: 0.7059\n",
      "Epoch 2/10\n",
      "29/29 [==============================] - 1s 36ms/step - loss: 0.6701 - accuracy: 0.6765 - val_loss: 0.5864 - val_accuracy: 0.7157\n",
      "Epoch 3/10\n",
      "29/29 [==============================] - 1s 35ms/step - loss: 0.5866 - accuracy: 0.7115 - val_loss: 0.5477 - val_accuracy: 0.7353\n",
      "Epoch 4/10\n",
      "29/29 [==============================] - 1s 35ms/step - loss: 0.5575 - accuracy: 0.7257 - val_loss: 0.5471 - val_accuracy: 0.7255\n",
      "Epoch 5/10\n",
      "29/29 [==============================] - 1s 36ms/step - loss: 0.5197 - accuracy: 0.7519 - val_loss: 0.5171 - val_accuracy: 0.7353\n",
      "Epoch 6/10\n",
      "29/29 [==============================] - 1s 37ms/step - loss: 0.5450 - accuracy: 0.7290 - val_loss: 0.5471 - val_accuracy: 0.7549\n",
      "Epoch 7/10\n",
      "29/29 [==============================] - 1s 35ms/step - loss: 0.5900 - accuracy: 0.7115 - val_loss: 0.5163 - val_accuracy: 0.7451\n",
      "Epoch 8/10\n",
      "29/29 [==============================] - 1s 35ms/step - loss: 0.5358 - accuracy: 0.7432 - val_loss: 0.5162 - val_accuracy: 0.7451\n",
      "Epoch 9/10\n",
      "29/29 [==============================] - 1s 35ms/step - loss: 0.5017 - accuracy: 0.7661 - val_loss: 0.5327 - val_accuracy: 0.7157\n",
      "Epoch 10/10\n",
      "29/29 [==============================] - 1s 35ms/step - loss: 0.5157 - accuracy: 0.7366 - val_loss: 0.5125 - val_accuracy: 0.7255\n",
      "4/4 - 0s - loss: 0.3703 - accuracy: 0.8627\n",
      "Epoch 1/10\n",
      "29/29 [==============================] - 1s 38ms/step - loss: 10.6077 - accuracy: 0.4973 - val_loss: 0.6406 - val_accuracy: 0.6176\n",
      "Epoch 2/10\n",
      "29/29 [==============================] - 1s 35ms/step - loss: 0.6835 - accuracy: 0.6273 - val_loss: 0.7613 - val_accuracy: 0.6373\n",
      "Epoch 3/10\n",
      "29/29 [==============================] - 1s 35ms/step - loss: 0.5775 - accuracy: 0.7224 - val_loss: 0.5804 - val_accuracy: 0.7059\n",
      "Epoch 4/10\n",
      "29/29 [==============================] - 1s 36ms/step - loss: 0.5521 - accuracy: 0.7246 - val_loss: 0.5721 - val_accuracy: 0.7255\n",
      "Epoch 5/10\n",
      "29/29 [==============================] - 1s 36ms/step - loss: 0.5150 - accuracy: 0.7760 - val_loss: 0.5539 - val_accuracy: 0.7549\n",
      "Epoch 6/10\n",
      "29/29 [==============================] - 1s 35ms/step - loss: 0.5077 - accuracy: 0.7585 - val_loss: 0.5479 - val_accuracy: 0.7451\n",
      "Epoch 7/10\n",
      "29/29 [==============================] - 1s 35ms/step - loss: 0.5356 - accuracy: 0.7399 - val_loss: 0.5338 - val_accuracy: 0.7647\n",
      "Epoch 8/10\n",
      "29/29 [==============================] - 1s 35ms/step - loss: 0.5241 - accuracy: 0.7443 - val_loss: 0.5320 - val_accuracy: 0.7549\n",
      "Epoch 9/10\n",
      "29/29 [==============================] - 1s 35ms/step - loss: 0.5027 - accuracy: 0.7617 - val_loss: 0.5250 - val_accuracy: 0.7549\n",
      "Epoch 10/10\n",
      "29/29 [==============================] - 1s 35ms/step - loss: 0.5333 - accuracy: 0.7454 - val_loss: 0.5208 - val_accuracy: 0.7549\n",
      "4/4 - 0s - loss: 0.4388 - accuracy: 0.8333\n",
      "Epoch 1/10\n",
      "29/29 [==============================] - 1s 37ms/step - loss: 12.0379 - accuracy: 0.5224 - val_loss: 0.7408 - val_accuracy: 0.6667\n",
      "Epoch 2/10\n",
      "29/29 [==============================] - 1s 34ms/step - loss: 0.8829 - accuracy: 0.6295 - val_loss: 0.6145 - val_accuracy: 0.7647\n",
      "Epoch 3/10\n",
      "29/29 [==============================] - 1s 36ms/step - loss: 0.6270 - accuracy: 0.7082 - val_loss: 0.4493 - val_accuracy: 0.7843\n",
      "Epoch 4/10\n",
      "29/29 [==============================] - 1s 35ms/step - loss: 0.5379 - accuracy: 0.7333 - val_loss: 0.4962 - val_accuracy: 0.8235\n",
      "Epoch 5/10\n",
      "29/29 [==============================] - 1s 35ms/step - loss: 0.6056 - accuracy: 0.7093 - val_loss: 0.4364 - val_accuracy: 0.7843\n",
      "Epoch 6/10\n",
      "29/29 [==============================] - 1s 35ms/step - loss: 0.6601 - accuracy: 0.7038 - val_loss: 0.5424 - val_accuracy: 0.6863\n",
      "Epoch 7/10\n",
      "29/29 [==============================] - 1s 35ms/step - loss: 0.5883 - accuracy: 0.7104 - val_loss: 0.4838 - val_accuracy: 0.7549\n",
      "Epoch 8/10\n",
      "29/29 [==============================] - 1s 36ms/step - loss: 0.5445 - accuracy: 0.7410 - val_loss: 0.4125 - val_accuracy: 0.8235\n",
      "Epoch 9/10\n",
      "29/29 [==============================] - 1s 34ms/step - loss: 0.5187 - accuracy: 0.7443 - val_loss: 0.4414 - val_accuracy: 0.8235\n",
      "Epoch 10/10\n",
      "29/29 [==============================] - 1s 35ms/step - loss: 0.5412 - accuracy: 0.7410 - val_loss: 0.4232 - val_accuracy: 0.8333\n",
      "4/4 - 0s - loss: 0.2905 - accuracy: 0.9020\n",
      "Epoch 1/10\n",
      "29/29 [==============================] - 1s 38ms/step - loss: 11.3662 - accuracy: 0.5437 - val_loss: 1.4949 - val_accuracy: 0.5050\n",
      "Epoch 2/10\n",
      "29/29 [==============================] - 1s 35ms/step - loss: 0.8457 - accuracy: 0.6856 - val_loss: 0.7111 - val_accuracy: 0.7228\n",
      "Epoch 3/10\n",
      "29/29 [==============================] - 1s 35ms/step - loss: 0.6971 - accuracy: 0.6823 - val_loss: 0.6685 - val_accuracy: 0.7624\n",
      "Epoch 4/10\n",
      "29/29 [==============================] - 1s 35ms/step - loss: 0.6624 - accuracy: 0.6965 - val_loss: 0.5702 - val_accuracy: 0.6733\n",
      "Epoch 5/10\n",
      "29/29 [==============================] - 1s 35ms/step - loss: 0.5176 - accuracy: 0.7391 - val_loss: 0.5525 - val_accuracy: 0.7723\n",
      "Epoch 6/10\n",
      "29/29 [==============================] - 1s 35ms/step - loss: 0.5262 - accuracy: 0.7533 - val_loss: 0.4474 - val_accuracy: 0.8020\n",
      "Epoch 7/10\n",
      "29/29 [==============================] - 1s 35ms/step - loss: 0.5903 - accuracy: 0.7129 - val_loss: 0.4621 - val_accuracy: 0.7822\n",
      "Epoch 8/10\n",
      "29/29 [==============================] - 1s 35ms/step - loss: 0.5245 - accuracy: 0.7369 - val_loss: 0.4481 - val_accuracy: 0.8218\n",
      "Epoch 9/10\n",
      "29/29 [==============================] - 1s 36ms/step - loss: 0.5620 - accuracy: 0.7369 - val_loss: 0.5983 - val_accuracy: 0.6238\n",
      "Epoch 10/10\n",
      "29/29 [==============================] - 1s 37ms/step - loss: 0.7081 - accuracy: 0.7096 - val_loss: 1.2146 - val_accuracy: 0.5050\n",
      "4/4 - 0s - loss: 0.3531 - accuracy: 0.8218\n",
      "Epoch 1/10\n",
      "29/29 [==============================] - 1s 40ms/step - loss: 11.6015 - accuracy: 0.6157 - val_loss: 2.1240 - val_accuracy: 0.7129\n",
      "Epoch 2/10\n",
      "29/29 [==============================] - 1s 36ms/step - loss: 2.2134 - accuracy: 0.7085 - val_loss: 3.9616 - val_accuracy: 0.5149\n",
      "Epoch 3/10\n",
      "29/29 [==============================] - 1s 35ms/step - loss: 2.5471 - accuracy: 0.6605 - val_loss: 1.9468 - val_accuracy: 0.7426\n",
      "Epoch 4/10\n",
      "29/29 [==============================] - 1s 35ms/step - loss: 2.5787 - accuracy: 0.6572 - val_loss: 1.5685 - val_accuracy: 0.7129\n",
      "Epoch 5/10\n",
      "29/29 [==============================] - 1s 35ms/step - loss: 1.4182 - accuracy: 0.7183 - val_loss: 0.9661 - val_accuracy: 0.7030\n",
      "Epoch 6/10\n",
      "29/29 [==============================] - 1s 35ms/step - loss: 2.2827 - accuracy: 0.6812 - val_loss: 1.2688 - val_accuracy: 0.7228\n",
      "Epoch 7/10\n",
      "29/29 [==============================] - 1s 36ms/step - loss: 1.3714 - accuracy: 0.6987 - val_loss: 4.9718 - val_accuracy: 0.5050\n",
      "Epoch 8/10\n",
      "29/29 [==============================] - 1s 36ms/step - loss: 3.3566 - accuracy: 0.6354 - val_loss: 1.6443 - val_accuracy: 0.7030\n",
      "Epoch 9/10\n",
      "29/29 [==============================] - 1s 36ms/step - loss: 2.0734 - accuracy: 0.7041 - val_loss: 1.8904 - val_accuracy: 0.7129\n",
      "Epoch 10/10\n",
      "29/29 [==============================] - 1s 36ms/step - loss: 1.5692 - accuracy: 0.7063 - val_loss: 1.7468 - val_accuracy: 0.6535\n",
      "4/4 - 0s - loss: 0.4046 - accuracy: 0.8218\n",
      "Epoch 1/10\n",
      "29/29 [==============================] - 1s 39ms/step - loss: 21.9929 - accuracy: 0.5415 - val_loss: 8.0662 - val_accuracy: 0.6238\n",
      "Epoch 2/10\n",
      "29/29 [==============================] - 1s 35ms/step - loss: 4.0711 - accuracy: 0.7271 - val_loss: 4.7055 - val_accuracy: 0.6733\n",
      "Epoch 3/10\n",
      "29/29 [==============================] - 1s 35ms/step - loss: 2.5472 - accuracy: 0.6790 - val_loss: 6.7489 - val_accuracy: 0.4356\n",
      "Epoch 4/10\n",
      "29/29 [==============================] - 1s 35ms/step - loss: 2.3361 - accuracy: 0.7020 - val_loss: 1.4840 - val_accuracy: 0.6535\n",
      "Epoch 5/10\n",
      "29/29 [==============================] - 1s 36ms/step - loss: 1.0095 - accuracy: 0.7216 - val_loss: 1.1256 - val_accuracy: 0.7624\n",
      "Epoch 6/10\n",
      "29/29 [==============================] - 1s 35ms/step - loss: 1.0999 - accuracy: 0.7052 - val_loss: 8.5996 - val_accuracy: 0.4059\n",
      "Epoch 7/10\n",
      "29/29 [==============================] - 1s 36ms/step - loss: 3.4562 - accuracy: 0.6288 - val_loss: 2.6992 - val_accuracy: 0.6931\n",
      "Epoch 8/10\n",
      "29/29 [==============================] - 1s 37ms/step - loss: 2.9560 - accuracy: 0.6725 - val_loss: 2.0801 - val_accuracy: 0.7228\n",
      "Epoch 9/10\n",
      "29/29 [==============================] - 1s 39ms/step - loss: 1.2570 - accuracy: 0.7227 - val_loss: 1.2676 - val_accuracy: 0.7129\n",
      "Epoch 10/10\n",
      "29/29 [==============================] - 1s 38ms/step - loss: 1.1447 - accuracy: 0.7282 - val_loss: 1.4877 - val_accuracy: 0.7525\n",
      "4/4 - 0s - loss: 0.3705 - accuracy: 0.8218\n"
     ]
    }
   ],
   "source": [
    "results = []\n",
    "test_accuracies = []\n",
    "\n",
    "for train, test in kfold.split(rimages):\n",
    "    x_train, x_test = rimages[train], rimages[test]\n",
    "    y_train, y_test = np.array(rtargets)[train], np.array(rtargets)[test]\n",
    "    \n",
    "    # build model\n",
    "    dl_model = tf.keras.Sequential([\n",
    "        tf.keras.layers.Flatten(input_shape=(img_dim,img_dim,2)),\n",
    "        tf.keras.layers.Dense(512, activation='relu'),\n",
    "        tf.keras.layers.Dense(2)\n",
    "    ])\n",
    "\n",
    "    # compile model\n",
    "    dl_model.compile(optimizer='adam',\n",
    "                  loss=tf.keras.losses.SparseCategoricalCrossentropy(from_logits=True),\n",
    "                  metrics=['accuracy'])\n",
    "    \n",
    "    # train model\n",
    "    history = dl_model.fit(x_train, y_train, epochs=10,\n",
    "                           validation_data=(x_test, y_test))\n",
    "    \n",
    "    test_loss, test_acc = model.evaluate(x_test, y_test, verbose=2)\n",
    "    \n",
    "    results.append(history)\n",
    "    test_accuracies.append(test_acc)"
   ]
  },
  {
   "cell_type": "markdown",
   "metadata": {},
   "source": [
    "Get best model and plot results"
   ]
  },
  {
   "cell_type": "code",
   "execution_count": 434,
   "metadata": {},
   "outputs": [],
   "source": [
    "# choose model with highest test accuracy\n",
    "best_model = results[0]\n",
    "best_acc = test_accuracies[0]\n",
    "for i in range(len(results) - 1):\n",
    "    if test_accuracies[i + 1] > test_accuracies[i]:\n",
    "        best_model = results[i+1]"
   ]
  },
  {
   "cell_type": "code",
   "execution_count": 435,
   "metadata": {},
   "outputs": [
    {
     "name": "stdout",
     "output_type": "stream",
     "text": [
      "Test Accuracy: 0.7745\n"
     ]
    },
    {
     "data": {
      "image/png": "[encoded data removed]",
      "text/plain": [
       "<Figure size 432x288 with 1 Axes>"
      ]
     },
     "metadata": {
      "needs_background": "light"
     },
     "output_type": "display_data"
    }
   ],
   "source": [
    "plt.plot(best_model.history['accuracy'], label='accuracy')\n",
    "plt.plot(best_model.history['val_accuracy'], label = 'val_accuracy')\n",
    "plt.xlabel('Epoch')\n",
    "plt.ylabel('Accuracy')\n",
    "plt.title('Deep Learning Classifier - CV')\n",
    "plt.ylim([0.5, 1])\n",
    "plt.legend(loc='lower right')\n",
    "\n",
    "print(\"Test Accuracy:\", round(best_acc, 4))"
   ]
  },
  {
   "cell_type": "markdown",
   "metadata": {},
   "source": [
    "### CNN - Cross Validation"
   ]
  },
  {
   "cell_type": "code",
   "execution_count": 436,
   "metadata": {},
   "outputs": [
    {
     "name": "stdout",
     "output_type": "stream",
     "text": [
      "Epoch 1/10\n",
      "29/29 [==============================] - 6s 208ms/step - loss: 0.8524 - accuracy: 0.6120 - val_loss: 0.5194 - val_accuracy: 0.7647\n",
      "Epoch 2/10\n",
      "29/29 [==============================] - 6s 213ms/step - loss: 0.5608 - accuracy: 0.7224 - val_loss: 0.5182 - val_accuracy: 0.7647\n",
      "Epoch 3/10\n",
      "29/29 [==============================] - 6s 204ms/step - loss: 0.5321 - accuracy: 0.7246 - val_loss: 0.4708 - val_accuracy: 0.8039\n",
      "Epoch 4/10\n",
      "29/29 [==============================] - 6s 212ms/step - loss: 0.4977 - accuracy: 0.7639 - val_loss: 0.4644 - val_accuracy: 0.7549\n",
      "Epoch 5/10\n",
      "29/29 [==============================] - 6s 212ms/step - loss: 0.4879 - accuracy: 0.7607 - val_loss: 0.5008 - val_accuracy: 0.7255\n",
      "Epoch 6/10\n",
      "29/29 [==============================] - 7s 229ms/step - loss: 0.4719 - accuracy: 0.7650 - val_loss: 0.4467 - val_accuracy: 0.7941\n",
      "Epoch 7/10\n",
      "29/29 [==============================] - 7s 228ms/step - loss: 0.4679 - accuracy: 0.7683 - val_loss: 0.4919 - val_accuracy: 0.7451\n",
      "Epoch 8/10\n",
      "29/29 [==============================] - 6s 224ms/step - loss: 0.4654 - accuracy: 0.7738 - val_loss: 0.4038 - val_accuracy: 0.8333\n",
      "Epoch 9/10\n",
      "29/29 [==============================] - 6s 220ms/step - loss: 0.4404 - accuracy: 0.8011 - val_loss: 0.4090 - val_accuracy: 0.8235\n",
      "Epoch 10/10\n",
      "29/29 [==============================] - 8s 286ms/step - loss: 0.4082 - accuracy: 0.8131 - val_loss: 0.4150 - val_accuracy: 0.7941\n",
      "Epoch 1/10\n",
      "29/29 [==============================] - 8s 280ms/step - loss: 0.6729 - accuracy: 0.6743 - val_loss: 0.5307 - val_accuracy: 0.7843\n",
      "Epoch 2/10\n",
      "29/29 [==============================] - 7s 235ms/step - loss: 0.5372 - accuracy: 0.7464 - val_loss: 0.5050 - val_accuracy: 0.7745\n",
      "Epoch 3/10\n",
      "29/29 [==============================] - 7s 225ms/step - loss: 0.5148 - accuracy: 0.7519 - val_loss: 0.4527 - val_accuracy: 0.7941\n",
      "Epoch 4/10\n",
      "29/29 [==============================] - 7s 244ms/step - loss: 0.4604 - accuracy: 0.7672 - val_loss: 0.4514 - val_accuracy: 0.8333\n",
      "Epoch 5/10\n",
      "29/29 [==============================] - 7s 243ms/step - loss: 0.4591 - accuracy: 0.7902 - val_loss: 0.4446 - val_accuracy: 0.7941\n",
      "Epoch 6/10\n",
      "29/29 [==============================] - 7s 248ms/step - loss: 0.4159 - accuracy: 0.8055 - val_loss: 0.4451 - val_accuracy: 0.8235\n",
      "Epoch 7/10\n",
      "29/29 [==============================] - 7s 237ms/step - loss: 0.3626 - accuracy: 0.8426 - val_loss: 0.5867 - val_accuracy: 0.7843\n",
      "Epoch 8/10\n",
      "29/29 [==============================] - 7s 234ms/step - loss: 0.3519 - accuracy: 0.8492 - val_loss: 0.4235 - val_accuracy: 0.8137\n",
      "Epoch 9/10\n",
      "29/29 [==============================] - 7s 231ms/step - loss: 0.2993 - accuracy: 0.8656 - val_loss: 0.5552 - val_accuracy: 0.8333\n",
      "Epoch 10/10\n",
      "29/29 [==============================] - 7s 233ms/step - loss: 0.2729 - accuracy: 0.8929 - val_loss: 0.4232 - val_accuracy: 0.8137\n",
      "Epoch 1/10\n",
      "29/29 [==============================] - 7s 238ms/step - loss: 0.7217 - accuracy: 0.5891 - val_loss: 0.6420 - val_accuracy: 0.7647\n",
      "Epoch 2/10\n",
      "29/29 [==============================] - 7s 224ms/step - loss: 0.5572 - accuracy: 0.7311 - val_loss: 0.5882 - val_accuracy: 0.6667\n",
      "Epoch 3/10\n",
      "29/29 [==============================] - 7s 224ms/step - loss: 0.5208 - accuracy: 0.7519 - val_loss: 0.5984 - val_accuracy: 0.7451\n",
      "Epoch 4/10\n",
      "29/29 [==============================] - 7s 226ms/step - loss: 0.5212 - accuracy: 0.7563 - val_loss: 0.5822 - val_accuracy: 0.6863\n",
      "Epoch 5/10\n",
      "29/29 [==============================] - 7s 241ms/step - loss: 0.4790 - accuracy: 0.7628 - val_loss: 0.6375 - val_accuracy: 0.6569\n",
      "Epoch 6/10\n",
      "29/29 [==============================] - 7s 238ms/step - loss: 0.4918 - accuracy: 0.7716 - val_loss: 0.5558 - val_accuracy: 0.7255\n",
      "Epoch 7/10\n",
      "29/29 [==============================] - 7s 232ms/step - loss: 0.4428 - accuracy: 0.8033 - val_loss: 0.5595 - val_accuracy: 0.7059\n",
      "Epoch 8/10\n",
      "29/29 [==============================] - 7s 231ms/step - loss: 0.4221 - accuracy: 0.8208 - val_loss: 0.5345 - val_accuracy: 0.7549\n",
      "Epoch 9/10\n",
      "29/29 [==============================] - 7s 247ms/step - loss: 0.4214 - accuracy: 0.8044 - val_loss: 0.5031 - val_accuracy: 0.7549\n",
      "Epoch 10/10\n",
      "29/29 [==============================] - 8s 260ms/step - loss: 0.3743 - accuracy: 0.8393 - val_loss: 0.5227 - val_accuracy: 0.7059\n",
      "Epoch 1/10\n",
      "29/29 [==============================] - 8s 261ms/step - loss: 0.7729 - accuracy: 0.5060 - val_loss: 0.7049 - val_accuracy: 0.4118\n",
      "Epoch 2/10\n",
      "29/29 [==============================] - 7s 235ms/step - loss: 0.6604 - accuracy: 0.5967 - val_loss: 0.5687 - val_accuracy: 0.7353\n",
      "Epoch 3/10\n",
      "29/29 [==============================] - 7s 257ms/step - loss: 0.5761 - accuracy: 0.7060 - val_loss: 0.5105 - val_accuracy: 0.7843\n",
      "Epoch 4/10\n",
      "29/29 [==============================] - 8s 260ms/step - loss: 0.5297 - accuracy: 0.7432 - val_loss: 0.4708 - val_accuracy: 0.7843\n",
      "Epoch 5/10\n",
      "29/29 [==============================] - 8s 283ms/step - loss: 0.5186 - accuracy: 0.7399 - val_loss: 0.4867 - val_accuracy: 0.8137\n",
      "Epoch 6/10\n",
      "29/29 [==============================] - 7s 251ms/step - loss: 0.4713 - accuracy: 0.7716 - val_loss: 0.4730 - val_accuracy: 0.7745\n",
      "Epoch 7/10\n",
      "29/29 [==============================] - 8s 278ms/step - loss: 0.4452 - accuracy: 0.7727 - val_loss: 0.6066 - val_accuracy: 0.7353\n",
      "Epoch 8/10\n",
      "29/29 [==============================] - 8s 274ms/step - loss: 0.4326 - accuracy: 0.7989 - val_loss: 0.4542 - val_accuracy: 0.7843\n",
      "Epoch 9/10\n",
      "29/29 [==============================] - 8s 268ms/step - loss: 0.3991 - accuracy: 0.8153 - val_loss: 0.5260 - val_accuracy: 0.7745\n",
      "Epoch 10/10\n",
      "29/29 [==============================] - 7s 252ms/step - loss: 0.4027 - accuracy: 0.8153 - val_loss: 0.4449 - val_accuracy: 0.7843\n",
      "Epoch 1/10\n",
      "29/29 [==============================] - 7s 225ms/step - loss: 0.8238 - accuracy: 0.5530 - val_loss: 0.5493 - val_accuracy: 0.7451\n",
      "Epoch 2/10\n",
      "29/29 [==============================] - 7s 227ms/step - loss: 0.5564 - accuracy: 0.7257 - val_loss: 0.5245 - val_accuracy: 0.7157\n",
      "Epoch 3/10\n",
      "29/29 [==============================] - 8s 260ms/step - loss: 0.5139 - accuracy: 0.7475 - val_loss: 0.4981 - val_accuracy: 0.7647\n",
      "Epoch 4/10\n",
      "29/29 [==============================] - 8s 278ms/step - loss: 0.4671 - accuracy: 0.7694 - val_loss: 0.5144 - val_accuracy: 0.7353\n",
      "Epoch 5/10\n",
      "29/29 [==============================] - 7s 257ms/step - loss: 0.4698 - accuracy: 0.7869 - val_loss: 0.4749 - val_accuracy: 0.7549\n",
      "Epoch 6/10\n",
      "29/29 [==============================] - 7s 253ms/step - loss: 0.4533 - accuracy: 0.7858 - val_loss: 0.4908 - val_accuracy: 0.7843\n",
      "Epoch 7/10\n",
      "29/29 [==============================] - 8s 259ms/step - loss: 0.3985 - accuracy: 0.8109 - val_loss: 0.4800 - val_accuracy: 0.7941\n",
      "Epoch 8/10\n",
      "29/29 [==============================] - 7s 243ms/step - loss: 0.4052 - accuracy: 0.8066 - val_loss: 0.4266 - val_accuracy: 0.8039\n",
      "Epoch 9/10\n",
      "29/29 [==============================] - 8s 261ms/step - loss: 0.3530 - accuracy: 0.8459 - val_loss: 0.5753 - val_accuracy: 0.7255\n",
      "Epoch 10/10\n",
      "29/29 [==============================] - 7s 242ms/step - loss: 0.3320 - accuracy: 0.8525 - val_loss: 0.5498 - val_accuracy: 0.7745\n",
      "Epoch 1/10\n",
      "29/29 [==============================] - 6s 219ms/step - loss: 0.7262 - accuracy: 0.5869 - val_loss: 0.6225 - val_accuracy: 0.6961\n",
      "Epoch 2/10\n",
      "29/29 [==============================] - 6s 218ms/step - loss: 0.5289 - accuracy: 0.7530 - val_loss: 0.6400 - val_accuracy: 0.6569\n",
      "Epoch 3/10\n",
      "29/29 [==============================] - 7s 231ms/step - loss: 0.5082 - accuracy: 0.7530 - val_loss: 0.5943 - val_accuracy: 0.6961\n",
      "Epoch 4/10\n",
      "29/29 [==============================] - 7s 241ms/step - loss: 0.4883 - accuracy: 0.7716 - val_loss: 0.6331 - val_accuracy: 0.6667\n",
      "Epoch 5/10\n",
      "29/29 [==============================] - 7s 233ms/step - loss: 0.4743 - accuracy: 0.7705 - val_loss: 0.6161 - val_accuracy: 0.6667\n",
      "Epoch 6/10\n",
      "29/29 [==============================] - 6s 219ms/step - loss: 0.4592 - accuracy: 0.7880 - val_loss: 0.5634 - val_accuracy: 0.6961\n",
      "Epoch 7/10\n",
      "29/29 [==============================] - 6s 216ms/step - loss: 0.4524 - accuracy: 0.7847 - val_loss: 0.6056 - val_accuracy: 0.6863\n",
      "Epoch 8/10\n",
      "29/29 [==============================] - 7s 228ms/step - loss: 0.4346 - accuracy: 0.7978 - val_loss: 0.5939 - val_accuracy: 0.7157\n"
     ]
    },
    {
     "name": "stdout",
     "output_type": "stream",
     "text": [
      "Epoch 9/10\n",
      "29/29 [==============================] - 7s 235ms/step - loss: 0.4175 - accuracy: 0.8011 - val_loss: 0.6221 - val_accuracy: 0.6961\n",
      "Epoch 10/10\n",
      "29/29 [==============================] - 7s 236ms/step - loss: 0.3917 - accuracy: 0.8131 - val_loss: 0.5930 - val_accuracy: 0.7647\n",
      "Epoch 1/10\n",
      "29/29 [==============================] - 8s 281ms/step - loss: 0.8861 - accuracy: 0.5956 - val_loss: 0.4631 - val_accuracy: 0.7745\n",
      "Epoch 2/10\n",
      "29/29 [==============================] - 6s 192ms/step - loss: 0.5505 - accuracy: 0.7333 - val_loss: 0.4296 - val_accuracy: 0.8137\n",
      "Epoch 3/10\n",
      "29/29 [==============================] - 6s 211ms/step - loss: 0.5209 - accuracy: 0.7497 - val_loss: 0.4380 - val_accuracy: 0.8039\n",
      "Epoch 4/10\n",
      "29/29 [==============================] - 6s 222ms/step - loss: 0.4758 - accuracy: 0.7716 - val_loss: 0.4253 - val_accuracy: 0.8431\n",
      "Epoch 5/10\n",
      "29/29 [==============================] - 6s 217ms/step - loss: 0.4641 - accuracy: 0.7607 - val_loss: 0.4158 - val_accuracy: 0.8235\n",
      "Epoch 6/10\n",
      "29/29 [==============================] - 6s 202ms/step - loss: 0.4324 - accuracy: 0.7956 - val_loss: 0.4301 - val_accuracy: 0.7353\n",
      "Epoch 7/10\n",
      "29/29 [==============================] - 6s 205ms/step - loss: 0.4087 - accuracy: 0.8066 - val_loss: 0.3435 - val_accuracy: 0.8529\n",
      "Epoch 8/10\n",
      "29/29 [==============================] - 6s 201ms/step - loss: 0.4167 - accuracy: 0.8044 - val_loss: 0.3669 - val_accuracy: 0.8137\n",
      "Epoch 9/10\n",
      "29/29 [==============================] - 6s 206ms/step - loss: 0.3897 - accuracy: 0.8208 - val_loss: 0.3593 - val_accuracy: 0.8431\n",
      "Epoch 10/10\n",
      "29/29 [==============================] - 6s 203ms/step - loss: 0.3776 - accuracy: 0.8120 - val_loss: 0.4007 - val_accuracy: 0.8137\n",
      "Epoch 1/10\n",
      "29/29 [==============================] - 6s 221ms/step - loss: 0.8354 - accuracy: 0.5066 - val_loss: 0.6737 - val_accuracy: 0.4950\n",
      "Epoch 2/10\n",
      "29/29 [==============================] - 6s 221ms/step - loss: 0.6093 - accuracy: 0.6779 - val_loss: 0.5415 - val_accuracy: 0.7228\n",
      "Epoch 3/10\n",
      "29/29 [==============================] - 7s 250ms/step - loss: 0.5204 - accuracy: 0.7478 - val_loss: 0.5178 - val_accuracy: 0.7822\n",
      "Epoch 4/10\n",
      "29/29 [==============================] - 8s 279ms/step - loss: 0.5012 - accuracy: 0.7566 - val_loss: 0.5233 - val_accuracy: 0.7426\n",
      "Epoch 5/10\n",
      "29/29 [==============================] - 7s 249ms/step - loss: 0.4872 - accuracy: 0.7566 - val_loss: 0.5040 - val_accuracy: 0.7723\n",
      "Epoch 6/10\n",
      "29/29 [==============================] - 7s 241ms/step - loss: 0.5027 - accuracy: 0.7424 - val_loss: 0.4926 - val_accuracy: 0.7624\n",
      "Epoch 7/10\n",
      "29/29 [==============================] - 7s 241ms/step - loss: 0.4607 - accuracy: 0.7697 - val_loss: 0.4626 - val_accuracy: 0.7921\n",
      "Epoch 8/10\n",
      "29/29 [==============================] - 6s 224ms/step - loss: 0.4574 - accuracy: 0.7631 - val_loss: 0.4920 - val_accuracy: 0.7921\n",
      "Epoch 9/10\n",
      "29/29 [==============================] - 7s 252ms/step - loss: 0.4454 - accuracy: 0.7729 - val_loss: 0.5244 - val_accuracy: 0.7921\n",
      "Epoch 10/10\n",
      "29/29 [==============================] - 7s 243ms/step - loss: 0.4179 - accuracy: 0.7937 - val_loss: 0.5301 - val_accuracy: 0.7723\n",
      "Epoch 1/10\n",
      "29/29 [==============================] - 7s 225ms/step - loss: 0.7135 - accuracy: 0.6081 - val_loss: 0.5748 - val_accuracy: 0.6832\n",
      "Epoch 2/10\n",
      "29/29 [==============================] - 6s 205ms/step - loss: 0.5293 - accuracy: 0.7336 - val_loss: 0.5139 - val_accuracy: 0.7525\n",
      "Epoch 3/10\n",
      "29/29 [==============================] - 6s 207ms/step - loss: 0.5042 - accuracy: 0.7576 - val_loss: 0.5282 - val_accuracy: 0.7228\n",
      "Epoch 4/10\n",
      "29/29 [==============================] - 7s 227ms/step - loss: 0.4848 - accuracy: 0.7686 - val_loss: 0.6940 - val_accuracy: 0.6238\n",
      "Epoch 5/10\n",
      "29/29 [==============================] - 6s 221ms/step - loss: 0.4817 - accuracy: 0.7675 - val_loss: 0.5042 - val_accuracy: 0.7426\n",
      "Epoch 6/10\n",
      "29/29 [==============================] - 6s 210ms/step - loss: 0.4443 - accuracy: 0.7948 - val_loss: 0.5056 - val_accuracy: 0.7525\n",
      "Epoch 7/10\n",
      "29/29 [==============================] - 6s 206ms/step - loss: 0.4330 - accuracy: 0.7915 - val_loss: 0.5168 - val_accuracy: 0.7426\n",
      "Epoch 8/10\n",
      "29/29 [==============================] - 6s 208ms/step - loss: 0.3962 - accuracy: 0.8199 - val_loss: 0.5285 - val_accuracy: 0.7129\n",
      "Epoch 9/10\n",
      "29/29 [==============================] - 6s 213ms/step - loss: 0.4109 - accuracy: 0.8155 - val_loss: 0.5055 - val_accuracy: 0.7525\n",
      "Epoch 10/10\n",
      "29/29 [==============================] - 6s 215ms/step - loss: 0.3835 - accuracy: 0.8352 - val_loss: 0.5675 - val_accuracy: 0.6733\n",
      "Epoch 1/10\n",
      "29/29 [==============================] - 7s 234ms/step - loss: 0.7954 - accuracy: 0.5644 - val_loss: 0.6005 - val_accuracy: 0.6535\n",
      "Epoch 2/10\n",
      "29/29 [==============================] - 6s 222ms/step - loss: 0.5605 - accuracy: 0.7271 - val_loss: 0.6189 - val_accuracy: 0.6535\n",
      "Epoch 3/10\n",
      "29/29 [==============================] - 7s 244ms/step - loss: 0.5578 - accuracy: 0.7478 - val_loss: 0.5810 - val_accuracy: 0.7129\n",
      "Epoch 4/10\n",
      "29/29 [==============================] - 7s 254ms/step - loss: 0.5278 - accuracy: 0.7489 - val_loss: 0.5782 - val_accuracy: 0.6931\n",
      "Epoch 5/10\n",
      "29/29 [==============================] - 6s 224ms/step - loss: 0.5208 - accuracy: 0.7609 - val_loss: 0.5736 - val_accuracy: 0.7228\n",
      "Epoch 6/10\n",
      "29/29 [==============================] - 6s 212ms/step - loss: 0.4816 - accuracy: 0.7686 - val_loss: 0.5045 - val_accuracy: 0.7228\n",
      "Epoch 7/10\n",
      "29/29 [==============================] - 6s 220ms/step - loss: 0.4612 - accuracy: 0.7773 - val_loss: 0.5096 - val_accuracy: 0.7426\n",
      "Epoch 8/10\n",
      "29/29 [==============================] - 7s 238ms/step - loss: 0.4178 - accuracy: 0.8013 - val_loss: 0.5646 - val_accuracy: 0.7129\n",
      "Epoch 9/10\n",
      "29/29 [==============================] - 7s 228ms/step - loss: 0.4013 - accuracy: 0.8100 - val_loss: 0.5726 - val_accuracy: 0.7525\n",
      "Epoch 10/10\n",
      "29/29 [==============================] - 6s 207ms/step - loss: 0.3917 - accuracy: 0.8253 - val_loss: 0.6446 - val_accuracy: 0.7228\n"
     ]
    }
   ],
   "source": [
    "results = []\n",
    "test_accuracies = []\n",
    "\n",
    "for train, test in kfold.split(rimages):\n",
    "    x_train, x_test = rimages[train], rimages[test]\n",
    "    y_train, y_test = np.array(rtargets)[train], np.array(rtargets)[test]\n",
    "    \n",
    "    # build model for convolusion network\n",
    "    cnn_model = models.Sequential()\n",
    "    cnn_model.add(layers.Conv2D(32, (3, 3), activation='relu', input_shape=(img_dim, img_dim, 2)))\n",
    "    cnn_model.add(layers.MaxPooling2D((2, 2)))\n",
    "    cnn_model.add(layers.Conv2D(64, (3, 3), activation='relu'))\n",
    "    cnn_model.add(layers.MaxPooling2D((2, 2)))\n",
    "    cnn_model.add(layers.Conv2D(64, (3, 3), activation='relu'))\n",
    "\n",
    "    # add more layers\n",
    "    cnn_model.add(layers.Flatten())\n",
    "    cnn_model.add(layers.Dense(64, activation='relu'))\n",
    "    cnn_model.add(layers.Dense(2))\n",
    "\n",
    "    # compile \n",
    "    cnn_model.compile(optimizer='adam',\n",
    "                      loss=tf.keras.losses.SparseCategoricalCrossentropy(from_logits=True),\n",
    "                      metrics=['accuracy'])\n",
    "    \n",
    "    history = cnn_model.fit(x_train, y_train, epochs=10,\n",
    "                            validation_data=(x_test, y_test))\n",
    "    \n",
    "    results.append(history)\n",
    "    \n",
    "    \n",
    "    test_accuracies.append(test_acc)"
   ]
  },
  {
   "cell_type": "markdown",
   "metadata": {},
   "source": [
    "Get best model and plot results"
   ]
  },
  {
   "cell_type": "code",
   "execution_count": 437,
   "metadata": {},
   "outputs": [],
   "source": [
    "# choose model with highest test accuracy\n",
    "best_model = results[0]\n",
    "best_acc = test_accuracies[0]\n",
    "for i in range(len(results) - 1):\n",
    "    if test_accuracies[i + 1] > test_accuracies[i]:\n",
    "        best_model = results[i+1]"
   ]
  },
  {
   "cell_type": "code",
   "execution_count": 438,
   "metadata": {},
   "outputs": [
    {
     "name": "stdout",
     "output_type": "stream",
     "text": [
      "Test Accuracy: 0.8218\n"
     ]
    },
    {
     "data": {
      "image/png": "[encoded data removed]",
      "text/plain": [
       "<Figure size 432x288 with 1 Axes>"
      ]
     },
     "metadata": {
      "needs_background": "light"
     },
     "output_type": "display_data"
    }
   ],
   "source": [
    "plt.plot(best_model.history['accuracy'], label='accuracy')\n",
    "plt.plot(best_model.history['val_accuracy'], label = 'val_accuracy')\n",
    "plt.xlabel('Epoch')\n",
    "plt.ylabel('Accuracy')\n",
    "plt.title(\"CNN Classifier - CV\")\n",
    "plt.ylim([0.5, 1])\n",
    "plt.legend(loc='lower right')\n",
    "\n",
    "print(\"Test Accuracy:\", round(best_acc, 4))"
   ]
  },
  {
   "cell_type": "code",
   "execution_count": null,
   "metadata": {},
   "outputs": [],
   "source": []
  }
 ],
 "metadata": {
  "kernelspec": {
   "display_name": "Python 3",
   "language": "python",
   "name": "python3"
  },
  "language_info": {
   "codemirror_mode": {
    "name": "ipython",
    "version": 3
   },
   "file_extension": ".py",
   "mimetype": "text/x-python",
   "name": "python",
   "nbconvert_exporter": "python",
   "pygments_lexer": "ipython3",
   "version": "3.8.3"
  }
 },
 "nbformat": 4,
 "nbformat_minor": 4
}
