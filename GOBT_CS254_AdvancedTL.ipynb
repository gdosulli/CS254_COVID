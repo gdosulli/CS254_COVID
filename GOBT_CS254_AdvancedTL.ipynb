{
 "cells": [
  {
   "cell_type": "code",
   "execution_count": 1,
   "metadata": {},
   "outputs": [],
   "source": [
    "import os\n",
    "import csv\n",
    "import pandas as pd\n",
    "import numpy as np\n",
    "import matplotlib.pyplot as plt\n",
    "import tensorflow as tf\n",
    "from tensorflow import keras\n",
    "from tensorflow.keras import datasets, layers, models\n",
    "\n",
    "from sklearn.model_selection import train_test_split, KFold, RandomizedSearchCV, GridSearchCV\n",
    "from sklearn.metrics import confusion_matrix, roc_curve, auc, classification_report, plot_confusion_matrix, precision_recall_curve\n",
    "from sklearn.utils import shuffle\n",
    "import seaborn as sns\n",
    "from PIL import Image\n",
    "from tensorflow.keras import backend as K    \n",
    "from tensorflow.keras.wrappers.scikit_learn import KerasClassifier"
   ]
  },
  {
   "cell_type": "markdown",
   "metadata": {},
   "source": [
    "# Methods for Experiments"
   ]
  },
  {
   "cell_type": "code",
   "execution_count": 2,
   "metadata": {},
   "outputs": [],
   "source": [
    "# data distribution\n",
    "def get_distr(targets, labels):\n",
    "    vals = {}\n",
    "    for label in labels.keys():\n",
    "        vals[label] = 0\n",
    "    \n",
    "    for target in targets:\n",
    "        vals[target] += 1\n",
    "    \n",
    "    fig = plt.figure()\n",
    "    ax = fig.add_axes([0,0,1,1])\n",
    "    langs = labels.values()\n",
    "    students = vals.values()\n",
    "    ax.bar(langs,students)\n",
    "    plt.show()"
   ]
  },
  {
   "cell_type": "code",
   "execution_count": 3,
   "metadata": {},
   "outputs": [],
   "source": [
    "# Image normalization\n",
    "img_dim = 224\n",
    "def normalize_images(d, curr_dir):\n",
    "    \"\"\"normalize all images inside dictionary\"\"\"\n",
    "    images = np.empty((len(d['target']), img_dim, img_dim, 3))\n",
    "\n",
    "    for i in range(len(d['filename'])):\n",
    "        image = Image.open(curr_dir + d['filename'][i])\n",
    "\n",
    "        # resize image shape\n",
    "        image = image.resize((img_dim, img_dim))\n",
    "\n",
    "        # convert to grayscale\n",
    "        image = image.convert('RGB')\n",
    "\n",
    "        images[i] = np.array(image)\n",
    "\n",
    "    # normalize values\n",
    "    images = images / 255.0\n",
    "    return images"
   ]
  },
  {
   "cell_type": "code",
   "execution_count": 4,
   "metadata": {},
   "outputs": [],
   "source": [
    "# Data Augmentation\n",
    "aug_count = 8\n",
    "def augment_images(images, targets):\n",
    "    data_augmentation = tf.keras.Sequential([\n",
    "      layers.experimental.preprocessing.RandomFlip(\"horizontal\", dtype='float64'),\n",
    "      layers.experimental.preprocessing.RandomRotation(0.05, dtype='float64')\n",
    "    ])\n",
    "    \n",
    "    aug_images = np.empty((len(targets) * (aug_count + 1), img_dim, img_dim, 3))\n",
    "    new_targets = []\n",
    "    \n",
    "    \n",
    "    for i in range(len(targets)):\n",
    "        image = tf.expand_dims(images[i], 0)\n",
    "        for j in range(0, aug_count):\n",
    "            new_image = data_augmentation(image)\n",
    "            new_targets.append(targets[i])\n",
    "            aug_images[len(new_targets) - 1] = new_image[0]\n",
    "        \n",
    "        # add base image\n",
    "        new_targets.append(targets[i])\n",
    "        aug_images[len(new_targets) - 1] = images[i]\n",
    "    \n",
    "    return np.asarray(aug_images), new_targets"
   ]
  },
  {
   "cell_type": "code",
   "execution_count": 5,
   "metadata": {},
   "outputs": [],
   "source": [
    "# Get data to test on\n",
    "def split_data(images, targets, split_size):\n",
    "    x_train, x_test, y_train, y_test = train_test_split(images, targets, test_size=split_size, random_state=0)\n",
    "    x_train, x_val, y_train, y_val = train_test_split(x_train, y_train, test_size=split_size, random_state=0)\n",
    "    y_train = np.asarray(y_train)\n",
    "    y_val = np.asarray(y_val)\n",
    "    y_test = np.asarray(y_test)\n",
    "    \n",
    "    return x_train, y_train, x_val, y_val, x_test, y_test"
   ]
  },
  {
   "cell_type": "code",
   "execution_count": 6,
   "metadata": {},
   "outputs": [],
   "source": [
    "def graph_correlation(images, targets, classes):\n",
    "    reshaped_images = np.empty((len(targets), img_dim * img_dim * 2))\n",
    "    for i in range(len(targets)):\n",
    "        reshaped_images[i] = images[i].ravel()\n",
    "\n",
    "    pca = PCA(n_components=2)\n",
    "    redData = pca.fit_transform(reshaped_images)\n",
    "    # append target values to reduced data\n",
    "    redData = np.append(redData, np.asarray(targets).reshape(-1, 1), axis=1)\n",
    "     # create scatter plot of reduced data\n",
    "    # add scatter plot for each of the target values\n",
    "    for curr in classes:\n",
    "        currClass = np.where(np.asarray(d['target']) == curr)\n",
    "        plt.scatter(redData[:, 0][currClass], redData[:, 1][currClass])\n",
    "        plt.legend(classes)"
   ]
  },
  {
   "cell_type": "code",
   "execution_count": 7,
   "metadata": {},
   "outputs": [],
   "source": [
    "def convert_pred(y_pred, threshold):\n",
    "    new_pred = np.empty((y_pred.size), dtype='int32')\n",
    "    for i in range(y_pred.size):\n",
    "        if y_pred[i] >= threshold:\n",
    "            new_pred[i] = 1\n",
    "        else:\n",
    "            new_pred[i] = 0\n",
    "    \n",
    "    return new_pred"
   ]
  },
  {
   "cell_type": "markdown",
   "metadata": {},
   "source": [
    "Results functions"
   ]
  },
  {
   "cell_type": "code",
   "execution_count": 8,
   "metadata": {},
   "outputs": [],
   "source": [
    "# accuracy and loss plots\n",
    "def plot_results(history, title):\n",
    "    # plot accuracy and loss curves\n",
    "    fig, axs = plt.subplots(1, 2, figsize=(20, 8))\n",
    "\n",
    "    axs[0].plot(history.history['accuracy'], label='training accuracy')\n",
    "    axs[0].plot(history.history['val_accuracy'], label = 'val accuracy')\n",
    "    axs[0].set_xlabel('Epoch')\n",
    "    axs[0].set_ylabel('Accuracy')\n",
    "    axs[0].set_title((title + ' Accuracy'))\n",
    "    axs[0].set_ylim([0.5, 1])\n",
    "    axs[0].legend(loc='lower right')\n",
    "\n",
    "    axs[1].plot(history.history['loss'], label='training loss')\n",
    "    axs[1].plot(history.history['val_loss'], label = 'val loss')\n",
    "    axs[1].set_xlabel('Epoch')\n",
    "    axs[1].set_ylabel('Loss')\n",
    "    axs[1].set_title((title + ' CNN Loss'))\n",
    "    axs[1].set_ylim([0, 1])\n",
    "    axs[1].legend(loc='lower right')"
   ]
  },
  {
   "cell_type": "code",
   "execution_count": 9,
   "metadata": {},
   "outputs": [],
   "source": [
    "# ROC Plots\n",
    "def plot_ROC(y_test, y_pred, title):\n",
    "    fpr, tpr, thresholds = roc_curve(y_test, y_pred)\n",
    "    auc_val = auc(fpr, tpr)\n",
    "\n",
    "    plt.plot(fpr,tpr) \n",
    "    plt.plot([0, 1], [0, 1], linestyle='dashed')\n",
    "    plt.axis([-0.05, 1.05, -0.05, 1.05]) \n",
    "    plt.xlabel('False Positive Rate') \n",
    "    plt.ylabel('True Positive Rate') \n",
    "    title += \"\\nAUC: \" + str(round(auc_val, 4))\n",
    "    plt.title(title)\n",
    "    plt.show()"
   ]
  },
  {
   "cell_type": "code",
   "execution_count": 10,
   "metadata": {},
   "outputs": [],
   "source": [
    "# Confusion Matrix\n",
    "def plot_cm(y_test, y_pred, title):\n",
    "    cm = confusion_matrix(y_test, y_pred)\n",
    "    cm_df = pd.DataFrame(cm)\n",
    "    cm_df = (cm_df.T/np.sum(cm_df, axis=1)).T\n",
    "    sns.heatmap(cm_df, annot=True, cmap=plt.cm.Blues, fmt=\".2%\")\n",
    "    plt.imshow(cm)\n",
    "    plt.xlabel(\"Predicted Label\")\n",
    "    plt.ylabel(\"True Label\")\n",
    "    plt.title(title)"
   ]
  },
  {
   "cell_type": "code",
   "execution_count": 11,
   "metadata": {},
   "outputs": [],
   "source": [
    "def plot_pr(y_test, y_pred, title):\n",
    "    prec, recall, _ = precision_recall_curve(y_test, y_pred)\n",
    "    plt.plot(recall, prec)\n",
    "    plt.ylim([0, 1])\n",
    "    plt.xlabel(\"Recall\")\n",
    "    plt.ylabel(\"Precision\")\n",
    "    plt.title(title + \" Precision vs Recall\")"
   ]
  },
  {
   "cell_type": "markdown",
   "metadata": {},
   "source": [
    "# Part 0: Load in data"
   ]
  },
  {
   "cell_type": "code",
   "execution_count": 12,
   "metadata": {},
   "outputs": [],
   "source": [
    "# covid/pneumonia\n",
    "data = []\n",
    "with open(\"metadata.csv\") as file:\n",
    "    for row in csv.reader(file):\n",
    "        data.append(row)\n",
    "\n",
    "data = data[1:]\n",
    "\n",
    "# pneumonia/healthy\n",
    "# format: (file location, healthy/pneumonia(0/1))\n",
    "ph_files = [('train/Normal', 0), \n",
    "         ('train/Pneumonia', 1),\n",
    "         ('test/Normal', 0), \n",
    "         ('test/Pneumonia', 1),\n",
    "         ('val/Normal', 0), \n",
    "         ('val/Pneumonia', 1),]"
   ]
  },
  {
   "cell_type": "markdown",
   "metadata": {},
   "source": [
    "COVID/Pneumonia"
   ]
  },
  {
   "cell_type": "code",
   "execution_count": 13,
   "metadata": {},
   "outputs": [
    {
     "data": {
      "image/png": "[encoded data removed]",
      "text/plain": [
       "<Figure size 432x288 with 1 Axes>"
      ]
     },
     "metadata": {
      "needs_background": "light"
     },
     "output_type": "display_data"
    }
   ],
   "source": [
    "ch = {'filename': [], 'target': []}\n",
    "\n",
    "# covid/pneumonia data\n",
    "for image in data:\n",
    "    # skip volume data\n",
    "    if image[22] == \"volumes\":\n",
    "        continue\n",
    "    \n",
    "    # ignore CT scan data\n",
    "    if image[19] == \"CT\":\n",
    "        continue\n",
    "    \n",
    "    diagnosis1 = image[4].split(\"/\")\n",
    "    diagnosis = diagnosis1[len(diagnosis1) - 1].lower()\n",
    "    # set target based on meta data\n",
    "    if diagnosis == \"covid-19\":\n",
    "        # if it is COVID-19\n",
    "        ch['filename'].append(image[23])\n",
    "        ch['target'].append(1)\n",
    "        \n",
    "# healthy from pneumonia/healthy\n",
    "for file in ph_files:\n",
    "    if \"normal\" in file[0].lower():\n",
    "        dir_path = os.path.abspath(os.getcwd())\n",
    "        dir_path = dir_path + \"/chest_xray/\" + file[0]\n",
    "        list = os.listdir(dir_path)\n",
    "        for pic in list:\n",
    "            if '.DS_Store' not in pic:\n",
    "                ch['filename'].append(pic)\n",
    "                ch['target'].append(0)\n",
    "\n",
    "# get distribution\n",
    "labels = {0: \"Healthy\", 1: \"COVID\"}\n",
    "get_distr(ch['target'], labels)\n"
   ]
  },
  {
   "cell_type": "code",
   "execution_count": 14,
   "metadata": {},
   "outputs": [
    {
     "data": {
      "image/png": "[encoded data removed]",
      "text/plain": [
       "<Figure size 432x288 with 1 Axes>"
      ]
     },
     "metadata": {
      "needs_background": "light"
     },
     "output_type": "display_data"
    }
   ],
   "source": [
    "cp = {'filename': [], 'target': []}\n",
    "\n",
    "# covid/pneumonia data\n",
    "for image in data:\n",
    "    # skip volume data\n",
    "    if image[22] == \"volumes\":\n",
    "        continue\n",
    "    \n",
    "    # ignore CT scan data\n",
    "    if image[19] == \"CT\":\n",
    "        continue\n",
    "    \n",
    "    diagnosis1 = image[4].split(\"/\")\n",
    "    diagnosis = diagnosis1[len(diagnosis1) - 1].lower()\n",
    "    # set target based on meta data\n",
    "    if diagnosis == \"covid-19\":\n",
    "        # if it is COVID-19\n",
    "        cp['filename'].append(image[23])\n",
    "        cp['target'].append(1)\n",
    "        \n",
    "# pneumonia from pneumonia/healthy\n",
    "for file in ph_files:\n",
    "    if \"pneumonia\" in file[0].lower():\n",
    "        dir_path = os.path.abspath(os.getcwd())\n",
    "        dir_path = dir_path + \"/chest_xray/\" + file[0]\n",
    "        list = os.listdir(dir_path)\n",
    "        for pic in list:\n",
    "            if '.DS_Store' not in pic:\n",
    "                cp['filename'].append(pic)\n",
    "                cp['target'].append(0)\n",
    "\n",
    "# get distribution\n",
    "labels = {0: \"Pneumonia\", 1: \"COVID\"}\n",
    "get_distr(cp['target'], labels)\n"
   ]
  },
  {
   "cell_type": "code",
   "execution_count": 15,
   "metadata": {},
   "outputs": [
    {
     "data": {
      "image/png": "[encoded data removed]",
      "text/plain": [
       "<Figure size 432x288 with 1 Axes>"
      ]
     },
     "metadata": {
      "needs_background": "light"
     },
     "output_type": "display_data"
    }
   ],
   "source": [
    "cph = {'filename': [], 'target': []}\n",
    "\n",
    "# covid/pneumonia data\n",
    "for image in data:\n",
    "    # skip volume data\n",
    "    if image[22] == \"volumes\":\n",
    "        continue\n",
    "    \n",
    "    # ignore CT scan data\n",
    "    if image[19] == \"CT\":\n",
    "        continue\n",
    "    \n",
    "    diagnosis1 = image[4].split(\"/\")\n",
    "    diagnosis = diagnosis1[len(diagnosis1) - 1].lower()\n",
    "    # set target based on meta data\n",
    "    if diagnosis == \"covid-19\":\n",
    "        # if it is COVID-19\n",
    "        cph['filename'].append(image[23])\n",
    "        cph['target'].append(2)\n",
    "        \n",
    "# pneumonia from pneumonia/healthy\n",
    "for file in ph_files:\n",
    "    dir_path = os.path.abspath(os.getcwd())\n",
    "    dir_path = dir_path + \"/chest_xray/\" + file[0]\n",
    "    list = os.listdir(dir_path)\n",
    "    for pic in list:\n",
    "        if '.DS_Store' not in pic:\n",
    "            cph['filename'].append(pic)\n",
    "            cph['target'].append(file[1])\n",
    "\n",
    "# get distribution\n",
    "labels = {0: \"Healthy\", 1: \"Pneumonia\", 2: \"COVID\"}\n",
    "get_distr(cph['target'], labels)\n"
   ]
  },
  {
   "cell_type": "code",
   "execution_count": 16,
   "metadata": {},
   "outputs": [
    {
     "data": {
      "image/png": "[encoded data removed]",
      "text/plain": [
       "<Figure size 432x288 with 1 Axes>"
      ]
     },
     "metadata": {
      "needs_background": "light"
     },
     "output_type": "display_data"
    }
   ],
   "source": [
    "cc = {'filename': [], 'target': []}\n",
    "\n",
    "# covid/pneumonia data\n",
    "for image in data:\n",
    "    # skip volume data\n",
    "    if image[22] == \"volumes\":\n",
    "        continue\n",
    "    \n",
    "    # ignore CT scan data\n",
    "    if image[19] == \"CT\":\n",
    "        continue\n",
    "    \n",
    "    diagnosis1 = image[4].split(\"/\")\n",
    "    diagnosis = diagnosis1[len(diagnosis1) - 1].lower()\n",
    "    # set target based on meta data\n",
    "    if diagnosis == \"covid-19\":\n",
    "        # if it is COVID-19\n",
    "        if image[7] == \"Y\":\n",
    "            # patient intubated\n",
    "            cc['filename'].append(image[23])\n",
    "            cc['target'].append(1)\n",
    "        elif image[7] == \"N\":\n",
    "            # patient not intubated\n",
    "            cc['filename'].append(image[23])\n",
    "            cc['target'].append(0)\n",
    "\n",
    "\n",
    "# get distribution\n",
    "labels = {0: \"COVID Not Intubated\", 1: \"COVID Intubated\"}\n",
    "get_distr(cc['target'], labels)"
   ]
  },
  {
   "cell_type": "markdown",
   "metadata": {},
   "source": [
    "Plan:\n",
    "1. COVID/Healthy\n",
    "2. COVID/Pneumonia\n",
    "3. COVID/Pneumonia/Healthy\n",
    "4. COVID Not Intubated/COVID Intubated\n",
    "\n",
    "Test on (use Random Search CV for Hyper Params)\n",
    "1. Deep CNN\n",
    "\n",
    "Test Each with\n",
    "1. Not augmented\n",
    "2. Augmented"
   ]
  },
  {
   "cell_type": "markdown",
   "metadata": {},
   "source": [
    "## Create Model"
   ]
  },
  {
   "cell_type": "code",
   "execution_count": 17,
   "metadata": {},
   "outputs": [],
   "source": [
    "def create_model(num_classes=2, lr=0.001, do=0.2, layer_size=1024):\n",
    "    act = 'softmax'\n",
    "    loss = tf.keras.losses.SparseCategoricalCrossentropy()\n",
    "    metrics = ['accuracy']\n",
    "    \n",
    "    if num_classes == 2:\n",
    "        num_classes = 1\n",
    "        act = 'sigmoid'\n",
    "        loss = tf.keras.losses.BinaryCrossentropy()\n",
    "        metrics = [tf.keras.metrics.Recall(), tf.keras.metrics.Precision()]\n",
    "        \n",
    "    base_model = tf.keras.applications.VGG19(weights='imagenet', \n",
    "                                             include_top=False,\n",
    "                                             input_shape=(224, 224, 3),\n",
    "                                             classifier_activation=act)\n",
    "    \n",
    "    base_model.trainable = False\n",
    "\n",
    "    flatten = layers.Flatten()(base_model.layers[-1].output)\n",
    "    dense = layers.Dense(layer_size, activation='relu')(flatten)\n",
    "    output = layers.Dense(num_classes, activation=act)(dense)\n",
    "    \n",
    "    # define new model\n",
    "    model = tf.keras.Model(inputs=base_model.inputs, outputs=output)\n",
    "\n",
    "    opt = tf.keras.optimizers.Adam(lr=lr)\n",
    "    # compile \n",
    "    model.compile(optimizer=opt,\n",
    "                  loss=loss,\n",
    "                  metrics=metrics)\n",
    "    \n",
    "    return model "
   ]
  },
  {
   "cell_type": "markdown",
   "metadata": {},
   "source": [
    "# Hyper Parameter Selection for models"
   ]
  },
  {
   "cell_type": "code",
   "execution_count": 18,
   "metadata": {},
   "outputs": [],
   "source": [
    "lr = 0.001\n",
    "do = 0.2\n",
    "bs = 16\n",
    "threshold = 0.5\n",
    "\n",
    "\n",
    "# early stopping\n",
    "callbacks = [\n",
    "    tf.keras.callbacks.EarlyStopping(\n",
    "        monitor=\"val_loss\",\n",
    "        min_delta=0.01,\n",
    "        patience=2,\n",
    "        verbose=1\n",
    "    )\n",
    "]  "
   ]
  },
  {
   "cell_type": "markdown",
   "metadata": {},
   "source": [
    "# Part 1: VGG19 No Augmentation"
   ]
  },
  {
   "cell_type": "markdown",
   "metadata": {},
   "source": [
    "## 1. COVID/Healthy"
   ]
  },
  {
   "cell_type": "code",
   "execution_count": 133,
   "metadata": {},
   "outputs": [],
   "source": [
    "ch_images = normalize_images(ch, \"all_images/\")"
   ]
  },
  {
   "cell_type": "code",
   "execution_count": 134,
   "metadata": {},
   "outputs": [],
   "source": [
    "chx_train, chy_train, chx_val, chy_val, chx_test, chy_test = split_data(ch_images, ch['target'], .2)"
   ]
  },
  {
   "cell_type": "code",
   "execution_count": 135,
   "metadata": {},
   "outputs": [
    {
     "name": "stdout",
     "output_type": "stream",
     "text": [
      "Epoch 1/10\n",
      "84/84 [==============================] - 164s 2s/step - loss: 0.6215 - recall_3: 0.9164 - precision_3: 0.9338 - val_loss: 0.1459 - val_recall_3: 0.8590 - val_precision_3: 1.0000\n",
      "Epoch 2/10\n",
      "84/84 [==============================] - 172s 2s/step - loss: 0.0315 - recall_3: 0.9721 - precision_3: 0.9905 - val_loss: 0.0345 - val_recall_3: 0.9744 - val_precision_3: 0.9744\n",
      "Epoch 3/10\n",
      "84/84 [==============================] - 171s 2s/step - loss: 0.0067 - recall_3: 0.9969 - precision_3: 0.9969 - val_loss: 0.0409 - val_recall_3: 0.9744 - val_precision_3: 0.9744\n",
      "Epoch 4/10\n",
      "84/84 [==============================] - 168s 2s/step - loss: 5.0020e-05 - recall_3: 1.0000 - precision_3: 1.0000 - val_loss: 0.0407 - val_recall_3: 0.9744 - val_precision_3: 0.9744\n",
      "Epoch 00004: early stopping\n"
     ]
    }
   ],
   "source": [
    "ch_model = create_model(num_classes=2)\n",
    "\n",
    "ch_history = ch_model.fit(chx_train, np.asarray(chy_train), epochs=10,\n",
    "                               validation_data=(chx_val, chy_val),\n",
    "                               batch_size=bs,\n",
    "                               callbacks=callbacks\n",
    "                               )"
   ]
  },
  {
   "cell_type": "code",
   "execution_count": 136,
   "metadata": {},
   "outputs": [
    {
     "name": "stdout",
     "output_type": "stream",
     "text": [
      "WARNING:tensorflow:5 out of the last 57 calls to <function Model.make_predict_function.<locals>.predict_function at 0x7f7f8a3aa550> triggered tf.function retracing. Tracing is expensive and the excessive number of tracings could be due to (1) creating @tf.function repeatedly in a loop, (2) passing tensors with different shapes, (3) passing Python objects instead of tensors. For (1), please define your @tf.function outside of the loop. For (2), @tf.function has experimental_relax_shapes=True option that relaxes argument shapes that can avoid unnecessary retracing. For (3), please refer to https://www.tensorflow.org/tutorials/customization/performance#python_or_tensor_args and https://www.tensorflow.org/api_docs/python/tf/function for  more details.\n"
     ]
    }
   ],
   "source": [
    "chy_pred = ch_model.predict(chx_test)"
   ]
  },
  {
   "cell_type": "code",
   "execution_count": 137,
   "metadata": {},
   "outputs": [],
   "source": [
    "chy_pred_norm = convert_pred(chy_pred, threshold)"
   ]
  },
  {
   "cell_type": "code",
   "execution_count": 138,
   "metadata": {},
   "outputs": [
    {
     "name": "stdout",
     "output_type": "stream",
     "text": [
      "              precision    recall  f1-score   support\n",
      "\n",
      "           0       0.99      1.00      1.00       315\n",
      "           1       0.99      0.98      0.99       103\n",
      "\n",
      "    accuracy                           0.99       418\n",
      "   macro avg       0.99      0.99      0.99       418\n",
      "weighted avg       0.99      0.99      0.99       418\n",
      "\n"
     ]
    }
   ],
   "source": [
    "print(classification_report(chy_test, chy_pred_norm))"
   ]
  },
  {
   "cell_type": "code",
   "execution_count": 139,
   "metadata": {},
   "outputs": [
    {
     "data": {
      "image/png": "[encoded data removed]",
      "text/plain": [
       "<Figure size 432x288 with 2 Axes>"
      ]
     },
     "metadata": {
      "needs_background": "light"
     },
     "output_type": "display_data"
    }
   ],
   "source": [
    "plot_cm(chy_test, chy_pred_norm, \"Healthy(0)/COVID(1)\")"
   ]
  },
  {
   "cell_type": "code",
   "execution_count": 140,
   "metadata": {},
   "outputs": [
    {
     "data": {
      "image/png": "[encoded data removed]",
      "text/plain": [
       "<Figure size 432x288 with 1 Axes>"
      ]
     },
     "metadata": {
      "needs_background": "light"
     },
     "output_type": "display_data"
    }
   ],
   "source": [
    "plot_ROC(chy_test, chy_pred, \"COVID/Healthy - VGG19\")"
   ]
  },
  {
   "cell_type": "markdown",
   "metadata": {},
   "source": [
    "## 2. COVID/Pneumonia"
   ]
  },
  {
   "cell_type": "code",
   "execution_count": 142,
   "metadata": {},
   "outputs": [],
   "source": [
    "cp_images = normalize_images(cp, \"all_images/\")"
   ]
  },
  {
   "cell_type": "code",
   "execution_count": 143,
   "metadata": {},
   "outputs": [],
   "source": [
    "cpx_train, cpy_train, cpx_val, cpy_val, cpx_test, cpy_test = split_data(cp_images, cp['target'], .2)"
   ]
  },
  {
   "cell_type": "code",
   "execution_count": 144,
   "metadata": {},
   "outputs": [],
   "source": [
    "cp_model = create_model(2)"
   ]
  },
  {
   "cell_type": "code",
   "execution_count": 145,
   "metadata": {},
   "outputs": [
    {
     "name": "stdout",
     "output_type": "stream",
     "text": [
      "Epoch 1/10\n",
      "191/191 [==============================] - 373s 2s/step - loss: 0.5875 - recall_4: 0.8044 - precision_4: 0.8147 - val_loss: 0.1283 - val_recall_4: 0.7683 - val_precision_4: 1.0000\n",
      "Epoch 2/10\n",
      "191/191 [==============================] - 383s 2s/step - loss: 0.0392 - recall_4: 0.9464 - precision_4: 0.9585 - val_loss: 0.1691 - val_recall_4: 1.0000 - val_precision_4: 0.7961\n",
      "Epoch 3/10\n",
      "191/191 [==============================] - 388s 2s/step - loss: 0.0042 - recall_4: 0.9937 - precision_4: 0.9937 - val_loss: 0.0444 - val_recall_4: 0.9390 - val_precision_4: 0.9872\n",
      "Epoch 4/10\n",
      "191/191 [==============================] - 395s 2s/step - loss: 0.0020 - recall_4: 0.9968 - precision_4: 0.9968 - val_loss: 0.0459 - val_recall_4: 1.0000 - val_precision_4: 0.9318\n",
      "Epoch 5/10\n",
      "191/191 [==============================] - 379s 2s/step - loss: 0.0052 - recall_4: 0.9905 - precision_4: 0.9905 - val_loss: 0.0228 - val_recall_4: 0.9634 - val_precision_4: 0.9875\n",
      "Epoch 6/10\n",
      "191/191 [==============================] - 372s 2s/step - loss: 0.0075 - recall_4: 0.9937 - precision_4: 0.9937 - val_loss: 0.0559 - val_recall_4: 0.9024 - val_precision_4: 1.0000\n",
      "Epoch 7/10\n",
      "191/191 [==============================] - 370s 2s/step - loss: 0.0440 - recall_4: 0.9590 - precision_4: 0.9620 - val_loss: 0.0142 - val_recall_4: 0.9756 - val_precision_4: 0.9877\n",
      "Epoch 00007: early stopping\n"
     ]
    }
   ],
   "source": [
    "cp_history = cp_model.fit(cpx_train, np.asarray(cpy_train), epochs=10,\n",
    "                               validation_data=(cpx_val, cpy_val),\n",
    "                               batch_size=bs,\n",
    "                               callbacks=callbacks\n",
    "                               )"
   ]
  },
  {
   "cell_type": "code",
   "execution_count": 146,
   "metadata": {},
   "outputs": [],
   "source": [
    "cpy_pred = cp_model.predict(cpx_test)"
   ]
  },
  {
   "cell_type": "code",
   "execution_count": 147,
   "metadata": {},
   "outputs": [],
   "source": [
    "cpy_pred_norm = convert_pred(cpy_pred, threshold)"
   ]
  },
  {
   "cell_type": "code",
   "execution_count": 148,
   "metadata": {},
   "outputs": [
    {
     "name": "stdout",
     "output_type": "stream",
     "text": [
      "              precision    recall  f1-score   support\n",
      "\n",
      "           0       1.00      1.00      1.00       851\n",
      "           1       0.99      1.00      1.00       105\n",
      "\n",
      "    accuracy                           1.00       956\n",
      "   macro avg       1.00      1.00      1.00       956\n",
      "weighted avg       1.00      1.00      1.00       956\n",
      "\n"
     ]
    }
   ],
   "source": [
    "print(classification_report(cpy_test, cpy_pred_norm))"
   ]
  },
  {
   "cell_type": "code",
   "execution_count": 149,
   "metadata": {},
   "outputs": [
    {
     "data": {
      "image/png": "[encoded data removed]",
      "text/plain": [
       "<Figure size 432x288 with 2 Axes>"
      ]
     },
     "metadata": {
      "needs_background": "light"
     },
     "output_type": "display_data"
    }
   ],
   "source": [
    "plot_cm(cpy_test, cpy_pred_norm, \"Pneumonia(0)/COVID(1) - VGG19\")"
   ]
  },
  {
   "cell_type": "code",
   "execution_count": 150,
   "metadata": {},
   "outputs": [
    {
     "data": {
      "image/png": "[encoded data removed]",
      "text/plain": [
       "<Figure size 432x288 with 1 Axes>"
      ]
     },
     "metadata": {
      "needs_background": "light"
     },
     "output_type": "display_data"
    }
   ],
   "source": [
    "plot_ROC(cpy_test, cpy_pred, \"COVID/Healthy - VGG19\")"
   ]
  },
  {
   "cell_type": "markdown",
   "metadata": {},
   "source": [
    "## 3. COVID/Pnuemonia/Healthy"
   ]
  },
  {
   "cell_type": "code",
   "execution_count": 19,
   "metadata": {},
   "outputs": [],
   "source": [
    "cph_images = normalize_images(cph, \"all_images/\")"
   ]
  },
  {
   "cell_type": "code",
   "execution_count": 20,
   "metadata": {},
   "outputs": [],
   "source": [
    "cphx_train, cphy_train, cphx_val, cphy_val, cphx_test, cphy_test = split_data(cph_images, cph['target'], .2)"
   ]
  },
  {
   "cell_type": "code",
   "execution_count": 21,
   "metadata": {},
   "outputs": [
    {
     "name": "stdout",
     "output_type": "stream",
     "text": [
      "Epoch 1/10\n",
      "255/255 [==============================] - 464s 2s/step - loss: 0.8216 - accuracy: 0.8995 - val_loss: 0.3216 - val_accuracy: 0.9352\n",
      "Epoch 2/10\n",
      "255/255 [==============================] - 482s 2s/step - loss: 0.1948 - accuracy: 0.9555 - val_loss: 0.2867 - val_accuracy: 0.9283\n",
      "Epoch 3/10\n",
      "255/255 [==============================] - 494s 2s/step - loss: 0.1352 - accuracy: 0.9629 - val_loss: 0.2139 - val_accuracy: 0.9361\n",
      "Epoch 4/10\n",
      "255/255 [==============================] - 539s 2s/step - loss: 0.0639 - accuracy: 0.9767 - val_loss: 0.1306 - val_accuracy: 0.9597\n",
      "Epoch 5/10\n",
      "255/255 [==============================] - 539s 2s/step - loss: 0.0784 - accuracy: 0.9722 - val_loss: 0.1311 - val_accuracy: 0.9597\n",
      "Epoch 6/10\n",
      "255/255 [==============================] - 558s 2s/step - loss: 0.0601 - accuracy: 0.9776 - val_loss: 0.2549 - val_accuracy: 0.9371\n",
      "Epoch 00006: early stopping\n"
     ]
    }
   ],
   "source": [
    "cph_model = create_model(3)\n",
    "\n",
    "cph_history = cph_model.fit(cphx_train, np.asarray(cphy_train), epochs=10,\n",
    "                               validation_data=(cphx_val, cphy_val),\n",
    "                               batch_size=bs,\n",
    "                               callbacks=callbacks\n",
    "                               )"
   ]
  },
  {
   "cell_type": "code",
   "execution_count": 22,
   "metadata": {},
   "outputs": [],
   "source": [
    "cphy_pred = cph_model.predict(cphx_test)"
   ]
  },
  {
   "cell_type": "code",
   "execution_count": 23,
   "metadata": {},
   "outputs": [],
   "source": [
    "cphy_pred_norm = np.empty(cphy_test.size, dtype='int32')\n",
    "\n",
    "for i in range(cphy_test.size):\n",
    "    ind = np.argmax(cphy_pred[i])\n",
    "    cphy_pred_norm[i] = ind"
   ]
  },
  {
   "cell_type": "code",
   "execution_count": 24,
   "metadata": {},
   "outputs": [
    {
     "name": "stdout",
     "output_type": "stream",
     "text": [
      "              precision    recall  f1-score   support\n",
      "\n",
      "           0       0.98      0.77      0.86       314\n",
      "           1       0.92      0.99      0.96       851\n",
      "           2       0.96      0.99      0.98       107\n",
      "\n",
      "    accuracy                           0.94      1272\n",
      "   macro avg       0.96      0.92      0.93      1272\n",
      "weighted avg       0.94      0.94      0.93      1272\n",
      "\n"
     ]
    }
   ],
   "source": [
    "print(classification_report(cphy_test, cphy_pred_norm))"
   ]
  },
  {
   "cell_type": "code",
   "execution_count": 25,
   "metadata": {},
   "outputs": [
    {
     "data": {
      "image/png": "[encoded data removed]",
      "text/plain": [
       "<Figure size 432x288 with 2 Axes>"
      ]
     },
     "metadata": {
      "needs_background": "light"
     },
     "output_type": "display_data"
    }
   ],
   "source": [
    "plot_cm(cphy_test, cphy_pred_norm, \"Healthy(0)/Pneumonia(1)/COVID(2)\")"
   ]
  },
  {
   "cell_type": "markdown",
   "metadata": {},
   "source": [
    "## 4. COVID Not Intubated/COVID Intubated"
   ]
  },
  {
   "cell_type": "code",
   "execution_count": 106,
   "metadata": {},
   "outputs": [],
   "source": [
    "cc_images = normalize_images(cc, \"all_images/\")"
   ]
  },
  {
   "cell_type": "code",
   "execution_count": 107,
   "metadata": {},
   "outputs": [],
   "source": [
    "ccx_train, ccy_train, ccx_val, ccy_val, ccx_test, ccy_test = split_data(cc_images, cc['target'], .2)"
   ]
  },
  {
   "cell_type": "code",
   "execution_count": 108,
   "metadata": {},
   "outputs": [
    {
     "name": "stdout",
     "output_type": "stream",
     "text": [
      "Epoch 1/10\n",
      "7/7 [==============================] - 12s 2s/step - loss: 7.0241 - recall: 0.6522 - precision: 0.6429 - val_loss: 3.7040 - val_recall: 1.0000 - val_precision: 0.5556\n",
      "Epoch 2/10\n",
      "7/7 [==============================] - 12s 2s/step - loss: 1.2553 - recall: 0.7391 - precision: 0.8095 - val_loss: 2.9240 - val_recall: 1.0000 - val_precision: 0.5556\n",
      "Epoch 3/10\n",
      "7/7 [==============================] - 12s 2s/step - loss: 0.6157 - recall: 0.8261 - precision: 0.8382 - val_loss: 1.3512 - val_recall: 1.0000 - val_precision: 0.6818\n",
      "Epoch 4/10\n",
      "7/7 [==============================] - 12s 2s/step - loss: 0.4641 - recall: 0.9710 - precision: 0.8272 - val_loss: 0.6402 - val_recall: 0.6000 - val_precision: 0.8182\n",
      "Epoch 5/10\n",
      "7/7 [==============================] - 12s 2s/step - loss: 0.1999 - recall: 0.9420 - precision: 0.9155 - val_loss: 0.6526 - val_recall: 0.9333 - val_precision: 0.6667\n",
      "Epoch 6/10\n",
      "7/7 [==============================] - 12s 2s/step - loss: 0.0512 - recall: 1.0000 - precision: 1.0000 - val_loss: 0.6209 - val_recall: 0.9333 - val_precision: 0.6667\n",
      "Epoch 7/10\n",
      "7/7 [==============================] - 12s 2s/step - loss: 0.0477 - recall: 1.0000 - precision: 0.9718 - val_loss: 0.4178 - val_recall: 0.8000 - val_precision: 0.7500\n",
      "Epoch 8/10\n",
      "7/7 [==============================] - 12s 2s/step - loss: 0.0581 - recall: 1.0000 - precision: 1.0000 - val_loss: 0.9866 - val_recall: 1.0000 - val_precision: 0.6522\n",
      "Epoch 9/10\n",
      "7/7 [==============================] - 12s 2s/step - loss: 0.0463 - recall: 1.0000 - precision: 0.9857 - val_loss: 0.4272 - val_recall: 0.8667 - val_precision: 0.7222\n",
      "Epoch 00009: early stopping\n"
     ]
    }
   ],
   "source": [
    "cc_model = create_model(2)\n",
    "\n",
    "cc_history = cc_model.fit(ccx_train, np.asarray(ccy_train), epochs=10,\n",
    "                               validation_data=(ccx_val, ccy_val),\n",
    "                               batch_size=bs,\n",
    "                               callbacks=callbacks\n",
    "                               )"
   ]
  },
  {
   "cell_type": "code",
   "execution_count": 109,
   "metadata": {},
   "outputs": [],
   "source": [
    "ccy_pred = cc_model.predict(ccx_test)"
   ]
  },
  {
   "cell_type": "code",
   "execution_count": 110,
   "metadata": {},
   "outputs": [],
   "source": [
    "ccy_pred_norm = convert_pred(ccy_pred, threshold)"
   ]
  },
  {
   "cell_type": "code",
   "execution_count": 111,
   "metadata": {},
   "outputs": [
    {
     "name": "stdout",
     "output_type": "stream",
     "text": [
      "              precision    recall  f1-score   support\n",
      "\n",
      "           0       0.60      0.67      0.63         9\n",
      "           1       0.88      0.84      0.86        25\n",
      "\n",
      "    accuracy                           0.79        34\n",
      "   macro avg       0.74      0.75      0.74        34\n",
      "weighted avg       0.80      0.79      0.80        34\n",
      "\n"
     ]
    }
   ],
   "source": [
    "print(classification_report(ccy_test, ccy_pred_norm))"
   ]
  },
  {
   "cell_type": "code",
   "execution_count": 112,
   "metadata": {},
   "outputs": [
    {
     "data": {
      "image/png": "[encoded data removed]",
      "text/plain": [
       "<Figure size 432x288 with 2 Axes>"
      ]
     },
     "metadata": {
      "needs_background": "light"
     },
     "output_type": "display_data"
    }
   ],
   "source": [
    "plot_cm(ccy_test, ccy_pred_norm, \"COVID Not Intubated(0)/COVID Intubated(1) - VGG19\")"
   ]
  },
  {
   "cell_type": "code",
   "execution_count": 113,
   "metadata": {},
   "outputs": [
    {
     "data": {
      "image/png": "[encoded data removed]",
      "text/plain": [
       "<Figure size 432x288 with 1 Axes>"
      ]
     },
     "metadata": {
      "needs_background": "light"
     },
     "output_type": "display_data"
    }
   ],
   "source": [
    "plot_ROC(ccy_test, ccy_pred, \"COVID Not Intubated/COVID Intubated\")"
   ]
  },
  {
   "cell_type": "markdown",
   "metadata": {},
   "source": [
    "# Part 1: VGG19 With Augmentation"
   ]
  },
  {
   "cell_type": "markdown",
   "metadata": {},
   "source": [
    "## 1. COVID Not Intubated/COVID Intubated Augmented"
   ]
  },
  {
   "cell_type": "code",
   "execution_count": 124,
   "metadata": {},
   "outputs": [],
   "source": [
    "ccax_train, ccay_train, ccax_val, ccay_val, ccax_test, ccay_test = split_data(cc_images, cc['target'], .25)"
   ]
  },
  {
   "cell_type": "code",
   "execution_count": 125,
   "metadata": {},
   "outputs": [],
   "source": [
    "ccax_train, ccay_train = augment_images(ccax_train, ccay_train)"
   ]
  },
  {
   "cell_type": "code",
   "execution_count": 126,
   "metadata": {},
   "outputs": [
    {
     "name": "stdout",
     "output_type": "stream",
     "text": [
      "Epoch 1/10\n",
      "53/53 [==============================] - 86s 2s/step - loss: 1.0176 - recall_2: 0.8199 - precision_2: 0.8030 - val_loss: 0.6172 - val_recall_2: 0.9500 - val_precision_2: 0.7600\n",
      "Epoch 2/10\n",
      "53/53 [==============================] - 91s 2s/step - loss: 0.2477 - recall_2: 0.9291 - precision_2: 0.9134 - val_loss: 0.9659 - val_recall_2: 0.7000 - val_precision_2: 0.8750\n",
      "Epoch 3/10\n",
      "53/53 [==============================] - 92s 2s/step - loss: 0.0840 - recall_2: 0.9808 - precision_2: 0.9715 - val_loss: 0.6417 - val_recall_2: 0.8500 - val_precision_2: 0.8500\n",
      "Epoch 00003: early stopping\n"
     ]
    }
   ],
   "source": [
    "cca_model = create_model(2)\n",
    "\n",
    "cca_history = cca_model.fit(ccax_train, np.asarray(ccay_train), epochs=10,\n",
    "                               validation_data=(ccax_val, ccay_val),\n",
    "                               batch_size=bs,\n",
    "                               callbacks=callbacks\n",
    "                               )"
   ]
  },
  {
   "cell_type": "code",
   "execution_count": 127,
   "metadata": {},
   "outputs": [],
   "source": [
    "ccay_pred = cca_model.predict(ccax_test)"
   ]
  },
  {
   "cell_type": "code",
   "execution_count": 128,
   "metadata": {},
   "outputs": [],
   "source": [
    "ccay_pred_norm = convert_pred(ccay_pred, threshold)"
   ]
  },
  {
   "cell_type": "code",
   "execution_count": 129,
   "metadata": {},
   "outputs": [
    {
     "name": "stdout",
     "output_type": "stream",
     "text": [
      "              precision    recall  f1-score   support\n",
      "\n",
      "           0       0.64      0.64      0.64        11\n",
      "           1       0.87      0.87      0.87        31\n",
      "\n",
      "    accuracy                           0.81        42\n",
      "   macro avg       0.75      0.75      0.75        42\n",
      "weighted avg       0.81      0.81      0.81        42\n",
      "\n"
     ]
    }
   ],
   "source": [
    "print(classification_report(ccay_test, ccay_pred_norm))"
   ]
  },
  {
   "cell_type": "code",
   "execution_count": 130,
   "metadata": {},
   "outputs": [
    {
     "data": {
      "image/png": "[encoded data removed]",
      "text/plain": [
       "<Figure size 432x288 with 2 Axes>"
      ]
     },
     "metadata": {
      "needs_background": "light"
     },
     "output_type": "display_data"
    }
   ],
   "source": [
    "plot_cm(ccay_test, ccay_pred_norm, \"COVID Not Intubated(0)/COVID Intubated(1) - Augmented\")"
   ]
  },
  {
   "cell_type": "code",
   "execution_count": 131,
   "metadata": {},
   "outputs": [
    {
     "data": {
      "image/png": "[encoded data removed]",
      "text/plain": [
       "<Figure size 432x288 with 1 Axes>"
      ]
     },
     "metadata": {
      "needs_background": "light"
     },
     "output_type": "display_data"
    }
   ],
   "source": [
    "plot_ROC(ccay_test, ccay_pred, \"COVID Not Intubated/COVID Intubated - Augmented\")"
   ]
  },
  {
   "cell_type": "markdown",
   "metadata": {},
   "source": [
    "## 2. COVID/Pneumonia/Healthy Augmented"
   ]
  },
  {
   "cell_type": "code",
   "execution_count": 32,
   "metadata": {},
   "outputs": [],
   "source": [
    "cphax_train, cphay_train, cphax_val, cphay_val, cphax_test, cphay_test = split_data(cph_images, cph['target'], .25)"
   ]
  },
  {
   "cell_type": "code",
   "execution_count": 33,
   "metadata": {},
   "outputs": [],
   "source": [
    "cphax_train, cphay_train = augment_images(cphax_train, cphay_train)"
   ]
  },
  {
   "cell_type": "code",
   "execution_count": 34,
   "metadata": {},
   "outputs": [
    {
     "name": "stdout",
     "output_type": "stream",
     "text": [
      "Epoch 1/10\n",
      "2013/2013 [==============================] - 3044s 2s/step - loss: 0.3055 - accuracy: 0.9295 - val_loss: 0.1672 - val_accuracy: 0.9396\n",
      "Epoch 2/10\n",
      "2013/2013 [==============================] - 2904s 1s/step - loss: 0.1046 - accuracy: 0.9595 - val_loss: 0.1556 - val_accuracy: 0.9422\n",
      "Epoch 3/10\n",
      "2013/2013 [==============================] - 2898s 1s/step - loss: 0.0857 - accuracy: 0.9681 - val_loss: 0.0940 - val_accuracy: 0.9715\n",
      "Epoch 4/10\n",
      "2013/2013 [==============================] - 2874s 1s/step - loss: 0.0692 - accuracy: 0.9741 - val_loss: 0.0943 - val_accuracy: 0.9640\n",
      "Epoch 5/10\n",
      "2013/2013 [==============================] - 2885s 1s/step - loss: 0.0527 - accuracy: 0.9803 - val_loss: 0.1145 - val_accuracy: 0.9681\n",
      "Epoch 00005: early stopping\n"
     ]
    }
   ],
   "source": [
    "cpha_model = create_model(3)\n",
    "\n",
    "cpha_history = cpha_model.fit(cphax_train, np.asarray(cphay_train), epochs=10,\n",
    "                               validation_data=(cphax_val, cphay_val),\n",
    "                               batch_size=bs,\n",
    "                               callbacks=callbacks\n",
    "                               )"
   ]
  },
  {
   "cell_type": "code",
   "execution_count": 35,
   "metadata": {},
   "outputs": [],
   "source": [
    "cphay_pred = cpha_model.predict(cphax_test)"
   ]
  },
  {
   "cell_type": "code",
   "execution_count": 36,
   "metadata": {},
   "outputs": [],
   "source": [
    "cphay_pred_norm = np.empty(cphay_test.size, dtype='int32')\n",
    "\n",
    "for i in range(cphay_test.size):\n",
    "    ind = np.argmax(cphay_pred[i])\n",
    "    cphay_pred_norm[i] = ind"
   ]
  },
  {
   "cell_type": "code",
   "execution_count": 37,
   "metadata": {},
   "outputs": [
    {
     "name": "stdout",
     "output_type": "stream",
     "text": [
      "              precision    recall  f1-score   support\n",
      "\n",
      "           0       0.94      0.89      0.91       392\n",
      "           1       0.96      0.98      0.97      1067\n",
      "           2       0.98      1.00      0.99       131\n",
      "\n",
      "    accuracy                           0.96      1590\n",
      "   macro avg       0.96      0.96      0.96      1590\n",
      "weighted avg       0.96      0.96      0.96      1590\n",
      "\n"
     ]
    }
   ],
   "source": [
    "print(classification_report(cphay_test, cphay_pred_norm))"
   ]
  },
  {
   "cell_type": "code",
   "execution_count": 104,
   "metadata": {},
   "outputs": [
    {
     "data": {
      "image/png": "[encoded data removed]",
      "text/plain": [
       "<Figure size 432x288 with 2 Axes>"
      ]
     },
     "metadata": {
      "needs_background": "light"
     },
     "output_type": "display_data"
    }
   ],
   "source": [
    "plot_cm(cphay_test, cphay_pred_norm, \"Healthy(0)/Pneumonia(1)/COVID(2) Augmented\")"
   ]
  },
  {
   "cell_type": "code",
   "execution_count": null,
   "metadata": {},
   "outputs": [],
   "source": []
  }
 ],
 "metadata": {
  "kernelspec": {
   "display_name": "Python 3",
   "language": "python",
   "name": "python3"
  },
  "language_info": {
   "codemirror_mode": {
    "name": "ipython",
    "version": 3
   },
   "file_extension": ".py",
   "mimetype": "text/x-python",
   "name": "python",
   "nbconvert_exporter": "python",
   "pygments_lexer": "ipython3",
   "version": "3.8.3"
  }
 },
 "nbformat": 4,
 "nbformat_minor": 4
}
