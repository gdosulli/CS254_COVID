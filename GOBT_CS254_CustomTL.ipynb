{
 "cells": [
  {
   "cell_type": "markdown",
   "metadata": {},
   "source": [
    "Imports"
   ]
  },
  {
   "cell_type": "code",
   "execution_count": 91,
   "metadata": {},
   "outputs": [],
   "source": [
    "import os\n",
    "import csv\n",
    "import pandas as pd\n",
    "import numpy as np\n",
    "import matplotlib.pyplot as plt\n",
    "import tensorflow as tf\n",
    "from tensorflow.keras import datasets, layers, models\n",
    "\n",
    "from sklearn.model_selection import train_test_split, KFold, RandomizedSearchCV, GridSearchCV\n",
    "from sklearn.metrics import confusion_matrix, roc_curve, auc, classification_report, precision_recall_curve\n",
    "from sklearn.utils import shuffle\n",
    "from PIL import Image\n",
    "from tensorflow.keras import backend as K    \n",
    "from tensorflow.keras.wrappers.scikit_learn import KerasClassifier\n",
    "from sklearn.decomposition import PCA\n",
    "import seaborn as sns"
   ]
  },
  {
   "cell_type": "code",
   "execution_count": 92,
   "metadata": {},
   "outputs": [],
   "source": [
    "def plot_ROC(y_test, y_pred, title):\n",
    "    fpr, tpr, thresholds = roc_curve(y_test, y_pred)\n",
    "    auc_val = auc(fpr, tpr)\n",
    "    plt.plot(fpr,tpr) \n",
    "    plt.plot([0, 1], [0, 1], linestyle='dashed')\n",
    "    plt.axis([-0.05, 1.05, -0.05, 1.05])\n",
    "    plt.xlabel('False Positive Rate') \n",
    "    plt.ylabel('True Positive Rate') \n",
    "    title += \"\\nAUC: \" + str(round(auc_val, 4))\n",
    "    plt.title(title)\n",
    "    plt.show()"
   ]
  },
  {
   "cell_type": "code",
   "execution_count": 98,
   "metadata": {},
   "outputs": [],
   "source": [
    "def plot_cm(y_test, y_pred, title):\n",
    "    cm = confusion_matrix(y_test, y_pred)\n",
    "    cm_df = pd.DataFrame(cm)\n",
    "    cm_df = (cm_df.T/np.sum(cm_df, axis=1)).T\n",
    "    sns.heatmap(cm_df, annot=True, cmap=plt.cm.Blues, fmt=\".2%\")\n",
    "    plt.imshow(cm)\n",
    "    plt.xlabel(\"Predicted Label\")\n",
    "    plt.ylabel(\"True Label\")\n",
    "    plt.title(title)"
   ]
  },
  {
   "cell_type": "code",
   "execution_count": 94,
   "metadata": {},
   "outputs": [],
   "source": [
    "def plot_pr(y_test, y_pred, title):\n",
    "    new_pred = []\n",
    "    for val in y_pred:\n",
    "        if val >= 0.5:\n",
    "            new_pred.append(val)\n",
    "        else:\n",
    "            new_pred.append(0)\n",
    "    prec, recall, _ = precision_recall_curve(y_test, new_pred)\n",
    "    plt.plot(recall, prec)\n",
    "    plt.ylim([0, 1])\n",
    "    plt.xlabel(\"Recall\")\n",
    "    plt.ylabel(\"Precision\")\n",
    "    plt.title(title + \" Precision vs Recall\")"
   ]
  },
  {
   "cell_type": "code",
   "execution_count": 95,
   "metadata": {},
   "outputs": [],
   "source": [
    "def convert_pred(y_pred, threshold):\n",
    "    new_pred = np.empty((y_pred.size), dtype='int32')\n",
    "    for i in range(y_pred.size):\n",
    "        if y_pred[i] >= threshold:\n",
    "            new_pred[i] = 1\n",
    "        else:\n",
    "            new_pred[i] = 0\n",
    "    \n",
    "    return new_pred"
   ]
  },
  {
   "cell_type": "markdown",
   "metadata": {},
   "source": [
    "# Part 0: Load in pneumonia/healthy data to train CNN on\n",
    "\n",
    "We will be training a CNN with a large pneumonia/healthy chest x-ray dataset and use transfer learning to train it for COVID/Non-COVID"
   ]
  },
  {
   "cell_type": "code",
   "execution_count": 96,
   "metadata": {},
   "outputs": [],
   "source": [
    "init_d = {'filename': [], 'target': []}\n",
    "\n",
    "# format: (file location, healthy/pneumonia(0/1))\n",
    "files = [('train/Normal', 0), \n",
    "         ('train/Pneumonia', 1),\n",
    "         ('test/Pneumonia', 1),\n",
    "         ('val/Normal', 0), \n",
    "         ('val/Pneumonia', 1),]\n",
    "\n",
    "for file in files:\n",
    "    dir_path = os.path.abspath(os.getcwd())\n",
    "    dir_path = dir_path + \"/chest_xray/\" + file[0]\n",
    "    list = os.listdir(dir_path)\n",
    "    for pic in list:\n",
    "        if '.DS_Store' not in pic:\n",
    "            init_d['filename'].append(pic)\n",
    "            init_d['target'].append(file[1])"
   ]
  },
  {
   "cell_type": "markdown",
   "metadata": {},
   "source": [
    "# Part 1: Preprocessing for images\n",
    "Load in images for the corresponding target data with PIL. Reformat all images to the same dimensions and convert them to a numpy array for the models to use (where each is a (# pixels, # pixels) array)."
   ]
  },
  {
   "cell_type": "code",
   "execution_count": 97,
   "metadata": {},
   "outputs": [],
   "source": [
    "# Load in image data from filenames with PIL\n",
    "img_dim = 128\n",
    "def normalize_images(d, curr_dir):\n",
    "    \"\"\"normalize all images inside dictionary\"\"\"\n",
    "    images = np.empty((len(d['target']), img_dim, img_dim, 3))\n",
    "\n",
    "    for i in range(len(d['filename'])):\n",
    "        image = Image.open(curr_dir + d['filename'][i])\n",
    "\n",
    "        # resize image shape\n",
    "        image = image.resize((img_dim, img_dim))\n",
    "\n",
    "        # convert to grayscale\n",
    "        image = image.convert('LA')\n",
    "\n",
    "        images[i] = np.array(image)\n",
    "\n",
    "    # normalize values\n",
    "    images = images / 255.0\n",
    "    return images"
   ]
  },
  {
   "cell_type": "code",
   "execution_count": 80,
   "metadata": {},
   "outputs": [],
   "source": [
    "# get train/test/val images\n",
    "images = normalize_images(init_d, \"chest_xray/pooled_imgs/\")"
   ]
  },
  {
   "cell_type": "markdown",
   "metadata": {},
   "source": [
    "### Data Augmenation"
   ]
  },
  {
   "cell_type": "code",
   "execution_count": 34,
   "metadata": {},
   "outputs": [],
   "source": [
    "aug_count = 15\n",
    "def augment_images(images, targets):\n",
    "    data_augmentation = tf.keras.Sequential([\n",
    "      layers.experimental.preprocessing.RandomFlip(\"horizontal\", dtype='float64'),\n",
    "      layers.experimental.preprocessing.RandomTranslation(width_factor=0.05, height_factor=0.05, dtype='float64')\n",
    "    ])\n",
    "    \n",
    "    aug_images = np.empty((len(targets) * (aug_count + 1), img_dim, img_dim, 3))\n",
    "    new_targets = []\n",
    "    \n",
    "    \n",
    "    for i in range(len(targets)):\n",
    "        image = tf.expand_dims(images[i], 0)\n",
    "        for j in range(0, aug_count):\n",
    "            new_image = data_augmentation(image)\n",
    "            new_targets.append(targets[i])\n",
    "            aug_images[len(new_targets) - 1] = new_image[0]\n",
    "        \n",
    "        # add base image\n",
    "        new_targets.append(targets[i])\n",
    "        aug_images[len(new_targets) - 1] = images[i]\n",
    "    \n",
    "    return np.asarray(aug_images), new_targets"
   ]
  },
  {
   "cell_type": "markdown",
   "metadata": {},
   "source": [
    "# Part 2: Train Pneumonia/Healthy Classifier with CNN"
   ]
  },
  {
   "cell_type": "code",
   "execution_count": 100,
   "metadata": {},
   "outputs": [],
   "source": [
    "# split data\n",
    "x_train1, x_test1, y_train1, y_test1 = train_test_split(images, init_d[\"target\"], test_size=0.20, random_state=0)\n",
    "x_train1, x_val1, y_train1, y_val1 = train_test_split(x_train1, y_train1, test_size=0.20, random_state=0)\n",
    "y_train1 = np.asarray(y_train1)\n",
    "y_val1 = np.asarray(y_val1)\n",
    "y_test1 = np.asarray(y_test1)"
   ]
  },
  {
   "cell_type": "code",
   "execution_count": null,
   "metadata": {},
   "outputs": [],
   "source": [
    "# build model for convolutional network\n",
    "cnn_model = models.Sequential()\n",
    "cnn_model.add(layers.Conv2D(32, (3, 3), activation='relu', input_shape=(img_dim, img_dim, 3), padding='same'))\n",
    "cnn_model.add(layers.Conv2D(64, (3, 3), activation='relu', padding='same'))\n",
    "cnn_model.add(layers.MaxPooling2D((2, 2)))\n",
    "cnn_model.add(layers.Conv2D(64, (3, 3), activation='relu', padding='same'))\n",
    "cnn_model.add(layers.Conv2D(64, (3, 3), activation='relu', padding='same'))\n",
    "cnn_model.add(layers.MaxPooling2D((2, 2)))\n",
    "cnn_model.add(layers.Conv2D(64, (3, 3), activation='relu', padding='same'))\n",
    "cnn_model.add(layers.Conv2D(64, (3, 3), activation='relu', padding='same'))\n",
    "cnn_model.add(layers.MaxPooling2D((2, 2)))\n",
    "cnn_model.add(layers.Conv2D(64, (3, 3), activation='relu', padding='same'))\n",
    "cnn_model.add(layers.Conv2D(64, (3, 3), activation='relu', padding='same'))\n",
    "\n",
    "\n",
    "# add more layers\n",
    "cnn_model.add(layers.Flatten())\n",
    "cnn_model.add(layers.Dense(64, activation='relu'))\n",
    "cnn_model.add(layers.Dense(2))\n",
    "\n",
    "# compile \n",
    "cnn_model.compile(optimizer='adam',\n",
    "                  loss=tf.keras.losses.SparseCategoricalCrossentropy(from_logits=True),\n",
    "                  metrics=['accuracy'])\n",
    "cnn_model.summary()"
   ]
  },
  {
   "cell_type": "code",
   "execution_count": 189,
   "metadata": {},
   "outputs": [
    {
     "name": "stdout",
     "output_type": "stream",
     "text": [
      "Epoch 1/10\n",
      "113/113 [==============================] - 109s 968ms/step - loss: 0.5699 - accuracy: 0.7531 - val_loss: 0.6952 - val_accuracy: 0.7689\n",
      "Epoch 2/10\n",
      "113/113 [==============================] - 106s 941ms/step - loss: 0.3525 - accuracy: 0.8426 - val_loss: 0.1318 - val_accuracy: 0.9522\n",
      "Epoch 3/10\n",
      "113/113 [==============================] - 106s 941ms/step - loss: 0.1594 - accuracy: 0.9422 - val_loss: 0.1171 - val_accuracy: 0.9600\n",
      "Epoch 4/10\n",
      "113/113 [==============================] - 106s 937ms/step - loss: 0.1256 - accuracy: 0.9508 - val_loss: 0.1034 - val_accuracy: 0.9589\n",
      "Epoch 5/10\n",
      "113/113 [==============================] - 106s 942ms/step - loss: 0.1242 - accuracy: 0.9519 - val_loss: 0.1087 - val_accuracy: 0.9633\n",
      "Epoch 00005: early stopping\n"
     ]
    }
   ],
   "source": [
    "# Set up early stopping\n",
    "callbacks = [\n",
    "    tf.keras.callbacks.EarlyStopping(\n",
    "        monitor=\"val_loss\",\n",
    "        min_delta=1e-2,\n",
    "        verbose=1\n",
    "    )\n",
    "]\n",
    "\n",
    "history = cnn_model.fit(x_train1, np.asarray(y_train1), epochs=10,\n",
    "                       validation_data=(x_val1, y_val1),\n",
    "                       callbacks=callbacks\n",
    "                       )"
   ]
  },
  {
   "cell_type": "code",
   "execution_count": 203,
   "metadata": {},
   "outputs": [
    {
     "name": "stdout",
     "output_type": "stream",
     "text": [
      "INFO:tensorflow:Assets written to: basemodel/assets\n"
     ]
    }
   ],
   "source": [
    "# save model\n",
    "cnn_model.save('basemodel/')"
   ]
  },
  {
   "cell_type": "code",
   "execution_count": 191,
   "metadata": {},
   "outputs": [
    {
     "name": "stdout",
     "output_type": "stream",
     "text": [
      "36/36 - 7s - loss: 0.1081 - accuracy: 0.9627\n"
     ]
    },
    {
     "data": {
      "image/png": "[encoded data removed]",
      "text/plain": [
       "<Figure size 1440x576 with 2 Axes>"
      ]
     },
     "metadata": {
      "needs_background": "light"
     },
     "output_type": "display_data"
    }
   ],
   "source": [
    "fig, axs = plt.subplots(1, 2, figsize=(20, 8))\n",
    "\n",
    "axs[0].plot(history.history['accuracy'], label='training accuracy')\n",
    "axs[0].plot(history.history['val_accuracy'], label = 'val accuracy')\n",
    "axs[0].set_xlabel('Epoch')\n",
    "axs[0].set_ylabel('Accuracy')\n",
    "axs[0].set_title('Base Model Accuracy')\n",
    "axs[0].set_ylim([0.5, 1])\n",
    "axs[0].legend(loc='lower right')\n",
    "\n",
    "axs[1].plot(history.history['loss'], label='training loss')\n",
    "axs[1].plot(history.history['val_loss'], label = 'val loss')\n",
    "axs[1].set_xlabel('Epoch')\n",
    "axs[1].set_ylabel('Loss')\n",
    "axs[1].set_title('Base Model Loss')\n",
    "axs[1].set_ylim([0, 1])\n",
    "axs[1].legend(loc='lower right')\n",
    "\n",
    "test_loss, test_acc = cnn_model.evaluate(x_test1, y_test1, verbose=2)"
   ]
  },
  {
   "cell_type": "code",
   "execution_count": 84,
   "metadata": {},
   "outputs": [],
   "source": [
    "cnn_model = tf.keras.models.load_model('basemodel/')"
   ]
  },
  {
   "cell_type": "code",
   "execution_count": 85,
   "metadata": {},
   "outputs": [],
   "source": [
    "phy_pred = cnn_model.predict(x_test1)"
   ]
  },
  {
   "cell_type": "code",
   "execution_count": 88,
   "metadata": {},
   "outputs": [],
   "source": [
    "phy_pred_norm = np.empty(y_test1.size, dtype='int32')\n",
    "\n",
    "for i in range(y_test1.size):\n",
    "    ind = np.argmax(phy_pred[i])\n",
    "    phy_pred_norm[i] = ind"
   ]
  },
  {
   "cell_type": "code",
   "execution_count": 89,
   "metadata": {},
   "outputs": [
    {
     "name": "stdout",
     "output_type": "stream",
     "text": [
      "              precision    recall  f1-score   support\n",
      "\n",
      "           0       0.97      0.87      0.92       262\n",
      "           1       0.96      0.99      0.98       863\n",
      "\n",
      "    accuracy                           0.96      1125\n",
      "   macro avg       0.97      0.93      0.95      1125\n",
      "weighted avg       0.96      0.96      0.96      1125\n",
      "\n"
     ]
    }
   ],
   "source": [
    "print(classification_report(y_test1, phy_pred_norm))"
   ]
  },
  {
   "cell_type": "markdown",
   "metadata": {},
   "source": [
    "# Part 3: Load in COVID Data\n",
    "\n",
    "Read in csv of metadata for the images and select target data. For our target data we are selecting COVID/Non-COVID, Survival, Intubation, and Admission to the ICU - resulting in 28 classes where class 0 = Non-COVID and class > 0 is COVID and some unique combination of the classes above. For the initial training and testing of this data, any class > 0 we set to 1 to train a binary classifier for COVID/Non-COVID"
   ]
  },
  {
   "cell_type": "code",
   "execution_count": 9,
   "metadata": {},
   "outputs": [
    {
     "name": "stdout",
     "output_type": "stream",
     "text": [
      "[513, 504]\n"
     ]
    }
   ],
   "source": [
    "data = []\n",
    "with open(\"metadata.csv\") as file:\n",
    "    for row in csv.reader(file):\n",
    "        data.append(row)\n",
    "\n",
    "data = data[1:]\n",
    "\n",
    "d = {'filename': [], 'target': []}\n",
    "\n",
    "for image in data:\n",
    "    # skip volume data\n",
    "    if image[22] == \"volumes\":\n",
    "        continue\n",
    "    \n",
    "    # ignore CT scan data\n",
    "    if image[19] == \"CT\":\n",
    "        continue\n",
    "    \n",
    "    diagnosis = image[4].split(\"/\")\n",
    "    diagnosis = diagnosis[len(diagnosis) - 1].lower()\n",
    "    # set target based on meta data\n",
    "    if diagnosis != \"covid-19\":\n",
    "        if diagnosis == \"todo\":\n",
    "            # if not classified yet target = -1\n",
    "            # d['filename'].append(image[23])\n",
    "            # d['target'].append(-1)\n",
    "            # ignore unknown data\n",
    "            continue\n",
    "        else:\n",
    "            # if not COVID-19 target = 0\n",
    "            d['filename'].append(image[23])\n",
    "            d['target'].append(0)\n",
    "    else:\n",
    "        # if it is COVID-19\n",
    "        d['filename'].append(image[23])\n",
    "        d['target'].append(1)\n",
    "        \n",
    "file.close()\n",
    "\n",
    "# add normal chest xrays to data\n",
    "dir_path = os.path.abspath(os.getcwd())\n",
    "dir_path = dir_path+\"/chest_xray/test/Normal\"\n",
    "list = os.listdir(dir_path)\n",
    "for pic in list:\n",
    "    d['filename'].append(pic)\n",
    "    d['target'].append(0)\n",
    "    \n",
    "total = [0] * 2\n",
    "\n",
    "for target in d['target']:\n",
    "    if target == 0:\n",
    "        total[0] += 1\n",
    "    else:\n",
    "        total[1] += 1\n",
    "print(total)"
   ]
  },
  {
   "cell_type": "code",
   "execution_count": 10,
   "metadata": {},
   "outputs": [],
   "source": [
    "# preprocess covid/noncovid images\n",
    "covid_images = normalize_images(d, \"model_images/\")"
   ]
  },
  {
   "cell_type": "markdown",
   "metadata": {},
   "source": [
    "### Augmentation"
   ]
  },
  {
   "cell_type": "markdown",
   "metadata": {},
   "source": [
    "# Part 2: Train COVID/Non-COVID with Transfer Learning"
   ]
  },
  {
   "cell_type": "code",
   "execution_count": null,
   "metadata": {},
   "outputs": [],
   "source": [
    "plt.figure(figsize=(10, 10))\n",
    "for i in range(aug_count + 1):\n",
    "  ax = plt.subplot(3, 3, i + 1)\n",
    "  plt.imshow(covid_images_aug[i], cmap='gray', vmin=0, vmax=255)\n",
    "  plt.axis(\"off\")"
   ]
  },
  {
   "cell_type": "code",
   "execution_count": 55,
   "metadata": {},
   "outputs": [],
   "source": [
    "# split data\n",
    "x_train, x_test, y_train, y_test = train_test_split(covid_images, d[\"target\"], test_size=0.20, random_state=2)\n",
    "x_train, x_val, y_train, y_val = train_test_split(x_train, y_train, test_size=0.20, random_state=2)\n",
    "y_train = np.asarray(y_train)\n",
    "y_val = np.asarray(y_val)\n",
    "y_test = np.asarray(y_test)"
   ]
  },
  {
   "cell_type": "code",
   "execution_count": 56,
   "metadata": {},
   "outputs": [
    {
     "name": "stdout",
     "output_type": "stream",
     "text": [
      "base image count:  10400\n"
     ]
    }
   ],
   "source": [
    "# augment the training data\n",
    "x_train, y_train = augment_images(x_train, y_train.ravel())\n",
    "print(\"base image count: \", len(y_train))"
   ]
  },
  {
   "cell_type": "code",
   "execution_count": 12,
   "metadata": {},
   "outputs": [],
   "source": [
    "def build_covid_model(learn_rate=0.01, dropout_rate=0.0, \n",
    "                      layers=(128, 128), num_classes=2, decay_rate=0.8, decay_steps=100000):\n",
    "    base_model = tf.keras.models.load_model('basemodel_aug/')\n",
    "    covid_model = models.Sequential()\n",
    "\n",
    "    # add all layers except densely connected to new model\n",
    "    for layer in base_model.layers[:-2]:\n",
    "        layer.trainable = False\n",
    "        covid_model.add(layer)\n",
    "\n",
    "    # add new dense layers on top of old model\n",
    "    #covid_model.add(layers.Dense(64, activation='relu'))\n",
    "    try:\n",
    "        for neurons in layers:\n",
    "            covid_model.add(tf.keras.layers.Dense(int(neurons)))\n",
    "            covid_model.add(tf.keras.layers.LeakyReLU(alpha=0.1))\n",
    "            covid_model.add(tf.keras.layers.BatchNormalization())\n",
    "    except:\n",
    "        covid_model.add(tf.keras.layers.Dense(layers))\n",
    "        covid_model.add(tf.keras.layers.LeakyReLU(alpha=0.1))\n",
    "        covid_model.add(tf.keras.layers.BatchNormalization())\n",
    "    \n",
    "    covid_model.add(tf.keras.layers.Dropout(dropout_rate))\n",
    "    \n",
    "    # set new low learning rate for fine-tuning\n",
    "    lr_schedule = tf.keras.optimizers.schedules.ExponentialDecay(\n",
    "        initial_learning_rate=learn_rate,\n",
    "        decay_steps=decay_steps,\n",
    "        decay_rate=decay_rate)\n",
    "\n",
    "    opt = tf.keras.optimizers.Adam(learning_rate=lr_schedule)\n",
    "\n",
    "    if num_classes == 2:\n",
    "        covid_model.add(tf.keras.layers.Dense(1, activation='sigmoid'))\n",
    "        covid_model.compile(optimizer=opt,\n",
    "                        loss=tf.keras.losses.BinaryCrossentropy(),\n",
    "                        metrics=['accuracy'])\n",
    "    else:\n",
    "        covid_model.add(tf.keras.layers.Dense(num_classes, activation='softmax'))\n",
    "        covid_model.compile(optimizer=opt,\n",
    "                        loss=tf.keras.losses.SparseCategoricalCrossentropy(from_logits=True),\n",
    "                        metrics=['accuracy'])\n",
    "\n",
    "    return covid_model\n"
   ]
  },
  {
   "cell_type": "code",
   "execution_count": 43,
   "metadata": {},
   "outputs": [
    {
     "name": "stdout",
     "output_type": "stream",
     "text": [
      "Fitting 2 folds for each of 10 candidates, totalling 20 fits\n"
     ]
    },
    {
     "name": "stderr",
     "output_type": "stream",
     "text": [
      "[Parallel(n_jobs=-1)]: Using backend LokyBackend with 16 concurrent workers.\n",
      "[Parallel(n_jobs=-1)]: Done   4 out of  20 | elapsed:  5.7min remaining: 22.8min\n",
      "[Parallel(n_jobs=-1)]: Done   7 out of  20 | elapsed:  5.7min remaining: 10.6min\n",
      "[Parallel(n_jobs=-1)]: Done  10 out of  20 | elapsed:  5.8min remaining:  5.8min\n",
      "[Parallel(n_jobs=-1)]: Done  13 out of  20 | elapsed:  5.8min remaining:  3.1min\n",
      "[Parallel(n_jobs=-1)]: Done  16 out of  20 | elapsed:  5.8min remaining:  1.5min\n",
      "[Parallel(n_jobs=-1)]: Done  20 out of  20 | elapsed:  7.1min finished\n"
     ]
    },
    {
     "name": "stdout",
     "output_type": "stream",
     "text": [
      "221/221 [==============================] - 25s 112ms/step - loss: 0.5274 - accuracy: 0.7443\n"
     ]
    },
    {
     "data": {
      "text/plain": [
       "{'layers': (64, 64),\n",
       " 'dropout_rate': 0.2,\n",
       " 'decay_steps': 80000,\n",
       " 'decay_rate': 0.7}"
      ]
     },
     "execution_count": 43,
     "metadata": {},
     "output_type": "execute_result"
    }
   ],
   "source": [
    "# make classifier\n",
    "covid_test_model = KerasClassifier(\n",
    "    build_fn = build_covid_model,\n",
    "    learn_rate = 0.001,\n",
    "    dropout_rate = 0.6,\n",
    "    layers=(128, 128, 128),\n",
    "    num_classes=2,\n",
    "    decay_rate=0.8,\n",
    "    decay_steps=100000\n",
    ")\n",
    "\n",
    "# random search http://ethen8181.github.io/machine-learning/keras/nn_keras_hyperparameter_tuning.html\n",
    "learning_rates = [0.001, 0.01, 0.0005, 0.0001]\n",
    "dropout_rates = [0.2, 0.4, 0.6]\n",
    "dif_layers = [(64), (64, 64), (128), (32), (128, 128, 128)]\n",
    "decay_rates = [0.5, 0.7, 0.8, 0.85, 0.65, 0.55]\n",
    "decay_step = [100000, 10000, 50000, 80000]\n",
    "distributions = dict(layers=dif_layers, \n",
    "                     dropout_rate=dropout_rates, decay_rate=decay_rates, decay_steps=decay_step)\n",
    "\n",
    "clf = RandomizedSearchCV(covid_test_model, distributions, random_state=0, n_jobs=-1, \n",
    "                         scoring=\"roc_auc\", verbose=10, cv=2)\n",
    "search = clf.fit(covid_images_aug, targets)\n",
    "search.best_params_"
   ]
  },
  {
   "cell_type": "code",
   "execution_count": 103,
   "metadata": {},
   "outputs": [
    {
     "name": "stdout",
     "output_type": "stream",
     "text": [
      "Model: \"sequential_9\"\n",
      "_________________________________________________________________\n",
      "Layer (type)                 Output Shape              Param #   \n",
      "=================================================================\n",
      "conv2d_88 (Conv2D)           (None, 128, 128, 32)      608       \n",
      "_________________________________________________________________\n",
      "conv2d_89 (Conv2D)           (None, 128, 128, 64)      18496     \n",
      "_________________________________________________________________\n",
      "max_pooling2d_33 (MaxPooling (None, 64, 64, 64)        0         \n",
      "_________________________________________________________________\n",
      "conv2d_90 (Conv2D)           (None, 64, 64, 64)        36928     \n",
      "_________________________________________________________________\n",
      "conv2d_91 (Conv2D)           (None, 64, 64, 64)        36928     \n",
      "_________________________________________________________________\n",
      "max_pooling2d_34 (MaxPooling (None, 32, 32, 64)        0         \n",
      "_________________________________________________________________\n",
      "conv2d_92 (Conv2D)           (None, 32, 32, 64)        36928     \n",
      "_________________________________________________________________\n",
      "conv2d_93 (Conv2D)           (None, 32, 32, 64)        36928     \n",
      "_________________________________________________________________\n",
      "max_pooling2d_35 (MaxPooling (None, 16, 16, 64)        0         \n",
      "_________________________________________________________________\n",
      "conv2d_94 (Conv2D)           (None, 16, 16, 64)        36928     \n",
      "_________________________________________________________________\n",
      "conv2d_95 (Conv2D)           (None, 16, 16, 64)        36928     \n",
      "_________________________________________________________________\n",
      "flatten_11 (Flatten)         (None, 16384)             0         \n",
      "_________________________________________________________________\n",
      "dense_86 (Dense)             (None, 64)                1048640   \n",
      "_________________________________________________________________\n",
      "dropout_6 (Dropout)          (None, 64)                0         \n",
      "_________________________________________________________________\n",
      "dense_8 (Dense)              (None, 1)                 65        \n",
      "=================================================================\n",
      "Total params: 1,289,377\n",
      "Trainable params: 1,048,705\n",
      "Non-trainable params: 240,672\n",
      "_________________________________________________________________\n"
     ]
    }
   ],
   "source": [
    "# build\n",
    "base_model = tf.keras.models.load_model('basemodel/')\n",
    "covid_model = models.Sequential()\n",
    "\n",
    "# add all layers except densely connected to new model\n",
    "for layer in base_model.layers[:-2]:\n",
    "    layer.trainable = False\n",
    "    covid_model.add(layer)\n",
    "\n",
    "covid_model.add(base_model.layers[-2])\n",
    "covid_model.add(layers.Dropout(0.2))\n",
    "covid_model.add(tf.keras.layers.Dense(1, activation='sigmoid'))\n",
    "\n",
    "lr_schedule = tf.keras.optimizers.schedules.ExponentialDecay(\n",
    "initial_learning_rate=0.001,\n",
    "decay_steps=80000,\n",
    "decay_rate=0.7)\n",
    "\n",
    "opt = tf.keras.optimizers.Adam(learning_rate=lr_schedule)\n",
    "\n",
    "covid_model.compile(optimizer=opt,\n",
    "loss=tf.keras.losses.BinaryCrossentropy(),\n",
    "metrics=['accuracy'])\n",
    "\n",
    "covid_model.summary()"
   ]
  },
  {
   "cell_type": "code",
   "execution_count": 68,
   "metadata": {},
   "outputs": [
    {
     "name": "stdout",
     "output_type": "stream",
     "text": [
      "Epoch 1/10\n",
      "650/650 [==============================] - 74s 114ms/step - loss: 0.5038 - accuracy: 0.7737 - val_loss: 0.4859 - val_accuracy: 0.7730\n",
      "Epoch 2/10\n",
      "650/650 [==============================] - 73s 113ms/step - loss: 0.3309 - accuracy: 0.8565 - val_loss: 0.4419 - val_accuracy: 0.7791\n",
      "Epoch 3/10\n",
      "650/650 [==============================] - 73s 112ms/step - loss: 0.2698 - accuracy: 0.8870 - val_loss: 0.4883 - val_accuracy: 0.7607\n",
      "Epoch 4/10\n",
      "650/650 [==============================] - 73s 113ms/step - loss: 0.2156 - accuracy: 0.9144 - val_loss: 0.4551 - val_accuracy: 0.7975\n",
      "Epoch 00004: early stopping\n"
     ]
    }
   ],
   "source": [
    "# setup early stopping: https://www.tensorflow.org/guide/keras/train_and_evaluate\n",
    "callbacks = [\n",
    "    tf.keras.callbacks.EarlyStopping(\n",
    "        monitor=\"val_loss\",\n",
    "        min_delta=1e-2,\n",
    "        patience=2,\n",
    "        verbose=1\n",
    "    )\n",
    "]\n",
    "\n",
    "covid_history = covid_model.fit(x_train, np.asarray(y_train), epochs=10,\n",
    "                               validation_data=(x_val, y_val),\n",
    "                               callbacks=callbacks,\n",
    "                                batch_size=16\n",
    "                               )"
   ]
  },
  {
   "cell_type": "code",
   "execution_count": 69,
   "metadata": {},
   "outputs": [
    {
     "name": "stdout",
     "output_type": "stream",
     "text": [
      "7/7 - 1s - loss: 0.4271 - accuracy: 0.8186\n"
     ]
    },
    {
     "data": {
      "image/png": "[encoded data removed]",
      "text/plain": [
       "<Figure size 1440x576 with 2 Axes>"
      ]
     },
     "metadata": {
      "needs_background": "light"
     },
     "output_type": "display_data"
    }
   ],
   "source": [
    "# plot accuracy and loss curves\n",
    "fig, axs = plt.subplots(1, 2, figsize=(20, 8))\n",
    "\n",
    "axs[0].plot(covid_history.history['accuracy'], label='training accuracy')\n",
    "axs[0].plot(covid_history.history['val_accuracy'], label = 'val accuracy')\n",
    "axs[0].set_xlabel('Epoch')\n",
    "axs[0].set_ylabel('Accuracy')\n",
    "axs[0].set_title('Covid Transfer Learning CNN Accuracy')\n",
    "axs[0].set_ylim([0, 1])\n",
    "axs[0].legend(loc='lower right')\n",
    "\n",
    "axs[1].plot(covid_history.history['loss'], label='training loss')\n",
    "axs[1].plot(covid_history.history['val_loss'], label = 'val loss')\n",
    "axs[1].set_xlabel('Epoch')\n",
    "axs[1].set_ylabel('Loss')\n",
    "axs[1].set_title('Covid Transfer Learning CNN Loss')\n",
    "axs[1].set_ylim([0.2, 1])\n",
    "axs[1].legend(loc='lower right')\n",
    "\n",
    "test_loss, test_acc = covid_model.evaluate(x_test, y_test, verbose=2)"
   ]
  },
  {
   "cell_type": "markdown",
   "metadata": {},
   "source": [
    "## Non Augmented Results"
   ]
  },
  {
   "cell_type": "code",
   "execution_count": 22,
   "metadata": {},
   "outputs": [],
   "source": [
    "cnny_pred = covid_model.predict(x_test)"
   ]
  },
  {
   "cell_type": "code",
   "execution_count": 23,
   "metadata": {},
   "outputs": [],
   "source": [
    "cnny_pred_norm = convert_pred(cnny_pred, 0.5)"
   ]
  },
  {
   "cell_type": "code",
   "execution_count": 26,
   "metadata": {},
   "outputs": [
    {
     "name": "stdout",
     "output_type": "stream",
     "text": [
      "              precision    recall  f1-score   support\n",
      "\n",
      "           0       0.88      0.71      0.79       112\n",
      "           1       0.72      0.88      0.79        92\n",
      "\n",
      "    accuracy                           0.79       204\n",
      "   macro avg       0.80      0.80      0.79       204\n",
      "weighted avg       0.81      0.79      0.79       204\n",
      "\n"
     ]
    }
   ],
   "source": [
    "print(classification_report(y_test, cnny_pred_norm))"
   ]
  },
  {
   "cell_type": "code",
   "execution_count": 101,
   "metadata": {},
   "outputs": [
    {
     "data": {
      "image/png": "[encoded data removed]",
      "text/plain": [
       "<Figure size 432x288 with 2 Axes>"
      ]
     },
     "metadata": {
      "needs_background": "light"
     },
     "output_type": "display_data"
    }
   ],
   "source": [
    "plot_cm(y_test, cnny_pred_norm, \"Not COVID(0)/COVID(1) - Custom TL\")"
   ]
  },
  {
   "cell_type": "code",
   "execution_count": 31,
   "metadata": {},
   "outputs": [
    {
     "data": {
      "image/png": "[encoded data removed]",
      "text/plain": [
       "<Figure size 432x288 with 1 Axes>"
      ]
     },
     "metadata": {
      "needs_background": "light"
     },
     "output_type": "display_data"
    }
   ],
   "source": [
    "plot_ROC(y_test, cnny_pred, \"Not COVID/COVID - Custom TL\")"
   ]
  },
  {
   "cell_type": "markdown",
   "metadata": {},
   "source": [
    "## Augmented Results"
   ]
  },
  {
   "cell_type": "code",
   "execution_count": 70,
   "metadata": {},
   "outputs": [],
   "source": [
    "cnnay_pred = covid_model.predict(x_test)"
   ]
  },
  {
   "cell_type": "code",
   "execution_count": 71,
   "metadata": {},
   "outputs": [],
   "source": [
    "cnnay_pred_norm = convert_pred(cnnay_pred, 0.5)"
   ]
  },
  {
   "cell_type": "code",
   "execution_count": 72,
   "metadata": {},
   "outputs": [
    {
     "name": "stdout",
     "output_type": "stream",
     "text": [
      "              precision    recall  f1-score   support\n",
      "\n",
      "           0       0.86      0.80      0.83       112\n",
      "           1       0.78      0.84      0.81        92\n",
      "\n",
      "    accuracy                           0.82       204\n",
      "   macro avg       0.82      0.82      0.82       204\n",
      "weighted avg       0.82      0.82      0.82       204\n",
      "\n"
     ]
    }
   ],
   "source": [
    "print(classification_report(y_test, cnnay_pred_norm))"
   ]
  },
  {
   "cell_type": "code",
   "execution_count": 102,
   "metadata": {},
   "outputs": [
    {
     "data": {
      "image/png": "[encoded data removed]",
      "text/plain": [
       "<Figure size 432x288 with 2 Axes>"
      ]
     },
     "metadata": {
      "needs_background": "light"
     },
     "output_type": "display_data"
    }
   ],
   "source": [
    "plot_cm(y_test, cnnay_pred_norm, \"Not COVID(0)/COVID(1) - Custom TL Augmented\")"
   ]
  },
  {
   "cell_type": "code",
   "execution_count": 51,
   "metadata": {},
   "outputs": [
    {
     "data": {
      "image/png": "[encoded data removed]",
      "text/plain": [
       "<Figure size 432x288 with 1 Axes>"
      ]
     },
     "metadata": {
      "needs_background": "light"
     },
     "output_type": "display_data"
    }
   ],
   "source": [
    "plot_ROC(y_test, cnnay_pred, \"Not COVID/COVID - Custom TL Augmented\")"
   ]
  },
  {
   "cell_type": "code",
   "execution_count": 53,
   "metadata": {},
   "outputs": [
    {
     "data": {
      "image/png": "[encoded data removed]",
      "text/plain": [
       "<Figure size 432x288 with 1 Axes>"
      ]
     },
     "metadata": {
      "needs_background": "light"
     },
     "output_type": "display_data"
    }
   ],
   "source": [
    "fpr_cnn, tpr_cnn, thresholds = roc_curve(y_test, cnny_pred)\n",
    "fpr_cnna, tpr_cnna, thresholds = roc_curve(y_test, cnnay_pred)\n",
    "auc_valcnn = auc(fpr_cnn, tpr_cnn)\n",
    "auc_valcnna = auc(fpr_cnna, tpr_cnna)\n",
    "plt.plot(fpr_cnn,tpr_cnn) \n",
    "plt.plot(fpr_cnna, tpr_cnna)\n",
    "plt.plot([0, 1], [0, 1], linestyle='dashed')\n",
    "plt.axis([-0.05, 1.05, -0.05, 1.05])\n",
    "plt.xlabel('False Positive Rate') \n",
    "plt.ylabel('True Positive Rate')\n",
    "plt.title(\"ROC Curve\\nTL AUC: \" + str(round(auc_valcnn, 4)) + \"\\nTL Augmented AUC: \" + str(round(auc_valcnna, 4)))\n",
    "plt.legend([\"TL\", \"TL Augmented\"])\n",
    "plt.show()"
   ]
  }
 ],
 "metadata": {
  "kernelspec": {
   "display_name": "Python 3",
   "language": "python",
   "name": "python3"
  },
  "language_info": {
   "codemirror_mode": {
    "name": "ipython",
    "version": 3
   },
   "file_extension": ".py",
   "mimetype": "text/x-python",
   "name": "python",
   "nbconvert_exporter": "python",
   "pygments_lexer": "ipython3",
   "version": "3.8.3"
  }
 },
 "nbformat": 4,
 "nbformat_minor": 4
}
